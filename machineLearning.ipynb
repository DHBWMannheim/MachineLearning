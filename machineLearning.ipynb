{
 "cells": [
  {
   "cell_type": "markdown",
   "metadata": {},
   "source": [
    "# Trainieren des Sentimentmodells\n",
    "\n",
    "In diesem Notebook wird ein Modell trainiert, welches Tweets live auf ihre Stimmung bewerten soll. Dafür wird ein Deep Neural Network erstellt, welches mit 1.6 Millionen Tweets trainiert wird. Hierbei handelt es sich um ein Klassifikationsproblem, es soll letztendlich entschieden werden, ob ein Tweet negativ (0), oder positiv (1) gestimmt ist.\n",
    "\n",
    "### Technologien\n",
    "\n",
    "Für das Modell wird [Tensorflow](https://www.tensorflow.org/) verwendet, zum plotten von Informationen nutzen wir [Matplotlib](https://matplotlib.org/stable/index.html) und zum verarbeiten von Daten [Pandas](https://pandas.pydata.org/). Weiterhin werden weitere utilities von [sklearn](https://scikit-learn.org/stable/) übernommen.\n",
    "\n",
    "### Setup\n",
    "\n",
    "Um dieses Notebook zu benutzen müssen Python 3.x und folgende Packages installiert werden:\n",
    "\n",
    "* tensorflow\n",
    "* matplotlib\n",
    "* pandas\n",
    "* sklearn\n",
    "\n",
    "Das Datenset fürs trainieren kann über [diesen Link](https://www.dropbox.com/s/ur7pw797mgcc1wr/tweets.csv?dl=0) heruntergeladen werden. Dabei muss die Datei \"tweets.csv\" in diesen Ordner abgelegt werden.\n",
    "\n",
    "### Datenset\n",
    "\n",
    "Um nun das Modell möglichst gut darauf zu trainieren reale Tweets zu bewerten haben wir uns für ein Datenset entschieden, welches 1.6 Millionen bereits gelabelte Tweets enthält, dieses kann [hier](https://www.kaggle.com/kazanova/sentiment140) gefunden werden"
   ]
  },
  {
   "cell_type": "code",
   "execution_count": 1,
   "metadata": {},
   "outputs": [],
   "source": [
    "import matplotlib.pyplot as plt\n",
    "import os\n",
    "import re\n",
    "import shutil\n",
    "import string\n",
    "import tensorflow as tf\n",
    "import pandas as pd\n",
    "\n",
    "from tensorflow.keras import layers\n",
    "from tensorflow.keras import losses\n",
    "from tensorflow.keras import preprocessing\n",
    "from tensorflow.keras.layers.experimental.preprocessing import TextVectorization\n",
    "from sklearn.model_selection import train_test_split\n",
    "from sklearn.utils import shuffle\n",
    "from tensorflow import feature_column\n",
    "from tensorflow.keras import layers"
   ]
  },
  {
   "cell_type": "markdown",
   "metadata": {},
   "source": [
    "### Laden des Datensets\n",
    "\n",
    "Mithilfe von pandas wird das Datenset geladen, dabei werden nur die erste und die letzte Spalte geladen, da nur diese für uns von Interesse sind. Da es sich bei der ersten Spalte um die Stimmung des Tweets handelt wird diese mit \"targets\" gelabelt, die letzte Spalte beihaltet den eigentlichen Tweet, diese wird mit \"text\" gelabelt."
   ]
  },
  {
   "cell_type": "code",
   "execution_count": 3,
   "metadata": {},
   "outputs": [],
   "source": [
    "dataframe = pd.read_csv(\"./tweets.csv\", usecols=[0, 5], names=[\"target\", \"text\"])"
   ]
  },
  {
   "cell_type": "markdown",
   "metadata": {},
   "source": [
    "Da das Datenset sortiert ist muss es randomisiert werden. Falls dies nicht gemacht werden würde, hätte dies einen negativen Einfluss auf das Lernen, da alle Daten die zuerst reinkommen negativ gelabelt sind. Somit würde das Modell denken, alles wäre negativ und würde sich entsprechend darauf einstellen, kommen dann letztendlich alle positiven Daten würde das Modell denken es gäbe nur positive Daten und würde letztendlich bei richtigen Daten immer eine positive Stimmung predicten, was nicht der Realtität entsprechen würde."
   ]
  },
  {
   "cell_type": "code",
   "execution_count": 4,
   "metadata": {},
   "outputs": [],
   "source": [
    "dataframe = shuffle(dataframe)"
   ]
  },
  {
   "cell_type": "markdown",
   "metadata": {},
   "source": [
    "Zum validieren, dass das Datenset auch korrekt geladen wurde, es sollte eine Tabelle mit den ersten fünf Einträgen zu sehen sein"
   ]
  },
  {
   "cell_type": "code",
   "execution_count": 5,
   "metadata": {},
   "outputs": [
    {
     "data": {
      "text/html": [
       "<div>\n",
       "<style scoped>\n",
       "    .dataframe tbody tr th:only-of-type {\n",
       "        vertical-align: middle;\n",
       "    }\n",
       "\n",
       "    .dataframe tbody tr th {\n",
       "        vertical-align: top;\n",
       "    }\n",
       "\n",
       "    .dataframe thead th {\n",
       "        text-align: right;\n",
       "    }\n",
       "</style>\n",
       "<table border=\"1\" class=\"dataframe\">\n",
       "  <thead>\n",
       "    <tr style=\"text-align: right;\">\n",
       "      <th></th>\n",
       "      <th>target</th>\n",
       "      <th>text</th>\n",
       "    </tr>\n",
       "  </thead>\n",
       "  <tbody>\n",
       "    <tr>\n",
       "      <th>1441308</th>\n",
       "      <td>4</td>\n",
       "      <td>Worship was great.  praise the Lord!</td>\n",
       "    </tr>\n",
       "    <tr>\n",
       "      <th>320857</th>\n",
       "      <td>0</td>\n",
       "      <td>has work 11:30-5.</td>\n",
       "    </tr>\n",
       "    <tr>\n",
       "      <th>479079</th>\n",
       "      <td>0</td>\n",
       "      <td>@UWGHEdDavis I believe that Amber alert may be...</td>\n",
       "    </tr>\n",
       "    <tr>\n",
       "      <th>510576</th>\n",
       "      <td>0</td>\n",
       "      <td>Shucks man, why must it rain this morning, can...</td>\n",
       "    </tr>\n",
       "    <tr>\n",
       "      <th>1404808</th>\n",
       "      <td>4</td>\n",
       "      <td>060509 - A simple cell phone call and a taxi r...</td>\n",
       "    </tr>\n",
       "  </tbody>\n",
       "</table>\n",
       "</div>"
      ],
      "text/plain": [
       "         target                                               text\n",
       "1441308       4               Worship was great.  praise the Lord!\n",
       "320857        0                                 has work 11:30-5. \n",
       "479079        0  @UWGHEdDavis I believe that Amber alert may be...\n",
       "510576        0  Shucks man, why must it rain this morning, can...\n",
       "1404808       4  060509 - A simple cell phone call and a taxi r..."
      ]
     },
     "execution_count": 5,
     "metadata": {},
     "output_type": "execute_result"
    }
   ],
   "source": [
    "dataframe.head()"
   ]
  },
  {
   "cell_type": "markdown",
   "metadata": {},
   "source": [
    "Um das trainieren des Modells zu überwachen und um die Accuracy des Modells hinterher zu errechnen wird das Datenset in drei Teile unterteilt. In einem Verhältnis von 80:20 wird das Datenset in Trainingsdaten und Testdaten unterteilt. Trainingsdaten dienen hier ausschließlich zum trainieren des Modells, Testdaten werden nach dem Trainieren dazu verwendet, um die Accuracy des Modells zu errechnen, diese sollen reale Daten simulieren. Der Grund, warum das Verhältnis stark auf der Seite der Trainingsdaten liegt, ist, weil mehr Trainingsdaten ein besseres Ergebnis versprechen, dabei muss die Anzahl der Daten bei den Testdaten nicht hoch sein, um die Accuracy zu bestimmen.\n",
    "\n",
    "Weiterhin werden die Trainingsdaten wiederum in Trainingsdaten und Validationsdaten mit einem Verhältnis von 80:20 unterteilt. Die Validationsdaten werden dazu verwendet um das Training zu überwachen, nach jedem Epoch (Trainingsschritt) wird damit die aktuelle Accuracy bestimmt."
   ]
  },
  {
   "cell_type": "code",
   "execution_count": 6,
   "metadata": {},
   "outputs": [
    {
     "name": "stdout",
     "output_type": "stream",
     "text": [
      "1024000 training tweets\n",
      "256000 validation tweets\n",
      "320000 test tweets\n"
     ]
    }
   ],
   "source": [
    "train, test = train_test_split(dataframe, test_size=0.2)\n",
    "train, val = train_test_split(train, test_size=0.2)\n",
    "\n",
    "print(len(train), 'training tweets')\n",
    "print(len(val), 'validation tweets')\n",
    "print(len(test), 'test tweets')"
   ]
  },
  {
   "cell_type": "markdown",
   "metadata": {},
   "source": [
    "Da jetzt das Datenset entsprechend aufgeteilt wurde kann es nun in das verlangte Tensorflowformat gebracht werden. Dafür werden die Features (text) und die Labels (labels) klar definiert. Zusätzlich wird eine Batchsize definiert, welche Daten gruppiert um das Lernen zu beschleunigen."
   ]
  },
  {
   "cell_type": "code",
   "execution_count": 7,
   "metadata": {},
   "outputs": [],
   "source": [
    "def df_to_dataset(dataframe, batch_size):\n",
    "  dataframe = dataframe.copy()\n",
    "  texts = dataframe.pop('text')\n",
    "  labels = dataframe.pop('target')\n",
    "  return tf.data.Dataset.from_tensor_slices((texts, labels)).batch(batch_size)"
   ]
  },
  {
   "cell_type": "code",
   "execution_count": 8,
   "metadata": {},
   "outputs": [],
   "source": [
    "batch_size = 320\n",
    "\n",
    "raw_train_ds = df_to_dataset(train, batch_size)\n",
    "raw_val_ds = df_to_dataset(val, batch_size)\n",
    "raw_test_ds = df_to_dataset(test, batch_size)"
   ]
  },
  {
   "cell_type": "markdown",
   "metadata": {},
   "source": [
    "Um zu validieren, dass die Konvertierung geklappt hat werden die ersten drei Einträge ausgelesen"
   ]
  },
  {
   "cell_type": "code",
   "execution_count": 9,
   "metadata": {},
   "outputs": [
    {
     "name": "stdout",
     "output_type": "stream",
     "text": [
      "Tweet: b'Getting ready to do my favorite thing-work with one of our team members on her purpose statement '\n",
      "Label: 4\n",
      "Tweet: b'Is having a good mothers day just wished that my tia an gramma was here '\n",
      "Label: 0\n",
      "Tweet: b'@C_Go Sorry! Self recommendations are not supported.  Get recommended here: http://cli.gs/t8rQrd'\n",
      "Label: 4\n"
     ]
    }
   ],
   "source": [
    "for text_batch, label_batch in raw_train_ds.take(1):\n",
    "  for i in range(3):\n",
    "    print(\"Tweet:\", text_batch.numpy()[i])\n",
    "    print(\"Label:\", label_batch.numpy()[i])"
   ]
  },
  {
   "cell_type": "markdown",
   "metadata": {},
   "source": [
    "Hier werden die Daten für das Modell normalisiert. Dies ist wichtig um unnötige Duplikate zu vermeiden, wie z.B. Wörter, die in manchen Tweets groß und in anderen wieder klein geschrieben werden. Zusätzlich können Usernames, welche mit \"@\" beginnen normalisiert werden, da der genaue username unwichtig für die sentiment prediction ist."
   ]
  },
  {
   "cell_type": "code",
   "execution_count": 10,
   "metadata": {},
   "outputs": [],
   "source": [
    "def normalize_data(input_data):\n",
    "  lowercase = tf.strings.lower(input_data)\n",
    "  # todo: filter out usernames\n",
    "  usernames = tf.strings.regex_replace(lowercase, '@\"\\B@\\w+\"', 'user')\n",
    "  return tf.strings.regex_replace(usernames, '[%s]' % re.escape(string.punctuation), '')"
   ]
  },
  {
   "cell_type": "markdown",
   "metadata": {},
   "source": [
    "Nun können die Texte vektorisiert werden. Da ein neuronales Netz nicht mir Wörtern und Buchstaben arbeiten kann, müssen diese in Zahlen umgewandelt werden. Dafür werden die Tweets in Vektoren umgewandelt. Die Größe des Vektors wird dabei mit sequence_length definiert. Die Größe der sequence_length, also letztendlich die Größe des Vektors sollte in der Regel so groß sein, dass alle Wörter eines Tweets hereinpassen. Da die Anzahl an Zeichen auf 280 pro Tweet limitiert ist, und die durschnittliche Anzahl der Zeichen pro Wort im Englischen bei 5 liegt wird die sequence_length mit 56 definiert.\n",
    "\n",
    "Hier erhält jedes Wort eine fortlaufende Id, die Reihenfolge wird darüber bestimmt, welche Wörter zuerst vektorisiert werden. Dabei können aufgrund max_features maximal 10000 Wörter eingelesen werden, alle weiteren werden ignoriert, diese Menge an Vokabeln sollte aber ausreichen, da in der Alltagssprache lediglich zwei bis drei tausend Wörter verwendet werden. Somit kann jedes Wort zu einer Id gemappt werden, sodass man letztendlich ganze Sätze in einem Vektor abbilden kann. Damit lösen wir auch das Problem, dass ein neuronales Netz immer die gleiche Inputgröße benötigt, da die Vektorengröße immer der sequence_length enstpricht.\n",
    "\n",
    "Dafür wird hier ein Vektorlayer erstellt. Gleichzeitig können hier die Daten normalisiert werden."
   ]
  },
  {
   "cell_type": "code",
   "execution_count": 11,
   "metadata": {},
   "outputs": [],
   "source": [
    "max_features = 10000\n",
    "sequence_length = 56\n",
    "\n",
    "vectorize_layer = TextVectorization(\n",
    "    standardize=normalize_data,\n",
    "    max_tokens=max_features,\n",
    "    output_mode='int',\n",
    "    output_sequence_length=sequence_length)"
   ]
  },
  {
   "cell_type": "markdown",
   "metadata": {},
   "source": [
    "Hier werden die Trainingsdaten eingelesen, sodass die 10000 features gefüllt werden können, somit haben wir für die Tweets ein eigenes \"Wörterbuch\""
   ]
  },
  {
   "cell_type": "code",
   "execution_count": 12,
   "metadata": {},
   "outputs": [],
   "source": [
    "train_text = raw_train_ds.map(lambda x, y: x)\n",
    "vectorize_layer.adapt(train_text)"
   ]
  },
  {
   "cell_type": "markdown",
   "metadata": {},
   "source": [
    "Mit der Methode können wir gleich alle Datensets vektorisieren. Hier normalisieren wir noch das Label, sodass das Label eine Range von 0 bis 1, anstatt von 0 bis 4 hat. "
   ]
  },
  {
   "cell_type": "code",
   "execution_count": 13,
   "metadata": {},
   "outputs": [],
   "source": [
    "def vectorize_text(text, label):\n",
    "  text = tf.expand_dims(text, -1)\n",
    "  return vectorize_layer(text), int(label / 4)"
   ]
  },
  {
   "cell_type": "markdown",
   "metadata": {},
   "source": [
    "Um zu testen, ob das vektorisieren der Tweets funktioniert können wir den ersten Tweet aus dem ersten Batch auslesen und vektorisieren."
   ]
  },
  {
   "cell_type": "code",
   "execution_count": 14,
   "metadata": {},
   "outputs": [
    {
     "name": "stdout",
     "output_type": "stream",
     "text": [
      "tf.Tensor(b'Getting ready to do my favorite thing-work with one of our team members on her purpose statement ', shape=(), dtype=string)\n",
      "tf.Tensor(4, shape=(), dtype=int64)\n",
      "(<tf.Tensor: shape=(1, 56), dtype=int64, numpy=\n",
      "array([[ 127,  201,    3,   41,    6,  551,    1,   22,   56,   13,  180,\n",
      "         790, 3235,   15,  102, 4286, 3752,    0,    0,    0,    0,    0,\n",
      "           0,    0,    0,    0,    0,    0,    0,    0,    0,    0,    0,\n",
      "           0,    0,    0,    0,    0,    0,    0,    0,    0,    0,    0,\n",
      "           0,    0,    0,    0,    0,    0,    0,    0,    0,    0,    0,\n",
      "           0]])>, 1)\n"
     ]
    }
   ],
   "source": [
    "text_batch, label_batch = next(iter(raw_train_ds))\n",
    "text, label = text_batch[0], label_batch[0]\n",
    "print(text)\n",
    "print(label)\n",
    "print(vectorize_text(text, label))"
   ]
  },
  {
   "cell_type": "markdown",
   "metadata": {},
   "source": [
    "Mithilfe des Vektorlayers können wir die Ids wieder zu Wörtern zurückmappen, außerdem können wir die Größe unseres Wörterbuchs auslesen"
   ]
  },
  {
   "cell_type": "code",
   "execution_count": 15,
   "metadata": {},
   "outputs": [
    {
     "name": "stdout",
     "output_type": "stream",
     "text": [
      "1234 --->  choice\n",
      "Vocabulary size: 10000\n"
     ]
    }
   ],
   "source": [
    "print(\"1234 ---> \", vectorize_layer.get_vocabulary()[1234])\n",
    "print('Vocabulary size: {}'.format(len(vectorize_layer.get_vocabulary())))"
   ]
  },
  {
   "cell_type": "markdown",
   "metadata": {},
   "source": [
    "Nun vektorisieren wir alle benötigten Datensets"
   ]
  },
  {
   "cell_type": "code",
   "execution_count": 16,
   "metadata": {},
   "outputs": [],
   "source": [
    "train_ds = raw_train_ds.map(vectorize_text)\n",
    "val_ds = raw_val_ds.map(vectorize_text)\n",
    "test_ds = raw_test_ds.map(vectorize_text)"
   ]
  },
  {
   "cell_type": "markdown",
   "metadata": {},
   "source": [
    "Aus Performancegründen können die Datensets weiter aufbereitet werden. Mit `.cache()` bleiben die Daten im Arbeitsspeicher, nachdem diese von der Festplatte geladen wurden. Somit kann sichergestellt werden, dass das Laden der Daten nicht das Bottleneck beim Training sein wird.\n",
    "\n",
    "Mit `.prefetch()` können die Daten gleichzeitig mit dem Lernen präprozessiert werden."
   ]
  },
  {
   "cell_type": "code",
   "execution_count": 17,
   "metadata": {},
   "outputs": [],
   "source": [
    "AUTOTUNE = tf.data.AUTOTUNE\n",
    "\n",
    "train_ds = train_ds.cache().prefetch(buffer_size=AUTOTUNE)\n",
    "val_ds = val_ds.cache().prefetch(buffer_size=AUTOTUNE)\n",
    "test_ds = test_ds.cache().prefetch(buffer_size=AUTOTUNE)"
   ]
  },
  {
   "cell_type": "markdown",
   "metadata": {},
   "source": [
    "Schließlich definieren wir das eigentliche Modell. Die erste Layer ist ein Embedding-Layer. Dies sorgt dafür, dass jedes Wort wiederum einen eigenen Vektor erhält, dieser stellt die Bedeutung des Wortes dar. Diese Vektoren werden mit dem Modell mit der Zeit trainiert. Diese Embeddinglayer fügt eine weitere Dimension zum Outputvektor hinzu. Hier definieren wir mit der embedding_dim die Größe der Layers, das bedeutet, dass es 32 Nodes pro Layer gibt.\n",
    "\n",
    "Für die nächste Layer wird `GlobalAveragePooling1D` verwendet. Diese reduziert die Dimension wieder um 1 und verrechnet dabei alle Informationen, sodass nichts verloren geht. Der Outputvektor wird dabei wieder auf eine feste Länge normalisiert.\n",
    "\n",
    "Anschließend folgt ein fully-connected 32 Dense-Layer. Hier wurde eine Dropoutrate festgelegt, um Overfitting zu verhindern. Das Ziel hier ist random ausgewählte Nodes auf 0 zu setzen, damit das anspassen der Weights der einzelnen Nodes beim lernen gefördert wird.\n",
    "\n",
    "Letztendlich wird das letzte Layer mit einem Dense Layer zu einer einzigen Node verknüpft. Diese hat eine Range von 0 bis 1 und gibt das Ergenis aus.\n",
    "\n",
    "Wir können nun noch mit `.summary()` das Modell verifizieren."
   ]
  },
  {
   "cell_type": "code",
   "execution_count": 18,
   "metadata": {},
   "outputs": [
    {
     "name": "stdout",
     "output_type": "stream",
     "text": [
      "Model: \"sequential\"\n",
      "_________________________________________________________________\n",
      "Layer (type)                 Output Shape              Param #   \n",
      "=================================================================\n",
      "embedding (Embedding)        (None, None, 32)          320032    \n",
      "_________________________________________________________________\n",
      "global_average_pooling1d (Gl (None, 32)                0         \n",
      "_________________________________________________________________\n",
      "dropout (Dropout)            (None, 32)                0         \n",
      "_________________________________________________________________\n",
      "dense (Dense)                (None, 1)                 33        \n",
      "=================================================================\n",
      "Total params: 320,065\n",
      "Trainable params: 320,065\n",
      "Non-trainable params: 0\n",
      "_________________________________________________________________\n"
     ]
    }
   ],
   "source": [
    "embedding_dim = 32\n",
    "\n",
    "model = tf.keras.Sequential([\n",
    "  layers.Embedding(max_features + 1, embedding_dim),\n",
    "  layers.GlobalAveragePooling1D(),\n",
    "  layers.Dropout(0.2),\n",
    "  layers.Dense(1)\n",
    "])\n",
    "\n",
    "model.summary()"
   ]
  },
  {
   "cell_type": "markdown",
   "metadata": {},
   "source": [
    "Für das Trainieren müssen noch ein paar Parameter definiert werden. Für die Berechnung des Fehlers (loss) verwenden wir die `BinaryCrossentropy` Funktion. Der Fehler gibt uns an, wie weit wir von der richtigen Prediction weg sind. Wir haben uns dafür entschieden, da wir einen sogenannten Binary Classifier haben, der uns eine Wahrscheinlichkeit von 0 bis 1 als Ergebnis gibt. Dabei arbeiten wir mit Logits, sodass die Labels als sogennante Logits betrachtet werden, diese Darstellung als Wahrscheinlichkeit verspricht laut Tensorflow größere numerische Stabilität.\n",
    "\n",
    "Weiterhin verwenden wir für den Optimierungsalgorithmus den `Adam-Optimizer`. Wir haben uns für den Adam-Optimizer, im Gegensatz zum klassischen Stochastic Gradient Descent Algorithmus entschieden, da sich die Learningrate beim Adam-Optimizer mit der Zeit automatisch anpasst. Das ist besonders praktisch bei Natural Language Processing, da hier die Gradients in der Regel sehr gering sind. Dabei wird die Learningrate basierend auf der vorherigen Änderung der Weights angepasst. Hier haben wir eine sehr kleine Learningrate definiert, da wir ein sehr großes Datenset haben und nicht zu schnell in das Problem von Overfitting laufen wollen, weshalb langsameres lernen, also ein langsameres Anpassen der Weights, hier passender ist."
   ]
  },
  {
   "cell_type": "code",
   "execution_count": 19,
   "metadata": {},
   "outputs": [],
   "source": [
    "model.compile(loss=losses.BinaryCrossentropy(from_logits=True),\n",
    "              optimizer=tf.keras.optimizers.Adam(learning_rate=0.0001),\n",
    "              metrics=tf.metrics.BinaryAccuracy(threshold=0.0))"
   ]
  },
  {
   "cell_type": "markdown",
   "metadata": {},
   "source": [
    "Nun wird endlich das Modell trainiert. Dafür definieren wir mit epochs, wie oft wir über das Trainingsdatenset iterieren. Es werden in `model.fit()` die Trainingsdaten, die Validationsdaten und die Anzahl der Epochen angegeben. Tensorflow loggt den Fortschritt live in der Konsole aus, zusätzlich wird der Trainingsstatus in einem History-Objekt festgehalten."
   ]
  },
  {
   "cell_type": "code",
   "execution_count": 20,
   "metadata": {},
   "outputs": [
    {
     "name": "stdout",
     "output_type": "stream",
     "text": [
      "Epoch 1/10\n",
      "3200/3200 [==============================] - 18s 6ms/step - loss: 0.6854 - binary_accuracy: 0.6068 - val_loss: 0.6469 - val_binary_accuracy: 0.7022\n",
      "Epoch 2/10\n",
      "3200/3200 [==============================] - 13s 4ms/step - loss: 0.6311 - binary_accuracy: 0.7091 - val_loss: 0.5908 - val_binary_accuracy: 0.7272\n",
      "Epoch 3/10\n",
      "3200/3200 [==============================] - 16s 5ms/step - loss: 0.5788 - binary_accuracy: 0.7341 - val_loss: 0.5508 - val_binary_accuracy: 0.7484\n",
      "Epoch 4/10\n",
      "3200/3200 [==============================] - 17s 5ms/step - loss: 0.5417 - binary_accuracy: 0.7544 - val_loss: 0.5224 - val_binary_accuracy: 0.7633\n",
      "Epoch 5/10\n",
      "3200/3200 [==============================] - 19s 6ms/step - loss: 0.5156 - binary_accuracy: 0.7679 - val_loss: 0.5032 - val_binary_accuracy: 0.7726\n",
      "Epoch 6/10\n",
      "3200/3200 [==============================] - 19s 6ms/step - loss: 0.4983 - binary_accuracy: 0.7763 - val_loss: 0.4909 - val_binary_accuracy: 0.7783\n",
      "Epoch 7/10\n",
      "3200/3200 [==============================] - 23s 7ms/step - loss: 0.4871 - binary_accuracy: 0.7818 - val_loss: 0.4830 - val_binary_accuracy: 0.7824\n",
      "Epoch 8/10\n",
      "3200/3200 [==============================] - 18s 6ms/step - loss: 0.4798 - binary_accuracy: 0.7855 - val_loss: 0.4779 - val_binary_accuracy: 0.7852\n",
      "Epoch 9/10\n",
      "3200/3200 [==============================] - 21s 7ms/step - loss: 0.4749 - binary_accuracy: 0.7882 - val_loss: 0.4744 - val_binary_accuracy: 0.7873\n",
      "Epoch 10/10\n",
      "3200/3200 [==============================] - 25s 8ms/step - loss: 0.4715 - binary_accuracy: 0.7900 - val_loss: 0.4719 - val_binary_accuracy: 0.7886\n"
     ]
    }
   ],
   "source": [
    "epochs = 10\n",
    "history = model.fit(\n",
    "    train_ds,\n",
    "    validation_data=val_ds,\n",
    "    epochs=epochs)"
   ]
  },
  {
   "cell_type": "markdown",
   "metadata": {},
   "source": [
    "Nachdem das Modell nur trainiert ist können wir es mit den vorher festgelegten Testdatensatz testen. Diese sollen wie bereits erwähnt echte Daten simulieren. Dabei erhalten wir mit `model.evaluate()` den Loss und die Accuracy, welche bei rund 80% liegt"
   ]
  },
  {
   "cell_type": "code",
   "execution_count": 21,
   "metadata": {},
   "outputs": [
    {
     "name": "stdout",
     "output_type": "stream",
     "text": [
      "1000/1000 [==============================] - 3s 3ms/step - loss: 0.4727 - binary_accuracy: 0.7882\n",
      "Loss:  0.4727429747581482\n",
      "Accuracy:  0.7882187366485596\n"
     ]
    }
   ],
   "source": [
    "loss, accuracy = model.evaluate(test_ds)\n",
    "\n",
    "print(\"Loss: \", loss)\n",
    "print(\"Accuracy: \", accuracy)"
   ]
  },
  {
   "cell_type": "markdown",
   "metadata": {},
   "source": [
    "In dem History-Objekt können wir nun sehen, welche Daten Tensorflow für uns aufgezeichnet hat"
   ]
  },
  {
   "cell_type": "code",
   "execution_count": 22,
   "metadata": {},
   "outputs": [
    {
     "data": {
      "text/plain": [
       "dict_keys(['loss', 'binary_accuracy', 'val_loss', 'val_binary_accuracy'])"
      ]
     },
     "execution_count": 22,
     "metadata": {},
     "output_type": "execute_result"
    }
   ],
   "source": [
    "history_dict = history.history\n",
    "history_dict.keys()"
   ]
  },
  {
   "cell_type": "markdown",
   "metadata": {},
   "source": [
    "Mithilfe von Matplotlib können wir den Loss plotten und beobachten, wie diese sich beim lernen verhalten hat. Optimalerweise sollte diese mit der Zeit runtergehen, da mit dem Anpassen der Weights das Modell immer genauere Aussagen treffen sollte und somit der Fehler immer geringer wird.\n",
    "\n",
    "Wir können erkennen, dass dies tatsächlich der Fall ist, dabei fällt der Loss fast exponentiell. Logischerweise wird der Trainingsloss immer geringer, als Bestätigung für die Verbesserung des Modells dient hier die Validationloss. Diese ist fast gleich, sodass wir davon ausgehen können, dass die Anzahl der Fehlinterpretierungen tatsächlich geringer wurde."
   ]
  },
  {
   "cell_type": "code",
   "execution_count": 23,
   "metadata": {},
   "outputs": [
    {
     "data": {
      "image/png": "[encoded data removed]",
      "text/plain": [
       "<Figure size 432x288 with 1 Axes>"
      ]
     },
     "metadata": {
      "needs_background": "light"
     },
     "output_type": "display_data"
    }
   ],
   "source": [
    "loss = history_dict['loss']\n",
    "val_loss = history_dict['val_loss']\n",
    "\n",
    "epochs = range(1, len(loss) + 1)\n",
    "\n",
    "# \"bo\" is for \"blue dot\"\n",
    "plt.plot(epochs, loss, 'o', color='orange', label='Training Loss')\n",
    "# b is for \"solid blue line\"\n",
    "plt.plot(epochs, val_loss, 'blue', label='Validation Loss')\n",
    "plt.title('Trainings- und Validationsloss')\n",
    "plt.xlabel('Epochen')\n",
    "plt.ylabel('Loss')\n",
    "plt.legend()\n",
    "\n",
    "plt.show()"
   ]
  },
  {
   "cell_type": "markdown",
   "metadata": {},
   "source": [
    "Das gleiche können wir auch für die Accuracy machen. Hier sollte im Optimalfall die Accuracy mit der Zeit steigen. Dieses Verhalten können wir wieder an unserem Modell erkennen. Hier erinnert der Graph an eine Sättigungskurve. Das liegt daran, dass es mit der Zeit immer schwerer wird das Modell noch mehr zu verbessern, da das Lernen letztendlich eine Optimierung ist, dessen Verbesserung im späteren Verlauf nur mit höheren Aufwänden zu erreichen ist.\n",
    "\n",
    "An beiden Graphiken kann man jedoch gut erkennen, dass es zu keinem Overfitting kommt. Wenn wir die Accuracy betrachten, würde bei Overfitting die Accuracy der Testdaten weiter Ansteigen, während die Accuracy der Validationsdaten und die der Testdaten stagniert oder gar heruntergeht. Das gleiche würde analog mit dem Loss passieren."
   ]
  },
  {
   "cell_type": "code",
   "execution_count": 24,
   "metadata": {},
   "outputs": [
    {
     "data": {
      "image/png": "[encoded data removed]",
      "text/plain": [
       "<Figure size 432x288 with 1 Axes>"
      ]
     },
     "metadata": {
      "needs_background": "light"
     },
     "output_type": "display_data"
    }
   ],
   "source": [
    "acc = history_dict['binary_accuracy']\n",
    "val_acc = history_dict['val_binary_accuracy']\n",
    "\n",
    "plt.plot(epochs, acc, 'o', color='orange', label='Training Accuracy')\n",
    "plt.plot(epochs, val_acc, 'blue', label='Validation Accuracy')\n",
    "plt.title('Trainings- und Validationsaccuracy')\n",
    "plt.xlabel('Epochen')\n",
    "plt.ylabel('Accuracy')\n",
    "plt.legend(loc='lower right')\n",
    "\n",
    "plt.show()"
   ]
  },
  {
   "cell_type": "markdown",
   "metadata": {},
   "source": [
    "Nun exportieren wir das fertige Modell. Da wir vorher die Texte vektorisiert haben, bevor sie in das Modell gegeben wurden, können wir hier ein Modell exportieren, welche die Texte beim Input vektorisiert. Dies macht uns jetzt das zukünftige Predicten einfacher. Zusätzlich fügen wir am Ende eine weitere Node mit einer Sigmoid Aktivierungsfunktion hinzu. Diese mappt uns alle Werte zwischen 0 und 1, sodass unsere definiert Sentiment Range eingehalten wird. Die Vektorisationlayer und die Sigmoid Node wurden beim lernen weggelassen, um die Effizienz zu erhöhen."
   ]
  },
  {
   "cell_type": "code",
   "execution_count": 25,
   "metadata": {},
   "outputs": [],
   "source": [
    "sentiment_model = tf.keras.Sequential([\n",
    "  vectorize_layer,\n",
    "  model,\n",
    "  layers.Activation('sigmoid')\n",
    "])"
   ]
  },
  {
   "cell_type": "markdown",
   "metadata": {},
   "source": [
    "Schließlich können wir ein paar Beispiele eingeben um zu sehen, was das Modell denkt. Dabei ist der erste Satz positiv, der zweite neutral und der letzte negativ. Anhand der Ergebnisse können wir sehen, dass das Modell ähnlich darüber denkt. Während der neutrale Satz mit rund 0.5 gewertet wird, wird der positive höher gewertet und der negative geringer."
   ]
  },
  {
   "cell_type": "code",
   "execution_count": 26,
   "metadata": {},
   "outputs": [
    {
     "data": {
      "text/plain": [
       "array([[0.77823675],\n",
       "       [0.51098996],\n",
       "       [0.2480621 ]], dtype=float32)"
      ]
     },
     "execution_count": 26,
     "metadata": {},
     "output_type": "execute_result"
    }
   ],
   "source": [
    "examples = [\n",
    "  \"Today is a great day!\",\n",
    "  \"This sentence is rather neutral\",\n",
    "  \"This show is terrible!\"\n",
    "]\n",
    "\n",
    "sentiment_model.predict(examples)"
   ]
  },
  {
   "cell_type": "code",
   "execution_count": 27,
   "metadata": {},
   "outputs": [],
   "source": [
    "# technical analysis"
   ]
  },
  {
   "cell_type": "markdown",
   "metadata": {},
   "source": [
    "# Anwenden auf Twitter Livedaten\n",
    "\n",
    "blablabla"
   ]
  },
  {
   "cell_type": "code",
   "execution_count": 116,
   "metadata": {},
   "outputs": [],
   "source": [
    "# pip install searchtweets-v2\n",
    "from searchtweets import load_credentials, gen_request_parameters, collect_results\n",
    "import numpy as np\n",
    "from datetime import datetime"
   ]
  },
  {
   "cell_type": "code",
   "execution_count": 117,
   "metadata": {},
   "outputs": [],
   "source": [
    "search_args = load_credentials(\"./.twitter_keys.yaml\", yaml_key=\"search_tweets_v2\")"
   ]
  },
  {
   "cell_type": "code",
   "execution_count": 128,
   "metadata": {},
   "outputs": [],
   "source": [
    "max_tweets = 100\n",
    "\n",
    "query = gen_request_parameters(\n",
    "    \"(ether OR eth OR ethereum OR cryptocurrency) -bot -app -is:retweet is:verified lang:en\",\n",
    "    tweet_fields=\"id,created_at,text\",\n",
    "    results_per_call=max_tweets)"
   ]
  },
  {
   "cell_type": "code",
   "execution_count": 129,
   "metadata": {},
   "outputs": [
    {
     "name": "stdout",
     "output_type": "stream",
     "text": [
      "[{'newest_id': '1367871636159008781', 'oldest_id': '1367799070958358535', 'result_count': 100, 'next_token': 'b26v89c19zqg8o3fosnu6vopv00tuf42qv1iuxanwahz1'}, {'created_at': '2021-03-05T11:28:05.000Z', 'id': '1367799070958358535', 'text': 'Cryptocurrency trading volumes spike 17per cent in February - CryptoCompare https://t.co/lTJXmdY0Nt https://t.co/hFP4av11FY'}, {'created_at': '2021-03-05T11:31:23.000Z', 'id': '1367799902428827649', 'text': '#Bitcoin below $47,000; crypto assets, stocks fall on bond yields scare\\n\\nhttps://t.co/tsqxLo5r86 https://t.co/vGyM5DzURb'}, {'created_at': '2021-03-05T11:32:05.000Z', 'id': '1367800077897588736', 'text': '\"If #bitcoin ever becomes a viable currency instead of a trading vehicle, they can outlaw it. Governments don\\'t want to lose control. They like their monopoly,\" warned Jim Rogers. #btc #cryptocurrency https://t.co/snYnnOu5vI'}, {'created_at': '2021-03-05T11:34:11.000Z', 'id': '1367800604442132480', 'text': '@YanQinyq question for you - do you know if the bitcoin ban was confirmed in the plan? Or is that to be confirmed elsewhere? \\n\\nhttps://t.co/5YLTNX0Lgh'}, {'created_at': '2021-03-05T11:35:24.000Z', 'id': '1367800910513008643', 'text': 'Thailand’s largest movie theater chain accepts Bitcoin\\n\\n#ThailandMovieTheater #Bitcoin #Crypto #Cryptocurrency\\n\\nhttps://t.co/6jbdUMMnEV'}, {'created_at': '2021-03-05T11:36:35.000Z', 'id': '1367801210133090305', 'text': 'Cryptocurrency founders and their Twitter followers:\\n\\nCharles Hoskinson (ADA): 237k\\nBrad Garlinghouse (XRP): 350k\\nErik Voorhees (FOX): 420k\\nRoger Ver (BCH) 645k\\nCharlie Lee (LTC) 800k\\nVitalik Buterin (ETH) : 1M\\nJustin Sun (TRON): 2M 🤔'}, {'created_at': '2021-03-05T11:37:21.000Z', 'id': '1367801401099788288', 'text': '@chukaobi The only come back better than this is ‘ether’'}, {'created_at': '2021-03-05T11:45:01.000Z', 'id': '1367803332274880513', 'text': 'You can now customize what you see on the CoinMarketCap homepage. \\n\\nWhat will you pick? Share with us your choices and why below!\\n\\n#Crypto #Cryptocurrency #Altcoin #Bitcoin #Blockchain \\n\\nhttps://t.co/Ihn4sNnxff'}, {'created_at': '2021-03-05T11:47:03.000Z', 'id': '1367803845213003782', 'text': 'Cryptocurrency trading volumes spiked 17% in February https://t.co/QmAUh288jm'}, {'created_at': '2021-03-05T11:47:41.000Z', 'id': '1367804004449812484', 'text': 'Wealth managers frustrated over bitcoin\\n#ARYNews \\nhttps://t.co/tFaaRYdrhg'}, {'created_at': '2021-03-05T11:52:41.000Z', 'id': '1367805260610367489', 'text': 'Cryptocurrency trading volumes spike 17% in February: CryptoCompare https://t.co/nSjeXKfvtC https://t.co/yn9V9WGNWZ'}, {'created_at': '2021-03-05T11:54:07.000Z', 'id': '1367805622951976960', 'text': 'Important to know for everyone new in crypto. Would recommend checking out https://t.co/nS4WhtbQR4 https://t.co/mwaZG4Whes'}, {'created_at': '2021-03-05T12:04:27.000Z', 'id': '1367808222384566273', 'text': 'Will India Ban Cryptocurrency in 2021 or Not? https://t.co/v2pCsY7gCF'}, {'created_at': '2021-03-05T12:05:13.000Z', 'id': '1367808417314836482', 'text': 'Cryptocurrency trading volumes spike 17% in February: CryptoCompare https://t.co/9WQD84gq9h https://t.co/TpS8H56Hjl'}, {'created_at': '2021-03-05T12:06:26.000Z', 'id': '1367808722756583428', 'text': 'For only $100 per share, each investor was promised an eventual return of 1.15kgs in gold, worth over $45,000 as of January 2019. Each share was purchased through cryptocurrency including bitcoin (BTC). https://t.co/PsyFdv1JIh'}, {'created_at': '2021-03-05T12:07:44.000Z', 'id': '1367809049706835968', 'text': 'Cryptocurrency exchange Bybit announced Friday it will cease providing its services to customers from the U.K. following a regulatory ban.\\n\\nBy @Tanzeel_Akhtar \\n\\nhttps://t.co/bt3svfxhzg'}, {'created_at': '2021-03-05T12:13:10.000Z', 'id': '1367810414679977987', 'text': \"#CNBCTV18IBLA | #FinanceMinister @nsitharaman says 'Govt wants to ensure there's a window for experiments in #Cryptocurrency space.' Adds 'There will be a very calibrated position taken on cryptocurrency.' \\n@ShereenBhan @FinMinIndia\\n\\n#Leadersofchange https://t.co/YHEYA9INkf\"}, {'created_at': '2021-03-05T12:20:42.000Z', 'id': '1367812309645553669', 'text': '#CNBCTV18IBLA | FM on NSE Glitch: SEBI Chief has given us a presentation on the #nseglitch; I am assured that such glitch will never be repeated. \\n\\nFM on Cryptocurrency: There will be a calibrated position taken on #cryptocurrency \\n\\n#Leadersofchange https://t.co/hMsFwhHOf0'}, {'created_at': '2021-03-05T12:21:00.000Z', 'id': '1367812385801650180', 'text': 'IOTA Price is Defying Gravity. Key Levels to Watch Next: \\nhttps://t.co/9hNOcVNEpw #IOTA #crypto #cryptocurrency #cryptocurrencynews'}, {'created_at': '2021-03-05T12:30:05.000Z', 'id': '1367814674943709189', 'text': 'Chief Market Strategist, Stephen Dover explores one of the most fascinating financial trends in recent history - cryptocurrency.\\n\\nhttps://t.co/jSnHSUmDuq'}, {'created_at': '2021-03-05T12:30:44.000Z', 'id': '1367814837175263238', 'text': '#Docker Hub and #Bitbucket Resources Hijacked for Crypto-Mining: https://t.co/ltmfMH16Yr #cryptocurrency'}, {'created_at': '2021-03-05T12:33:00.000Z', 'id': '1367815408078688260', 'text': \"It is enough to be authentic, true to all you are\\nIt is enough to be what you imagine &amp; that which you don't\\nIt is enough to hold a vision and actuate a dream\\nYou are enough to transform the ether to still the madness. Ariaa Jaeger #FridayThoughts\"}, {'created_at': '2021-03-05T12:34:00.000Z', 'id': '1367815659258798084', 'text': 'The RTX 3060 12GB may have been the first of many GeForce GPUs to block Ethereum mining. https://t.co/VATJehjOnx'}, {'created_at': '2021-03-05T12:35:06.000Z', 'id': '1367815937097863171', 'text': 'Cryptocurrency trading volumes spike 17% in February: CryptoCompare https://t.co/r8KcJNXoqX https://t.co/FKCcNizWkq'}, {'created_at': '2021-03-05T12:41:38.000Z', 'id': '1367817580367384577', 'text': 'Is CryptoCurrency is easy to deal with it?\\n#AskSumitAboutCrypto\\n@smtgpt'}, {'created_at': '2021-03-05T12:46:41.000Z', 'id': '1367818848867606528', 'text': 'Saw this, this morning. The Kings of Leon will become the first band to release an album in the form of a non-fungible token (NFT) today. It’s a type of cryptocurrency.'}, {'created_at': '2021-03-05T12:49:28.000Z', 'id': '1367819549542858752', 'text': 'According to the CCID’s 22nd global public #blockchain technology assessment index, #TRON ranked top 3 in this list together with #EOS and #ETH. \\n\\nIn addition, #TRON\\xa0also ranked No.1 among all Chinese Public #Blockchain. #TRX\\xa0$TRX https://t.co/Pc2TiRBJ3x'}, {'created_at': '2021-03-05T12:56:43.000Z', 'id': '1367821374698438661', 'text': '@wlogqed This is more a jab at Ethereum than Amazon'}, {'created_at': '2021-03-05T12:56:46.000Z', 'id': '1367821387117760515', 'text': 'Our warmest congratulations go to @springman_sarah for being elected as the next Principal of @hilda_beastoxf. She will take up the post on February 2022 after her last term of office as Rector of ETH Zurich. https://t.co/oqirnYoG7Y'}, {'created_at': '2021-03-05T13:01:08.000Z', 'id': '1367822487002746880', 'text': 'To understand more about #Blockchain and #Cryptocurrencies I spoke to Nobel Prize Winning Economist, Professor Eric Maskin and a global expert on blockchain and cryptocurrency, Michel Rauchs. https://t.co/C4Q2lDhU6q https://t.co/ftuRaGmpvv'}, {'created_at': '2021-03-05T13:05:00.000Z', 'id': '1367823459531644928', 'text': 'Trading volumes jumped to $2.7 trillion in February, with volumes at major exchanges jumping over 35% to $2.4 trillion, researcher CryptoCompare said\\n\\n#cryptocurrency \\n\\nhttps://t.co/wDv9jm8J2m'}, {'created_at': '2021-03-05T13:13:35.000Z', 'id': '1367825620957339657', 'text': 'Yesterday, we announced our $DOT integration on #LedgerLive.\\n\\nWe put together a guide to @Polkadot to explain just what makes this #cryptocurrency, focused on #interoperability, key 🗝️ \\n\\nDelve into #Polkadot here: https://t.co/BHIuQjXLzu https://t.co/IEoHpUGLLb'}, {'created_at': '2021-03-05T13:14:57.000Z', 'id': '1367825964072394753', 'text': 'My guess is 3 hours if they’re good, but idk, seems like such a prohibitively high cost (compared to value) that Ethereum works just fine for this. 🤔'}, {'created_at': '2021-03-05T13:25:30.000Z', 'id': '1367828619419021315', 'text': '👸#InternationalWomensDay – Celebrate it with Huobi!\\n\\nSpecial guests will be sharing their point of view on why women have a lot to gain from participating in the brave new world of #cryptocurrency\\n\\nLeave your UID to share $1000\\n💗Follow\\n💗Retweet\\n💗Tag 5 Friends\\n💗Register Now👇'}, {'created_at': '2021-03-05T13:30:07.000Z', 'id': '1367829781622980608', 'text': 'Cryptocurrency trading volumes spike 17% in February: CryptoCompare https://t.co/zFHzjiaB7l https://t.co/3Vs2lE7ZLB'}, {'created_at': '2021-03-05T13:40:03.000Z', 'id': '1367832282728435712', 'text': \"Until May 2021, 12 students from ETH Zurich are building the world's first 4-seater electric aircraft with a modular battery system. \\nThe eSling project is to achieve the largest battery range with their self-developed drive train in aviation history.\\n\\nhttps://t.co/mFi0akYsT9\"}, {'created_at': '2021-03-05T13:45:05.000Z', 'id': '1367833549076897798', 'text': 'A non-fungible token (NFT) is a digital certificate for intellectual property stored on the blockchain. And Nyan Cat, Grimes, and Kings of Leon are all involved. Let us explain.\\u200b  https://t.co/Ix9alJ1wwf'}, {'created_at': '2021-03-05T13:49:30.000Z', 'id': '1367834660781387783', 'text': 'MicroStrategy, which has essentially linked its fate to the performance of bitcoin, announced it has bought another $10 million of the largest cryptocurrency.\\n\\nby @KReyofCoinDesk \\n\\nhttps://t.co/RfYu2A8xwb'}, {'created_at': '2021-03-05T13:52:01.000Z', 'id': '1367835290702934019', 'text': '@rocko_ca When you buy/sell Bitcoin (or Ethereum) with Wealthsimple Crypto, you’ll see a simple price spread. It’s simple because it’s all-in-one pricing — there are no extra fees on top of that. And we never charge fees for deposits or withdrawals.\\n \\nhttps://t.co/JSrpKeirRb'}, {'created_at': '2021-03-05T13:59:59.000Z', 'id': '1367837297060806657', 'text': '🏛 DAOs and Crypto Governance - Ethereum\\n\\nIn 1 hour: March 5, 2021 10:30 AM - EST\\n\\nJoin @Consensys, @joincolony, @abridged_io, @GovrnHQ, @airswap &amp; others to discuss this new frontier!\\n\\nSee:\\nhttps://t.co/zjIbiTUGSJ'}, {'created_at': '2021-03-05T14:00:00.000Z', 'id': '1367837300147781636', 'text': '4 year retirement plan. Buy at least 1 #eth every time it drops below $1,500. \\n\\nY’all have not missed out on #Crypto it’s a cycle every 4 years this happens. \\n\\nJust gets more expensive.'}, {'created_at': '2021-03-05T14:00:02.000Z', 'id': '1367837309983363077', 'text': \"Isolated from much of the world, Georgia's Abkhazia region has become a cryptocurrency hotspot.\\n\\nBut recent power cuts have highlighted the energy cost of it, at a time where the interest in currencies like #Bitcoin is higher than ever \\nhttps://t.co/fm0EFnUguN\"}, {'created_at': '2021-03-05T14:00:52.000Z', 'id': '1367837520508166152', 'text': 'People are shelling out big sums of cryptocurrency and legal tender to buy tokens representing ownership of digital objects.\\n\\nThe latest buying trend? Crypto art https://t.co/WWVcTQklLN'}, {'created_at': '2021-03-05T14:03:31.000Z', 'id': '1367838186131628033', 'text': 'You know when you can \"buy\" a star. It\\'s like that. Except this time the \"star\" (not enough quotes in the world) is Kings of Leon \\nhttps://t.co/mwojgAXBYB'}, {'created_at': '2021-03-05T14:06:00.000Z', 'id': '1367838809384222726', 'text': 'The POLY-to-POLYX Upgrade Bridge is the gateway for users to upgrade their tokens from Ethereum to the Polymesh #blockchain in a test environment. \\n \\nTest the bridge and more on the Polymesh testnet.\\n \\n#fintech #blockchain\\n\\nhttps://t.co/VPVv6vfQUM https://t.co/KnB0QHFwzP'}, {'created_at': '2021-03-05T14:09:08.000Z', 'id': '1367839601549860865', 'text': \"@MrMichaelSpicer He likes Mexican coke because it's washed with Ether rather than Acetone.\"}, {'created_at': '2021-03-05T14:10:00.000Z', 'id': '1367839817179017219', 'text': 'Report suggests #cryptocurrency trading volumes jumped 17% in February.\\n\\nhttps://t.co/LAsjQwmvGp'}, {'created_at': '2021-03-05T14:10:46.000Z', 'id': '1367840013010890754', 'text': 'Nirmal Sitharaman clarified that the government is still formulating its opinion on cryptocurrency and will take a calibrated position https://t.co/515EniuM48'}, {'created_at': '2021-03-05T14:14:02.000Z', 'id': '1367840833110740993', 'text': 'Interested in @Polkadot projects? Now you can see all the $DOT ecosystem projects ranked! Click below to view!\\n\\nAlso, what is your favorite #Polkadot project and why?\\n\\nhttps://t.co/76ujYK9YM6\\n\\n#Crypto #Cryptocurrency #Altcoin https://t.co/tagKfRsL0T'}, {'created_at': '2021-03-05T14:15:01.000Z', 'id': '1367841078527791104', 'text': 'The @dallasmavs are now accepting @Dogecoin cryptocurrency as payment for tickets and merchandise. Dogecoin will be accepted via cryptocurrency payment service BitPay. \\n\\nhttps://t.co/PrTEA16e3W'}, {'created_at': '2021-03-05T14:18:21.000Z', 'id': '1367841919271723012', 'text': 'Sorry #ETH, you are about to be liquidated.'}, {'created_at': '2021-03-05T14:33:31.000Z', 'id': '1367845736042401796', 'text': 'An #AngelInvestor looks back on being #hacked by a 17 yr. old. The victim couldn’t access any of his #cryptocurrency accounts — @BittrexExchange, @binance, @kucoincom , @coinbase, etc. and lost his identity.  https://t.co/ze6KeSWBbp via Cybercrime Magazine'}, {'created_at': '2021-03-05T14:33:46.000Z', 'id': '1367845799015690248', 'text': '@rossplaskow @withFND Niceeee! Now I just need to find some ETH to buy it...'}, {'created_at': '2021-03-05T14:36:59.000Z', 'id': '1367846607216066565', 'text': 'Feb. 2021 Market Recap &amp; Outlook: \\nStayin’ Ahead of The Curve\\n\\n🐂 #Bitcoin price strong &amp; volatility high\\n😬 ETH controversial solution to gas fees\\n🥂 $ADA &amp; $DOT take off\\n📖 Tell me about NFT’s\\n\\nDownload the full report here: https://t.co/LU5a7S3Ire https://t.co/ELbhV1pSqZ'}, {'created_at': '2021-03-05T14:37:23.000Z', 'id': '1367846708516945924', 'text': 'Check the latest news in #Bitcoin, #Ethereum, and more!\\nhttps://t.co/yJJTvKkdGV'}, {'created_at': '2021-03-05T14:39:16.000Z', 'id': '1367847181244375041', 'text': 'Is is too late to buy #Bitcoin ?\\n\\nFormer Vice President banker turned top health and mindset coach in the world breaks down Bitcoin and crypto as an asset class on @SparkInTheDarkk \\n\\n#QuantuamRevolution\\n#Podcast\\n#Ethereum\\n#FinancialFreedom https://t.co/JHk44FeIgU'}, {'created_at': '2021-03-05T14:44:22.000Z', 'id': '1367848466366468109', 'text': 'A GIF cat with a DOGE body sold Thursday for 45 ETH (roughly $69,000). \\n\\n@sebsinclair1989 spoke with its creator.\\n\\nhttps://t.co/l40JhbHp1C'}, {'created_at': '2021-03-05T14:49:58.000Z', 'id': '1367849876080504832', 'text': '“Sometimes in business you have to do things that are fun, engaging and hopefully generate a lot of PR,” \\u2066@mcuban\\u2069 says in announcing #DallasMavericks to accept Dogecoin cryptocurrency for tickets, merchandise. #Dogecoin #cryptocurrency #DFWbusiness https://t.co/V5uYa4SL2e'}, {'created_at': '2021-03-05T14:50:02.000Z', 'id': '1367849892635422726', 'text': \"In the wake of Tesla's $1.5 billion bitcoin bet, with larger exchanges taking a growing share of the overall volumes. https://t.co/ApLSZvCMrp\"}, {'created_at': '2021-03-05T14:50:52.000Z', 'id': '1367850102384173057', 'text': 'Save 95% OFF\\xa0to help your day inch along with Planet Nine, Charlie II, Trailer Trashers, Rescue Team 7, Prehistoric Tales, Alter Army, Alterity Experience, Peekaboo: Hide and Seek &amp; HotFloor. \\n\\nSave an\\xa0EXTRA 30%\\xa0Off your final price with cryptocurrency.\\nhttps://t.co/kwp1P61yal'}, {'created_at': '2021-03-05T15:01:09.000Z', 'id': '1367852690483650561', 'text': \"There is just a little over a month left to get your taxes in order if you're in the US. These tips should help you out: https://t.co/RegcP8zGJd  #taxtips @TaxBit\"}, {'created_at': '2021-03-05T15:01:24.000Z', 'id': '1367852754362904578', 'text': 'What’s the best way to see what tokens are out there? Use your @MetaMask browser to visit @coingecko and add tokens directly to your wallet by pressing the 🦊\\n\\nhttps://t.co/NkTsX1SL35'}, {'created_at': '2021-03-05T15:02:08.000Z', 'id': '1367852936882176008', 'text': 'ETH prices alone aren’t causing gas fee spikes...there’s a new secular culprit in town 👇\\n\\nGet our thinking &amp; charts to your inbox - https://t.co/Knq3XtvULA https://t.co/vCLSLwcMLm'}, {'created_at': '2021-03-05T15:04:37.000Z', 'id': '1367853562789834754', 'text': 'On that note: https://t.co/CLKY32ajh7 https://t.co/K65AYA03Q9'}, {'created_at': '2021-03-05T15:06:03.000Z', 'id': '1367853921931235339', 'text': 'Bitcoin is the most common on-ramp investment especially for institutions, but some institutions are going in ether-first. \\n\\n@NoelleInMadrid teases apart the differences between the two assets on All About Bitcoin: https://t.co/6a1nVAbmB2 https://t.co/A3xjASOgbj'}, {'created_at': '2021-03-05T15:08:10.000Z', 'id': '1367854455669088257', 'text': '@HIPelham Thanks for reaching out, @HIPelham. While we are not a crypto exchange, you can use your OneUnited Bank debit card with major cryptocurrency exchanges. Hope this info helps, and that you have a great day.'}, {'created_at': '2021-03-05T15:12:20.000Z', 'id': '1367855506107363342', 'text': \"@Eth_Anol3 \\n\\nEvery moment has led to this 🌀 The finale of Marvel Studios' #WandaVision is now streaming on @DisneyPlus. #WandaVisionFinale https://t.co/Vr9GCVkvFl\"}, {'created_at': '2021-03-05T15:13:08.000Z', 'id': '1367855705345167362', 'text': 'After a number of false starts, cryptocurrencies — led by Bitcoin — could be here to stay. It’s uncharted territory for the luxury fashion sector, but momentum might build fast, writes @voguebusiness. https://t.co/9swfBFxtC5'}, {'created_at': '2021-03-05T15:14:27.000Z', 'id': '1367856035944357889', 'text': '🏛 DAOs and Crypto Governance - Ethereum\\n\\nToday in 15 mins:\\nMarch 5, 2021 10:30 AM - EST\\n\\nJoin us along with @Consensys, @joincolony, @abridged_io, @GovrnHQ to discuss DAOs and decentralized governance! \\n\\nSee:\\nhttps://t.co/nm4zv9HnN2'}, {'created_at': '2021-03-05T15:17:45.000Z', 'id': '1367856869411282952', 'text': \"@mattmerk @tom_swiss @AlyssRose @Joannechocolat @gutenberg_org You can't take a house with you ether but you can pass it on to your descendants.\"}, {'created_at': '2021-03-05T15:26:01.000Z', 'id': '1367858947412090880', 'text': 'Looks like EIP-1559 is officially going into the London Fork for ETH.'}, {'created_at': '2021-03-05T15:29:48.000Z', 'id': '1367859900760604682', 'text': \"@MVPizzle @fed_speak there's a bunch of platforms that let you do it, it's not hard you really just need an ETH wallet\"}, {'created_at': '2021-03-05T15:29:59.000Z', 'id': '1367859946470117378', 'text': '🏛 DAOs and Crypto Governance - Ethereum\\n\\nStarting now: \\nMarch 5, 2021 10:30 AM - EST\\n\\nLearn how governance works in crypto. \\nJoin @Consensys, @joincolony, @abridged_io, @GovrnHQ, @airswap &amp; others to discuss this new frontier!\\n\\nSee:\\nhttps://t.co/gQUceR0hIB'}, {'created_at': '2021-03-05T15:30:11.000Z', 'id': '1367859996659220485', 'text': 'According to @jasonabartlett, \"Russia and China have a history of evading sanctions targeting North Korean workers abroad.\" Read more from his full conversation with @MktsInsider: https://t.co/fnznWEib3K'}, {'created_at': '2021-03-05T15:31:39.000Z', 'id': '1367860366324170754', 'text': '\"One of the greatest financial innovations and disruptions of the last century, cryptocurrency, should not be weighed down by the complexities of tax and accounting,\" said Taxbit CEO Austin Woodward. https://t.co/sgwjUgjr4J'}, {'created_at': '2021-03-05T15:36:30.000Z', 'id': '1367861584685453315', 'text': 'Positive indicator for crypto @FinMinIndia @nsitharaman ji \\n\\n\"India is leader in FINTECH. We can\\'t close our minds to crypto - we are looking at ways where experimentation can happen in cryptocurrency\"\\n\\n #IndiaWantsCrypto \\n@balajis @jaijit @arrington @rohamg @SBF_Alameda @AjeetK https://t.co/qIZeE9akp6'}, {'created_at': '2021-03-05T15:40:03.000Z', 'id': '1367862478558928897', 'text': 'The first nano community update of the year is here!\\n\\nHighlights include the recently announced Unblock2021 Hackathon, trending community articles, the latest community projects to enter the nano ecosystem, competitions and more...\\n\\nhttps://t.co/fMGtxpuUsU\\n\\n$NANO #cryptocurrency'}, {'created_at': '2021-03-05T15:40:28.000Z', 'id': '1367862585173884934', 'text': \"@Ether_SolRac \\n\\nEvery moment has led to this 🌀 The finale of Marvel Studios' #WandaVision is now streaming on @DisneyPlus. #WandaVisionFinale https://t.co/ZzXlpk2JA3\"}, {'created_at': '2021-03-05T15:40:58.000Z', 'id': '1367862711439200258', 'text': 'Enter to win cryptocurrency prize package valued at more than $12,000\\nhttps://t.co/dTfI4dM1BE'}, {'created_at': '2021-03-05T15:43:33.000Z', 'id': '1367863359769559045', 'text': \"Here comes probably the most iconic #octanerender artwork.\\n\\n@planetzomax's 6088AD (sold for 60.88 ETH) was a one-up, but it was this work 52Hz that has put Cornelius on the map.\\n\\nSearch Twitter for it: https://t.co/N3UAC0wNV3\\n\\nIt is a piece of #3d history.\\n\\n#NFT #cryptoart @OTOY https://t.co/9FtAJuWYcl\"}, {'created_at': '2021-03-05T15:43:47.000Z', 'id': '1367863419181953024', 'text': 'Bitcoin million dollar price target ‘very reasonable,’ cryptocurrency exchange CEO says\\n\\nhttps://t.co/8aPWU4jnhM'}, {'created_at': '2021-03-05T15:43:53.000Z', 'id': '1367863443412369408', 'text': 'JUST IN: EIP 1559, one of the biggest changes to #Ethereum to date, will go live in July, core developers have decided.\\nReport by @wsfoxley\\nhttps://t.co/UfTQNdHMWv'}, {'created_at': '2021-03-05T15:45:10.000Z', 'id': '1367863769511174148', 'text': '.@dallasmavs to accept Dogecoin Cryptocurrency For Tickets And Merch: https://t.co/OUVbePI7y5 #sportstech'}, {'created_at': '2021-03-05T15:48:51.000Z', 'id': '1367864693331746820', 'text': 'If this goes well today, expect a flood of established/legacy artists to jump in with dull products to grab themselves some ETH.\\n(Also they are very much NOT the first band to do this.) https://t.co/2NLEOIwV9t'}, {'created_at': '2021-03-05T15:50:37.000Z', 'id': '1367865137005232128', 'text': '@SoloStrafe Hi Gopal! We like making things simple. That’s why we’re starting out by offering Bitcoin and Ethereum — two of the highest market cap and most popular tokens. We do plan to offer more in the future but no timelines we can share yet.\\n \\nhttps://t.co/BESDSXYnG0'}, {'created_at': '2021-03-05T15:50:55.000Z', 'id': '1367865216122449937', 'text': '“Our company have moved from Ethereum to Binance chain due to gas fees” \\n\\nHave fun staying centralised'}, {'created_at': '2021-03-05T15:51:13.000Z', 'id': '1367865290332192773', 'text': 'Our panellist Javier Pérez-Ramírez from ETH Zurich studies the science and engineering of heterogeneous catalysis to design sustainable and eco-efficient processes. @catalysis_eth #nanotechnology #NatureNanoTalks #catalyst https://t.co/0lyurW4XRF'}, {'created_at': '2021-03-05T15:58:24.000Z', 'id': '1367867096357502980', 'text': 'In doge in eth and way in bitcoin early https://t.co/LTozJpagUB'}, {'created_at': '2021-03-05T15:58:43.000Z', 'id': '1367867175764168710', 'text': 'WTF is an #NFT? Here’s a breakdown of the latest cryptocurrency craze.💰 https://t.co/n8lGFmgLN3'}, {'created_at': '2021-03-05T15:59:46.000Z', 'id': '1367867441745780737', 'text': 'cypto-art hurts the earth. a single Ethereum (ETH) transaction is estimated to have a carbon footprint on average of around 35 kWh. To put that into perspective, this is roughly equivalent to an EU resident’s electric power consumption for 4 days.'}, {'created_at': '2021-03-05T16:01:07.000Z', 'id': '1367867782902116353', 'text': '@OneMoreJourney_ Blake hello, \\nYou would add the cryptocurrency trades to the 1099-B sections of your return. You can follow the instructions here https://t.co/83mm5oA4Da your crypto trades. \\n\\n-Aaron'}, {'created_at': '2021-03-05T16:01:43.000Z', 'id': '1367867933519667205', 'text': 'A recent Internal Revenue Service FAQ about reporting cryptocurrency activity on tax forms has sowed confusion and frustration among tax professionals. https://t.co/d92Qu3UiBe'}, {'created_at': '2021-03-05T16:01:57.000Z', 'id': '1367867990889410568', 'text': 'Had a fascinating conversation w/@VitalikButerin on my podcast, about:\\n- Why prediction markets favor Trump\\n- Concave vs. convex thinking\\n- The case for life extension\\n- Why Vitalik tries to be an intellectually honest leader\\n...&amp; more. Audio + transcript: https://t.co/kEjTtyZwyR https://t.co/cWvudmkAYW'}, {'created_at': '2021-03-05T16:04:02.000Z', 'id': '1367868514581819396', 'text': '@onlygenerated @fluxresearch The first song was by @ScrillaVentura on bitcoin. I was the second and it was on Ethereum.'}, {'created_at': '2021-03-05T16:06:23.000Z', 'id': '1367869108285435907', 'text': '#NDTVTownhall | 2020 Nobel Prize Winner Prof Paul Milgrom shares his view on the cryptocurrency phenomenon https://t.co/ShwBLG4j3P'}, {'created_at': '2021-03-05T16:09:52.000Z', 'id': '1367869984395857923', 'text': '@juliagalef @VitalikButerin Anything about the negative environmental impact of crypto and how Eth plans to address that in the future?'}, {'created_at': '2021-03-05T16:13:48.000Z', 'id': '1367870971483463680', 'text': 'The project looks very different from when @gc previewed his big idea for a globe-spanning cryptocurrency with me a few years ago.\\n\\nNow @eco is a wallet that offers saving, spending, and rewards in one place with yields up to 5%. (Under the hood: crypto.) https://t.co/UaTwyEyBGg'}, {'created_at': '2021-03-05T16:15:34.000Z', 'id': '1367871419581890561', 'text': 'Want to #EndTheFed?\\n\\nPass laws on the state level to promote cryptocurrency freedom like @Tyler_Lindholm did as a state representative in Wyoming.'}, {'created_at': '2021-03-05T16:15:57.000Z', 'id': '1367871515983835144', 'text': \"Cryptocurrency trading exploded last month after Tesla's bitcoin buy https://t.co/1IxPqPJUyr https://t.co/UI9epixCjo\"}, {'created_at': '2021-03-05T16:16:26.000Z', 'id': '1367871636159008781', 'text': '🔷 EIP-1559 has officially been accepted into the London hard fork for #Ethereum, set to launch July 2021. $ETH https://t.co/PMu2fHGdSx'}]\n"
     ]
    }
   ],
   "source": [
    "tweets = list(reversed(collect_results(query, max_tweets=max_tweets, result_stream_args=search_args)))\n",
    "\n",
    "print(tweets)\n",
    "\n",
    "create_dates = []\n",
    "tweet_texts = []\n",
    "\n",
    "for tweet in tweets:\n",
    "    if 'text' not in tweet:\n",
    "        continue\n",
    "    tweet_text = tweet['text']\n",
    "    tweet_text = re.sub(pattern=\"@(\\w*)|(\\\\n)|(https:\\/\\/t\\.co[\\w\\/]*)\", string=tweet_text, repl=\"\")\n",
    "    tweet_texts.append(tweet_text.lower())\n",
    "    \n",
    "    utc_time = datetime.strptime(tweet['created_at'], \"%Y-%m-%dT%H:%M:%S.%fZ\")\n",
    "    epoch_time = (utc_time - datetime(1970, 1, 1)).total_seconds()\n",
    "    create_dates.append(epoch_time)"
   ]
  },
  {
   "cell_type": "code",
   "execution_count": 130,
   "metadata": {},
   "outputs": [
    {
     "name": "stdout",
     "output_type": "stream",
     "text": [
      "1614943685.0 - cryptocurrency trading volumes spike 17per cent in february - cryptocompare   - 0.8211239576339722\n",
      "1614943883.0 - #bitcoin below $47,000; crypto assets, stocks fall on bond yields scare  - 0.9060730934143066\n",
      "1614943925.0 - \"if #bitcoin ever becomes a viable currency instead of a trading vehicle, they can outlaw it. governments don't want to lose control. they like their monopoly,\" warned jim rogers. #btc #cryptocurrency  - 0.6595935821533203\n",
      "1614944051.0 -  question for you - do you know if the bitcoin ban was confirmed in the plan? or is that to be confirmed elsewhere?  - 0.3777156174182892\n",
      "1614944124.0 - thailand’s largest movie theater chain accepts bitcoin#thailandmovietheater #bitcoin #crypto #cryptocurrency - 0.9891500473022461\n"
     ]
    }
   ],
   "source": [
    "sentiment = sentiment_model.predict(tweet_texts).flatten()\n",
    "\n",
    "for i in range(5):\n",
    "    d = create_dates[i]\n",
    "    t = tweet_texts[i]\n",
    "    p = preds[i]\n",
    "    print(\"{} - {} - {}\".format(d,t,p))"
   ]
  },
  {
   "cell_type": "code",
   "execution_count": 131,
   "metadata": {},
   "outputs": [],
   "source": [
    "def simple_moving_avg(x, n):\n",
    "    cumsum = np.cumsum(np.insert(x, 0, 0))\n",
    "    return (cumsum[n:] - cumsum[:-n]) / float(n)"
   ]
  },
  {
   "cell_type": "code",
   "execution_count": 134,
   "metadata": {},
   "outputs": [
    {
     "data": {
      "image/png": "[encoded data removed]",
      "text/plain": [
       "<Figure size 432x288 with 1 Axes>"
      ]
     },
     "metadata": {
      "needs_background": "light"
     },
     "output_type": "display_data"
    }
   ],
   "source": [
    "n = 10\n",
    "sma = simple_moving_avg(sentiment, n)\n",
    "\n",
    "for i in range(n - 1):\n",
    "    sma = np.insert(sma, i, sentiment[i])\n",
    "\n",
    "plt.plot(create_dates, sma, label=\"simple moving average\")\n",
    "plt.plot(create_dates, sentiment, \"o\", label=\"predictions from sentiment analysis\")\n",
    "\n",
    "plt.title('Predictions and MA')\n",
    "plt.legend(loc='lower right')\n",
    "\n",
    "plt.show()"
   ]
  },
  {
   "cell_type": "code",
   "execution_count": null,
   "metadata": {},
   "outputs": [],
   "source": []
  }
 ],
 "metadata": {
  "kernelspec": {
   "display_name": "Python 3",
   "language": "python",
   "name": "python3"
  },
  "language_info": {
   "codemirror_mode": {
    "name": "ipython",
    "version": 3
   },
   "file_extension": ".py",
   "mimetype": "text/x-python",
   "name": "python",
   "nbconvert_exporter": "python",
   "pygments_lexer": "ipython3",
   "version": "3.7.3"
  }
 },
 "nbformat": 4,
 "nbformat_minor": 2
}
