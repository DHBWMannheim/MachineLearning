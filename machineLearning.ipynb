{
 "cells": [
  {
   "cell_type": "markdown",
   "metadata": {},
   "source": [
    "# Machine Learning\n",
    "\n",
    "Dieses Notebook beinhaltet die Prüfungsleistung für Machine Learning bei Frau Minges. Es wurde erstellt von Patrick Mischka, Jan Grübener, Matthias Vonend, Aaron Schweig, Michael Angermeier und Troy Keßler.\n",
    "\n",
    "## Inhalt\n",
    "\n",
    "Ziel ist hier mithilfe von Machine Learning eine Trading Recommendation für Ethereum zu entwickeln. Diese soll aus zwei Teilen bestehen, einmal aus einer technischen Analyse, wo ein LSTM Modell mithilfe historischen Preise und Indikatoren entwickelt und trainiert wird, und einmal aus einer Stimmunsanalyse auf Twitter, wofür ein weiteres Deep Neural Network entwickelt und trainiert wird. Letztendlich sollen die Ergebnisse dieser Modelle Entscheidungshilfen sein, um Ethereum zu handeln.\n",
    "\n",
    "### 1. Sentimentmodell\n",
    "\n",
    "Im ersten Teil wird ein Sentimentmodell entwickelt und trainiert, das Ziel ist hier ein Modell zu entwickelt, welches Tweets auf ihre Stimmung bewerten kann.\n",
    "\n",
    "### 2. Technisches Modell\n",
    "\n",
    "Im zweiten Teil wird ein technisches Modell entwickelt und trainiert, das Ziel ist hier basierend auf historischen Preisen und anderen technischen Indikatoren den zukünftigen Preis für die nächsten 30 Tage vorherzusagen.\n",
    "\n",
    "### 3. Ausführung\n",
    "\n",
    "Im dritten und letzten Teil werden die Modelle an APIs angeschlossen, sodass die Entscheidungshilfen live ausgeführt werden können.\n",
    "\n",
    "## Technologien\n",
    "\n",
    "Für das Modell wird [Tensorflow](https://www.tensorflow.org/) verwendet, zum plotten von Informationen nutzen wir [Matplotlib](https://matplotlib.org/stable/index.html) und zum verarbeiten von Daten [Pandas](https://pandas.pydata.org/). Weiterhin werden weitere utilities von [sklearn](https://scikit-learn.org/stable/) übernommen.\n",
    "\n",
    "## Setup\n",
    "\n",
    "Um dieses Notebook zu benutzen müssen Python 3.x und folgende Packages installiert werden:\n",
    "\n",
    "* tensorflow\n",
    "* matplotlib\n",
    "* pandas\n",
    "* sklearn\n",
    "\n",
    "Das Datenset fürs trainieren kann über [diesen Link](https://www.dropbox.com/s/ur7pw797mgcc1wr/tweets.csv?dl=0) heruntergeladen werden. Dabei muss die Datei \"tweets.csv\" in diesen Ordner abgelegt werden.\n"
   ]
  },
  {
   "cell_type": "markdown",
   "metadata": {},
   "source": [
    "## 1. Sentimentmodell\n",
    "\n",
    "In diesem Notebook wird ein Modell trainiert, welches Tweets live auf ihre Stimmung bewerten soll. Dafür wird ein Deep Neural Network erstellt, welches mit 1.6 Millionen Tweets trainiert wird. Hierbei handelt es sich um ein Klassifikationsproblem, es soll letztendlich entschieden werden, ob ein Tweet negativ (0), oder positiv (1) gestimmt ist.\n",
    "\n",
    "### Datenset\n",
    "\n",
    "Um nun das Modell möglichst gut darauf zu trainieren reale Tweets zu bewerten haben wir uns für ein Datenset entschieden, welches 1.6 Millionen bereits gelabelte Tweets enthält, dieses kann [hier](https://www.kaggle.com/kazanova/sentiment140) gefunden werden"
   ]
  },
  {
   "cell_type": "code",
   "execution_count": 1,
   "metadata": {},
   "outputs": [],
   "source": [
    "import matplotlib.pyplot as plt\n",
    "import os\n",
    "import re\n",
    "import shutil\n",
    "import string\n",
    "import tensorflow as tf\n",
    "import pandas as pd\n",
    "\n",
    "from tensorflow.keras import layers\n",
    "from tensorflow.keras import losses\n",
    "from tensorflow.keras import preprocessing\n",
    "from tensorflow.keras.layers.experimental.preprocessing import TextVectorization\n",
    "from sklearn.model_selection import train_test_split\n",
    "from sklearn.utils import shuffle\n",
    "from tensorflow import feature_column"
   ]
  },
  {
   "cell_type": "markdown",
   "metadata": {},
   "source": [
    "### Laden des Datensets\n",
    "\n",
    "Mithilfe von pandas wird das Datenset geladen, dabei werden nur die erste und die letzte Spalte geladen, da nur diese für uns von Interesse sind. Da es sich bei der ersten Spalte um die Stimmung des Tweets handelt wird diese mit \"targets\" gelabelt, die letzte Spalte beihaltet den eigentlichen Tweet, diese wird mit \"text\" gelabelt."
   ]
  },
  {
   "cell_type": "code",
   "execution_count": 2,
   "metadata": {},
   "outputs": [],
   "source": [
    "dataframe = pd.read_csv(\"./tweets.csv\", usecols=[0, 5], names=[\"target\", \"text\"])"
   ]
  },
  {
   "cell_type": "markdown",
   "metadata": {},
   "source": [
    "Da das Datenset sortiert ist muss es randomisiert werden. Falls dies nicht gemacht werden würde, hätte dies einen negativen Einfluss auf das Lernen, da alle Daten die zuerst reinkommen negativ gelabelt sind. Somit würde das Modell denken, alles wäre negativ und würde sich entsprechend darauf einstellen, kommen dann letztendlich alle positiven Daten würde das Modell denken es gäbe nur positive Daten und würde letztendlich bei richtigen Daten immer eine positive Stimmung predicten, was nicht der Realtität entsprechen würde."
   ]
  },
  {
   "cell_type": "code",
   "execution_count": 3,
   "metadata": {},
   "outputs": [],
   "source": [
    "dataframe = shuffle(dataframe)"
   ]
  },
  {
   "cell_type": "markdown",
   "metadata": {},
   "source": [
    "Zum validieren, dass das Datenset auch korrekt geladen wurde, es sollte eine Tabelle mit den ersten fünf Einträgen zu sehen sein"
   ]
  },
  {
   "cell_type": "code",
   "execution_count": 4,
   "metadata": {},
   "outputs": [
    {
     "data": {
      "text/html": [
       "<div>\n",
       "<style scoped>\n",
       "    .dataframe tbody tr th:only-of-type {\n",
       "        vertical-align: middle;\n",
       "    }\n",
       "\n",
       "    .dataframe tbody tr th {\n",
       "        vertical-align: top;\n",
       "    }\n",
       "\n",
       "    .dataframe thead th {\n",
       "        text-align: right;\n",
       "    }\n",
       "</style>\n",
       "<table border=\"1\" class=\"dataframe\">\n",
       "  <thead>\n",
       "    <tr style=\"text-align: right;\">\n",
       "      <th></th>\n",
       "      <th>target</th>\n",
       "      <th>text</th>\n",
       "    </tr>\n",
       "  </thead>\n",
       "  <tbody>\n",
       "    <tr>\n",
       "      <th>1393055</th>\n",
       "      <td>4</td>\n",
       "      <td>@vnesnz link link clickidy click click xx (via...</td>\n",
       "    </tr>\n",
       "    <tr>\n",
       "      <th>73173</th>\n",
       "      <td>0</td>\n",
       "      <td>Uuuugh. Just got to hotel and have to get up i...</td>\n",
       "    </tr>\n",
       "    <tr>\n",
       "      <th>1325450</th>\n",
       "      <td>4</td>\n",
       "      <td>Sure, rub in the fact that you have made it to...</td>\n",
       "    </tr>\n",
       "    <tr>\n",
       "      <th>334535</th>\n",
       "      <td>0</td>\n",
       "      <td>I seriously can't wait until i move out. Whene...</td>\n",
       "    </tr>\n",
       "    <tr>\n",
       "      <th>1538908</th>\n",
       "      <td>4</td>\n",
       "      <td>@pelagiapais Enjoy your evening  X</td>\n",
       "    </tr>\n",
       "  </tbody>\n",
       "</table>\n",
       "</div>"
      ],
      "text/plain": [
       "         target                                               text\n",
       "1393055       4  @vnesnz link link clickidy click click xx (via...\n",
       "73173         0  Uuuugh. Just got to hotel and have to get up i...\n",
       "1325450       4  Sure, rub in the fact that you have made it to...\n",
       "334535        0  I seriously can't wait until i move out. Whene...\n",
       "1538908       4                 @pelagiapais Enjoy your evening  X"
      ]
     },
     "execution_count": 4,
     "metadata": {},
     "output_type": "execute_result"
    }
   ],
   "source": [
    "dataframe.head()"
   ]
  },
  {
   "cell_type": "markdown",
   "metadata": {},
   "source": [
    "Um das trainieren des Modells zu überwachen und um die Accuracy des Modells hinterher zu errechnen wird das Datenset in drei Teile unterteilt. In einem Verhältnis von 80:20 wird das Datenset in Trainingsdaten und Testdaten unterteilt. Trainingsdaten dienen hier ausschließlich zum trainieren des Modells, Testdaten werden nach dem Trainieren dazu verwendet, um die Accuracy des Modells zu errechnen, diese sollen reale Daten simulieren. Der Grund, warum das Verhältnis stark auf der Seite der Trainingsdaten liegt, ist, weil mehr Trainingsdaten ein besseres Ergebnis versprechen, dabei muss die Anzahl der Daten bei den Testdaten nicht hoch sein, um die Accuracy zu bestimmen.\n",
    "\n",
    "Weiterhin werden die Trainingsdaten wiederum in Trainingsdaten und Validationsdaten mit einem Verhältnis von 80:20 unterteilt. Die Validationsdaten werden dazu verwendet um das Training zu überwachen, nach jedem Epoch (Trainingsschritt) wird damit die aktuelle Accuracy bestimmt."
   ]
  },
  {
   "cell_type": "code",
   "execution_count": 5,
   "metadata": {},
   "outputs": [
    {
     "name": "stdout",
     "output_type": "stream",
     "text": [
      "1024000 training tweets\n",
      "256000 validation tweets\n",
      "320000 test tweets\n"
     ]
    }
   ],
   "source": [
    "train, test = train_test_split(dataframe, test_size=0.2)\n",
    "train, val = train_test_split(train, test_size=0.2)\n",
    "\n",
    "print(len(train), 'training tweets')\n",
    "print(len(val), 'validation tweets')\n",
    "print(len(test), 'test tweets')"
   ]
  },
  {
   "cell_type": "markdown",
   "metadata": {},
   "source": [
    "Da jetzt das Datenset entsprechend aufgeteilt wurde kann es nun in das verlangte Tensorflowformat gebracht werden. Dafür werden die Features (text) und die Labels (labels) klar definiert. Zusätzlich wird eine Batchsize definiert, welche Daten gruppiert um das Lernen zu beschleunigen."
   ]
  },
  {
   "cell_type": "code",
   "execution_count": 6,
   "metadata": {},
   "outputs": [],
   "source": [
    "def df_to_dataset(dataframe, batch_size):\n",
    "  dataframe = dataframe.copy()\n",
    "  texts = dataframe.pop('text')\n",
    "  labels = dataframe.pop('target')\n",
    "  return tf.data.Dataset.from_tensor_slices((texts, labels)).batch(batch_size)"
   ]
  },
  {
   "cell_type": "code",
   "execution_count": 7,
   "metadata": {},
   "outputs": [],
   "source": [
    "batch_size = 320\n",
    "\n",
    "raw_train_ds = df_to_dataset(train, batch_size)\n",
    "raw_val_ds = df_to_dataset(val, batch_size)\n",
    "raw_test_ds = df_to_dataset(test, batch_size)"
   ]
  },
  {
   "cell_type": "markdown",
   "metadata": {},
   "source": [
    "Um zu validieren, dass die Konvertierung geklappt hat werden die ersten drei Einträge ausgelesen"
   ]
  },
  {
   "cell_type": "code",
   "execution_count": 8,
   "metadata": {},
   "outputs": [
    {
     "name": "stdout",
     "output_type": "stream",
     "text": [
      "Tweet: b\"@britkoz sorry I'm not gone b able to make it  I'm having a &quot;KickBack&quot; at my spot tonite.yo ppl stopping through.. so ill give u a present\"\n",
      "Label: 0\n",
      "Tweet: b'@souleyedee the first weekend we might be able to go to the beach and ur leaving me  *sigh* I must be hardcore w/out u'\n",
      "Label: 0\n",
      "Tweet: b'Hi new followers '\n",
      "Label: 4\n"
     ]
    }
   ],
   "source": [
    "for text_batch, label_batch in raw_train_ds.take(1):\n",
    "  for i in range(3):\n",
    "    print(\"Tweet:\", text_batch.numpy()[i])\n",
    "    print(\"Label:\", label_batch.numpy()[i])"
   ]
  },
  {
   "cell_type": "markdown",
   "metadata": {},
   "source": [
    "Hier werden die Daten für das Modell normalisiert. Dies ist wichtig um unnötige Duplikate zu vermeiden, wie z.B. Wörter, die in manchen Tweets groß und in anderen wieder klein geschrieben werden. Zusätzlich können Usernames, welche mit \"@\" beginnen normalisiert werden, da der genaue username unwichtig für die sentiment prediction ist."
   ]
  },
  {
   "cell_type": "code",
   "execution_count": 9,
   "metadata": {},
   "outputs": [],
   "source": [
    "def normalize_data(input_data):\n",
    "  lowercase = tf.strings.lower(input_data)\n",
    "  return tf.strings.regex_replace(lowercase, '@(\\w*)|(\\\\n)|(https:\\/\\/t\\.co[\\w\\/]*)', '')"
   ]
  },
  {
   "cell_type": "markdown",
   "metadata": {},
   "source": [
    "Nun können die Texte vektorisiert werden. Da ein neuronales Netz nicht mir Wörtern und Buchstaben arbeiten kann, müssen diese in Zahlen umgewandelt werden. Dafür werden die Tweets in Vektoren umgewandelt. Die Größe des Vektors wird dabei mit sequence_length definiert. Die Größe der sequence_length, also letztendlich die Größe des Vektors sollte in der Regel so groß sein, dass alle Wörter eines Tweets hereinpassen. Da die Anzahl an Zeichen auf 280 pro Tweet limitiert ist, und die durschnittliche Anzahl der Zeichen pro Wort im Englischen bei 5 liegt wird die sequence_length mit 56 definiert.\n",
    "\n",
    "Hier erhält jedes Wort eine fortlaufende Id, die Reihenfolge wird darüber bestimmt, welche Wörter zuerst vektorisiert werden. Dabei können aufgrund max_features maximal 10000 Wörter eingelesen werden, alle weiteren werden ignoriert, diese Menge an Vokabeln sollte aber ausreichen, da in der Alltagssprache lediglich zwei bis drei tausend Wörter verwendet werden. Somit kann jedes Wort zu einer Id gemappt werden, sodass man letztendlich ganze Sätze in einem Vektor abbilden kann. Damit lösen wir auch das Problem, dass ein neuronales Netz immer die gleiche Inputgröße benötigt, da die Vektorengröße immer der sequence_length enstpricht.\n",
    "\n",
    "Dafür wird hier ein Vektorlayer erstellt. Gleichzeitig können hier die Daten normalisiert werden."
   ]
  },
  {
   "cell_type": "code",
   "execution_count": 10,
   "metadata": {},
   "outputs": [],
   "source": [
    "max_features = 10000\n",
    "sequence_length = 56\n",
    "\n",
    "vectorize_layer = TextVectorization(\n",
    "    standardize=normalize_data,\n",
    "    max_tokens=max_features,\n",
    "    output_mode='int',\n",
    "    output_sequence_length=sequence_length)"
   ]
  },
  {
   "cell_type": "markdown",
   "metadata": {},
   "source": [
    "Hier werden die Trainingsdaten eingelesen, sodass die 10000 features gefüllt werden können, somit haben wir für die Tweets ein eigenes \"Wörterbuch\""
   ]
  },
  {
   "cell_type": "code",
   "execution_count": 11,
   "metadata": {},
   "outputs": [],
   "source": [
    "train_text = raw_train_ds.map(lambda x, y: x)\n",
    "vectorize_layer.adapt(train_text)"
   ]
  },
  {
   "cell_type": "markdown",
   "metadata": {},
   "source": [
    "Mit der Methode können wir gleich alle Datensets vektorisieren. Hier normalisieren wir noch das Label, sodass das Label eine Range von 0 bis 1, anstatt von 0 bis 4 hat. "
   ]
  },
  {
   "cell_type": "code",
   "execution_count": 12,
   "metadata": {},
   "outputs": [],
   "source": [
    "def vectorize_text(text, label):\n",
    "  text = tf.expand_dims(text, -1)\n",
    "  return vectorize_layer(text), int(label / 4)"
   ]
  },
  {
   "cell_type": "markdown",
   "metadata": {},
   "source": [
    "Um zu testen, ob das vektorisieren der Tweets funktioniert können wir den ersten Tweet aus dem ersten Batch auslesen und vektorisieren."
   ]
  },
  {
   "cell_type": "code",
   "execution_count": 13,
   "metadata": {},
   "outputs": [
    {
     "name": "stdout",
     "output_type": "stream",
     "text": [
      "tf.Tensor(b\"@britkoz sorry I'm not gone b able to make it  I'm having a &quot;KickBack&quot; at my spot tonite.yo ppl stopping through.. so ill give u a present\", shape=(), dtype=string)\n",
      "tf.Tensor(0, shape=(), dtype=int64)\n",
      "(<tf.Tensor: shape=(1, 56), dtype=int64, numpy=\n",
      "array([[ 130,   19,   25,  384,  547,  432,    3,  111,   12,   19,  160,\n",
      "           5,    1,   24,    6, 1921,    1,  688, 4303,    1,   15,  395,\n",
      "         294,   55,    5, 2129,    0,    0,    0,    0,    0,    0,    0,\n",
      "           0,    0,    0,    0,    0,    0,    0,    0,    0,    0,    0,\n",
      "           0,    0,    0,    0,    0,    0,    0,    0,    0,    0,    0,\n",
      "           0]])>, 0)\n"
     ]
    }
   ],
   "source": [
    "text_batch, label_batch = next(iter(raw_train_ds))\n",
    "text, label = text_batch[0], label_batch[0]\n",
    "print(text)\n",
    "print(label)\n",
    "print(vectorize_text(text, label))"
   ]
  },
  {
   "cell_type": "markdown",
   "metadata": {},
   "source": [
    "Mithilfe des Vektorlayers können wir die Ids wieder zu Wörtern zurückmappen, außerdem können wir die Größe unseres Wörterbuchs auslesen"
   ]
  },
  {
   "cell_type": "code",
   "execution_count": 14,
   "metadata": {},
   "outputs": [
    {
     "name": "stdout",
     "output_type": "stream",
     "text": [
      "1234 --->  drop\n",
      "Vocabulary size: 10000\n"
     ]
    }
   ],
   "source": [
    "print(\"1234 ---> \", vectorize_layer.get_vocabulary()[1234])\n",
    "print('Vocabulary size: {}'.format(len(vectorize_layer.get_vocabulary())))"
   ]
  },
  {
   "cell_type": "markdown",
   "metadata": {},
   "source": [
    "Nun vektorisieren wir alle benötigten Datensets"
   ]
  },
  {
   "cell_type": "code",
   "execution_count": 15,
   "metadata": {},
   "outputs": [],
   "source": [
    "train_ds = raw_train_ds.map(vectorize_text)\n",
    "val_ds = raw_val_ds.map(vectorize_text)\n",
    "test_ds = raw_test_ds.map(vectorize_text)"
   ]
  },
  {
   "cell_type": "markdown",
   "metadata": {},
   "source": [
    "Aus Performancegründen können die Datensets weiter aufbereitet werden. Mit `.cache()` bleiben die Daten im Arbeitsspeicher, nachdem diese von der Festplatte geladen wurden. Somit kann sichergestellt werden, dass das Laden der Daten nicht das Bottleneck beim Training sein wird.\n",
    "\n",
    "Mit `.prefetch()` können die Daten gleichzeitig mit dem Lernen präprozessiert werden."
   ]
  },
  {
   "cell_type": "code",
   "execution_count": 16,
   "metadata": {},
   "outputs": [],
   "source": [
    "AUTOTUNE = tf.data.AUTOTUNE\n",
    "\n",
    "train_ds = train_ds.cache().prefetch(buffer_size=AUTOTUNE)\n",
    "val_ds = val_ds.cache().prefetch(buffer_size=AUTOTUNE)\n",
    "test_ds = test_ds.cache().prefetch(buffer_size=AUTOTUNE)"
   ]
  },
  {
   "cell_type": "markdown",
   "metadata": {},
   "source": [
    "Schließlich definieren wir das eigentliche Modell. Die erste Layer ist ein Embedding-Layer. Dies sorgt dafür, dass jedes Wort wiederum einen eigenen Vektor erhält, dieser stellt die Bedeutung des Wortes dar. Diese Vektoren werden mit dem Modell mit der Zeit trainiert. Diese Embeddinglayer fügt eine weitere Dimension zum Outputvektor hinzu. Hier definieren wir mit der embedding_dim die Größe der Layers, das bedeutet, dass es 32 Nodes pro Layer gibt.\n",
    "\n",
    "Für die nächste Layer wird `GlobalAveragePooling1D` verwendet. Diese reduziert die Dimension wieder um 1 und verrechnet dabei alle Informationen, sodass nichts verloren geht. Der Outputvektor wird dabei wieder auf eine feste Länge normalisiert.\n",
    "\n",
    "Anschließend folgt ein fully-connected 32 Dense-Layer. Hier wurde eine Dropoutrate festgelegt, um Overfitting zu verhindern. Das Ziel hier ist random ausgewählte Nodes auf 0 zu setzen, damit das anspassen der Weights der einzelnen Nodes beim lernen gefördert wird.\n",
    "\n",
    "Letztendlich wird das letzte Layer mit einem Dense Layer zu einer einzigen Node verknüpft. Diese hat eine Range von 0 bis 1 und gibt das Ergenis aus.\n",
    "\n",
    "Wir können nun noch mit `.summary()` das Modell verifizieren."
   ]
  },
  {
   "cell_type": "code",
   "execution_count": 17,
   "metadata": {},
   "outputs": [
    {
     "name": "stdout",
     "output_type": "stream",
     "text": [
      "Model: \"sequential\"\n",
      "_________________________________________________________________\n",
      "Layer (type)                 Output Shape              Param #   \n",
      "=================================================================\n",
      "embedding (Embedding)        (None, None, 32)          320032    \n",
      "_________________________________________________________________\n",
      "global_average_pooling1d (Gl (None, 32)                0         \n",
      "_________________________________________________________________\n",
      "dropout (Dropout)            (None, 32)                0         \n",
      "_________________________________________________________________\n",
      "dense (Dense)                (None, 1)                 33        \n",
      "=================================================================\n",
      "Total params: 320,065\n",
      "Trainable params: 320,065\n",
      "Non-trainable params: 0\n",
      "_________________________________________________________________\n"
     ]
    }
   ],
   "source": [
    "embedding_dim = 32\n",
    "\n",
    "model = tf.keras.Sequential([\n",
    "  layers.Embedding(max_features + 1, embedding_dim),\n",
    "  layers.GlobalAveragePooling1D(),\n",
    "  layers.Dropout(0.2),\n",
    "  layers.Dense(1)\n",
    "])\n",
    "\n",
    "model.summary()"
   ]
  },
  {
   "cell_type": "markdown",
   "metadata": {},
   "source": [
    "Für das Trainieren müssen noch ein paar Parameter definiert werden. Für die Berechnung des Fehlers (loss) verwenden wir die `BinaryCrossentropy` Funktion. Der Fehler gibt uns an, wie weit wir von der richtigen Prediction weg sind. Wir haben uns dafür entschieden, da wir einen sogenannten Binary Classifier haben, der uns eine Wahrscheinlichkeit von 0 bis 1 als Ergebnis gibt. Dabei arbeiten wir mit Logits, sodass die Labels als sogennante Logits betrachtet werden, diese Darstellung als Wahrscheinlichkeit verspricht laut Tensorflow größere numerische Stabilität.\n",
    "\n",
    "Weiterhin verwenden wir für den Optimierungsalgorithmus den `Adam-Optimizer`. Wir haben uns für den Adam-Optimizer, im Gegensatz zum klassischen Stochastic Gradient Descent Algorithmus entschieden, da sich die Learningrate beim Adam-Optimizer mit der Zeit automatisch anpasst. Das ist besonders praktisch bei Natural Language Processing, da hier die Gradients in der Regel sehr gering sind. Dabei wird die Learningrate basierend auf der vorherigen Änderung der Weights angepasst. Hier haben wir eine sehr kleine Learningrate definiert, da wir ein sehr großes Datenset haben und nicht zu schnell in das Problem von Overfitting laufen wollen, weshalb langsameres lernen, also ein langsameres Anpassen der Weights, hier passender ist."
   ]
  },
  {
   "cell_type": "code",
   "execution_count": 18,
   "metadata": {},
   "outputs": [],
   "source": [
    "model.compile(loss=losses.BinaryCrossentropy(from_logits=True),\n",
    "              optimizer=tf.keras.optimizers.Adam(learning_rate=0.0001),\n",
    "              metrics=tf.metrics.BinaryAccuracy(threshold=0.0))"
   ]
  },
  {
   "cell_type": "markdown",
   "metadata": {},
   "source": [
    "Nun wird endlich das Modell trainiert. Dafür definieren wir mit epochs, wie oft wir über das Trainingsdatenset iterieren. Es werden in `model.fit()` die Trainingsdaten, die Validationsdaten und die Anzahl der Epochen angegeben. Tensorflow loggt den Fortschritt live in der Konsole aus, zusätzlich wird der Trainingsstatus in einem History-Objekt festgehalten."
   ]
  },
  {
   "cell_type": "code",
   "execution_count": 19,
   "metadata": {},
   "outputs": [
    {
     "name": "stdout",
     "output_type": "stream",
     "text": [
      "Epoch 1/10\n",
      "3200/3200 [==============================] - 10s 3ms/step - loss: 0.6863 - binary_accuracy: 0.5963 - val_loss: 0.6528 - val_binary_accuracy: 0.6864\n",
      "Epoch 2/10\n",
      "3200/3200 [==============================] - 8s 2ms/step - loss: 0.6393 - binary_accuracy: 0.6962 - val_loss: 0.6000 - val_binary_accuracy: 0.7175\n",
      "Epoch 3/10\n",
      "3200/3200 [==============================] - 8s 2ms/step - loss: 0.5902 - binary_accuracy: 0.7243 - val_loss: 0.5610 - val_binary_accuracy: 0.7406\n",
      "Epoch 4/10\n",
      "3200/3200 [==============================] - 8s 2ms/step - loss: 0.5544 - binary_accuracy: 0.7454 - val_loss: 0.5328 - val_binary_accuracy: 0.7560\n",
      "Epoch 5/10\n",
      "3200/3200 [==============================] - 8s 3ms/step - loss: 0.5285 - binary_accuracy: 0.7593 - val_loss: 0.5131 - val_binary_accuracy: 0.7665\n",
      "Epoch 6/10\n",
      "3200/3200 [==============================] - 8s 2ms/step - loss: 0.5106 - binary_accuracy: 0.7683 - val_loss: 0.4998 - val_binary_accuracy: 0.7732\n",
      "Epoch 7/10\n",
      "3200/3200 [==============================] - 8s 2ms/step - loss: 0.4983 - binary_accuracy: 0.7742 - val_loss: 0.4908 - val_binary_accuracy: 0.7777\n",
      "Epoch 8/10\n",
      "3200/3200 [==============================] - 8s 3ms/step - loss: 0.4899 - binary_accuracy: 0.7786 - val_loss: 0.4846 - val_binary_accuracy: 0.7807\n",
      "Epoch 9/10\n",
      "3200/3200 [==============================] - 8s 2ms/step - loss: 0.4841 - binary_accuracy: 0.7823 - val_loss: 0.4803 - val_binary_accuracy: 0.7833\n",
      "Epoch 10/10\n",
      "3200/3200 [==============================] - 8s 2ms/step - loss: 0.4800 - binary_accuracy: 0.7846 - val_loss: 0.4772 - val_binary_accuracy: 0.7855\n"
     ]
    }
   ],
   "source": [
    "epochs = 10\n",
    "history = model.fit(\n",
    "    train_ds,\n",
    "    validation_data=val_ds,\n",
    "    epochs=epochs)"
   ]
  },
  {
   "cell_type": "markdown",
   "metadata": {},
   "source": [
    "Nachdem das Modell nur trainiert ist können wir es mit den vorher festgelegten Testdatensatz testen. Diese sollen wie bereits erwähnt echte Daten simulieren. Dabei erhalten wir mit `model.evaluate()` den Loss und die Accuracy, welche bei rund 80% liegt"
   ]
  },
  {
   "cell_type": "code",
   "execution_count": 20,
   "metadata": {},
   "outputs": [
    {
     "name": "stdout",
     "output_type": "stream",
     "text": [
      "1000/1000 [==============================] - 2s 2ms/step - loss: 0.4797 - binary_accuracy: 0.7836\n",
      "Loss:  0.47970443964004517\n",
      "Accuracy:  0.7836499810218811\n"
     ]
    }
   ],
   "source": [
    "loss, accuracy = model.evaluate(test_ds)\n",
    "\n",
    "print(\"Loss: \", loss)\n",
    "print(\"Accuracy: \", accuracy)"
   ]
  },
  {
   "cell_type": "markdown",
   "metadata": {},
   "source": [
    "In dem History-Objekt können wir nun sehen, welche Daten Tensorflow für uns aufgezeichnet hat"
   ]
  },
  {
   "cell_type": "code",
   "execution_count": 21,
   "metadata": {},
   "outputs": [
    {
     "data": {
      "text/plain": [
       "dict_keys(['loss', 'binary_accuracy', 'val_loss', 'val_binary_accuracy'])"
      ]
     },
     "execution_count": 21,
     "metadata": {},
     "output_type": "execute_result"
    }
   ],
   "source": [
    "history_dict = history.history\n",
    "history_dict.keys()"
   ]
  },
  {
   "cell_type": "markdown",
   "metadata": {},
   "source": [
    "Mithilfe von Matplotlib können wir den Loss plotten und beobachten, wie diese sich beim lernen verhalten hat. Optimalerweise sollte diese mit der Zeit runtergehen, da mit dem Anpassen der Weights das Modell immer genauere Aussagen treffen sollte und somit der Fehler immer geringer wird.\n",
    "\n",
    "Wir können erkennen, dass dies tatsächlich der Fall ist, dabei fällt der Loss fast exponentiell. Logischerweise wird der Trainingsloss immer geringer, als Bestätigung für die Verbesserung des Modells dient hier die Validationloss. Diese ist fast gleich, sodass wir davon ausgehen können, dass die Anzahl der Fehlinterpretierungen tatsächlich geringer wurde."
   ]
  },
  {
   "cell_type": "code",
   "execution_count": 22,
   "metadata": {},
   "outputs": [
    {
     "data": {
      "image/png": "[encoded data removed]",
      "text/plain": [
       "<Figure size 432x288 with 1 Axes>"
      ]
     },
     "metadata": {
      "needs_background": "light"
     },
     "output_type": "display_data"
    }
   ],
   "source": [
    "loss = history_dict['loss']\n",
    "val_loss = history_dict['val_loss']\n",
    "\n",
    "epochs = range(1, len(loss) + 1)\n",
    "\n",
    "# \"bo\" is for \"blue dot\"\n",
    "plt.plot(epochs, loss, 'o', color='orange', label='Training Loss')\n",
    "# b is for \"solid blue line\"\n",
    "plt.plot(epochs, val_loss, 'blue', label='Validation Loss')\n",
    "plt.title('Trainings- und Validationsloss')\n",
    "plt.xlabel('Epochen')\n",
    "plt.ylabel('Loss')\n",
    "plt.legend()\n",
    "\n",
    "plt.show()"
   ]
  },
  {
   "cell_type": "markdown",
   "metadata": {},
   "source": [
    "Das gleiche können wir auch für die Accuracy machen. Hier sollte im Optimalfall die Accuracy mit der Zeit steigen. Dieses Verhalten können wir wieder an unserem Modell erkennen. Hier erinnert der Graph an eine Sättigungskurve. Das liegt daran, dass es mit der Zeit immer schwerer wird das Modell noch mehr zu verbessern, da das Lernen letztendlich eine Optimierung ist, dessen Verbesserung im späteren Verlauf nur mit höheren Aufwänden zu erreichen ist.\n",
    "\n",
    "An beiden Graphiken kann man jedoch gut erkennen, dass es zu keinem Overfitting kommt. Wenn wir die Accuracy betrachten, würde bei Overfitting die Accuracy der Testdaten weiter Ansteigen, während die Accuracy der Validationsdaten und die der Testdaten stagniert oder gar heruntergeht. Das gleiche würde analog mit dem Loss passieren."
   ]
  },
  {
   "cell_type": "code",
   "execution_count": 23,
   "metadata": {},
   "outputs": [
    {
     "data": {
      "image/png": "[encoded data removed]",
      "text/plain": [
       "<Figure size 432x288 with 1 Axes>"
      ]
     },
     "metadata": {
      "needs_background": "light"
     },
     "output_type": "display_data"
    }
   ],
   "source": [
    "acc = history_dict['binary_accuracy']\n",
    "val_acc = history_dict['val_binary_accuracy']\n",
    "\n",
    "plt.plot(epochs, acc, 'o', color='orange', label='Training Accuracy')\n",
    "plt.plot(epochs, val_acc, 'blue', label='Validation Accuracy')\n",
    "plt.title('Trainings- und Validationsaccuracy')\n",
    "plt.xlabel('Epochen')\n",
    "plt.ylabel('Accuracy')\n",
    "plt.legend(loc='lower right')\n",
    "\n",
    "plt.show()"
   ]
  },
  {
   "cell_type": "markdown",
   "metadata": {},
   "source": [
    "Nun exportieren wir das fertige Modell. Da wir vorher die Texte vektorisiert haben, bevor sie in das Modell gegeben wurden, können wir hier ein Modell exportieren, welche die Texte beim Input vektorisiert. Dies macht uns jetzt das zukünftige Predicten einfacher. Zusätzlich fügen wir am Ende eine weitere Node mit einer Sigmoid Aktivierungsfunktion hinzu. Diese mappt uns alle Werte zwischen 0 und 1, sodass unsere definiert Sentiment Range eingehalten wird. Die Vektorisationlayer und die Sigmoid Node wurden beim lernen weggelassen, um die Effizienz zu erhöhen."
   ]
  },
  {
   "cell_type": "code",
   "execution_count": 24,
   "metadata": {},
   "outputs": [],
   "source": [
    "sentiment_model = tf.keras.Sequential([\n",
    "  vectorize_layer,\n",
    "  model,\n",
    "  layers.Activation('sigmoid')\n",
    "])"
   ]
  },
  {
   "cell_type": "markdown",
   "metadata": {},
   "source": [
    "Schließlich können wir ein paar Beispiele eingeben um zu sehen, was das Modell denkt. Dabei ist der erste Satz positiv, der zweite neutral und der letzte negativ. Anhand der Ergebnisse können wir sehen, dass das Modell ähnlich darüber denkt. Während der neutrale Satz mit rund 0.5 gewertet wird, wird der positive höher gewertet und der negative geringer."
   ]
  },
  {
   "cell_type": "code",
   "execution_count": 25,
   "metadata": {},
   "outputs": [
    {
     "data": {
      "text/plain": [
       "array([[0.8503943 ],\n",
       "       [0.5244132 ],\n",
       "       [0.41561007]], dtype=float32)"
      ]
     },
     "execution_count": 25,
     "metadata": {},
     "output_type": "execute_result"
    }
   ],
   "source": [
    "examples = [\n",
    "  \"Today is a great day!\",\n",
    "  \"This sentence is rather neutral\",\n",
    "  \"This show is terrible!\"\n",
    "]\n",
    "\n",
    "sentiment_model.predict(examples)"
   ]
  },
  {
   "cell_type": "markdown",
   "metadata": {},
   "source": [
    "## 2. Technisches Modell\n",
    "\n",
    "Bei dem zweiten Modell soll mithilfe von Finanzdaten eine Progrose erstellt werden, wie der Kursverlauf in den nächsten 30 Tagen sein wird. Für diese Progrose wird ein LSTM-Modell verwendet und die Prognose wird anhand von den Daten von Etherium in US-Dollar aufgebaut. \n",
    "\n",
    "### Datenset\n",
    "\n",
    "Die Daten zum Trainieren des Modelles werden von Yahoo abgefragt. Bei diesen Daten handelt es sich immer um den \"Closing Price\", also den Preis, den Etherium am Ende eines Tages hatte. Diese Preise werden bis in das Jahr 2015 geladen und in diesem Zeitraum gibt es insgesamt ca. 2000 Preisdaten. Zusätzlich zu den Preisdaten werden mithilfe von der \"Technical Analysis Library\" verschiedene technische Indikatoren berechnet. Anhand von diesen Indikatoren soll das Modell trainiert werden den Preis vorherzusagen.  "
   ]
  },
  {
   "cell_type": "code",
   "execution_count": 170,
   "metadata": {},
   "outputs": [],
   "source": [
    "import numpy as np\n",
    "import pandas_datareader.data as pdr\n",
    "\n",
    "from pylab import rcParams\n",
    "from matplotlib import rc\n",
    "from sklearn.model_selection import train_test_split\n",
    "from pandas.plotting import register_matplotlib_converters\n",
    "from sklearn.preprocessing import MinMaxScaler\n",
    "#RobustScaler\n",
    "\n",
    "from datetime import datetime, timezone,timedelta\n",
    "from ta.utils import dropna\n",
    "from ta.volatility import BollingerBands, AverageTrueRange\n",
    "from ta.momentum import KAMAIndicator, PercentagePriceOscillator, PercentageVolumeOscillator, ROCIndicator, RSIIndicator, StochasticOscillator\n",
    "from ta.trend import MACD, ADXIndicator, AroonIndicator\n",
    "from ta.volume import OnBalanceVolumeIndicator, AccDistIndexIndicator"
   ]
  },
  {
   "cell_type": "markdown",
   "metadata": {},
   "source": [
    "### Laden und generieren der Daten\n",
    "Im Folgenden werden die Preisdaten von Etherium vom 2015 bis heute geladen. Anschließend werden 7 technische Indikatoren generiert und dem Datensatz hinzugefügt. Zusätzlich werden der Tag des Monats, der Tag der Woche und der Monat als eigene Indikatoren hinzugefügt. Dies ist sinnvoll, da hier ein LSTM-, also ein Zeitreihen-Modell verwendet wird und hierbei auf die Zeit eine sehr wichtige Rolle spielt, um Besonderheiten an beispielsweise dem ersten des Monats erkennen zu können. Außerdem werden die Daten nicht gemischt, da sonst der zeitliche Verlauf verloren geht."
   ]
  },
  {
   "cell_type": "code",
   "execution_count": 474,
   "metadata": {},
   "outputs": [
    {
     "data": {
      "text/html": [
       "<div>\n",
       "<style scoped>\n",
       "    .dataframe tbody tr th:only-of-type {\n",
       "        vertical-align: middle;\n",
       "    }\n",
       "\n",
       "    .dataframe tbody tr th {\n",
       "        vertical-align: top;\n",
       "    }\n",
       "\n",
       "    .dataframe thead th {\n",
       "        text-align: right;\n",
       "    }\n",
       "</style>\n",
       "<table border=\"1\" class=\"dataframe\">\n",
       "  <thead>\n",
       "    <tr style=\"text-align: right;\">\n",
       "      <th></th>\n",
       "      <th>price</th>\n",
       "      <th>kama</th>\n",
       "      <th>ppo</th>\n",
       "      <th>roc</th>\n",
       "      <th>macd</th>\n",
       "      <th>rsi</th>\n",
       "      <th>aroon</th>\n",
       "      <th>boll_mavg</th>\n",
       "      <th>day_of_month</th>\n",
       "      <th>day_of_week</th>\n",
       "      <th>month</th>\n",
       "      <th>increase</th>\n",
       "    </tr>\n",
       "    <tr>\n",
       "      <th>Date</th>\n",
       "      <th></th>\n",
       "      <th></th>\n",
       "      <th></th>\n",
       "      <th></th>\n",
       "      <th></th>\n",
       "      <th></th>\n",
       "      <th></th>\n",
       "      <th></th>\n",
       "      <th></th>\n",
       "      <th></th>\n",
       "      <th></th>\n",
       "      <th></th>\n",
       "    </tr>\n",
       "  </thead>\n",
       "  <tbody>\n",
       "    <tr>\n",
       "      <th>2015-09-19</th>\n",
       "      <td>0.938445</td>\n",
       "      <td>0.944840</td>\n",
       "      <td>-9.248593</td>\n",
       "      <td>-24.466973</td>\n",
       "      <td>-0.075544</td>\n",
       "      <td>33.961439</td>\n",
       "      <td>-85.0</td>\n",
       "      <td>1.095771</td>\n",
       "      <td>19</td>\n",
       "      <td>5</td>\n",
       "      <td>9</td>\n",
       "      <td>0</td>\n",
       "    </tr>\n",
       "    <tr>\n",
       "      <th>2015-09-20</th>\n",
       "      <td>0.919047</td>\n",
       "      <td>0.944303</td>\n",
       "      <td>-8.773903</td>\n",
       "      <td>-23.825991</td>\n",
       "      <td>-0.071767</td>\n",
       "      <td>32.707839</td>\n",
       "      <td>-65.0</td>\n",
       "      <td>1.074143</td>\n",
       "      <td>20</td>\n",
       "      <td>6</td>\n",
       "      <td>9</td>\n",
       "      <td>0</td>\n",
       "    </tr>\n",
       "    <tr>\n",
       "      <th>2015-09-21</th>\n",
       "      <td>0.901796</td>\n",
       "      <td>0.941641</td>\n",
       "      <td>-8.437150</td>\n",
       "      <td>-22.643751</td>\n",
       "      <td>-0.068834</td>\n",
       "      <td>31.591028</td>\n",
       "      <td>-65.0</td>\n",
       "      <td>1.054493</td>\n",
       "      <td>21</td>\n",
       "      <td>0</td>\n",
       "      <td>9</td>\n",
       "      <td>0</td>\n",
       "    </tr>\n",
       "    <tr>\n",
       "      <th>2015-09-22</th>\n",
       "      <td>0.893406</td>\n",
       "      <td>0.940724</td>\n",
       "      <td>-8.129868</td>\n",
       "      <td>-9.112311</td>\n",
       "      <td>-0.066072</td>\n",
       "      <td>31.035986</td>\n",
       "      <td>-65.0</td>\n",
       "      <td>1.035917</td>\n",
       "      <td>22</td>\n",
       "      <td>1</td>\n",
       "      <td>9</td>\n",
       "      <td>0</td>\n",
       "    </tr>\n",
       "    <tr>\n",
       "      <th>2015-09-23</th>\n",
       "      <td>0.813610</td>\n",
       "      <td>0.937235</td>\n",
       "      <td>-8.525070</td>\n",
       "      <td>-21.673375</td>\n",
       "      <td>-0.067667</td>\n",
       "      <td>26.302675</td>\n",
       "      <td>-95.0</td>\n",
       "      <td>1.012877</td>\n",
       "      <td>23</td>\n",
       "      <td>2</td>\n",
       "      <td>9</td>\n",
       "      <td>0</td>\n",
       "    </tr>\n",
       "    <tr>\n",
       "      <th>...</th>\n",
       "      <td>...</td>\n",
       "      <td>...</td>\n",
       "      <td>...</td>\n",
       "      <td>...</td>\n",
       "      <td>...</td>\n",
       "      <td>...</td>\n",
       "      <td>...</td>\n",
       "      <td>...</td>\n",
       "      <td>...</td>\n",
       "      <td>...</td>\n",
       "      <td>...</td>\n",
       "      <td>...</td>\n",
       "    </tr>\n",
       "    <tr>\n",
       "      <th>2021-01-15</th>\n",
       "      <td>1171.834595</td>\n",
       "      <td>1195.047461</td>\n",
       "      <td>10.006084</td>\n",
       "      <td>20.125613</td>\n",
       "      <td>82.787739</td>\n",
       "      <td>64.924010</td>\n",
       "      <td>65.0</td>\n",
       "      <td>1005.477493</td>\n",
       "      <td>15</td>\n",
       "      <td>4</td>\n",
       "      <td>1</td>\n",
       "      <td>1</td>\n",
       "    </tr>\n",
       "    <tr>\n",
       "      <th>2021-01-16</th>\n",
       "      <td>1233.537598</td>\n",
       "      <td>1195.367102</td>\n",
       "      <td>9.737871</td>\n",
       "      <td>18.582814</td>\n",
       "      <td>82.132541</td>\n",
       "      <td>67.798756</td>\n",
       "      <td>40.0</td>\n",
       "      <td>1033.022256</td>\n",
       "      <td>16</td>\n",
       "      <td>5</td>\n",
       "      <td>1</td>\n",
       "      <td>0</td>\n",
       "    </tr>\n",
       "    <tr>\n",
       "      <th>2021-01-17</th>\n",
       "      <td>1230.172241</td>\n",
       "      <td>1195.533580</td>\n",
       "      <td>9.326396</td>\n",
       "      <td>11.833220</td>\n",
       "      <td>80.230298</td>\n",
       "      <td>67.473941</td>\n",
       "      <td>40.0</td>\n",
       "      <td>1058.011002</td>\n",
       "      <td>17</td>\n",
       "      <td>6</td>\n",
       "      <td>1</td>\n",
       "      <td>1</td>\n",
       "    </tr>\n",
       "    <tr>\n",
       "      <th>2021-01-18</th>\n",
       "      <td>1257.279541</td>\n",
       "      <td>1196.117692</td>\n",
       "      <td>9.042904</td>\n",
       "      <td>4.155981</td>\n",
       "      <td>79.187173</td>\n",
       "      <td>68.771722</td>\n",
       "      <td>40.0</td>\n",
       "      <td>1084.298972</td>\n",
       "      <td>18</td>\n",
       "      <td>0</td>\n",
       "      <td>1</td>\n",
       "      <td>1</td>\n",
       "    </tr>\n",
       "    <tr>\n",
       "      <th>2021-01-19</th>\n",
       "      <td>1377.295898</td>\n",
       "      <td>1200.237877</td>\n",
       "      <td>9.506933</td>\n",
       "      <td>12.370116</td>\n",
       "      <td>84.262264</td>\n",
       "      <td>73.763107</td>\n",
       "      <td>90.0</td>\n",
       "      <td>1115.582819</td>\n",
       "      <td>19</td>\n",
       "      <td>1</td>\n",
       "      <td>1</td>\n",
       "      <td>1</td>\n",
       "    </tr>\n",
       "  </tbody>\n",
       "</table>\n",
       "<p>1945 rows × 12 columns</p>\n",
       "</div>"
      ],
      "text/plain": [
       "                  price         kama        ppo        roc       macd  \\\n",
       "Date                                                                    \n",
       "2015-09-19     0.938445     0.944840  -9.248593 -24.466973  -0.075544   \n",
       "2015-09-20     0.919047     0.944303  -8.773903 -23.825991  -0.071767   \n",
       "2015-09-21     0.901796     0.941641  -8.437150 -22.643751  -0.068834   \n",
       "2015-09-22     0.893406     0.940724  -8.129868  -9.112311  -0.066072   \n",
       "2015-09-23     0.813610     0.937235  -8.525070 -21.673375  -0.067667   \n",
       "...                 ...          ...        ...        ...        ...   \n",
       "2021-01-15  1171.834595  1195.047461  10.006084  20.125613  82.787739   \n",
       "2021-01-16  1233.537598  1195.367102   9.737871  18.582814  82.132541   \n",
       "2021-01-17  1230.172241  1195.533580   9.326396  11.833220  80.230298   \n",
       "2021-01-18  1257.279541  1196.117692   9.042904   4.155981  79.187173   \n",
       "2021-01-19  1377.295898  1200.237877   9.506933  12.370116  84.262264   \n",
       "\n",
       "                  rsi  aroon    boll_mavg  day_of_month  day_of_week  month  \\\n",
       "Date                                                                          \n",
       "2015-09-19  33.961439  -85.0     1.095771            19            5      9   \n",
       "2015-09-20  32.707839  -65.0     1.074143            20            6      9   \n",
       "2015-09-21  31.591028  -65.0     1.054493            21            0      9   \n",
       "2015-09-22  31.035986  -65.0     1.035917            22            1      9   \n",
       "2015-09-23  26.302675  -95.0     1.012877            23            2      9   \n",
       "...               ...    ...          ...           ...          ...    ...   \n",
       "2021-01-15  64.924010   65.0  1005.477493            15            4      1   \n",
       "2021-01-16  67.798756   40.0  1033.022256            16            5      1   \n",
       "2021-01-17  67.473941   40.0  1058.011002            17            6      1   \n",
       "2021-01-18  68.771722   40.0  1084.298972            18            0      1   \n",
       "2021-01-19  73.763107   90.0  1115.582819            19            1      1   \n",
       "\n",
       "            increase  \n",
       "Date                  \n",
       "2015-09-19         0  \n",
       "2015-09-20         0  \n",
       "2015-09-21         0  \n",
       "2015-09-22         0  \n",
       "2015-09-23         0  \n",
       "...              ...  \n",
       "2021-01-15         1  \n",
       "2021-01-16         0  \n",
       "2021-01-17         1  \n",
       "2021-01-18         1  \n",
       "2021-01-19         1  \n",
       "\n",
       "[1945 rows x 12 columns]"
      ]
     },
     "execution_count": 474,
     "metadata": {},
     "output_type": "execute_result"
    }
   ],
   "source": [
    "end = datetime.today() - timedelta(days=56)\n",
    "start = datetime(2015, 9, 1)\n",
    "ETH = pdr.DataReader('ETH-USD','yahoo',start,end)\n",
    "\n",
    "df = pd.DataFrame(data=ETH)\n",
    "\n",
    "kama_indicator = KAMAIndicator(close = df[\"Close\"], window = 10, pow1 = 2, pow2 = 30, fillna = False)\n",
    "df['kama'] = kama_indicator.kama()\n",
    "ppo_indicator = PercentagePriceOscillator(close = df[\"Close\"], window_slow = 20, window_fast = 10, window_sign = 9, fillna = False)\n",
    "df['ppo'] = ppo_indicator.ppo()\n",
    "#pvo_indicator = PercentageVolumeOscillator(volume = df[\"Volume\"], window_slow = 20, window_fast = 10, window_sign = 9, fillna = False)\n",
    "#df['pvo'] = pvo_indicator.pvo()\n",
    "roc_indicator = ROCIndicator(close = df[\"Close\"], window = 12, fillna = False)\n",
    "df['roc'] = roc_indicator.roc()\n",
    "macd_indicator = MACD(close = df[\"Close\"], window_slow = 20, window_fast = 12, window_sign = 9, fillna = False)\n",
    "df['macd'] = macd_indicator.macd()\n",
    "rsi_indicator = RSIIndicator(close = df[\"Close\"], window = 14, fillna = False)\n",
    "df['rsi'] = rsi_indicator.rsi()\n",
    "#obv_indicator = OnBalanceVolumeIndicator(close = df[\"Close\"], volume = df[\"Volume\"], fillna = False)\n",
    "#df['obv'] = obv_indicator.on_balance_volume() \n",
    "#adi_indicator = AccDistIndexIndicator(high = df[\"High\"], low = df[\"Low\"], close = df[\"Close\"], volume = df[\"Volume\"], fillna = False)\n",
    "#df['adi'] = adi_indicator.acc_dist_index() \n",
    "#adx_indicator = ADXIndicator(high = df[\"High\"], low = df[\"Low\"], close = df[\"Close\"], window = 14, fillna = False)\n",
    "#df['adx'] = adx_indicator.adx() \n",
    "aroon_indicator = AroonIndicator(close = df[\"Close\"], window = 20, fillna = False)\n",
    "df['aroon'] = aroon_indicator.aroon_indicator()\n",
    "#stoo_indicator = StochasticOscillator(high = df[\"High\"], low = df[\"Low\"], close = df[\"Close\"], window = 14, smooth_window = 3, fillna = False)\n",
    "#df['stoo'] = stoo_indicator.stoch()\n",
    "boll_indicator = BollingerBands(close = df[\"Close\"], window = 20, window_dev = 2, fillna = False)\n",
    "df['boll_mavg'] = boll_indicator.bollinger_mavg()\n",
    "#atr_indicator = AverageTrueRange(high = df[\"High\"], low = df[\"Low\"], close = df[\"Close\"], window = 14, fillna = False)\n",
    "#df['atr'] = atr_indicator.average_true_range()\n",
    "df.rename(columns = {\"Close\": \"price\"}, inplace=True)\n",
    "prices = df['price'].to_numpy()\n",
    "\n",
    "df['day_of_month'] = df.index.day\n",
    "df['day_of_week'] = df.index.dayofweek\n",
    "df['month'] = df.index.month\n",
    "\n",
    "increase = []\n",
    "for i in range(0, len(prices)):\n",
    "    if(i == len(prices)-1):\n",
    "        increase.append(1)\n",
    "    else:\n",
    "        if(prices[i+1] > prices[i]):\n",
    "            increase.append(1)\n",
    "        else:\n",
    "            increase.append(0)\n",
    "\n",
    "df['increase'] = increase\n",
    "\n",
    "df.dropna(inplace=True)\n",
    "df = df.drop(df.columns[[0, 1, 2, 4, 5]], axis=1)\n",
    "df"
   ]
  },
  {
   "cell_type": "markdown",
   "metadata": {},
   "source": [
    "Im Folgenden ist nun einmal der gesamt geladene Kursverlauf Etherium zu sehen."
   ]
  },
  {
   "cell_type": "code",
   "execution_count": 475,
   "metadata": {
    "scrolled": false
   },
   "outputs": [
    {
     "data": {
      "image/png": "[encoded data removed]",
      "text/plain": [
       "<Figure size 432x288 with 1 Axes>"
      ]
     },
     "metadata": {
      "needs_background": "light"
     },
     "output_type": "display_data"
    }
   ],
   "source": [
    "prices = df['price'].to_numpy()\n",
    "days = range(1, len(prices) + 1)\n",
    "\n",
    "plt.plot(days, prices, 'blue', label='Price')\n",
    "plt.title('ETH USD Price')\n",
    "plt.xlabel('Tage')\n",
    "plt.ylabel('Preis')\n",
    "plt.legend()\n",
    "\n",
    "plt.show()"
   ]
  },
  {
   "cell_type": "code",
   "execution_count": 476,
   "metadata": {},
   "outputs": [
    {
     "name": "stdout",
     "output_type": "stream",
     "text": [
      "(1945, 12)\n",
      "(1945, 1)\n"
     ]
    }
   ],
   "source": [
    "X_columns = ['price', 'kama', 'ppo', 'roc', 'macd', 'rsi', 'aroon', 'boll_mavg', 'increase', \n",
    "                   'day_of_month', 'day_of_week', 'month']\n",
    "\n",
    "X_data = df.filter(X_columns)\n",
    "y_data = df.filter(['price'])\n",
    "\n",
    "print(X_data.shape)\n",
    "print(y_data.shape)"
   ]
  },
  {
   "cell_type": "markdown",
   "metadata": {},
   "source": [
    "### Transformation der Daten\n",
    "Für die Transformation der Daten wird der RobustScaler verwendet. Dieser normalisiert die Daten in einen vorgegebenen Bereich und macht die Daten damit praktikabel. Der RobustScaler hat zudem noch den einen Vorteil gegebenüber zum Beispiel den MinMaxScaler, dass er mit Ausreißern im Datensatz umgehen kann und dadurch der Datensatz nicht bearbeitet werden muss. \n",
    "Außerdem werden die Daten features und labels aufgeteilt. In diesem Fall sind die Spalten, welche in feature_columns definiert sind, die features und der Preis das Label. Diese Aufteilung wird sowohl für die Trainings- als auch für die Testingsdaten gemacht."
   ]
  },
  {
   "cell_type": "code",
   "execution_count": 477,
   "metadata": {},
   "outputs": [
    {
     "data": {
      "text/html": [
       "<div>\n",
       "<style scoped>\n",
       "    .dataframe tbody tr th:only-of-type {\n",
       "        vertical-align: middle;\n",
       "    }\n",
       "\n",
       "    .dataframe tbody tr th {\n",
       "        vertical-align: top;\n",
       "    }\n",
       "\n",
       "    .dataframe thead th {\n",
       "        text-align: right;\n",
       "    }\n",
       "</style>\n",
       "<table border=\"1\" class=\"dataframe\">\n",
       "  <thead>\n",
       "    <tr style=\"text-align: right;\">\n",
       "      <th></th>\n",
       "      <th>price</th>\n",
       "      <th>kama</th>\n",
       "      <th>ppo</th>\n",
       "      <th>roc</th>\n",
       "      <th>macd</th>\n",
       "      <th>rsi</th>\n",
       "      <th>aroon</th>\n",
       "      <th>boll_mavg</th>\n",
       "      <th>increase</th>\n",
       "      <th>day_of_month</th>\n",
       "      <th>day_of_week</th>\n",
       "      <th>month</th>\n",
       "    </tr>\n",
       "    <tr>\n",
       "      <th>Date</th>\n",
       "      <th></th>\n",
       "      <th></th>\n",
       "      <th></th>\n",
       "      <th></th>\n",
       "      <th></th>\n",
       "      <th></th>\n",
       "      <th></th>\n",
       "      <th></th>\n",
       "      <th></th>\n",
       "      <th></th>\n",
       "      <th></th>\n",
       "      <th></th>\n",
       "    </tr>\n",
       "  </thead>\n",
       "  <tbody>\n",
       "    <tr>\n",
       "      <th>2015-09-19</th>\n",
       "      <td>0.000361</td>\n",
       "      <td>0.000303</td>\n",
       "      <td>0.188734</td>\n",
       "      <td>0.132951</td>\n",
       "      <td>0.334434</td>\n",
       "      <td>0.234888</td>\n",
       "      <td>0.052632</td>\n",
       "      <td>0.000461</td>\n",
       "      <td>0.0</td>\n",
       "      <td>0.600000</td>\n",
       "      <td>0.833333</td>\n",
       "      <td>0.727273</td>\n",
       "    </tr>\n",
       "    <tr>\n",
       "      <th>2015-09-20</th>\n",
       "      <td>0.000347</td>\n",
       "      <td>0.000302</td>\n",
       "      <td>0.200198</td>\n",
       "      <td>0.135954</td>\n",
       "      <td>0.334457</td>\n",
       "      <td>0.218771</td>\n",
       "      <td>0.157895</td>\n",
       "      <td>0.000442</td>\n",
       "      <td>0.0</td>\n",
       "      <td>0.633333</td>\n",
       "      <td>1.000000</td>\n",
       "      <td>0.727273</td>\n",
       "    </tr>\n",
       "    <tr>\n",
       "      <th>2015-09-21</th>\n",
       "      <td>0.000335</td>\n",
       "      <td>0.000300</td>\n",
       "      <td>0.208332</td>\n",
       "      <td>0.141494</td>\n",
       "      <td>0.334474</td>\n",
       "      <td>0.204411</td>\n",
       "      <td>0.157895</td>\n",
       "      <td>0.000425</td>\n",
       "      <td>0.0</td>\n",
       "      <td>0.666667</td>\n",
       "      <td>0.000000</td>\n",
       "      <td>0.727273</td>\n",
       "    </tr>\n",
       "    <tr>\n",
       "      <th>2015-09-22</th>\n",
       "      <td>0.000328</td>\n",
       "      <td>0.000299</td>\n",
       "      <td>0.215753</td>\n",
       "      <td>0.204895</td>\n",
       "      <td>0.334490</td>\n",
       "      <td>0.197275</td>\n",
       "      <td>0.157895</td>\n",
       "      <td>0.000408</td>\n",
       "      <td>0.0</td>\n",
       "      <td>0.700000</td>\n",
       "      <td>0.166667</td>\n",
       "      <td>0.727273</td>\n",
       "    </tr>\n",
       "    <tr>\n",
       "      <th>2015-09-23</th>\n",
       "      <td>0.000271</td>\n",
       "      <td>0.000297</td>\n",
       "      <td>0.206208</td>\n",
       "      <td>0.146040</td>\n",
       "      <td>0.334481</td>\n",
       "      <td>0.136417</td>\n",
       "      <td>0.000000</td>\n",
       "      <td>0.000388</td>\n",
       "      <td>0.0</td>\n",
       "      <td>0.733333</td>\n",
       "      <td>0.333333</td>\n",
       "      <td>0.727273</td>\n",
       "    </tr>\n",
       "    <tr>\n",
       "      <th>...</th>\n",
       "      <td>...</td>\n",
       "      <td>...</td>\n",
       "      <td>...</td>\n",
       "      <td>...</td>\n",
       "      <td>...</td>\n",
       "      <td>...</td>\n",
       "      <td>...</td>\n",
       "      <td>...</td>\n",
       "      <td>...</td>\n",
       "      <td>...</td>\n",
       "      <td>...</td>\n",
       "      <td>...</td>\n",
       "    </tr>\n",
       "    <tr>\n",
       "      <th>2021-01-15</th>\n",
       "      <td>0.839120</td>\n",
       "      <td>0.952543</td>\n",
       "      <td>0.653766</td>\n",
       "      <td>0.341890</td>\n",
       "      <td>0.823035</td>\n",
       "      <td>0.632984</td>\n",
       "      <td>0.842105</td>\n",
       "      <td>0.878109</td>\n",
       "      <td>1.0</td>\n",
       "      <td>0.466667</td>\n",
       "      <td>0.666667</td>\n",
       "      <td>0.000000</td>\n",
       "    </tr>\n",
       "    <tr>\n",
       "      <th>2021-01-16</th>\n",
       "      <td>0.883321</td>\n",
       "      <td>0.952798</td>\n",
       "      <td>0.647288</td>\n",
       "      <td>0.334662</td>\n",
       "      <td>0.819172</td>\n",
       "      <td>0.669946</td>\n",
       "      <td>0.710526</td>\n",
       "      <td>0.902178</td>\n",
       "      <td>0.0</td>\n",
       "      <td>0.500000</td>\n",
       "      <td>0.833333</td>\n",
       "      <td>0.000000</td>\n",
       "    </tr>\n",
       "    <tr>\n",
       "      <th>2021-01-17</th>\n",
       "      <td>0.880910</td>\n",
       "      <td>0.952930</td>\n",
       "      <td>0.637351</td>\n",
       "      <td>0.303036</td>\n",
       "      <td>0.807955</td>\n",
       "      <td>0.665770</td>\n",
       "      <td>0.710526</td>\n",
       "      <td>0.924014</td>\n",
       "      <td>1.0</td>\n",
       "      <td>0.533333</td>\n",
       "      <td>1.000000</td>\n",
       "      <td>0.000000</td>\n",
       "    </tr>\n",
       "    <tr>\n",
       "      <th>2021-01-18</th>\n",
       "      <td>0.900328</td>\n",
       "      <td>0.953396</td>\n",
       "      <td>0.630504</td>\n",
       "      <td>0.267064</td>\n",
       "      <td>0.801805</td>\n",
       "      <td>0.682456</td>\n",
       "      <td>0.710526</td>\n",
       "      <td>0.946985</td>\n",
       "      <td>1.0</td>\n",
       "      <td>0.566667</td>\n",
       "      <td>0.000000</td>\n",
       "      <td>0.000000</td>\n",
       "    </tr>\n",
       "    <tr>\n",
       "      <th>2021-01-19</th>\n",
       "      <td>0.986301</td>\n",
       "      <td>0.956682</td>\n",
       "      <td>0.641711</td>\n",
       "      <td>0.305552</td>\n",
       "      <td>0.831730</td>\n",
       "      <td>0.746631</td>\n",
       "      <td>0.973684</td>\n",
       "      <td>0.974321</td>\n",
       "      <td>1.0</td>\n",
       "      <td>0.600000</td>\n",
       "      <td>0.166667</td>\n",
       "      <td>0.000000</td>\n",
       "    </tr>\n",
       "  </tbody>\n",
       "</table>\n",
       "<p>1945 rows × 12 columns</p>\n",
       "</div>"
      ],
      "text/plain": [
       "               price      kama       ppo       roc      macd       rsi  \\\n",
       "Date                                                                     \n",
       "2015-09-19  0.000361  0.000303  0.188734  0.132951  0.334434  0.234888   \n",
       "2015-09-20  0.000347  0.000302  0.200198  0.135954  0.334457  0.218771   \n",
       "2015-09-21  0.000335  0.000300  0.208332  0.141494  0.334474  0.204411   \n",
       "2015-09-22  0.000328  0.000299  0.215753  0.204895  0.334490  0.197275   \n",
       "2015-09-23  0.000271  0.000297  0.206208  0.146040  0.334481  0.136417   \n",
       "...              ...       ...       ...       ...       ...       ...   \n",
       "2021-01-15  0.839120  0.952543  0.653766  0.341890  0.823035  0.632984   \n",
       "2021-01-16  0.883321  0.952798  0.647288  0.334662  0.819172  0.669946   \n",
       "2021-01-17  0.880910  0.952930  0.637351  0.303036  0.807955  0.665770   \n",
       "2021-01-18  0.900328  0.953396  0.630504  0.267064  0.801805  0.682456   \n",
       "2021-01-19  0.986301  0.956682  0.641711  0.305552  0.831730  0.746631   \n",
       "\n",
       "               aroon  boll_mavg  increase  day_of_month  day_of_week     month  \n",
       "Date                                                                            \n",
       "2015-09-19  0.052632   0.000461       0.0      0.600000     0.833333  0.727273  \n",
       "2015-09-20  0.157895   0.000442       0.0      0.633333     1.000000  0.727273  \n",
       "2015-09-21  0.157895   0.000425       0.0      0.666667     0.000000  0.727273  \n",
       "2015-09-22  0.157895   0.000408       0.0      0.700000     0.166667  0.727273  \n",
       "2015-09-23  0.000000   0.000388       0.0      0.733333     0.333333  0.727273  \n",
       "...              ...        ...       ...           ...          ...       ...  \n",
       "2021-01-15  0.842105   0.878109       1.0      0.466667     0.666667  0.000000  \n",
       "2021-01-16  0.710526   0.902178       0.0      0.500000     0.833333  0.000000  \n",
       "2021-01-17  0.710526   0.924014       1.0      0.533333     1.000000  0.000000  \n",
       "2021-01-18  0.710526   0.946985       1.0      0.566667     0.000000  0.000000  \n",
       "2021-01-19  0.973684   0.974321       1.0      0.600000     0.166667  0.000000  \n",
       "\n",
       "[1945 rows x 12 columns]"
      ]
     },
     "execution_count": 477,
     "metadata": {},
     "output_type": "execute_result"
    }
   ],
   "source": [
    "X_scaler = MinMaxScaler(feature_range = (0, 1))\n",
    "y_scaler = MinMaxScaler(feature_range = (0, 1))\n",
    "\n",
    "X_scaled_data = X_scaler.fit_transform(X_data)\n",
    "y_scaled_data = y_scaler.fit_transform(y_data)\n",
    "\n",
    "X_scaled_data = pd.DataFrame(data=X_scaled_data, index=X_data.index, columns=X_columns)\n",
    "y_scaled_data = pd.DataFrame(data=y_scaled_data, index=y_data.index, columns=['price'])\n",
    "\n",
    "X_scaled_data"
   ]
  },
  {
   "cell_type": "markdown",
   "metadata": {},
   "source": [
    "Die gesammelten Daten müssen im nächsten Schritt in Traings- und Testdaten aufgeteilt werden. Dafür wurde die Aufteilung von 90% zu 10% gewählt (90% Traningsdaten und 10% Testdaten).\n",
    "Beide Datensätze haben immernoch die gleiche Anzahl an Spalten, jedoch sie die Zeilen aufgeteilt worden."
   ]
  },
  {
   "cell_type": "code",
   "execution_count": 478,
   "metadata": {},
   "outputs": [
    {
     "name": "stdout",
     "output_type": "stream",
     "text": [
      "(1750, 12)\n",
      "(195, 12)\n"
     ]
    }
   ],
   "source": [
    "train_size = int(len(X_scaled_data) * 0.9)\n",
    "test_size = len(X_scaled_data) - train_size\n",
    "X_train_scaled, X_test_scaled = X_scaled_data.iloc[0:train_size], X_scaled_data.iloc[train_size:len(X_scaled_data)]\n",
    "y_train_scaled, y_test_scaled = y_scaled_data.iloc[0:train_size], y_scaled_data.iloc[train_size:len(y_scaled_data)]\n",
    "print(X_train_scaled.shape)\n",
    "print(X_test_scaled.shape)"
   ]
  },
  {
   "cell_type": "markdown",
   "metadata": {},
   "source": [
    "### Aufteilung der Daten in Batches\n",
    "Im nächsten Schritt müssen die Daten in Batches aufgeteilt werden. Die Größe der einzelnen Batches wurde hier auf 30 gesetzt, da ein Monat ca. 30 Tage hat und somit eine vernünftige Zeitreihe in einem Batch abgebildet werden kann. Diese Aufteilung wird wieder für beide Datensätze angewendet."
   ]
  },
  {
   "cell_type": "code",
   "execution_count": 479,
   "metadata": {},
   "outputs": [],
   "source": [
    "batch_size = 30\n",
    "X_train = []\n",
    "y_train = []\n",
    "for i in range(len(X_train_scaled) - batch_size - 1):\n",
    "    X_train.append(X_train_scaled.iloc[i:(i+batch_size)].values)\n",
    "    y_train.append(y_train_scaled.iloc[i+batch_size + 1])\n",
    "    \n",
    "    \n",
    "    \n",
    "X_test = []\n",
    "y_test = []\n",
    "for i in range(len(X_test_scaled) - batch_size - 1):\n",
    "    X_test.append(X_test_scaled.iloc[i:(i+batch_size)].values)\n",
    "    y_test.append(y_test_scaled.iloc[i+batch_size + 1])\n",
    "    "
   ]
  },
  {
   "cell_type": "code",
   "execution_count": 480,
   "metadata": {},
   "outputs": [
    {
     "name": "stdout",
     "output_type": "stream",
     "text": [
      "(1719, 30, 12)\n",
      "(1719, 1)\n"
     ]
    }
   ],
   "source": [
    "X_train = np.array(X_train)\n",
    "X_train = np.reshape(X_train, (X_train.shape[0], X_train.shape[1], X_train.shape[2]))\n",
    "y_train = np.array(y_train)\n",
    "\n",
    "X_test = np.array(X_test)\n",
    "X_test = np.reshape(X_test, (X_test.shape[0], X_test.shape[1], X_test.shape[2]))\n",
    "y_test = np.array(y_test)\n",
    "\n",
    "print(X_train.shape)\n",
    "print(y_train.shape)"
   ]
  },
  {
   "cell_type": "markdown",
   "metadata": {},
   "source": [
    "### TODO"
   ]
  },
  {
   "cell_type": "code",
   "execution_count": 481,
   "metadata": {},
   "outputs": [
    {
     "name": "stdout",
     "output_type": "stream",
     "text": [
      "Epoch 1/15\n",
      "49/49 [==============================] - 2s 15ms/step - loss: 0.0347 - val_loss: 0.0170\n",
      "Epoch 2/15\n",
      "49/49 [==============================] - 0s 8ms/step - loss: 0.0157 - val_loss: 0.0117\n",
      "Epoch 3/15\n",
      "49/49 [==============================] - 0s 9ms/step - loss: 0.0082 - val_loss: 0.0059\n",
      "Epoch 4/15\n",
      "49/49 [==============================] - 0s 8ms/step - loss: 0.0046 - val_loss: 0.0032\n",
      "Epoch 5/15\n",
      "49/49 [==============================] - 1s 11ms/step - loss: 0.0033 - val_loss: 0.0020\n",
      "Epoch 6/15\n",
      "49/49 [==============================] - 0s 8ms/step - loss: 0.0027 - val_loss: 0.0013\n",
      "Epoch 7/15\n",
      "49/49 [==============================] - 0s 8ms/step - loss: 0.0022 - val_loss: 9.4262e-04\n",
      "Epoch 8/15\n",
      "49/49 [==============================] - 0s 8ms/step - loss: 0.0018 - val_loss: 7.0649e-04\n",
      "Epoch 9/15\n",
      "49/49 [==============================] - 0s 8ms/step - loss: 0.0015 - val_loss: 5.6947e-04\n",
      "Epoch 10/15\n",
      "49/49 [==============================] - 0s 8ms/step - loss: 0.0013 - val_loss: 4.9211e-04\n",
      "Epoch 11/15\n",
      "49/49 [==============================] - 0s 8ms/step - loss: 0.0012 - val_loss: 4.4786e-04\n",
      "Epoch 12/15\n",
      "49/49 [==============================] - 0s 8ms/step - loss: 0.0011 - val_loss: 4.2070e-04\n",
      "Epoch 13/15\n",
      "49/49 [==============================] - 0s 8ms/step - loss: 9.7201e-04 - val_loss: 4.0191e-04\n",
      "Epoch 14/15\n",
      "49/49 [==============================] - 0s 8ms/step - loss: 9.0123e-04 - val_loss: 3.8695e-04\n",
      "Epoch 15/15\n",
      "49/49 [==============================] - 0s 8ms/step - loss: 8.4510e-04 - val_loss: 3.7341e-04\n"
     ]
    }
   ],
   "source": [
    "model = tf.keras.Sequential()\n",
    "\n",
    "model.add(layers.LSTM(units = 15, return_sequences = False, input_shape = (X_train.shape[1], X_train.shape[2])))\n",
    "model.add(layers.Dense(units = 1))\n",
    "\n",
    "model.compile(loss='mean_squared_error', optimizer='adam')\n",
    "\n",
    "history = model.fit(\n",
    "    X_train, y_train,\n",
    "    epochs=15,\n",
    "    batch_size=32, \n",
    "    validation_split=0.1,\n",
    "    shuffle=False\n",
    ")"
   ]
  },
  {
   "cell_type": "markdown",
   "metadata": {},
   "source": [
    "Die loss-Rate sollte bei einem Modell im so gering wie nur möglich sein. In dem folgendem Diagramm ist gut zu sehen, dass die loss-Rate in den ersten Epochen noch relativ hoch war und sich dann immer mehr einer Zahl nahe 0,03 angegelichen hat. Die Rate wurde dann auch ziemlich konstant über die restlichen Epochen gehalten. "
   ]
  },
  {
   "cell_type": "code",
   "execution_count": 482,
   "metadata": {},
   "outputs": [
    {
     "data": {
      "text/plain": [
       "dict_keys(['loss', 'val_loss'])"
      ]
     },
     "execution_count": 482,
     "metadata": {},
     "output_type": "execute_result"
    }
   ],
   "source": [
    "history_dict = history.history\n",
    "history_dict.keys()"
   ]
  },
  {
   "cell_type": "code",
   "execution_count": 483,
   "metadata": {},
   "outputs": [
    {
     "data": {
      "image/png": "[encoded data removed]",
      "text/plain": [
       "<Figure size 432x288 with 1 Axes>"
      ]
     },
     "metadata": {
      "needs_background": "light"
     },
     "output_type": "display_data"
    }
   ],
   "source": [
    "loss = history_dict['loss']\n",
    "val_loss = history_dict['val_loss']\n",
    "\n",
    "epochs = range(1, len(loss) + 1)\n",
    "\n",
    "plt.plot(epochs, loss, 'o', color='orange', label='Training Loss')\n",
    "plt.plot(epochs, val_loss, 'blue', label='Validation Loss')\n",
    "plt.title('Trainings- und Validationsloss')\n",
    "plt.xlabel('Epochen')\n",
    "plt.ylabel('Loss')\n",
    "plt.legend()\n",
    "\n",
    "plt.show()"
   ]
  },
  {
   "cell_type": "markdown",
   "metadata": {},
   "source": [
    "### Test des Modells\n",
    "Nachdem das Modell nun trainiert ist, kann mit den Testdaten überprüft werden, wie gut das Modell funktioniert. In dem Diagramm sind 3 Linien eingezeichnet. Die grüne Linie sind die historischen Daten, also die Daten mit dem das Modell trainiert wurde. Die anderen beiden Linien spiegeln den Test wider. Dabei bildet die blaue Linie den tatsächlichen Preisverlauf während der Testphase ab und die rote Linie den vom Modell bestimmten Preisverlauf während der Testphase. "
   ]
  },
  {
   "cell_type": "code",
   "execution_count": 484,
   "metadata": {},
   "outputs": [
    {
     "data": {
      "text/plain": [
       "array([[ 15.755893 ],\n",
       "       [ -2.479671 ],\n",
       "       [  1.6934354],\n",
       "       ...,\n",
       "       [181.03459  ],\n",
       "       [142.0409   ],\n",
       "       [181.70563  ]], dtype=float32)"
      ]
     },
     "execution_count": 484,
     "metadata": {},
     "output_type": "execute_result"
    }
   ],
   "source": [
    "predicted_price = model.predict(X_train)\n",
    "predicted_price = y_scaler.inverse_transform(predicted_price)\n",
    "y_train = y_scaler.inverse_transform(y_train)\n",
    "predicted_price"
   ]
  },
  {
   "cell_type": "code",
   "execution_count": 485,
   "metadata": {},
   "outputs": [
    {
     "data": {
      "image/png": "[encoded data removed]",
      "text/plain": [
       "<Figure size 432x288 with 1 Axes>"
      ]
     },
     "metadata": {
      "needs_background": "light"
     },
     "output_type": "display_data"
    }
   ],
   "source": [
    "plt.plot(np.arange(0, len(y_train)), y_train, 'g', label=\"true\")\n",
    "plt.plot(np.arange(0, len(y_train)), predicted_price, 'r', label=\"prediction\")\n",
    "plt.ylabel('Price')\n",
    "plt.xlabel('Time Step')\n",
    "plt.legend()\n",
    "plt.show();"
   ]
  },
  {
   "cell_type": "code",
   "execution_count": 486,
   "metadata": {
    "scrolled": true
   },
   "outputs": [
    {
     "data": {
      "image/png": "[encoded data removed]",
      "text/plain": [
       "<Figure size 432x288 with 1 Axes>"
      ]
     },
     "metadata": {
      "needs_background": "light"
     },
     "output_type": "display_data"
    }
   ],
   "source": [
    "plt.plot(np.arange(0, 500), y_train[-500:], 'g', label=\"true\")\n",
    "plt.plot(np.arange(0, 500), predicted_price[-500:], 'r', label=\"prediction\")\n",
    "plt.ylabel('Price')\n",
    "plt.xlabel('Time Step')\n",
    "plt.legend()\n",
    "plt.show();"
   ]
  },
  {
   "cell_type": "markdown",
   "metadata": {},
   "source": [
    "Hier sind nochmal die gleichen Zahlen zu sehen, wie in dem Diagramm oben. Es wurden nur die Trainingsdaten weggelassen, um den detailierten Verlauf der beiden anderen Linien zu sehen. "
   ]
  },
  {
   "cell_type": "code",
   "execution_count": 487,
   "metadata": {},
   "outputs": [
    {
     "data": {
      "image/png": "[encoded data removed]",
      "text/plain": [
       "<Figure size 432x288 with 1 Axes>"
      ]
     },
     "metadata": {
      "needs_background": "light"
     },
     "output_type": "display_data"
    }
   ],
   "source": [
    "predicted_price = model.predict(X_test)\n",
    "predicted_price = y_scaler.inverse_transform(predicted_price)\n",
    "y_train = y_scaler.inverse_transform(y_train)\n",
    "y_test = y_scaler.inverse_transform(y_test)\n",
    "predicted_price\n",
    "\n",
    "plt.plot(y_test, label=\"true\")\n",
    "plt.plot(predicted_price, 'r', label=\"prediction\")\n",
    "plt.ylabel('Price')\n",
    "plt.xlabel('Time Step')\n",
    "plt.legend()\n",
    "plt.show();"
   ]
  },
  {
   "cell_type": "markdown",
   "metadata": {},
   "source": [
    "Die folgende Funktion dient zur Datenaufbereitung für die Vorhersage des Kursverlaufes 30 Tage in die Zukunft."
   ]
  },
  {
   "cell_type": "code",
   "execution_count": 488,
   "metadata": {},
   "outputs": [],
   "source": [
    "def create_data(df):\n",
    "    kama_indicator = KAMAIndicator(close = df[\"price\"], window = 10, pow1 = 2, pow2 = 30, fillna = False)\n",
    "    df['kama'] = kama_indicator.kama()\n",
    "    ppo_indicator = PercentagePriceOscillator(close = df[\"price\"], window_slow = 20, window_fast = 10, window_sign = 9, fillna = False)\n",
    "    df['ppo'] = ppo_indicator.ppo()\n",
    "    #pvo_indicator = PercentageVolumeOscillator(volume = df[\"Volume\"], window_slow = 20, window_fast = 10, window_sign = 9, fillna = False)\n",
    "    #df['pvo'] = pvo_indicator.pvo()\n",
    "    roc_indicator = ROCIndicator(close = df[\"price\"], window = 12, fillna = False)\n",
    "    df['roc'] = roc_indicator.roc()\n",
    "    macd_indicator = MACD(close = df[\"price\"], window_slow = 20, window_fast = 12, window_sign = 9, fillna = False)\n",
    "    df['macd'] = macd_indicator.macd()\n",
    "    rsi_indicator = RSIIndicator(close = df[\"price\"], window = 14, fillna = False)\n",
    "    df['rsi'] = rsi_indicator.rsi()\n",
    "    #obv_indicator = OnBalanceVolumeIndicator(close = df[\"Close\"], volume = df[\"Volume\"], fillna = False)\n",
    "    #df['obv'] = obv_indicator.on_balance_volume() \n",
    "    #adi_indicator = AccDistIndexIndicator(high = df[\"High\"], low = df[\"Low\"], close = df[\"Close\"], volume = df[\"Volume\"], fillna = False)\n",
    "    #df['adi'] = adi_indicator.acc_dist_index() \n",
    "    #adx_indicator = ADXIndicator(high = df[\"High\"], low = df[\"Low\"], close = df[\"Close\"], window = 14, fillna = False)\n",
    "    #df['adx'] = adx_indicator.adx() \n",
    "    aroon_indicator = AroonIndicator(close = df[\"price\"], window = 20, fillna = False)\n",
    "    df['aroon'] = aroon_indicator.aroon_indicator()\n",
    "    #stoo_indicator = StochasticOscillator(high = df[\"High\"], low = df[\"Low\"], close = df[\"Close\"], window = 14, smooth_window = 3, fillna = False)\n",
    "    #df['stoo'] = stoo_indicator.stoch()\n",
    "    boll_indicator = BollingerBands(close = df[\"price\"], window = 20, window_dev = 2, fillna = False)\n",
    "    df['boll_mavg'] = boll_indicator.bollinger_mavg()\n",
    "    #atr_indicator = AverageTrueRange(high = df[\"High\"], low = df[\"Low\"], close = df[\"Close\"], window = 14, fillna = False)\n",
    "    #df['atr'] = atr_indicator.average_true_range()\n",
    "    df['day_of_month'] = df.index.day\n",
    "    df['day_of_week'] = df.index.dayofweek\n",
    "    df['month'] = df.index.month\n",
    "    prices = df['price'].to_numpy()\n",
    "\n",
    "    increase = []\n",
    "    for i in range(0, len(df)):\n",
    "        if(i == len(prices)-1):\n",
    "            increase.append(1)\n",
    "        else:\n",
    "            if(prices[i+1] > prices[i]):\n",
    "                increase.append(1)\n",
    "            else:\n",
    "                increase.append(0)\n",
    "    df['increase'] = increase\n",
    "\n",
    "    df_new = df.tail(30)\n",
    "    predict = df_new.iloc[:len(df_new)]\n",
    "    \n",
    "\n",
    "    X_predict = predict.filter(X_columns)\n",
    "    y_predict = predict.filter(['price'])\n",
    "\n",
    "    X_scaled_predict = X_scaler.fit_transform(X_predict)\n",
    "    y_scaled_predict = y_scaler.fit_transform(y_predict)\n",
    "\n",
    "    X_scaled_predict = pd.DataFrame(data=X_scaled_predict, index=predict.index, columns=X_columns)\n",
    "    y_scaled_predict = pd.DataFrame(data=y_scaled_predict, index=predict.index, columns=['price'])\n",
    "    del X_predict\n",
    "    del y_predict\n",
    "    \n",
    "    return df, X_scaled_predict, y_scaled_predict"
   ]
  },
  {
   "cell_type": "markdown",
   "metadata": {},
   "source": [
    "### Vorhersage des Kurses 30 Tage in die Zukunft\n",
    "Für die Vorhersage werden die Daten der letzten 56 Tage abgefragt, anschließend werden wieder alle Indicatoren hinzugefügt. Danach wird der Datensatz wieder auf 30 Einträge gekürzt (wie Batch-Größe) und eine Vorhersage für den nächsten Tag gemacht. Anhand von dem vorhergesagten Preis müssen mit der Funktion oben wieder die verschiedenen Indikatoren berechnet und die Daten in das richtige Format gebracht werden. Danach wird wieder eine Vorhersage für den nächsten Tag gemacht und dies wiederholt sich 30 mal und am Ende ist ein Diagramm mit der Vorhersage für die nächsten 30 Tage zu sehen. "
   ]
  },
  {
   "cell_type": "code",
   "execution_count": 489,
   "metadata": {},
   "outputs": [
    {
     "name": "stdout",
     "output_type": "stream",
     "text": [
      "[1697.0184, 1677.1956, 1658.5753, 1635.3855, 1612.8817, 1601.4552, 1590.9846, 1579.1276, 1570.9049, 1556.1127, 1541.0354, 1520.0854, 1516.1997, 1506.1218, 1490.6771, 1477.6107, 1523.839, 1526.502, 1526.623, 1524.4847, 1512.5713, 1503.1053, 1495.4333, 1490.1907, 1484.9955, 1479.886, 1475.9535, 1467.7483, 1456.7158, 1470.9601]\n"
     ]
    }
   ],
   "source": [
    "end = datetime.today()\n",
    "start = datetime.today() - timedelta(days=56)\n",
    "ETH = pdr.DataReader('ETH-USD','yahoo',start,end)\n",
    "\n",
    "df = pd.DataFrame(data=ETH)\n",
    "df =  df.drop(df.columns[[0, 1, 2, 4, 5]], axis=1)\n",
    "\n",
    "kama_indicator = KAMAIndicator(close = df[\"Close\"], window = 10, pow1 = 2, pow2 = 30, fillna = False)\n",
    "df['kama'] = kama_indicator.kama()\n",
    "ppo_indicator = PercentagePriceOscillator(close = df[\"Close\"], window_slow = 20, window_fast = 10, window_sign = 9, fillna = False)\n",
    "df['ppo'] = ppo_indicator.ppo()\n",
    "#pvo_indicator = PercentageVolumeOscillator(volume = df[\"Volume\"], window_slow = 20, window_fast = 10, window_sign = 9, fillna = False)\n",
    "#df['pvo'] = pvo_indicator.pvo()\n",
    "roc_indicator = ROCIndicator(close = df[\"Close\"], window = 12, fillna = False)\n",
    "df['roc'] = roc_indicator.roc()\n",
    "macd_indicator = MACD(close = df[\"Close\"], window_slow = 20, window_fast = 12, window_sign = 9, fillna = False)\n",
    "df['macd'] = macd_indicator.macd()\n",
    "rsi_indicator = RSIIndicator(close = df[\"Close\"], window = 14, fillna = False)\n",
    "df['rsi'] = rsi_indicator.rsi()\n",
    "#obv_indicator = OnBalanceVolumeIndicator(close = df[\"Close\"], volume = df[\"Volume\"], fillna = False)\n",
    "#df['obv'] = obv_indicator.on_balance_volume() \n",
    "#adi_indicator = AccDistIndexIndicator(high = df[\"High\"], low = df[\"Low\"], close = df[\"Close\"], volume = df[\"Volume\"], fillna = False)\n",
    "#df['adi'] = adi_indicator.acc_dist_index() \n",
    "#adx_indicator = ADXIndicator(high = df[\"High\"], low = df[\"Low\"], close = df[\"Close\"], window = 14, fillna = False)\n",
    "#df['adx'] = adx_indicator.adx() \n",
    "aroon_indicator = AroonIndicator(close = df[\"Close\"], window = 20, fillna = False)\n",
    "df['aroon'] = aroon_indicator.aroon_indicator()\n",
    "#stoo_indicator = StochasticOscillator(high = df[\"High\"], low = df[\"Low\"], close = df[\"Close\"], window = 14, smooth_window = 3, fillna = False)\n",
    "#df['stoo'] = stoo_indicator.stoch()\n",
    "boll_indicator = BollingerBands(close = df[\"Close\"], window = 20, window_dev = 2, fillna = False)\n",
    "df['boll_mavg'] = boll_indicator.bollinger_mavg()\n",
    "#atr_indicator = AverageTrueRange(high = df[\"High\"], low = df[\"Low\"], close = df[\"Close\"], window = 14, fillna = False)\n",
    "#df['atr'] = atr_indicator.average_true_range()\n",
    "df['day_of_month'] = df.index.day\n",
    "df['day_of_week'] = df.index.dayofweek\n",
    "df['month'] = df.index.month\n",
    "df.rename(columns = {\"Close\": \"price\"}, inplace=True)\n",
    "prices = df['price'].to_numpy()\n",
    "\n",
    "increase = []\n",
    "for i in range(0, len(df)):\n",
    "    if(i == len(prices)-1):\n",
    "        increase.append(1)\n",
    "    else:\n",
    "        if(prices[i+1] > prices[i]):\n",
    "            increase.append(1)\n",
    "        else:\n",
    "            increase.append(0)\n",
    "df['increase'] = increase\n",
    "\n",
    "df_new = df.tail(30)\n",
    "predict =  df_new.iloc[:len(df_new)]\n",
    "\n",
    "X_predict = predict.filter(X_columns)\n",
    "y_predict = predict.filter(['price'])\n",
    "\n",
    "X_scaled_predict = X_scaler.fit_transform(X_predict)\n",
    "y_scaled_predict = y_scaler.fit_transform(y_predict)\n",
    "\n",
    "X_scaled_predict = pd.DataFrame(data=X_scaled_predict, index=predict.index, columns=X_columns)\n",
    "y_scaled_predict = pd.DataFrame(data=y_scaled_predict, index=predict.index, columns=['price'])\n",
    "\n",
    "days_in_future = 30\n",
    "y_predicted_all = []\n",
    "\n",
    "for i in range(days_in_future):\n",
    "    Xs = []\n",
    "    v = X_scaled_predict.values\n",
    "    Xs.append(v)\n",
    "    X = np.array(Xs)\n",
    "    y_predicted = model.predict(X)\n",
    "    y_predicted_inv = y_scaler.inverse_transform(y_predicted)\n",
    "    y_predicted_all.append(y_predicted_inv[0][0])\n",
    "    del X_scaled_predict\n",
    "    del y_scaled_predict\n",
    "    \n",
    "    add_index = pd.Index([(datetime.today())+ timedelta(days=1)])\n",
    "    add_index.set_names('Date', inplace=True)\n",
    "    df2 = pd.DataFrame(index = add_index, data=([[y_predicted_inv[0][0], 0.0, 0.0, 0.0, 0.0, 0.0, 0.0, 0.0, 0, 0, 0, 0]]), columns=['price', 'kama', 'ppo', \n",
    "                    'roc', 'macd', 'rsi', 'aroon', 'boll_mavg', 'day_of_month', 'day_of_week', 'month', 'increase'])\n",
    "    df = df.append(df2)\n",
    "    df, X_scaled_predict, y_scaled_predict = create_data(df)\n",
    "    del y_predicted\n",
    "    del y_predicted_inv\n",
    "\n",
    "print(y_predicted_all)"
   ]
  },
  {
   "cell_type": "code",
   "execution_count": 490,
   "metadata": {},
   "outputs": [
    {
     "data": {
      "image/png": "[encoded data removed]",
      "text/plain": [
       "<Figure size 432x288 with 1 Axes>"
      ]
     },
     "metadata": {
      "needs_background": "light"
     },
     "output_type": "display_data"
    }
   ],
   "source": [
    "plt.plot(np.arange(0, len(prices)), prices, 'g', label=\"history\")\n",
    "plt.plot(np.arange(len(prices), len(prices) + len(y_predicted_all)), y_predicted_all, 'r', label=\"prediction\")\n",
    "plt.title('ETH USD Price with prediction')\n",
    "plt.xlabel('Tage')\n",
    "plt.ylabel('Preis')\n",
    "plt.legend()\n",
    "\n",
    "plt.show()"
   ]
  },
  {
   "cell_type": "markdown",
   "metadata": {},
   "source": [
    "## 3. Auführung"
   ]
  },
  {
   "cell_type": "markdown",
   "metadata": {},
   "source": [
    "## Anwenden auf Twitter Livedaten\n",
    "\n",
    "Da die Sentimentanalyse lediglich eine Ergänzung zu der technischen Analyse ist müssen die Ergebnisse entsprechend aufbereitet werden.\n",
    "\n",
    "Um die Tweets zu fetchen wird `searchtweets` verwendet. Weiterhin wird wieder Matplotlib verwendet, um die Ergebnisse graphisch darzustellen."
   ]
  },
  {
   "cell_type": "code",
   "execution_count": 43,
   "metadata": {},
   "outputs": [
    {
     "ename": "ModuleNotFoundError",
     "evalue": "No module named 'searchtweets'",
     "output_type": "error",
     "traceback": [
      "\u001b[0;31m---------------------------------------------------------------------------\u001b[0m",
      "\u001b[0;31mModuleNotFoundError\u001b[0m                       Traceback (most recent call last)",
      "\u001b[0;32m<ipython-input-43-8b1598c3b404>\u001b[0m in \u001b[0;36m<module>\u001b[0;34m\u001b[0m\n\u001b[1;32m      1\u001b[0m \u001b[0;31m# pip install searchtweets-v2\u001b[0m\u001b[0;34m\u001b[0m\u001b[0;34m\u001b[0m\u001b[0;34m\u001b[0m\u001b[0m\n\u001b[0;32m----> 2\u001b[0;31m \u001b[0;32mfrom\u001b[0m \u001b[0msearchtweets\u001b[0m \u001b[0;32mimport\u001b[0m \u001b[0mload_credentials\u001b[0m\u001b[0;34m,\u001b[0m \u001b[0mgen_request_parameters\u001b[0m\u001b[0;34m,\u001b[0m \u001b[0mcollect_results\u001b[0m\u001b[0;34m\u001b[0m\u001b[0;34m\u001b[0m\u001b[0m\n\u001b[0m\u001b[1;32m      3\u001b[0m \u001b[0;32mfrom\u001b[0m \u001b[0mdatetime\u001b[0m \u001b[0;32mimport\u001b[0m \u001b[0mdatetime\u001b[0m\u001b[0;34m\u001b[0m\u001b[0;34m\u001b[0m\u001b[0m\n\u001b[1;32m      4\u001b[0m \u001b[0;32mimport\u001b[0m \u001b[0mmatplotlib\u001b[0m\u001b[0;34m.\u001b[0m\u001b[0mdates\u001b[0m \u001b[0;32mas\u001b[0m \u001b[0mmdate\u001b[0m\u001b[0;34m\u001b[0m\u001b[0;34m\u001b[0m\u001b[0m\n\u001b[1;32m      5\u001b[0m \u001b[0;32mimport\u001b[0m \u001b[0mmath\u001b[0m\u001b[0;34m\u001b[0m\u001b[0;34m\u001b[0m\u001b[0m\n",
      "\u001b[0;31mModuleNotFoundError\u001b[0m: No module named 'searchtweets'"
     ]
    }
   ],
   "source": [
    "# pip install searchtweets-v2\n",
    "from searchtweets import load_credentials, gen_request_parameters, collect_results\n",
    "from datetime import datetime\n",
    "import matplotlib.dates as mdate\n",
    "import math"
   ]
  },
  {
   "cell_type": "markdown",
   "metadata": {},
   "source": [
    "Hier laden wir den Token für die Twitter API, dieser sollte sich im Rootordner des Projekts liegen."
   ]
  },
  {
   "cell_type": "code",
   "execution_count": null,
   "metadata": {},
   "outputs": [],
   "source": [
    "search_args = load_credentials(\"./.twitter_keys.yaml\", yaml_key=\"search_tweets_v2\")"
   ]
  },
  {
   "cell_type": "markdown",
   "metadata": {},
   "source": [
    "Hier definieren wir unsere Queryparameter. Wir laden 100 Tweets, was das Maximum für einen einzelnen API Request ist und geben an, dass alle Tweets mit den Keywords \"ether\", \"eth\", \"ethereum\" oder \"cryptocurrency\" gefetcht werden sollen. Weiterhin filtern wir Tweets von Bots heraus und Tweets, die das Wort \"app\" enthalten, da dies meist nur Werbung ist. Zusätzlich müssen die Nutzer verifiziert sein und die Sprache englisch."
   ]
  },
  {
   "cell_type": "code",
   "execution_count": null,
   "metadata": {},
   "outputs": [],
   "source": [
    "max_tweets = 100\n",
    "\n",
    "query = gen_request_parameters(\n",
    "    \"(ether OR eth OR ethereum OR cryptocurrency) -bot -app -is:retweet is:verified lang:en\",\n",
    "    tweet_fields=\"id,created_at,text,public_metrics\",\n",
    "    results_per_call=max_tweets)"
   ]
  },
  {
   "cell_type": "markdown",
   "metadata": {},
   "source": [
    "Mit `collect_results()` fetchen wir nun die Tweets und reversen sie, da sie hier für uns falschrum ankommen (neuester Tweet kommt hier zuerst). Mit `pop()` entfernen wir das erste Element, da es sich hier um ein Informationsobjekt handelt. Weiterhin filtern wir die für uns relevanten Informationen heraus wie Datum und Text."
   ]
  },
  {
   "cell_type": "code",
   "execution_count": null,
   "metadata": {},
   "outputs": [],
   "source": [
    "tweets = list(reversed(collect_results(query, max_tweets=max_tweets, result_stream_args=search_args)))\n",
    "\n",
    "tweets.pop(0)\n",
    "\n",
    "print(tweets[0])\n",
    "\n",
    "create_dates = []\n",
    "tweet_texts = []\n",
    "\n",
    "for tweet in tweets:\n",
    "    if 'text' not in tweet:\n",
    "        continue\n",
    "    tweet_texts.append(tweet['text'])\n",
    "    \n",
    "    utc_time = datetime.strptime(tweet['created_at'], \"%Y-%m-%dT%H:%M:%S.%fZ\")\n",
    "    epoch_time = (utc_time - datetime(1970, 1, 1)).total_seconds()\n",
    "    create_dates.append(epoch_time)"
   ]
  },
  {
   "cell_type": "markdown",
   "metadata": {},
   "source": [
    "Hier übergeben wir unseren Sentimentmodel den Batch an gefetchten Tweets. Dannach formatieren wir noch das Sentiment, sodass es von -1 bis 1 geht. Somit kann man besser unterscheiden, ob Tweets negativ oder positiv gemeint sind."
   ]
  },
  {
   "cell_type": "code",
   "execution_count": null,
   "metadata": {},
   "outputs": [],
   "source": [
    "raw_sentiment = sentiment_model.predict(tweet_texts).flatten()\n",
    "\n",
    "sentiment = []\n",
    "\n",
    "for s in raw_sentiment:\n",
    "    sentiment.append((s - 0.5) * 2)\n",
    "\n",
    "for i in range(5):\n",
    "    d = create_dates[i]\n",
    "    t = tweet_texts[i]\n",
    "    p = sentiment[i]\n",
    "    print(\"{} - {} - {}\".format(d,t,p))"
   ]
  },
  {
   "cell_type": "markdown",
   "metadata": {},
   "source": [
    "Da wir den aktuellen Sentimenttrend bestimmen wollen implementieren wir eine Simple Moving Average"
   ]
  },
  {
   "cell_type": "code",
   "execution_count": null,
   "metadata": {},
   "outputs": [],
   "source": [
    "def simple_moving_avg(x, n):\n",
    "    cumsum = np.cumsum(np.insert(x, 0, 0))\n",
    "    return (cumsum[n:] - cumsum[:-n]) / float(n)"
   ]
  },
  {
   "cell_type": "markdown",
   "metadata": {},
   "source": [
    "Nun plotten wir das Sentiment in einen Zeitgraphen. Hier können wir bereits erkennen, wir die aktuelle Marktstimmung der letzten Stunden aussieht"
   ]
  },
  {
   "cell_type": "code",
   "execution_count": null,
   "metadata": {},
   "outputs": [],
   "source": [
    "n = 10\n",
    "sma = simple_moving_avg(sentiment, n)\n",
    "\n",
    "for i in range(n - 1):\n",
    "    sma = np.insert(sma, i, sentiment[i])\n",
    "    \n",
    "dates = mdate.epoch2num(create_dates)\n",
    "\n",
    "fig, ax = plt.subplots()\n",
    "\n",
    "ax.plot(dates, sma, label=\"simple moving average\")\n",
    "ax.plot(dates, sentiment, \"o\", label=\"predicted sentiment\")\n",
    "\n",
    "date_fmt = '%d-%m-%y %H:%M:%S'\n",
    "\n",
    "date_formatter = mdate.DateFormatter(date_fmt)\n",
    "ax.xaxis.set_major_formatter(date_formatter)\n",
    "\n",
    "fig.autofmt_xdate()\n",
    "\n",
    "plt.title('Predictions and MA')\n",
    "plt.legend(loc='lower right')\n",
    "\n",
    "plt.show()"
   ]
  },
  {
   "cell_type": "markdown",
   "metadata": {},
   "source": [
    "Wir wollen aber zusätzlich noch den Einfluss der Tweets miteinberechnen. Dafür gewichten wir die Tweets mithilfe der Anzahl der Likes. Dafür mulitplizieren wir die Anzahl der Likes mit dem Sentiment Wert (+1 da sonst alle Tweets mit 0 Likes eliminiert werden). Mit den Sigmoid Funktion squashen wir alle Werte zurück in unseren vorherigen Wertebereich."
   ]
  },
  {
   "cell_type": "code",
   "execution_count": null,
   "metadata": {},
   "outputs": [],
   "source": [
    "weighted_sentiment = []\n",
    "\n",
    "def normalized_sigmoid(x):\n",
    "  return ((1 / (1 + math.exp(-x))) - 0.5) * 2\n",
    "\n",
    "for i in range(len(sentiment)):\n",
    "    weight = tweets[i]['public_metrics']['like_count'] + 1\n",
    "    weighted_sentiment.append(normalized_sigmoid(weight * sentiment[i]))\n"
   ]
  },
  {
   "cell_type": "markdown",
   "metadata": {},
   "source": [
    "Nun können wir die gewichtete Marktstimmung erneut ausgeben"
   ]
  },
  {
   "cell_type": "code",
   "execution_count": null,
   "metadata": {},
   "outputs": [],
   "source": [
    "n = 10\n",
    "weighted_sma = simple_moving_avg(weighted_sentiment, n)\n",
    "\n",
    "for i in range(n - 1):\n",
    "    weighted_sma = np.insert(weighted_sma, i, weighted_sentiment[i])\n",
    "    \n",
    "dates = mdate.epoch2num(create_dates)\n",
    "\n",
    "fig, ax = plt.subplots()\n",
    "\n",
    "ax.plot(dates, weighted_sma, label=\"simple moving average\")\n",
    "ax.plot(dates, weighted_sentiment, \"o\", label=\"weighted sentiment\")\n",
    "\n",
    "date_fmt = '%d-%m-%y %H:%M:%S'\n",
    "\n",
    "date_formatter = mdate.DateFormatter(date_fmt)\n",
    "ax.xaxis.set_major_formatter(date_formatter)\n",
    "\n",
    "fig.autofmt_xdate()\n",
    "\n",
    "plt.title('Weighted predictions and MA')\n",
    "plt.legend(loc='lower right')\n",
    "\n",
    "plt.show()"
   ]
  },
  {
   "cell_type": "markdown",
   "metadata": {},
   "source": [
    "Letztendlich können wir die beiden Werte noch vergleichen, um zu überprüfen, ob die Gewichtung tatsächlich einen Einfluss auf den Stimmungstrend hat"
   ]
  },
  {
   "cell_type": "code",
   "execution_count": null,
   "metadata": {},
   "outputs": [],
   "source": [
    "dates = mdate.epoch2num(create_dates)\n",
    "\n",
    "fig, ax = plt.subplots()\n",
    "\n",
    "ax.plot(dates, sma, label=\"raw\", color='blue')\n",
    "ax.plot(dates, weighted_sma, label=\"weighted\", color='orange')\n",
    "\n",
    "date_fmt = '%d-%m-%y %H:%M:%S'\n",
    "\n",
    "date_formatter = mdate.DateFormatter(date_fmt)\n",
    "ax.xaxis.set_major_formatter(date_formatter)\n",
    "\n",
    "fig.autofmt_xdate()\n",
    "\n",
    "plt.title('Raw and weighted predictions')\n",
    "plt.legend(loc='lower right')\n",
    "\n",
    "plt.show()"
   ]
  }
 ],
 "metadata": {
  "kernelspec": {
   "display_name": "Python 3",
   "language": "python",
   "name": "python3"
  },
  "language_info": {
   "codemirror_mode": {
    "name": "ipython",
    "version": 3
   },
   "file_extension": ".py",
   "mimetype": "text/x-python",
   "name": "python",
   "nbconvert_exporter": "python",
   "pygments_lexer": "ipython3",
   "version": "3.7.3"
  }
 },
 "nbformat": 4,
 "nbformat_minor": 2
}
