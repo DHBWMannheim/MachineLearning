{
 "cells": [
  {
   "cell_type": "code",
   "execution_count": 70,
   "metadata": {},
   "outputs": [],
   "source": [
    "import pandas as pd\n",
    "from ta.utils import dropna\n",
    "from ta.volatility import BollingerBands, AverageTrueRange\n",
    "from ta.momentum import KAMAIndicator, PercentagePriceOscillator, PercentageVolumeOscillator, ROCIndicator, RSIIndicator, StochasticOscillator\n",
    "from ta.trend import MACD, ADXIndicator, AroonIndicator\n",
    "from ta.volume import OnBalanceVolumeIndicator, AccDistIndexIndicator"
   ]
  },
  {
   "cell_type": "code",
   "execution_count": 15,
   "metadata": {},
   "outputs": [],
   "source": [
    "df = pd.read_csv(\"/Users/michi/Downloads/ethusd.csv\")"
   ]
  },
  {
   "cell_type": "code",
   "execution_count": 16,
   "metadata": {},
   "outputs": [],
   "source": [
    "df = dropna(df)"
   ]
  },
  {
   "cell_type": "code",
   "execution_count": 22,
   "metadata": {},
   "outputs": [],
   "source": [
    "kama_indicator = KAMAIndicator(close = df[\"Close\"], window = 10, pow1 = 2, pow2 = 30, fillna = False)"
   ]
  },
  {
   "cell_type": "code",
   "execution_count": 23,
   "metadata": {},
   "outputs": [],
   "source": [
    "df['kama'] = kama_indicator.kama()"
   ]
  },
  {
   "cell_type": "code",
   "execution_count": 26,
   "metadata": {},
   "outputs": [],
   "source": [
    "ppo_indicator = PercentagePriceOscillator(close = df[\"Close\"], window_slow = 26, window_fast = 12, window_sign = 9, fillna = False)"
   ]
  },
  {
   "cell_type": "code",
   "execution_count": 27,
   "metadata": {},
   "outputs": [],
   "source": [
    "df['ppo'] = ppo_indicator.ppo()"
   ]
  },
  {
   "cell_type": "code",
   "execution_count": 31,
   "metadata": {},
   "outputs": [],
   "source": [
    "pvo_indicator = PercentageVolumeOscillator(volume = df[\"Volume\"], window_slow = 26, window_fast = 12, window_sign = 9, fillna = False)"
   ]
  },
  {
   "cell_type": "code",
   "execution_count": 32,
   "metadata": {},
   "outputs": [],
   "source": [
    "df['pvo'] = pvo_indicator.pvo()"
   ]
  },
  {
   "cell_type": "code",
   "execution_count": 35,
   "metadata": {},
   "outputs": [],
   "source": [
    "roc_indicator = ROCIndicator(close = df[\"Close\"], window = 12, fillna = False)"
   ]
  },
  {
   "cell_type": "code",
   "execution_count": 36,
   "metadata": {},
   "outputs": [],
   "source": [
    "df['roc'] = roc_indicator.roc()"
   ]
  },
  {
   "cell_type": "code",
   "execution_count": 40,
   "metadata": {},
   "outputs": [],
   "source": [
    "macd_indicator = MACD(close = df[\"Close\"], window_slow = 26, window_fast = 12, window_sign = 9, fillna = False)"
   ]
  },
  {
   "cell_type": "code",
   "execution_count": 41,
   "metadata": {},
   "outputs": [],
   "source": [
    "df['macd'] = macd_indicator.macd()"
   ]
  },
  {
   "cell_type": "code",
   "execution_count": 43,
   "metadata": {},
   "outputs": [],
   "source": [
    "rsi_indicator = RSIIndicator(close = df[\"Close\"], window = 14, fillna = False)"
   ]
  },
  {
   "cell_type": "code",
   "execution_count": 44,
   "metadata": {},
   "outputs": [],
   "source": [
    "df['rsi'] = rsi_indicator.rsi()"
   ]
  },
  {
   "cell_type": "code",
   "execution_count": 47,
   "metadata": {},
   "outputs": [],
   "source": [
    "obv_indicator = OnBalanceVolumeIndicator(close = df[\"Close\"], volume = df[\"Volume\"], fillna = False)"
   ]
  },
  {
   "cell_type": "code",
   "execution_count": 48,
   "metadata": {},
   "outputs": [],
   "source": [
    "df['obv'] = obv_indicator.on_balance_volume() "
   ]
  },
  {
   "cell_type": "code",
   "execution_count": 51,
   "metadata": {},
   "outputs": [],
   "source": [
    "adi_indicator = AccDistIndexIndicator(high = df[\"High\"], low = df[\"Low\"], close = df[\"Close\"], volume = df[\"Volume\"], fillna = False)"
   ]
  },
  {
   "cell_type": "code",
   "execution_count": 52,
   "metadata": {},
   "outputs": [],
   "source": [
    "df['adi'] = adi_indicator.acc_dist_index() "
   ]
  },
  {
   "cell_type": "code",
   "execution_count": 55,
   "metadata": {},
   "outputs": [],
   "source": [
    "adx_indicator = ADXIndicator(high = df[\"High\"], low = df[\"Low\"], close = df[\"Close\"], window = 14, fillna = False)"
   ]
  },
  {
   "cell_type": "code",
   "execution_count": 56,
   "metadata": {},
   "outputs": [
    {
     "name": "stderr",
     "output_type": "stream",
     "text": [
      "/Users/michi/opt/anaconda3/lib/python3.7/site-packages/ta/trend.py:768: RuntimeWarning: invalid value encountered in double_scalars\n",
      "  dip[i] = 100 * (self._dip[i] / self._trs[i])\n",
      "/Users/michi/opt/anaconda3/lib/python3.7/site-packages/ta/trend.py:772: RuntimeWarning: invalid value encountered in double_scalars\n",
      "  din[i] = 100 * (self._din[i] / self._trs[i])\n"
     ]
    }
   ],
   "source": [
    "df['adx'] = adx_indicator.adx() "
   ]
  },
  {
   "cell_type": "code",
   "execution_count": 60,
   "metadata": {},
   "outputs": [],
   "source": [
    "aroon_indicator = AroonIndicator(close = df[\"Close\"], window = 25, fillna = False)"
   ]
  },
  {
   "cell_type": "code",
   "execution_count": 61,
   "metadata": {},
   "outputs": [],
   "source": [
    "df['aroon'] = aroon_indicator.aroon_indicator()"
   ]
  },
  {
   "cell_type": "code",
   "execution_count": 63,
   "metadata": {},
   "outputs": [],
   "source": [
    "stoo_indicator = StochasticOscillator(high = df[\"High\"], low = df[\"Low\"], close = df[\"Close\"], window = 14, smooth_window = 3, fillna = False)"
   ]
  },
  {
   "cell_type": "code",
   "execution_count": 64,
   "metadata": {},
   "outputs": [],
   "source": [
    "df['stoo'] = stoo_indicator.stoch()"
   ]
  },
  {
   "cell_type": "code",
   "execution_count": 66,
   "metadata": {},
   "outputs": [],
   "source": [
    "boll_indicator = BollingerBands(close = df[\"Close\"], window = 20, window_dev = 2, fillna = False)"
   ]
  },
  {
   "cell_type": "code",
   "execution_count": 68,
   "metadata": {},
   "outputs": [],
   "source": [
    "df['boll_mavg'] = boll_indicator.bollinger_mavg()"
   ]
  },
  {
   "cell_type": "code",
   "execution_count": 71,
   "metadata": {},
   "outputs": [],
   "source": [
    "atr_indicator = AverageTrueRange(high = df[\"High\"], low = df[\"Low\"], close = df[\"Close\"], window = 14, fillna = False)"
   ]
  },
  {
   "cell_type": "code",
   "execution_count": 72,
   "metadata": {},
   "outputs": [],
   "source": [
    "df['atr'] = atr_indicator.average_true_range()"
   ]
  },
  {
   "cell_type": "code",
   "execution_count": 73,
   "metadata": {},
   "outputs": [
    {
     "data": {
      "text/html": [
       "<div>\n",
       "<style scoped>\n",
       "    .dataframe tbody tr th:only-of-type {\n",
       "        vertical-align: middle;\n",
       "    }\n",
       "\n",
       "    .dataframe tbody tr th {\n",
       "        vertical-align: top;\n",
       "    }\n",
       "\n",
       "    .dataframe thead th {\n",
       "        text-align: right;\n",
       "    }\n",
       "</style>\n",
       "<table border=\"1\" class=\"dataframe\">\n",
       "  <thead>\n",
       "    <tr style=\"text-align: right;\">\n",
       "      <th></th>\n",
       "      <th>Date</th>\n",
       "      <th>Open</th>\n",
       "      <th>High</th>\n",
       "      <th>Low</th>\n",
       "      <th>Close</th>\n",
       "      <th>Adj Close</th>\n",
       "      <th>Volume</th>\n",
       "      <th>kama</th>\n",
       "      <th>ppo</th>\n",
       "      <th>pvo</th>\n",
       "      <th>roc</th>\n",
       "      <th>macd</th>\n",
       "      <th>rsi</th>\n",
       "      <th>obv</th>\n",
       "      <th>adi</th>\n",
       "      <th>adx</th>\n",
       "      <th>aroon</th>\n",
       "      <th>stoo</th>\n",
       "      <th>boll_mavg</th>\n",
       "      <th>atr</th>\n",
       "    </tr>\n",
       "  </thead>\n",
       "  <tbody>\n",
       "    <tr>\n",
       "      <th>0</th>\n",
       "      <td>2015-08-07</td>\n",
       "      <td>2.831620</td>\n",
       "      <td>3.536610</td>\n",
       "      <td>2.521120</td>\n",
       "      <td>2.772120</td>\n",
       "      <td>2.772120</td>\n",
       "      <td>1.643290e+05</td>\n",
       "      <td>NaN</td>\n",
       "      <td>NaN</td>\n",
       "      <td>NaN</td>\n",
       "      <td>NaN</td>\n",
       "      <td>NaN</td>\n",
       "      <td>NaN</td>\n",
       "      <td>1.643290e+05</td>\n",
       "      <td>-8.309417e+04</td>\n",
       "      <td>0.000000</td>\n",
       "      <td>NaN</td>\n",
       "      <td>NaN</td>\n",
       "      <td>NaN</td>\n",
       "      <td>0.000000</td>\n",
       "    </tr>\n",
       "    <tr>\n",
       "      <th>1</th>\n",
       "      <td>2015-08-08</td>\n",
       "      <td>2.793760</td>\n",
       "      <td>2.798810</td>\n",
       "      <td>0.714725</td>\n",
       "      <td>0.753325</td>\n",
       "      <td>0.753325</td>\n",
       "      <td>6.741880e+05</td>\n",
       "      <td>NaN</td>\n",
       "      <td>NaN</td>\n",
       "      <td>NaN</td>\n",
       "      <td>NaN</td>\n",
       "      <td>NaN</td>\n",
       "      <td>NaN</td>\n",
       "      <td>-5.098590e+05</td>\n",
       "      <td>-7.323085e+05</td>\n",
       "      <td>0.000000</td>\n",
       "      <td>NaN</td>\n",
       "      <td>NaN</td>\n",
       "      <td>NaN</td>\n",
       "      <td>0.000000</td>\n",
       "    </tr>\n",
       "    <tr>\n",
       "      <th>2</th>\n",
       "      <td>2015-08-09</td>\n",
       "      <td>0.706136</td>\n",
       "      <td>0.879810</td>\n",
       "      <td>0.629191</td>\n",
       "      <td>0.701897</td>\n",
       "      <td>0.701897</td>\n",
       "      <td>5.321700e+05</td>\n",
       "      <td>NaN</td>\n",
       "      <td>NaN</td>\n",
       "      <td>NaN</td>\n",
       "      <td>NaN</td>\n",
       "      <td>NaN</td>\n",
       "      <td>NaN</td>\n",
       "      <td>-1.042029e+06</td>\n",
       "      <td>-9.557074e+05</td>\n",
       "      <td>0.000000</td>\n",
       "      <td>NaN</td>\n",
       "      <td>NaN</td>\n",
       "      <td>NaN</td>\n",
       "      <td>0.000000</td>\n",
       "    </tr>\n",
       "    <tr>\n",
       "      <th>3</th>\n",
       "      <td>2015-08-10</td>\n",
       "      <td>0.713989</td>\n",
       "      <td>0.729854</td>\n",
       "      <td>0.636546</td>\n",
       "      <td>0.708448</td>\n",
       "      <td>0.708448</td>\n",
       "      <td>4.052830e+05</td>\n",
       "      <td>NaN</td>\n",
       "      <td>NaN</td>\n",
       "      <td>NaN</td>\n",
       "      <td>NaN</td>\n",
       "      <td>NaN</td>\n",
       "      <td>NaN</td>\n",
       "      <td>-6.367460e+05</td>\n",
       "      <td>-7.363782e+05</td>\n",
       "      <td>0.000000</td>\n",
       "      <td>NaN</td>\n",
       "      <td>NaN</td>\n",
       "      <td>NaN</td>\n",
       "      <td>0.000000</td>\n",
       "    </tr>\n",
       "    <tr>\n",
       "      <th>4</th>\n",
       "      <td>2015-08-11</td>\n",
       "      <td>0.708087</td>\n",
       "      <td>1.131410</td>\n",
       "      <td>0.663235</td>\n",
       "      <td>1.067860</td>\n",
       "      <td>1.067860</td>\n",
       "      <td>1.463100e+06</td>\n",
       "      <td>NaN</td>\n",
       "      <td>NaN</td>\n",
       "      <td>NaN</td>\n",
       "      <td>NaN</td>\n",
       "      <td>NaN</td>\n",
       "      <td>NaN</td>\n",
       "      <td>8.263540e+05</td>\n",
       "      <td>3.295199e+05</td>\n",
       "      <td>0.000000</td>\n",
       "      <td>NaN</td>\n",
       "      <td>NaN</td>\n",
       "      <td>NaN</td>\n",
       "      <td>0.000000</td>\n",
       "    </tr>\n",
       "    <tr>\n",
       "      <th>...</th>\n",
       "      <td>...</td>\n",
       "      <td>...</td>\n",
       "      <td>...</td>\n",
       "      <td>...</td>\n",
       "      <td>...</td>\n",
       "      <td>...</td>\n",
       "      <td>...</td>\n",
       "      <td>...</td>\n",
       "      <td>...</td>\n",
       "      <td>...</td>\n",
       "      <td>...</td>\n",
       "      <td>...</td>\n",
       "      <td>...</td>\n",
       "      <td>...</td>\n",
       "      <td>...</td>\n",
       "      <td>...</td>\n",
       "      <td>...</td>\n",
       "      <td>...</td>\n",
       "      <td>...</td>\n",
       "      <td>...</td>\n",
       "    </tr>\n",
       "    <tr>\n",
       "      <th>2025</th>\n",
       "      <td>2021-02-21</td>\n",
       "      <td>1918.673096</td>\n",
       "      <td>1974.259644</td>\n",
       "      <td>1890.368164</td>\n",
       "      <td>1935.601074</td>\n",
       "      <td>1935.601074</td>\n",
       "      <td>2.362655e+10</td>\n",
       "      <td>1783.478243</td>\n",
       "      <td>8.871710</td>\n",
       "      <td>-6.680036</td>\n",
       "      <td>9.477529</td>\n",
       "      <td>149.944851</td>\n",
       "      <td>69.022841</td>\n",
       "      <td>1.234941e+12</td>\n",
       "      <td>1.529547e+12</td>\n",
       "      <td>31.465398</td>\n",
       "      <td>88.0</td>\n",
       "      <td>78.333547</td>\n",
       "      <td>1772.453857</td>\n",
       "      <td>122.700049</td>\n",
       "    </tr>\n",
       "    <tr>\n",
       "      <th>2026</th>\n",
       "      <td>2021-02-22</td>\n",
       "      <td>1935.557861</td>\n",
       "      <td>1936.453735</td>\n",
       "      <td>1580.626587</td>\n",
       "      <td>1781.992920</td>\n",
       "      <td>1781.992920</td>\n",
       "      <td>4.240965e+10</td>\n",
       "      <td>1783.446555</td>\n",
       "      <td>7.908499</td>\n",
       "      <td>-3.963375</td>\n",
       "      <td>2.164234</td>\n",
       "      <td>134.203235</td>\n",
       "      <td>56.186023</td>\n",
       "      <td>1.192531e+12</td>\n",
       "      <td>1.535137e+12</td>\n",
       "      <td>29.766826</td>\n",
       "      <td>76.0</td>\n",
       "      <td>44.192242</td>\n",
       "      <td>1785.793817</td>\n",
       "      <td>139.351985</td>\n",
       "    </tr>\n",
       "    <tr>\n",
       "      <th>2027</th>\n",
       "      <td>2021-02-23</td>\n",
       "      <td>1781.409058</td>\n",
       "      <td>1781.409058</td>\n",
       "      <td>1378.840942</td>\n",
       "      <td>1570.203979</td>\n",
       "      <td>1570.203979</td>\n",
       "      <td>5.202986e+10</td>\n",
       "      <td>1764.869591</td>\n",
       "      <td>6.129902</td>\n",
       "      <td>0.269751</td>\n",
       "      <td>-11.974114</td>\n",
       "      <td>103.445835</td>\n",
       "      <td>44.027908</td>\n",
       "      <td>1.140501e+12</td>\n",
       "      <td>1.532573e+12</td>\n",
       "      <td>29.455699</td>\n",
       "      <td>76.0</td>\n",
       "      <td>29.107055</td>\n",
       "      <td>1781.258539</td>\n",
       "      <td>158.194842</td>\n",
       "    </tr>\n",
       "    <tr>\n",
       "      <th>2028</th>\n",
       "      <td>2021-02-24</td>\n",
       "      <td>1571.476440</td>\n",
       "      <td>1710.983765</td>\n",
       "      <td>1511.018921</td>\n",
       "      <td>1626.575684</td>\n",
       "      <td>1626.575684</td>\n",
       "      <td>3.132900e+10</td>\n",
       "      <td>1758.076427</td>\n",
       "      <td>4.911708</td>\n",
       "      <td>-0.997715</td>\n",
       "      <td>-11.768542</td>\n",
       "      <td>82.666174</td>\n",
       "      <td>47.296920</td>\n",
       "      <td>1.171830e+12</td>\n",
       "      <td>1.537453e+12</td>\n",
       "      <td>29.166796</td>\n",
       "      <td>76.0</td>\n",
       "      <td>37.681408</td>\n",
       "      <td>1782.849188</td>\n",
       "      <td>161.178413</td>\n",
       "    </tr>\n",
       "    <tr>\n",
       "      <th>2030</th>\n",
       "      <td>2021-02-26</td>\n",
       "      <td>1486.174561</td>\n",
       "      <td>1523.560913</td>\n",
       "      <td>1410.830444</td>\n",
       "      <td>1523.094360</td>\n",
       "      <td>1523.094360</td>\n",
       "      <td>5.841805e+10</td>\n",
       "      <td>1741.289845</td>\n",
       "      <td>3.422031</td>\n",
       "      <td>3.765211</td>\n",
       "      <td>-16.041779</td>\n",
       "      <td>57.188828</td>\n",
       "      <td>42.401280</td>\n",
       "      <td>1.113412e+12</td>\n",
       "      <td>1.595387e+12</td>\n",
       "      <td>29.428960</td>\n",
       "      <td>72.0</td>\n",
       "      <td>21.941500</td>\n",
       "      <td>1773.071362</td>\n",
       "      <td>165.076044</td>\n",
       "    </tr>\n",
       "  </tbody>\n",
       "</table>\n",
       "<p>2026 rows × 20 columns</p>\n",
       "</div>"
      ],
      "text/plain": [
       "            Date         Open         High          Low        Close  \\\n",
       "0     2015-08-07     2.831620     3.536610     2.521120     2.772120   \n",
       "1     2015-08-08     2.793760     2.798810     0.714725     0.753325   \n",
       "2     2015-08-09     0.706136     0.879810     0.629191     0.701897   \n",
       "3     2015-08-10     0.713989     0.729854     0.636546     0.708448   \n",
       "4     2015-08-11     0.708087     1.131410     0.663235     1.067860   \n",
       "...          ...          ...          ...          ...          ...   \n",
       "2025  2021-02-21  1918.673096  1974.259644  1890.368164  1935.601074   \n",
       "2026  2021-02-22  1935.557861  1936.453735  1580.626587  1781.992920   \n",
       "2027  2021-02-23  1781.409058  1781.409058  1378.840942  1570.203979   \n",
       "2028  2021-02-24  1571.476440  1710.983765  1511.018921  1626.575684   \n",
       "2030  2021-02-26  1486.174561  1523.560913  1410.830444  1523.094360   \n",
       "\n",
       "        Adj Close        Volume         kama       ppo       pvo        roc  \\\n",
       "0        2.772120  1.643290e+05          NaN       NaN       NaN        NaN   \n",
       "1        0.753325  6.741880e+05          NaN       NaN       NaN        NaN   \n",
       "2        0.701897  5.321700e+05          NaN       NaN       NaN        NaN   \n",
       "3        0.708448  4.052830e+05          NaN       NaN       NaN        NaN   \n",
       "4        1.067860  1.463100e+06          NaN       NaN       NaN        NaN   \n",
       "...           ...           ...          ...       ...       ...        ...   \n",
       "2025  1935.601074  2.362655e+10  1783.478243  8.871710 -6.680036   9.477529   \n",
       "2026  1781.992920  4.240965e+10  1783.446555  7.908499 -3.963375   2.164234   \n",
       "2027  1570.203979  5.202986e+10  1764.869591  6.129902  0.269751 -11.974114   \n",
       "2028  1626.575684  3.132900e+10  1758.076427  4.911708 -0.997715 -11.768542   \n",
       "2030  1523.094360  5.841805e+10  1741.289845  3.422031  3.765211 -16.041779   \n",
       "\n",
       "            macd        rsi           obv           adi        adx  aroon  \\\n",
       "0            NaN        NaN  1.643290e+05 -8.309417e+04   0.000000    NaN   \n",
       "1            NaN        NaN -5.098590e+05 -7.323085e+05   0.000000    NaN   \n",
       "2            NaN        NaN -1.042029e+06 -9.557074e+05   0.000000    NaN   \n",
       "3            NaN        NaN -6.367460e+05 -7.363782e+05   0.000000    NaN   \n",
       "4            NaN        NaN  8.263540e+05  3.295199e+05   0.000000    NaN   \n",
       "...          ...        ...           ...           ...        ...    ...   \n",
       "2025  149.944851  69.022841  1.234941e+12  1.529547e+12  31.465398   88.0   \n",
       "2026  134.203235  56.186023  1.192531e+12  1.535137e+12  29.766826   76.0   \n",
       "2027  103.445835  44.027908  1.140501e+12  1.532573e+12  29.455699   76.0   \n",
       "2028   82.666174  47.296920  1.171830e+12  1.537453e+12  29.166796   76.0   \n",
       "2030   57.188828  42.401280  1.113412e+12  1.595387e+12  29.428960   72.0   \n",
       "\n",
       "           stoo    boll_mavg         atr  \n",
       "0           NaN          NaN    0.000000  \n",
       "1           NaN          NaN    0.000000  \n",
       "2           NaN          NaN    0.000000  \n",
       "3           NaN          NaN    0.000000  \n",
       "4           NaN          NaN    0.000000  \n",
       "...         ...          ...         ...  \n",
       "2025  78.333547  1772.453857  122.700049  \n",
       "2026  44.192242  1785.793817  139.351985  \n",
       "2027  29.107055  1781.258539  158.194842  \n",
       "2028  37.681408  1782.849188  161.178413  \n",
       "2030  21.941500  1773.071362  165.076044  \n",
       "\n",
       "[2026 rows x 20 columns]"
      ]
     },
     "execution_count": 73,
     "metadata": {},
     "output_type": "execute_result"
    }
   ],
   "source": [
    "df"
   ]
  },
  {
   "cell_type": "code",
   "execution_count": null,
   "metadata": {},
   "outputs": [],
   "source": []
  }
 ],
 "metadata": {
  "kernelspec": {
   "display_name": "Python 3",
   "language": "python",
   "name": "python3"
  },
  "language_info": {
   "codemirror_mode": {
    "name": "ipython",
    "version": 3
   },
   "file_extension": ".py",
   "mimetype": "text/x-python",
   "name": "python",
   "nbconvert_exporter": "python",
   "pygments_lexer": "ipython3",
   "version": "3.7.3"
  }
 },
 "nbformat": 4,
 "nbformat_minor": 4
}
