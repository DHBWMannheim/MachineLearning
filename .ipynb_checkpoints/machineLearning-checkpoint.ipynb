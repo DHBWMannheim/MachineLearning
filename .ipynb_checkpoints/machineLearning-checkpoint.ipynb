{
 "cells": [
  {
   "cell_type": "markdown",
   "metadata": {},
   "source": [
    "# Machine Learning\n",
    "\n",
    "Dieses Notebook beinhaltet die Prüfungsleistung im Kurs WWI18SEA/C für Machine Learning bei Frau Minges. Es wurde erstellt von Patrick Mischka, Jan Grübener, Matthias Vonend, Aaron Schweig, Michael Angermeier und Troy Keßler.\n",
    "\n",
    "## Inhalt\n",
    "\n",
    "Ziel ist mithilfe von Machine Learning eine Trading Recommendation für Ethereum zu entwickeln. Diese soll aus zwei Teilen bestehen, zum einen aus einer technischen Analyse, wo ein LSTM Modell unter Verwendung von historischen Preisen und Indikatoren entwickelt und trainiert wird, und zum Anderen aus einer Stimmungsanalyse auf Twitter, wofür ein weiteres Deep Neural Network entwickelt und trainiert wird. Letztendlich sollen die Ergebnisse dieser Modelle Entscheidungshilfen sein, um Ethereum zu handeln.\n",
    "\n",
    "### 1. Sentimentmodell\n",
    "\n",
    "Im ersten Teil wird ein Sentimentmodell entwickelt und trainiert. Das Ziel ist hier ein Modell zu entwickelt, welches Tweets auf ihre Stimmung bewerten kann.\n",
    "\n",
    "### 2. Technisches Modell\n",
    "\n",
    "Im zweiten Teil wird ein technisches Modell entwickelt und trainiert. Das Ziel ist hier, basierend auf historischen Preisverläufen und anderen technischen Indikatoren, den zukünftigen Preis für die nächsten 30 Tage vorherzusagen.\n",
    "\n",
    "### 3. Ausführung\n",
    "\n",
    "Im dritten und letzten Teil werden die Modelle an APIs angeschlossen, so dass die Entscheidungshilfen live ausgeführt werden können.\n",
    "\n",
    "## Technologien\n",
    "\n",
    "Für das Modell wird [Tensorflow](https://www.tensorflow.org/) verwendet, zum Plotten von Informationen nutzen wir [Matplotlib](https://matplotlib.org/stable/index.html) und zum Verarbeiten von Daten [Pandas](https://pandas.pydata.org/). Außerdem werden weitere Utilities von [sklearn](https://scikit-learn.org/stable/) übernommen.\n",
    "\n",
    "## Setup\n",
    "\n",
    "Um dieses Notebook zu benutzen müssen Python 3.x (vorzugsweise 3.7.3) und folgende Packages installiert werden:\n",
    "\n",
    "* tensorflow==2.4.1\n",
    "* matplotlib==3.0.3\n",
    "* pandas==1.2.2\n",
    "* pandas_datareader==0.9.0\n",
    "* searchtweets-v2==1.0.7\n",
    "* sklearn\n",
    "\n",
    "Das Datenset für das Trainieren kann über [diesen Link](https://www.dropbox.com/s/ur7pw797mgcc1wr/tweets.csv?dl=0) heruntergeladen werden. Dabei muss die Datei \"tweets.csv\" in den gleichen Ordner wie dieses Notepad abgelegt werden.\n"
   ]
  },
  {
   "cell_type": "markdown",
   "metadata": {},
   "source": [
    "## 1. Sentimentmodell\n",
    "\n",
    "In diesem Notebook wird ein Modell trainiert, welches Tweets live auf ihre Stimmung bewerten soll. Dafür wird ein Deep Neural Network erstellt, welches mit 1.6 Millionen Tweets trainiert wird. Hierbei handelt es sich um ein Klassifikationsproblem, es soll letztendlich entschieden werden, ob ein Tweet negativ (0), oder positiv (1) gestimmt ist.\n",
    "\n",
    "### Datensatz\n",
    "\n",
    "Um nun das Modell möglichst gut darauf zu trainieren reale Tweets zu bewerten haben wir uns für ein Datenset entschieden, welches 1.6 Millionen bereits gelabelte Tweets enthält. Dieses Datenset kann [hier](https://www.kaggle.com/kazanova/sentiment140) gefunden werden."
   ]
  },
  {
   "cell_type": "code",
   "execution_count": 1,
   "metadata": {},
   "outputs": [],
   "source": [
    "import matplotlib.pyplot as plt\n",
    "import os\n",
    "import re\n",
    "import shutil\n",
    "import string\n",
    "import tensorflow as tf\n",
    "import pandas as pd\n",
    "\n",
    "from tensorflow.keras import layers\n",
    "from tensorflow.keras import losses\n",
    "from tensorflow.keras import preprocessing\n",
    "from tensorflow.keras.layers.experimental.preprocessing import TextVectorization\n",
    "from sklearn.model_selection import train_test_split\n",
    "from sklearn.utils import shuffle\n",
    "from tensorflow import feature_column"
   ]
  },
  {
   "cell_type": "markdown",
   "metadata": {},
   "source": [
    "### Laden des Datensatzes\n",
    "\n",
    "Mithilfe von pandas wird das Datenset geladen. Dabei werden nur die erste und die letzte Spalte geladen, da nur diese für uns von Interesse sind. Da es sich bei der ersten Spalte um die Stimmung des Tweets handelt, wird diese mit \"targets\" gelabelt. Die letzte Spalte beinhaltet den eigentlichen Tweet, welcher mit \"text\" gelabelt wird."
   ]
  },
  {
   "cell_type": "code",
   "execution_count": 2,
   "metadata": {},
   "outputs": [],
   "source": [
    "dataframe = pd.read_csv(\"./tweets.csv\", usecols=[0, 5], names=[\"target\", \"text\"])"
   ]
  },
  {
   "cell_type": "markdown",
   "metadata": {},
   "source": [
    "Da das Datenset sortiert ist, muss es randomisiert werden. Falls dies nicht gemacht werden würde, hätte dies einen negativen Einfluss auf das Lernen. Zuerst würden alle negativ gelabelten Daten geladen werden, wodurch das Modell \"denkt\", dass alle Daten negativ wären. Das Modell würde sich entsprechend darauf einstellen. Werden positiven Daten verwerdet, würde das Modell annehmen, dass es nur positive Daten gäbe. Dementsprechend würde es bei richtigen (nicht-trainings) Daten immer eine positive Stimmung vorhersagen, was aber nicht der Realtität entsprechen würde."
   ]
  },
  {
   "cell_type": "code",
   "execution_count": 3,
   "metadata": {},
   "outputs": [],
   "source": [
    "dataframe = shuffle(dataframe)"
   ]
  },
  {
   "cell_type": "markdown",
   "metadata": {},
   "source": [
    "Wenn der Datensatz korrekt geladen wurde sollte eine Tabelle mit den ersten fünf Einträgen zu sehen sein."
   ]
  },
  {
   "cell_type": "code",
   "execution_count": 4,
   "metadata": {},
   "outputs": [
    {
     "data": {
      "text/html": [
       "<div>\n",
       "<style scoped>\n",
       "    .dataframe tbody tr th:only-of-type {\n",
       "        vertical-align: middle;\n",
       "    }\n",
       "\n",
       "    .dataframe tbody tr th {\n",
       "        vertical-align: top;\n",
       "    }\n",
       "\n",
       "    .dataframe thead th {\n",
       "        text-align: right;\n",
       "    }\n",
       "</style>\n",
       "<table border=\"1\" class=\"dataframe\">\n",
       "  <thead>\n",
       "    <tr style=\"text-align: right;\">\n",
       "      <th></th>\n",
       "      <th>target</th>\n",
       "      <th>text</th>\n",
       "    </tr>\n",
       "  </thead>\n",
       "  <tbody>\n",
       "    <tr>\n",
       "      <th>860186</th>\n",
       "      <td>4</td>\n",
       "      <td>more #Dollhouse please!!!!!</td>\n",
       "    </tr>\n",
       "    <tr>\n",
       "      <th>1304155</th>\n",
       "      <td>4</td>\n",
       "      <td>@FuckSparkB psssh... says wh0?!!</td>\n",
       "    </tr>\n",
       "    <tr>\n",
       "      <th>610224</th>\n",
       "      <td>0</td>\n",
       "      <td>@TiaMariaBrooker i have the dentist tomorrow</td>\n",
       "    </tr>\n",
       "    <tr>\n",
       "      <th>1566808</th>\n",
       "      <td>4</td>\n",
       "      <td>to start with: http://www.bigoh.com.au  tell u...</td>\n",
       "    </tr>\n",
       "    <tr>\n",
       "      <th>1372662</th>\n",
       "      <td>4</td>\n",
       "      <td>@peppypri no sorry and all... just thought u m...</td>\n",
       "    </tr>\n",
       "  </tbody>\n",
       "</table>\n",
       "</div>"
      ],
      "text/plain": [
       "         target                                               text\n",
       "860186        4                       more #Dollhouse please!!!!! \n",
       "1304155       4                  @FuckSparkB psssh... says wh0?!! \n",
       "610224        0      @TiaMariaBrooker i have the dentist tomorrow \n",
       "1566808       4  to start with: http://www.bigoh.com.au  tell u...\n",
       "1372662       4  @peppypri no sorry and all... just thought u m..."
      ]
     },
     "execution_count": 4,
     "metadata": {},
     "output_type": "execute_result"
    }
   ],
   "source": [
    "dataframe.head()"
   ]
  },
  {
   "cell_type": "markdown",
   "metadata": {},
   "source": [
    "Um das Trainieren des Modells zu überwachen und um die Trefferquote des Modells hinterher zu errechnen wird der Datensatz in drei Teile unterteilt. In einem Verhältnis von 80:20 wird der Datensatz in Trainingsdaten und Testdaten unterteilt. Trainingsdaten dienen hier ausschließlich zum Trainieren des Modells. Die Testdaten werden nach dem Trainieren dazu verwendet, um die Trefferquote des Modells zu errechnen. Diese sollen reale Daten simulieren. Dieses Verhältnis wurde gewählt, da mehr Trainingsdaten ein besseres Ergebnis versprechen. Die Anzahl der Testdaten muss hingegen nicht hoch sein, um die Trefferquote zu bestimmen.\n",
    "\n",
    "Weiterhin werden die Trainingsdaten wiederum in Trainingsdaten und Validierungsdaten aufgeteilt. Auch hier wird ein Verhältnis von 80:20 angesetzt. Die Validierungsdaten werden dazu verwendet, um das Training zu überwachen. Nach jeder Epoche (Trainingsschritt) wird damit die aktuelle Trefferquote bestimmt."
   ]
  },
  {
   "cell_type": "code",
   "execution_count": 5,
   "metadata": {},
   "outputs": [
    {
     "name": "stdout",
     "output_type": "stream",
     "text": [
      "1024000 training tweets\n",
      "256000 validation tweets\n",
      "320000 test tweets\n"
     ]
    }
   ],
   "source": [
    "train, test = train_test_split(dataframe, test_size=0.2)\n",
    "train, val = train_test_split(train, test_size=0.2)\n",
    "\n",
    "print(len(train), 'training tweets')\n",
    "print(len(val), 'validation tweets')\n",
    "print(len(test), 'test tweets')"
   ]
  },
  {
   "cell_type": "markdown",
   "metadata": {},
   "source": [
    "Da jetzt der Datensatz entsprechend aufgeteilt wurde, kann er nun in das Tensorflow-Format gebracht werden. Dafür werden die Features (text) und die Labels (labels) klar definiert. Zusätzlich wird eine Batchgröße definiert, welche Daten gruppiert und dadurch das Lernen beschleunigt."
   ]
  },
  {
   "cell_type": "code",
   "execution_count": 6,
   "metadata": {},
   "outputs": [],
   "source": [
    "def df_to_dataset(dataframe, batch_size):\n",
    "  dataframe = dataframe.copy()\n",
    "  texts = dataframe.pop('text')\n",
    "  labels = dataframe.pop('target')\n",
    "  return tf.data.Dataset.from_tensor_slices((texts, labels)).batch(batch_size)"
   ]
  },
  {
   "cell_type": "code",
   "execution_count": 7,
   "metadata": {},
   "outputs": [],
   "source": [
    "batch_size = 320\n",
    "\n",
    "raw_train_ds = df_to_dataset(train, batch_size)\n",
    "raw_val_ds = df_to_dataset(val, batch_size)\n",
    "raw_test_ds = df_to_dataset(test, batch_size)"
   ]
  },
  {
   "cell_type": "markdown",
   "metadata": {},
   "source": [
    "Um zu validieren, dass die Konvertierung erfolgreich war, werden die ersten drei Einträge ausgelesen."
   ]
  },
  {
   "cell_type": "code",
   "execution_count": 8,
   "metadata": {},
   "outputs": [
    {
     "name": "stdout",
     "output_type": "stream",
     "text": [
      "Tweet: b'Someones house/car alarm is going off and its fucking loud as fuck! '\n",
      "Label: 0\n",
      "Tweet: b\"OMG! I must have the Hermes Black Crocodile Birkin bag. The waiting list is 3 years &amp;I can't wait a day longer. Anyone got connections? \"\n",
      "Label: 4\n",
      "Tweet: b'@mrspinkyivory aww pinky i hope everything works out 4  '\n",
      "Label: 0\n"
     ]
    }
   ],
   "source": [
    "for text_batch, label_batch in raw_train_ds.take(1):\n",
    "  for i in range(3):\n",
    "    print(\"Tweet:\", text_batch.numpy()[i])\n",
    "    print(\"Label:\", label_batch.numpy()[i])"
   ]
  },
  {
   "cell_type": "markdown",
   "metadata": {},
   "source": [
    "Um unnötige Duplikate zu vermeiden, werden die Daten für das Modell normalisiert. Beispielsweiße werden Wörter, die in manchen Tweets groß und in anderen wieder klein geschrieben werden, angepasst. Zusätzlich können User-Namen, welche mit \"@\" beginnen normalisiert werden, da der genaue User-Name unwichtig für die Sentiment-prediction ist."
   ]
  },
  {
   "cell_type": "code",
   "execution_count": 9,
   "metadata": {},
   "outputs": [],
   "source": [
    "def normalize_data(input_data):\n",
    "  lowercase = tf.strings.lower(input_data)\n",
    "  return tf.strings.regex_replace(lowercase, '@(\\w*)|(\\\\n)|(https:\\/\\/t\\.co[\\w\\/]*)', '')"
   ]
  },
  {
   "cell_type": "markdown",
   "metadata": {},
   "source": [
    "Nun können die Texte vektorisiert werden. Da ein neuronales Netz nicht mit Wörtern und Buchstaben arbeiten kann, müssen diese in Zahlen umgewandelt werden. Dafür werden die Tweets in Vektoren umgewandelt. Die Größe des Vektors wird dabei mit sequence_length definiert. Die Größe der sequence_length, also die Größe des Vektors, sollte in der Regel so groß sein, dass alle Wörter eines Tweets hineinpassen. Da die Anzahl an Zeichen auf 280 pro Tweet limitiert ist, und die durchnittliche Anzahl der Zeichen pro Wort im Englischen bei 5 liegt, wird die sequence_length mit 56 definiert.\n",
    "\n",
    "Hier erhält jedes Wort eine fortlaufende Id. Die Reihenfolge dieser Ids ist durch die Reihenfolge in dem die Wörter vektorisiert wurden festgelegt. Dabei können aufgrund max_features maximal 10000 Wörter eingelesen werden. Alle weiteren Wörter werden ignoriert. Diese Menge an Vokabeln sollte aber ausreichen, da in der Alltagssprache lediglich zwei- bis dreitausend Wörter verwendet werden. Somit kann jedes Wort einer Id zugewiesen werden, sodass man ganze Sätze in einem Vektor abbilden kann. Da die Vektorengröße immer der sequence_length enstpricht, wird auch das Problem, dass ein neuronales Netz immer die gleiche Inputgröße benötigt, gelöst.\n",
    "\n",
    "Dafür wird hier ein Vektorlayer erstellt. Gleichzeitig können hier die Daten normalisiert werden."
   ]
  },
  {
   "cell_type": "code",
   "execution_count": 10,
   "metadata": {},
   "outputs": [],
   "source": [
    "max_features = 10000\n",
    "sequence_length = 56\n",
    "\n",
    "vectorize_layer = TextVectorization(\n",
    "    standardize=normalize_data,\n",
    "    max_tokens=max_features,\n",
    "    output_mode='int',\n",
    "    output_sequence_length=sequence_length)"
   ]
  },
  {
   "cell_type": "markdown",
   "metadata": {},
   "source": [
    "Hier werden die Trainingsdaten eingelesen, so dass die 10000 Features gefüllt werden können. Es entsteht ein \"Wörterbuch\" für Tweets"
   ]
  },
  {
   "cell_type": "code",
   "execution_count": 11,
   "metadata": {},
   "outputs": [],
   "source": [
    "train_text = raw_train_ds.map(lambda x, y: x)\n",
    "vectorize_layer.adapt(train_text)"
   ]
  },
  {
   "cell_type": "markdown",
   "metadata": {},
   "source": [
    "Mit der Methode können wir alle Datensätze vektorisieren. Hier normalisieren wir das Label, so dass das Label eine Wertebereich von 0 bis 1, anstatt von 0 bis 4 besitzt. "
   ]
  },
  {
   "cell_type": "code",
   "execution_count": 12,
   "metadata": {},
   "outputs": [],
   "source": [
    "def vectorize_text(text, label):\n",
    "  text = tf.expand_dims(text, -1)\n",
    "  return vectorize_layer(text), int(label / 4)"
   ]
  },
  {
   "cell_type": "markdown",
   "metadata": {},
   "source": [
    "Um zu testen, ob das Vektorisieren der Tweets funktioniert, können wir den ersten Tweet aus dem ersten Batch auslesen und vektorisieren."
   ]
  },
  {
   "cell_type": "code",
   "execution_count": 13,
   "metadata": {},
   "outputs": [
    {
     "name": "stdout",
     "output_type": "stream",
     "text": [
      "tf.Tensor(b'Someones house/car alarm is going off and its fucking loud as fuck! ', shape=(), dtype=string)\n",
      "tf.Tensor(0, shape=(), dtype=int64)\n",
      "(<tf.Tensor: shape=(1, 56), dtype=int64, numpy=\n",
      "array([[5780,    1, 2253,    9,   41,   89,    7,   67,  589, 2048,   76,\n",
      "        5339,    0,    0,    0,    0,    0,    0,    0,    0,    0,    0,\n",
      "           0,    0,    0,    0,    0,    0,    0,    0,    0,    0,    0,\n",
      "           0,    0,    0,    0,    0,    0,    0,    0,    0,    0,    0,\n",
      "           0,    0,    0,    0,    0,    0,    0,    0,    0,    0,    0,\n",
      "           0]])>, 0)\n"
     ]
    }
   ],
   "source": [
    "text_batch, label_batch = next(iter(raw_train_ds))\n",
    "text, label = text_batch[0], label_batch[0]\n",
    "print(text)\n",
    "print(label)\n",
    "print(vectorize_text(text, label))"
   ]
  },
  {
   "cell_type": "markdown",
   "metadata": {},
   "source": [
    "Mithilfe des Vektorlayers können wir von den Ids wieder auf die Wörtern zurückschließen. Außerdem können wir die Größe unseres Wörterbuchs auslesen."
   ]
  },
  {
   "cell_type": "code",
   "execution_count": 14,
   "metadata": {},
   "outputs": [
    {
     "name": "stdout",
     "output_type": "stream",
     "text": [
      "1234 --->  amazing!\n",
      "Vocabulary size: 10000\n"
     ]
    }
   ],
   "source": [
    "print(\"1234 ---> \", vectorize_layer.get_vocabulary()[1234])\n",
    "print('Vocabulary size: {}'.format(len(vectorize_layer.get_vocabulary())))"
   ]
  },
  {
   "cell_type": "markdown",
   "metadata": {},
   "source": [
    "Nun vektorisieren wir alle benötigten Datensätze."
   ]
  },
  {
   "cell_type": "code",
   "execution_count": 15,
   "metadata": {},
   "outputs": [],
   "source": [
    "train_ds = raw_train_ds.map(vectorize_text)\n",
    "val_ds = raw_val_ds.map(vectorize_text)\n",
    "test_ds = raw_test_ds.map(vectorize_text)"
   ]
  },
  {
   "cell_type": "markdown",
   "metadata": {},
   "source": [
    "Aus Performancegründen können die Datensätze weiter aufbereitet werden. Mit `.cache()` bleiben die Daten im Arbeitsspeicher, nachdem diese von der Festplatte geladen wurden. Somit kann sichergestellt werden, dass das Laden der Daten nicht der Flaschenhals beim Training sein wird.\n",
    "\n",
    "Mit `.prefetch()` können die Daten gleichzeitig mit dem Lernen präprozessiert werden."
   ]
  },
  {
   "cell_type": "code",
   "execution_count": 16,
   "metadata": {},
   "outputs": [],
   "source": [
    "AUTOTUNE = tf.data.AUTOTUNE\n",
    "\n",
    "train_ds = train_ds.cache().prefetch(buffer_size=AUTOTUNE)\n",
    "val_ds = val_ds.cache().prefetch(buffer_size=AUTOTUNE)\n",
    "test_ds = test_ds.cache().prefetch(buffer_size=AUTOTUNE)"
   ]
  },
  {
   "cell_type": "markdown",
   "metadata": {},
   "source": [
    "Schließlich definieren wir das eigentliche Modell. Der erste Layer ist ein Embedding-Layer. Dieser sorgt dafür, dass jedes Wort einen eigenen Vektor erhält, welcher die Bedeutung des Wortes darstellt. Diese Vektoren werden mit dem Modell über die Zeit trainiert. Dieser Embedding-Layer fügt eine weitere Dimension zum Outputvektor hinzu. Hier definieren wir mit der embedding_dim die Größe der Layer, das bedeutet, dass es 32 Nodes pro Layer gibt.\n",
    "\n",
    "Als nächster Layer wird `GlobalAveragePooling1D` verwendet. Dieser reduziert die Dimension wieder um 1 und verrechnet dabei alle Informationen, sodass keine Informationen verloren gehen. Der Outputvektor wird dabei wieder auf eine feste Länge normalisiert.\n",
    "\n",
    "Anschließend folgt ein fully-connected 32 Dense-Layer. Hier wurde eine Dropoutrate festgelegt, um Overfitting zu verhindern. Das Ziel hier ist random ausgewählte Nodes auf 0 zu setzen, damit das anspassen der Weights der einzelnen Nodes beim Lernen gefördert wird.\n",
    "\n",
    "Letztendlich wird der letzte Layer mit einem Dense Layer zu einer einzigen Node verknüpft. Diese hat eine Range von 0 bis 1 und gibt das Ergenis aus.\n",
    "\n",
    "Wir können nun noch mit `.summary()` das Modell verifizieren."
   ]
  },
  {
   "cell_type": "code",
   "execution_count": 17,
   "metadata": {},
   "outputs": [
    {
     "name": "stdout",
     "output_type": "stream",
     "text": [
      "Model: \"sequential\"\n",
      "_________________________________________________________________\n",
      "Layer (type)                 Output Shape              Param #   \n",
      "=================================================================\n",
      "embedding (Embedding)        (None, None, 32)          320032    \n",
      "_________________________________________________________________\n",
      "global_average_pooling1d (Gl (None, 32)                0         \n",
      "_________________________________________________________________\n",
      "dropout (Dropout)            (None, 32)                0         \n",
      "_________________________________________________________________\n",
      "dense (Dense)                (None, 1)                 33        \n",
      "=================================================================\n",
      "Total params: 320,065\n",
      "Trainable params: 320,065\n",
      "Non-trainable params: 0\n",
      "_________________________________________________________________\n"
     ]
    }
   ],
   "source": [
    "embedding_dim = 32\n",
    "\n",
    "model = tf.keras.Sequential([\n",
    "  layers.Embedding(max_features + 1, embedding_dim),\n",
    "  layers.GlobalAveragePooling1D(),\n",
    "  layers.Dropout(0.2),\n",
    "  layers.Dense(1)\n",
    "])\n",
    "\n",
    "model.summary()"
   ]
  },
  {
   "cell_type": "markdown",
   "metadata": {},
   "source": [
    "Für das Trainieren müssen noch ein paar Parameter definiert werden. Für die Berechnung des Fehlers (loss) verwenden wir die `BinaryCrossentropy` Funktion. Der Fehler gibt uns an, wie weit wir von der richtigen Prediction weg sind. Wir haben uns dafür entschieden, da wir einen sogenannten Binary Classifier haben, der uns eine Wahrscheinlichkeit von 0 bis 1 als Ergebnis gibt. Dabei arbeiten wir mit Logits, sodass die Labels als sogennante Logits betrachtet werden. Diese Darstellung als Wahrscheinlichkeit verspricht laut Tensorflow größere numerische Stabilität.\n",
    "\n",
    "Weiterhin verwenden wir für den Optimierungsalgorithmus den `Adam-Optimizer`. Wir haben uns für den Adam-Optimizer, im Vergleich zum klassischen Stochastic-Gradient-Descent-Algorithmus entschieden, da sich die Learningrate beim Adam-Optimizer mit der Zeit automatisch anpasst. Das ist besonders praktisch bei Natural-Language-Processing, da hier die Gradients in der Regel sehr gering sind. Dabei wird die Learningrate basierend auf der vorherigen Änderung der Weights angepasst. Hier haben wir eine sehr kleine Learningrate definiert, da wir ein sehr großes Datenset haben und nicht zu schnell in das Problem von Overfitting laufen wollen."
   ]
  },
  {
   "cell_type": "code",
   "execution_count": 18,
   "metadata": {},
   "outputs": [],
   "source": [
    "model.compile(loss=losses.BinaryCrossentropy(from_logits=True),\n",
    "              optimizer=tf.keras.optimizers.Adam(learning_rate=0.0001),\n",
    "              metrics=tf.metrics.BinaryAccuracy(threshold=0.0))"
   ]
  },
  {
   "cell_type": "markdown",
   "metadata": {},
   "source": [
    "Nun wird das Modell trainiert. Dafür definieren wir mit epochs, wie oft wir über das Trainingsdatenset iterieren. In `model.fit()` werden die Trainingsdaten, die Validationsdaten und die Anzahl der Epochen angegeben. Tensorflow loggt den Fortschritt live in der Konsole aus und zusätzlich wird der Trainingsstatus in einem History-Objekt festgehalten."
   ]
  },
  {
   "cell_type": "code",
   "execution_count": 19,
   "metadata": {},
   "outputs": [
    {
     "name": "stdout",
     "output_type": "stream",
     "text": [
      "Epoch 1/10\n",
      "3200/3200 [==============================] - 22s 7ms/step - loss: 0.6864 - binary_accuracy: 0.5944 - val_loss: 0.6531 - val_binary_accuracy: 0.6940\n",
      "Epoch 2/10\n",
      "3200/3200 [==============================] - 15s 5ms/step - loss: 0.6393 - binary_accuracy: 0.6970 - val_loss: 0.6009 - val_binary_accuracy: 0.7191\n",
      "Epoch 3/10\n",
      "3200/3200 [==============================] - 14s 4ms/step - loss: 0.5902 - binary_accuracy: 0.7243 - val_loss: 0.5622 - val_binary_accuracy: 0.7406\n",
      "Epoch 4/10\n",
      "3200/3200 [==============================] - 20s 6ms/step - loss: 0.5542 - binary_accuracy: 0.7456 - val_loss: 0.5345 - val_binary_accuracy: 0.7560\n",
      "Epoch 5/10\n",
      "3200/3200 [==============================] - 17s 5ms/step - loss: 0.5282 - binary_accuracy: 0.7598 - val_loss: 0.5152 - val_binary_accuracy: 0.7660\n",
      "Epoch 6/10\n",
      "3200/3200 [==============================] - 17s 5ms/step - loss: 0.5098 - binary_accuracy: 0.7694 - val_loss: 0.5021 - val_binary_accuracy: 0.7725\n",
      "Epoch 7/10\n",
      "3200/3200 [==============================] - 17s 5ms/step - loss: 0.4973 - binary_accuracy: 0.7757 - val_loss: 0.4934 - val_binary_accuracy: 0.7771\n",
      "Epoch 8/10\n",
      "3200/3200 [==============================] - 16s 5ms/step - loss: 0.4887 - binary_accuracy: 0.7803 - val_loss: 0.4875 - val_binary_accuracy: 0.7801\n",
      "Epoch 9/10\n",
      "3200/3200 [==============================] - 17s 5ms/step - loss: 0.4828 - binary_accuracy: 0.7835 - val_loss: 0.4834 - val_binary_accuracy: 0.7822\n",
      "Epoch 10/10\n",
      "3200/3200 [==============================] - 20s 6ms/step - loss: 0.4784 - binary_accuracy: 0.7859 - val_loss: 0.4803 - val_binary_accuracy: 0.7840\n"
     ]
    }
   ],
   "source": [
    "epochs = 10\n",
    "history = model.fit(\n",
    "    train_ds,\n",
    "    validation_data=val_ds,\n",
    "    epochs=epochs)"
   ]
  },
  {
   "cell_type": "markdown",
   "metadata": {},
   "source": [
    "Nachdem das Modell nur trainiert ist können wir es mit den vorher festgelegten Testdatensatz testen. Diese sollen wie bereits erwähnt echte Daten simulieren. Dabei erhalten wir mit `model.evaluate()` den Loss und die Accuracy, welche bei rund 80% liegt."
   ]
  },
  {
   "cell_type": "code",
   "execution_count": 20,
   "metadata": {},
   "outputs": [
    {
     "name": "stdout",
     "output_type": "stream",
     "text": [
      "1000/1000 [==============================] - 3s 3ms/step - loss: 0.4803 - binary_accuracy: 0.7841\n",
      "Loss:  0.4802757203578949\n",
      "Accuracy:  0.7840999960899353\n"
     ]
    }
   ],
   "source": [
    "loss, accuracy = model.evaluate(test_ds)\n",
    "\n",
    "print(\"Loss: \", loss)\n",
    "print(\"Accuracy: \", accuracy)"
   ]
  },
  {
   "cell_type": "markdown",
   "metadata": {},
   "source": [
    "In dem History-Objekt können wir nun sehen, welche Daten Tensorflow für uns aufgezeichnet hat."
   ]
  },
  {
   "cell_type": "code",
   "execution_count": 21,
   "metadata": {},
   "outputs": [
    {
     "data": {
      "text/plain": [
       "dict_keys(['loss', 'binary_accuracy', 'val_loss', 'val_binary_accuracy'])"
      ]
     },
     "execution_count": 21,
     "metadata": {},
     "output_type": "execute_result"
    }
   ],
   "source": [
    "history_dict = history.history\n",
    "history_dict.keys()"
   ]
  },
  {
   "cell_type": "markdown",
   "metadata": {},
   "source": [
    "Mithilfe von Matplotlib können wir den Loss plotten und beobachten, wie sich diese während des Lernens verhalten hat. Optimalerweise sollte diese mit der Zeit sinken, da mit dem Anpassen der Weights das Modell immer genauere Aussagen treffen sollte und somit auch der Fehler immer geringer werden sollte.\n",
    "\n",
    "Wir können erkennen, dass dies tatsächlich der Fall ist. Der Loss fällt fast exponentiell. Logischerweise wird der Trainingsloss immer geringer. Als Bestätigung für die Verbesserung des Modells dient hier der Validationloss. Dieser ist fast gleich, sodass wir davon ausgehen können, dass die Anzahl der Fehlinterpretierungen tatsächlich geringer wurde."
   ]
  },
  {
   "cell_type": "code",
   "execution_count": 22,
   "metadata": {},
   "outputs": [
    {
     "data": {
      "image/png": "[encoded data removed]",
      "text/plain": [
       "<Figure size 432x288 with 1 Axes>"
      ]
     },
     "metadata": {
      "needs_background": "light"
     },
     "output_type": "display_data"
    }
   ],
   "source": [
    "loss = history_dict['loss']\n",
    "val_loss = history_dict['val_loss']\n",
    "\n",
    "epochs = range(1, len(loss) + 1)\n",
    "\n",
    "# \"bo\" is for \"blue dot\"\n",
    "plt.plot(epochs, loss, 'o', color='orange', label='Training Loss')\n",
    "# b is for \"solid blue line\"\n",
    "plt.plot(epochs, val_loss, 'blue', label='Validation Loss')\n",
    "plt.title('Trainings- und Validationsloss')\n",
    "plt.xlabel('Epochen')\n",
    "plt.ylabel('Loss')\n",
    "plt.legend()\n",
    "\n",
    "plt.show()"
   ]
  },
  {
   "cell_type": "markdown",
   "metadata": {},
   "source": [
    "Das Gleiche können wir auch für die Accuracy durchführen. Hier sollte im Optimalfall die Accuracy mit der Zeit steigen. Dieses Verhalten können wir wieder an unserem Modell erkennen. Hier erinnert der Graph an eine Sättigungskurve. Dies liegt daran, dass das Lernen letztendlich eine Optimierung ist und es mit der Zeit immer schwerer wird, das Modell noch mehr zu verbessern.\n",
    "\n",
    "An beiden Graphiken kann man jedoch gut erkennen, dass es zu keinem Overfitting kommt. Wenn wir die Accuracy betrachten, würde bei Overfitting die Accuracy der Testdaten weiter ansteigen, während die Accuracy der Validationsdaten und die der Testdaten stagniert oder gar sinken. Das Gleiche würde analog mit dem Loss passieren."
   ]
  },
  {
   "cell_type": "code",
   "execution_count": 23,
   "metadata": {},
   "outputs": [
    {
     "data": {
      "image/png": "[encoded data removed]",
      "text/plain": [
       "<Figure size 432x288 with 1 Axes>"
      ]
     },
     "metadata": {
      "needs_background": "light"
     },
     "output_type": "display_data"
    }
   ],
   "source": [
    "acc = history_dict['binary_accuracy']\n",
    "val_acc = history_dict['val_binary_accuracy']\n",
    "\n",
    "plt.plot(epochs, acc, 'o', color='orange', label='Training Accuracy')\n",
    "plt.plot(epochs, val_acc, 'blue', label='Validation Accuracy')\n",
    "plt.title('Trainings- und Validationsaccuracy')\n",
    "plt.xlabel('Epochen')\n",
    "plt.ylabel('Accuracy')\n",
    "plt.legend(loc='lower right')\n",
    "\n",
    "plt.show()"
   ]
  },
  {
   "cell_type": "markdown",
   "metadata": {},
   "source": [
    "Nun exportieren wir das fertige Modell. Da wir vorher die Texte vektorisiert haben, bevor sie in das Modell gegeben wurden, können wir hier ein Modell exportieren, welche die Texte beim Input vektorisiert. Dies macht uns das zukünftige Predicten einfacher, da das Model nicht immer neu trainiert werden muss. Zusätzlich fügen wir am Ende eine weitere Node mit einer Sigmoid Aktivierungsfunktion hinzu. Diese bildet alle Werte auf Werte zwischen 0 und 1 ab, sodass unsere definiert Sentiment-Range eingehalten wird. Der Vektorisationlayer und die Sigmoid Node wurden beim Lernen vernachlässigt, damit die Lerneffizienz höher ausfällt."
   ]
  },
  {
   "cell_type": "code",
   "execution_count": 24,
   "metadata": {},
   "outputs": [],
   "source": [
    "sentiment_model = tf.keras.Sequential([\n",
    "  vectorize_layer,\n",
    "  model,\n",
    "  layers.Activation('sigmoid')\n",
    "])"
   ]
  },
  {
   "cell_type": "markdown",
   "metadata": {},
   "source": [
    "Schließlich können wir einige Beispiele eingeben, um zu sehen, wie sich das Modell verhält. Dabei ist der erste Satz positiv, der zweite neutral und der letzte negativ. Während der neutrale Satz mit rund 0.5 gewertet wird, wird der positive höher gewertet und der negative geringer."
   ]
  },
  {
   "cell_type": "code",
   "execution_count": 25,
   "metadata": {},
   "outputs": [
    {
     "data": {
      "text/plain": [
       "array([[0.8517132 ],\n",
       "       [0.51427764],\n",
       "       [0.41741896]], dtype=float32)"
      ]
     },
     "execution_count": 25,
     "metadata": {},
     "output_type": "execute_result"
    }
   ],
   "source": [
    "examples = [\n",
    "  \"Today is a great day!\",\n",
    "  \"This sentence is rather neutral\",\n",
    "  \"This show is terrible!\"\n",
    "]\n",
    "\n",
    "sentiment_model.predict(examples)"
   ]
  },
  {
   "cell_type": "markdown",
   "metadata": {},
   "source": [
    "## 2. Technisches Modell\n",
    "\n",
    "Bei dem zweiten Modell soll mithilfe von Finanzdaten eine Progrose erstellt werden, wie der Kursverlauf in den nächsten 30 Tagen sein wird. Für diese Progrose wird ein LSTM-Modell verwendet. Die Prognose wird anhand von des Kurses von Etherium zum US-Dollar aufgebaut. \n",
    "\n",
    "### Datensatz\n",
    "\n",
    "Die Daten zum Trainieren des Modelles werden von Yahoo abgefragt. Bei diesen Daten handelt es sich stets um den \"Closing Price\", also den Preis, den Etherium am Ende eines Tages hatte. Diese Preise werden bis in das Jahr 2015 geladen. Dies entspricht insgesamt ca. 2000 Preisdaten. Zusätzlich zu den Preisdaten werden mithilfe von der \"Technical Analysis Library\" verschiedene technische Indikatoren berechnet. Anhand von diesen Indikatoren soll das Modell trainiert werden den Preis vorherzusagen.  "
   ]
  },
  {
   "cell_type": "code",
   "execution_count": 2,
   "metadata": {},
   "outputs": [],
   "source": [
    "import numpy as np\n",
    "import pandas_datareader.data as pdr\n",
    "\n",
    "from pylab import rcParams\n",
    "from matplotlib import rc\n",
    "from sklearn.model_selection import train_test_split\n",
    "from pandas.plotting import register_matplotlib_converters\n",
    "from sklearn.preprocessing import MinMaxScaler\n",
    "import random\n",
    "\n",
    "from datetime import datetime, timezone,timedelta\n",
    "from ta.utils import dropna\n",
    "from ta.volatility import BollingerBands, AverageTrueRange\n",
    "from ta.momentum import KAMAIndicator, PercentagePriceOscillator, PercentageVolumeOscillator, ROCIndicator, RSIIndicator, StochasticOscillator\n",
    "from ta.trend import MACD, ADXIndicator, AroonIndicator\n",
    "from ta.volume import OnBalanceVolumeIndicator, AccDistIndexIndicator"
   ]
  },
  {
   "cell_type": "markdown",
   "metadata": {},
   "source": [
    "### Laden und generieren der Daten\n",
    "Im Folgenden werden die Preisdaten von Etherium von 2015 bis heute geladen. Anschließend werden 7 technische Indikatoren generiert und dem Datensatz hinzugefügt. Diese Indikatoren sind:\n",
    "\n",
    "* Kama\n",
    "* Percentage Price Oscillator\n",
    "* Rate of Change\n",
    "* Moving Average Convergence/Divergence\n",
    "* Relative Strength Index\n",
    "* Aaron Indicator\n",
    "* Bollinger bands\n",
    "\n",
    "Zusätzlich werden der Tag des Monats, der Tag der Woche und der Monat als eigene Indikatoren hinzugefügt. Dies ist sinnvoll, da hier ein LSTM-, also ein Zeitreihen-Modell verwendet wird. Die Zeit spielt eine wichtige Rolle, um Besonderheiten an beispielsweise dem ersten Tag eines Monats erkennen zu können. Außerdem werden die Daten nicht gemischt, da sonst der zeitliche Verlauf verloren geht."
   ]
  },
  {
   "cell_type": "code",
   "execution_count": 3,
   "metadata": {},
   "outputs": [
    {
     "data": {
      "text/html": [
       "<div>\n",
       "<style scoped>\n",
       "    .dataframe tbody tr th:only-of-type {\n",
       "        vertical-align: middle;\n",
       "    }\n",
       "\n",
       "    .dataframe tbody tr th {\n",
       "        vertical-align: top;\n",
       "    }\n",
       "\n",
       "    .dataframe thead th {\n",
       "        text-align: right;\n",
       "    }\n",
       "</style>\n",
       "<table border=\"1\" class=\"dataframe\">\n",
       "  <thead>\n",
       "    <tr style=\"text-align: right;\">\n",
       "      <th></th>\n",
       "      <th>price</th>\n",
       "      <th>kama</th>\n",
       "      <th>ppo</th>\n",
       "      <th>roc</th>\n",
       "      <th>macd</th>\n",
       "      <th>rsi</th>\n",
       "      <th>aroon</th>\n",
       "      <th>boll_mavg</th>\n",
       "      <th>day_of_month</th>\n",
       "      <th>day_of_week</th>\n",
       "      <th>month</th>\n",
       "    </tr>\n",
       "    <tr>\n",
       "      <th>Date</th>\n",
       "      <th></th>\n",
       "      <th></th>\n",
       "      <th></th>\n",
       "      <th></th>\n",
       "      <th></th>\n",
       "      <th></th>\n",
       "      <th></th>\n",
       "      <th></th>\n",
       "      <th></th>\n",
       "      <th></th>\n",
       "      <th></th>\n",
       "    </tr>\n",
       "  </thead>\n",
       "  <tbody>\n",
       "    <tr>\n",
       "      <th>2015-08-25</th>\n",
       "      <td>1.159980</td>\n",
       "      <td>1.405750</td>\n",
       "      <td>-13.445239</td>\n",
       "      <td>-36.539248</td>\n",
       "      <td>-0.166625</td>\n",
       "      <td>35.737493</td>\n",
       "      <td>-10.0</td>\n",
       "      <td>1.340227</td>\n",
       "      <td>25</td>\n",
       "      <td>1</td>\n",
       "      <td>8</td>\n",
       "    </tr>\n",
       "    <tr>\n",
       "      <th>2015-08-26</th>\n",
       "      <td>1.147700</td>\n",
       "      <td>1.402955</td>\n",
       "      <td>-13.377194</td>\n",
       "      <td>-32.044529</td>\n",
       "      <td>-0.162148</td>\n",
       "      <td>35.483536</td>\n",
       "      <td>25.0</td>\n",
       "      <td>1.259006</td>\n",
       "      <td>26</td>\n",
       "      <td>2</td>\n",
       "      <td>8</td>\n",
       "    </tr>\n",
       "    <tr>\n",
       "      <th>2015-08-27</th>\n",
       "      <td>1.191380</td>\n",
       "      <td>1.398493</td>\n",
       "      <td>-12.841273</td>\n",
       "      <td>-23.923552</td>\n",
       "      <td>-0.153785</td>\n",
       "      <td>37.193189</td>\n",
       "      <td>25.0</td>\n",
       "      <td>1.280909</td>\n",
       "      <td>27</td>\n",
       "      <td>3</td>\n",
       "      <td>8</td>\n",
       "    </tr>\n",
       "    <tr>\n",
       "      <th>2015-08-28</th>\n",
       "      <td>1.182550</td>\n",
       "      <td>1.394309</td>\n",
       "      <td>-12.305072</td>\n",
       "      <td>-1.749735</td>\n",
       "      <td>-0.145647</td>\n",
       "      <td>36.979851</td>\n",
       "      <td>20.0</td>\n",
       "      <td>1.304942</td>\n",
       "      <td>28</td>\n",
       "      <td>4</td>\n",
       "      <td>8</td>\n",
       "    </tr>\n",
       "    <tr>\n",
       "      <th>2015-08-29</th>\n",
       "      <td>1.319270</td>\n",
       "      <td>1.390506</td>\n",
       "      <td>-10.768333</td>\n",
       "      <td>21.362409</td>\n",
       "      <td>-0.129269</td>\n",
       "      <td>42.481178</td>\n",
       "      <td>15.0</td>\n",
       "      <td>1.335483</td>\n",
       "      <td>29</td>\n",
       "      <td>5</td>\n",
       "      <td>8</td>\n",
       "    </tr>\n",
       "    <tr>\n",
       "      <th>...</th>\n",
       "      <td>...</td>\n",
       "      <td>...</td>\n",
       "      <td>...</td>\n",
       "      <td>...</td>\n",
       "      <td>...</td>\n",
       "      <td>...</td>\n",
       "      <td>...</td>\n",
       "      <td>...</td>\n",
       "      <td>...</td>\n",
       "      <td>...</td>\n",
       "      <td>...</td>\n",
       "    </tr>\n",
       "    <tr>\n",
       "      <th>2021-03-10</th>\n",
       "      <td>1799.166260</td>\n",
       "      <td>1692.504111</td>\n",
       "      <td>2.072288</td>\n",
       "      <td>24.420770</td>\n",
       "      <td>23.041894</td>\n",
       "      <td>58.146896</td>\n",
       "      <td>-45.0</td>\n",
       "      <td>1659.001465</td>\n",
       "      <td>10</td>\n",
       "      <td>2</td>\n",
       "      <td>3</td>\n",
       "    </tr>\n",
       "    <tr>\n",
       "      <th>2021-03-11</th>\n",
       "      <td>1826.194946</td>\n",
       "      <td>1705.769443</td>\n",
       "      <td>2.474617</td>\n",
       "      <td>25.084146</td>\n",
       "      <td>28.559460</td>\n",
       "      <td>59.362095</td>\n",
       "      <td>-35.0</td>\n",
       "      <td>1652.302972</td>\n",
       "      <td>11</td>\n",
       "      <td>3</td>\n",
       "      <td>3</td>\n",
       "    </tr>\n",
       "    <tr>\n",
       "      <th>2021-03-12</th>\n",
       "      <td>1772.102417</td>\n",
       "      <td>1713.443946</td>\n",
       "      <td>2.453372</td>\n",
       "      <td>25.144150</td>\n",
       "      <td>29.194818</td>\n",
       "      <td>55.866143</td>\n",
       "      <td>-35.0</td>\n",
       "      <td>1644.931390</td>\n",
       "      <td>12</td>\n",
       "      <td>4</td>\n",
       "      <td>3</td>\n",
       "    </tr>\n",
       "    <tr>\n",
       "      <th>2021-03-13</th>\n",
       "      <td>1924.685425</td>\n",
       "      <td>1742.903197</td>\n",
       "      <td>3.142964</td>\n",
       "      <td>23.006073</td>\n",
       "      <td>38.196060</td>\n",
       "      <td>62.563520</td>\n",
       "      <td>65.0</td>\n",
       "      <td>1644.385608</td>\n",
       "      <td>13</td>\n",
       "      <td>5</td>\n",
       "      <td>3</td>\n",
       "    </tr>\n",
       "    <tr>\n",
       "      <th>2021-03-16</th>\n",
       "      <td>1781.792969</td>\n",
       "      <td>1745.287598</td>\n",
       "      <td>2.890932</td>\n",
       "      <td>19.374414</td>\n",
       "      <td>36.152821</td>\n",
       "      <td>54.259367</td>\n",
       "      <td>65.0</td>\n",
       "      <td>1644.375610</td>\n",
       "      <td>16</td>\n",
       "      <td>1</td>\n",
       "      <td>3</td>\n",
       "    </tr>\n",
       "  </tbody>\n",
       "</table>\n",
       "<p>2024 rows × 11 columns</p>\n",
       "</div>"
      ],
      "text/plain": [
       "                  price         kama        ppo        roc       macd  \\\n",
       "Date                                                                    \n",
       "2015-08-25     1.159980     1.405750 -13.445239 -36.539248  -0.166625   \n",
       "2015-08-26     1.147700     1.402955 -13.377194 -32.044529  -0.162148   \n",
       "2015-08-27     1.191380     1.398493 -12.841273 -23.923552  -0.153785   \n",
       "2015-08-28     1.182550     1.394309 -12.305072  -1.749735  -0.145647   \n",
       "2015-08-29     1.319270     1.390506 -10.768333  21.362409  -0.129269   \n",
       "...                 ...          ...        ...        ...        ...   \n",
       "2021-03-10  1799.166260  1692.504111   2.072288  24.420770  23.041894   \n",
       "2021-03-11  1826.194946  1705.769443   2.474617  25.084146  28.559460   \n",
       "2021-03-12  1772.102417  1713.443946   2.453372  25.144150  29.194818   \n",
       "2021-03-13  1924.685425  1742.903197   3.142964  23.006073  38.196060   \n",
       "2021-03-16  1781.792969  1745.287598   2.890932  19.374414  36.152821   \n",
       "\n",
       "                  rsi  aroon    boll_mavg  day_of_month  day_of_week  month  \n",
       "Date                                                                         \n",
       "2015-08-25  35.737493  -10.0     1.340227            25            1      8  \n",
       "2015-08-26  35.483536   25.0     1.259006            26            2      8  \n",
       "2015-08-27  37.193189   25.0     1.280909            27            3      8  \n",
       "2015-08-28  36.979851   20.0     1.304942            28            4      8  \n",
       "2015-08-29  42.481178   15.0     1.335483            29            5      8  \n",
       "...               ...    ...          ...           ...          ...    ...  \n",
       "2021-03-10  58.146896  -45.0  1659.001465            10            2      3  \n",
       "2021-03-11  59.362095  -35.0  1652.302972            11            3      3  \n",
       "2021-03-12  55.866143  -35.0  1644.931390            12            4      3  \n",
       "2021-03-13  62.563520   65.0  1644.385608            13            5      3  \n",
       "2021-03-16  54.259367   65.0  1644.375610            16            1      3  \n",
       "\n",
       "[2024 rows x 11 columns]"
      ]
     },
     "execution_count": 3,
     "metadata": {},
     "output_type": "execute_result"
    }
   ],
   "source": [
    "batch_size = 31\n",
    "symbol = 'ETH-USD'\n",
    "\n",
    "end = datetime.today()\n",
    "start = datetime(2000, 9, 1)\n",
    "ETH = pdr.DataReader(symbol,'yahoo',start,end)\n",
    "\n",
    "df = pd.DataFrame(data=ETH)\n",
    "\n",
    "kama_indicator = KAMAIndicator(close = df[\"Close\"], window = 10, pow1 = 2, pow2 = 30, fillna = False)\n",
    "df['kama'] = kama_indicator.kama()\n",
    "ppo_indicator = PercentagePriceOscillator(close = df[\"Close\"], window_slow = 20, window_fast = 10, window_sign = 9, fillna = False)\n",
    "df['ppo'] = ppo_indicator.ppo()\n",
    "roc_indicator = ROCIndicator(close = df[\"Close\"], window = 12, fillna = False)\n",
    "df['roc'] = roc_indicator.roc()\n",
    "macd_indicator = MACD(close = df[\"Close\"], window_slow = 20, window_fast = 12, window_sign = 9, fillna = False)\n",
    "df['macd'] = macd_indicator.macd()\n",
    "rsi_indicator = RSIIndicator(close = df[\"Close\"], window = 14, fillna = False)\n",
    "df['rsi'] = rsi_indicator.rsi()\n",
    "aroon_indicator = AroonIndicator(close = df[\"Close\"], window = 20, fillna = False)\n",
    "df['aroon'] = aroon_indicator.aroon_indicator()\n",
    "boll_indicator = BollingerBands(close = df[\"Close\"], window = 20, window_dev = 2, fillna = False)\n",
    "df['boll_mavg'] = boll_indicator.bollinger_mavg()\n",
    "df.rename(columns = {\"Close\": \"price\"}, inplace=True)\n",
    "prices = df['price'].to_numpy()\n",
    "\n",
    "df['day_of_month'] = df.index.day\n",
    "df['day_of_week'] = df.index.dayofweek\n",
    "df['month'] = df.index.month\n",
    "\n",
    "df.dropna(inplace=True)\n",
    "df = df.drop(df.columns[[0, 1, 2, 4, 5]], axis=1)\n",
    "df"
   ]
  },
  {
   "cell_type": "markdown",
   "metadata": {},
   "source": [
    "Im Folgenden ist nun einmal der gesamt geladene Kursverlauf Etherium zu sehen."
   ]
  },
  {
   "cell_type": "code",
   "execution_count": 4,
   "metadata": {
    "scrolled": false
   },
   "outputs": [
    {
     "data": {
      "image/png": "[encoded data removed]",
      "text/plain": [
       "<Figure size 432x288 with 1 Axes>"
      ]
     },
     "metadata": {
      "needs_background": "light"
     },
     "output_type": "display_data"
    }
   ],
   "source": [
    "prices = df['price'].to_numpy()\n",
    "days = range(1, len(prices) + 1)\n",
    "\n",
    "plt.plot(days, prices, 'blue', label='Price')\n",
    "plt.title('ETH USD Price')\n",
    "plt.xlabel('Tage')\n",
    "plt.ylabel('Preis')\n",
    "plt.legend()\n",
    "\n",
    "plt.show()"
   ]
  },
  {
   "cell_type": "markdown",
   "metadata": {},
   "source": [
    "### Aufteilung in Features und Labels\n",
    "Die Daten werden in Features und Labels aufgeteilt. In diesem Fall sind die Spalten, welche in `X_columns` definiert sind, die Features und der Preis das Label. "
   ]
  },
  {
   "cell_type": "code",
   "execution_count": 5,
   "metadata": {},
   "outputs": [
    {
     "name": "stdout",
     "output_type": "stream",
     "text": [
      "(2024, 11)\n",
      "(2024, 1)\n"
     ]
    }
   ],
   "source": [
    "X_columns = ['price', 'kama', 'ppo', 'roc', 'macd', 'rsi', 'aroon', 'boll_mavg', \n",
    "                   'day_of_month', 'day_of_week', 'month']\n",
    "\n",
    "X_data = df.filter(X_columns)\n",
    "y_data = df.filter(['price'])\n",
    "\n",
    "print(X_data.shape)\n",
    "print(y_data.shape)"
   ]
  },
  {
   "cell_type": "markdown",
   "metadata": {},
   "source": [
    "### Transformation der Daten\n",
    "Für die Transformation der Daten wird der MinMaxScaler verwendet. Dieser skaliert die Daten in einen vorgegebenen Bereich und macht die Daten damit praktikabel. In diesem Fall werden alle Daten in einem Bereich zwischen 0 und 1 skaliert."
   ]
  },
  {
   "cell_type": "code",
   "execution_count": 6,
   "metadata": {},
   "outputs": [
    {
     "data": {
      "text/html": [
       "<div>\n",
       "<style scoped>\n",
       "    .dataframe tbody tr th:only-of-type {\n",
       "        vertical-align: middle;\n",
       "    }\n",
       "\n",
       "    .dataframe tbody tr th {\n",
       "        vertical-align: top;\n",
       "    }\n",
       "\n",
       "    .dataframe thead th {\n",
       "        text-align: right;\n",
       "    }\n",
       "</style>\n",
       "<table border=\"1\" class=\"dataframe\">\n",
       "  <thead>\n",
       "    <tr style=\"text-align: right;\">\n",
       "      <th></th>\n",
       "      <th>price</th>\n",
       "      <th>kama</th>\n",
       "      <th>ppo</th>\n",
       "      <th>roc</th>\n",
       "      <th>macd</th>\n",
       "      <th>rsi</th>\n",
       "      <th>aroon</th>\n",
       "      <th>boll_mavg</th>\n",
       "      <th>day_of_month</th>\n",
       "      <th>day_of_week</th>\n",
       "      <th>month</th>\n",
       "    </tr>\n",
       "    <tr>\n",
       "      <th>Date</th>\n",
       "      <th></th>\n",
       "      <th></th>\n",
       "      <th></th>\n",
       "      <th></th>\n",
       "      <th></th>\n",
       "      <th></th>\n",
       "      <th></th>\n",
       "      <th></th>\n",
       "      <th></th>\n",
       "      <th></th>\n",
       "      <th></th>\n",
       "    </tr>\n",
       "  </thead>\n",
       "  <tbody>\n",
       "    <tr>\n",
       "      <th>2015-08-25</th>\n",
       "      <td>0.000370</td>\n",
       "      <td>0.000470</td>\n",
       "      <td>0.087378</td>\n",
       "      <td>0.076386</td>\n",
       "      <td>0.333396</td>\n",
       "      <td>0.257724</td>\n",
       "      <td>0.447368</td>\n",
       "      <td>0.000432</td>\n",
       "      <td>0.800000</td>\n",
       "      <td>0.166667</td>\n",
       "      <td>0.636364</td>\n",
       "    </tr>\n",
       "    <tr>\n",
       "      <th>2015-08-26</th>\n",
       "      <td>0.000364</td>\n",
       "      <td>0.000469</td>\n",
       "      <td>0.089021</td>\n",
       "      <td>0.097446</td>\n",
       "      <td>0.333423</td>\n",
       "      <td>0.254459</td>\n",
       "      <td>0.631579</td>\n",
       "      <td>0.000387</td>\n",
       "      <td>0.833333</td>\n",
       "      <td>0.333333</td>\n",
       "      <td>0.636364</td>\n",
       "    </tr>\n",
       "    <tr>\n",
       "      <th>2015-08-27</th>\n",
       "      <td>0.000386</td>\n",
       "      <td>0.000466</td>\n",
       "      <td>0.101965</td>\n",
       "      <td>0.135497</td>\n",
       "      <td>0.333472</td>\n",
       "      <td>0.276440</td>\n",
       "      <td>0.631579</td>\n",
       "      <td>0.000399</td>\n",
       "      <td>0.866667</td>\n",
       "      <td>0.500000</td>\n",
       "      <td>0.636364</td>\n",
       "    </tr>\n",
       "    <tr>\n",
       "      <th>2015-08-28</th>\n",
       "      <td>0.000382</td>\n",
       "      <td>0.000464</td>\n",
       "      <td>0.114915</td>\n",
       "      <td>0.239393</td>\n",
       "      <td>0.333520</td>\n",
       "      <td>0.273698</td>\n",
       "      <td>0.605263</td>\n",
       "      <td>0.000412</td>\n",
       "      <td>0.900000</td>\n",
       "      <td>0.666667</td>\n",
       "      <td>0.636364</td>\n",
       "    </tr>\n",
       "    <tr>\n",
       "      <th>2015-08-29</th>\n",
       "      <td>0.000451</td>\n",
       "      <td>0.000462</td>\n",
       "      <td>0.152030</td>\n",
       "      <td>0.347686</td>\n",
       "      <td>0.333617</td>\n",
       "      <td>0.344430</td>\n",
       "      <td>0.578947</td>\n",
       "      <td>0.000430</td>\n",
       "      <td>0.933333</td>\n",
       "      <td>0.833333</td>\n",
       "      <td>0.636364</td>\n",
       "    </tr>\n",
       "    <tr>\n",
       "      <th>...</th>\n",
       "      <td>...</td>\n",
       "      <td>...</td>\n",
       "      <td>...</td>\n",
       "      <td>...</td>\n",
       "      <td>...</td>\n",
       "      <td>...</td>\n",
       "      <td>...</td>\n",
       "      <td>...</td>\n",
       "      <td>...</td>\n",
       "      <td>...</td>\n",
       "      <td>...</td>\n",
       "    </tr>\n",
       "    <tr>\n",
       "      <th>2021-03-10</th>\n",
       "      <td>0.917847</td>\n",
       "      <td>0.948974</td>\n",
       "      <td>0.462152</td>\n",
       "      <td>0.362016</td>\n",
       "      <td>0.470348</td>\n",
       "      <td>0.545849</td>\n",
       "      <td>0.263158</td>\n",
       "      <td>0.928977</td>\n",
       "      <td>0.300000</td>\n",
       "      <td>0.333333</td>\n",
       "      <td>0.181818</td>\n",
       "    </tr>\n",
       "    <tr>\n",
       "      <th>2021-03-11</th>\n",
       "      <td>0.931639</td>\n",
       "      <td>0.956415</td>\n",
       "      <td>0.471869</td>\n",
       "      <td>0.365124</td>\n",
       "      <td>0.502906</td>\n",
       "      <td>0.561474</td>\n",
       "      <td>0.315789</td>\n",
       "      <td>0.925225</td>\n",
       "      <td>0.333333</td>\n",
       "      <td>0.500000</td>\n",
       "      <td>0.181818</td>\n",
       "    </tr>\n",
       "    <tr>\n",
       "      <th>2021-03-12</th>\n",
       "      <td>0.904037</td>\n",
       "      <td>0.960719</td>\n",
       "      <td>0.471356</td>\n",
       "      <td>0.365405</td>\n",
       "      <td>0.506655</td>\n",
       "      <td>0.516525</td>\n",
       "      <td>0.315789</td>\n",
       "      <td>0.921095</td>\n",
       "      <td>0.366667</td>\n",
       "      <td>0.666667</td>\n",
       "      <td>0.181818</td>\n",
       "    </tr>\n",
       "    <tr>\n",
       "      <th>2021-03-13</th>\n",
       "      <td>0.981896</td>\n",
       "      <td>0.977242</td>\n",
       "      <td>0.488010</td>\n",
       "      <td>0.355387</td>\n",
       "      <td>0.559771</td>\n",
       "      <td>0.602635</td>\n",
       "      <td>0.842105</td>\n",
       "      <td>0.920790</td>\n",
       "      <td>0.400000</td>\n",
       "      <td>0.833333</td>\n",
       "      <td>0.181818</td>\n",
       "    </tr>\n",
       "    <tr>\n",
       "      <th>2021-03-16</th>\n",
       "      <td>0.908981</td>\n",
       "      <td>0.978580</td>\n",
       "      <td>0.481923</td>\n",
       "      <td>0.338371</td>\n",
       "      <td>0.547714</td>\n",
       "      <td>0.495866</td>\n",
       "      <td>0.842105</td>\n",
       "      <td>0.920784</td>\n",
       "      <td>0.500000</td>\n",
       "      <td>0.166667</td>\n",
       "      <td>0.181818</td>\n",
       "    </tr>\n",
       "  </tbody>\n",
       "</table>\n",
       "<p>2024 rows × 11 columns</p>\n",
       "</div>"
      ],
      "text/plain": [
       "               price      kama       ppo       roc      macd       rsi  \\\n",
       "Date                                                                     \n",
       "2015-08-25  0.000370  0.000470  0.087378  0.076386  0.333396  0.257724   \n",
       "2015-08-26  0.000364  0.000469  0.089021  0.097446  0.333423  0.254459   \n",
       "2015-08-27  0.000386  0.000466  0.101965  0.135497  0.333472  0.276440   \n",
       "2015-08-28  0.000382  0.000464  0.114915  0.239393  0.333520  0.273698   \n",
       "2015-08-29  0.000451  0.000462  0.152030  0.347686  0.333617  0.344430   \n",
       "...              ...       ...       ...       ...       ...       ...   \n",
       "2021-03-10  0.917847  0.948974  0.462152  0.362016  0.470348  0.545849   \n",
       "2021-03-11  0.931639  0.956415  0.471869  0.365124  0.502906  0.561474   \n",
       "2021-03-12  0.904037  0.960719  0.471356  0.365405  0.506655  0.516525   \n",
       "2021-03-13  0.981896  0.977242  0.488010  0.355387  0.559771  0.602635   \n",
       "2021-03-16  0.908981  0.978580  0.481923  0.338371  0.547714  0.495866   \n",
       "\n",
       "               aroon  boll_mavg  day_of_month  day_of_week     month  \n",
       "Date                                                                  \n",
       "2015-08-25  0.447368   0.000432      0.800000     0.166667  0.636364  \n",
       "2015-08-26  0.631579   0.000387      0.833333     0.333333  0.636364  \n",
       "2015-08-27  0.631579   0.000399      0.866667     0.500000  0.636364  \n",
       "2015-08-28  0.605263   0.000412      0.900000     0.666667  0.636364  \n",
       "2015-08-29  0.578947   0.000430      0.933333     0.833333  0.636364  \n",
       "...              ...        ...           ...          ...       ...  \n",
       "2021-03-10  0.263158   0.928977      0.300000     0.333333  0.181818  \n",
       "2021-03-11  0.315789   0.925225      0.333333     0.500000  0.181818  \n",
       "2021-03-12  0.315789   0.921095      0.366667     0.666667  0.181818  \n",
       "2021-03-13  0.842105   0.920790      0.400000     0.833333  0.181818  \n",
       "2021-03-16  0.842105   0.920784      0.500000     0.166667  0.181818  \n",
       "\n",
       "[2024 rows x 11 columns]"
      ]
     },
     "execution_count": 6,
     "metadata": {},
     "output_type": "execute_result"
    }
   ],
   "source": [
    "X_scaler = MinMaxScaler(feature_range = (0, 1))\n",
    "y_scaler = MinMaxScaler(feature_range = (0, 1))\n",
    "\n",
    "X_scaled_data = X_scaler.fit_transform(X_data)\n",
    "y_scaled_data = y_scaler.fit_transform(y_data)\n",
    "\n",
    "X_scaled_data = pd.DataFrame(data=X_scaled_data, index=X_data.index, columns=X_columns)\n",
    "y_scaled_data = pd.DataFrame(data=y_scaled_data, index=y_data.index, columns=['price'])\n",
    "\n",
    "X_scaled_data"
   ]
  },
  {
   "cell_type": "markdown",
   "metadata": {},
   "source": [
    "Um das Modell trainieren zu können, müssen zunächst die Daten in batches unterteilt werden und danach die batches vermischt werden. "
   ]
  },
  {
   "cell_type": "code",
   "execution_count": 7,
   "metadata": {},
   "outputs": [],
   "source": [
    "X_scaled_batches = []\n",
    "y_scaled_batches = []\n",
    "\n",
    "for i in range(len(X_scaled_data) - batch_size - 1):\n",
    "    X_scaled_batches.append(X_scaled_data.iloc[i:(i+batch_size)].values)\n",
    "    y_scaled_batches.append(y_scaled_data.iloc[i+batch_size + 1])\n"
   ]
  },
  {
   "cell_type": "code",
   "execution_count": 8,
   "metadata": {},
   "outputs": [],
   "source": [
    "mixed = list(zip(X_scaled_batches, y_scaled_batches))\n",
    "\n",
    "random.shuffle(mixed)\n",
    "\n",
    "X_random_batches, y_random_batches = zip(*mixed)"
   ]
  },
  {
   "cell_type": "code",
   "execution_count": 9,
   "metadata": {},
   "outputs": [],
   "source": [
    "train_size = int(len(X_scaled_batches) * 0.9)\n",
    "test_size = len(X_scaled_batches) - train_size\n",
    "X_train_random, X_test_random = X_random_batches[0:train_size], X_random_batches[train_size:len(X_scaled_batches)]\n",
    "y_train_random, y_test_random = y_random_batches[0:train_size], y_random_batches[train_size:len(y_scaled_batches)]\n",
    "\n",
    "X_train_random = np.array(X_train_random)\n",
    "X_train_random = np.reshape(X_train_random, (X_train_random.shape[0], X_train_random.shape[1], X_train_random.shape[2]))\n",
    "y_train_random = np.array(y_train_random)\n",
    "\n",
    "X_test_random = np.array(X_test_random)\n",
    "X_test_random = np.reshape(X_test_random, (X_test_random.shape[0], X_test_random.shape[1], X_test_random.shape[2]))\n",
    "y_test_random = np.array(y_test_random)\n"
   ]
  },
  {
   "cell_type": "markdown",
   "metadata": {},
   "source": [
    "Die gesammelten Daten müssen im nächsten Schritt in Traings- und Testdaten aufgeteilt werden. Dafür wurde die Aufteilung von 90% zu 10% gewählt (90% Traningsdaten und 10% Testdaten).\n",
    "Beide Datensätze haben immernoch die gleiche Anzahl an Spalten, die Zeilen wurden entsprechend der genannten Aufteilung gesplittet."
   ]
  },
  {
   "cell_type": "code",
   "execution_count": 19,
   "metadata": {},
   "outputs": [
    {
     "data": {
      "text/plain": [
       "(1792, 31, 11)"
      ]
     },
     "execution_count": 19,
     "metadata": {},
     "output_type": "execute_result"
    }
   ],
   "source": [
    "train_size = int(len(X_scaled_batches) * 0.9)\n",
    "test_size = len(X_scaled_batches) - train_size\n",
    "X_train, X_test = X_scaled_batches[0:train_size], X_scaled_batches[train_size:len(X_scaled_batches)]\n",
    "y_train, y_test = y_scaled_batches[0:train_size], y_scaled_batches[train_size:len(y_scaled_batches)]\n",
    "\n",
    "X_train = np.array(X_train)\n",
    "X_train = np.reshape(X_train, (X_train.shape[0], X_train.shape[1], X_train.shape[2]))\n",
    "y_train = np.array(y_train)\n",
    "\n",
    "X_test = np.array(X_test)\n",
    "X_test = np.reshape(X_test, (X_test.shape[0], X_test.shape[1], X_test.shape[2]))\n",
    "y_test = np.array(y_test)\n",
    "\n",
    "X_train_random.shape"
   ]
  },
  {
   "cell_type": "markdown",
   "metadata": {},
   "source": [
    "### Modell erstellen\n",
    "Bei diesem Anwendungsbeispiel ist das Ziel den Kursverlauf anhand von Indikatoren und Preisen aus der Vergangenheit für die Zukunft vorherzusagen. Im Detail werden 11 Kennzahlen für jeden der letzten 30 Tage verwendet, um den Preis für morgen vorherzusagen.\n",
    "\n",
    "Damit das Ziel erreicht werden kann, wird ein LSTM(long short-term memory)-Modell verwendet. Dieses Modell ist eine Erweiterung zu dem RNN(recurrent neural network)-Modell. Das LSTM-Modell im spezielle ist dafür ausgelegt in Zeitreihen oder anderen zusammenhängenden Datensätzen bestimmte Sequenzen zu erkennen. Neugewonnene Informationen können dabei gespeichert werden, um bei zukünftigen Zeitreihen angewandt zu werden. Außerdem kann ein LSTM-Modell entscheiden, ob eine Zeitreihe wichtige Informationen enthält oder nicht und diese dann entweder vergessen oder aktualisieren.\n",
    "Für das LSTM-Modell werden folgende Parameter definiert: \n",
    "\n",
    "* `units = 15` (passende Anzahl für die Menge an Daten; bei höherer Anzahl --> Overfitting)\n",
    "* `return_sequences = False` (Nur eine LSTM-layer --> False)\n",
    "* `input_shape = 31, 11` (Diese Zahlen spiegel die Form der Inputdaten wider; 31: batch_size; 11: Anzahl der Indikatoren) \n",
    "\n",
    "Anschließend wird für Dropout bestimmt wie viel Prozent der Neuronen pro Durchlauf \"ausgeschaltet\" sind, um die Gefahr von Overfitting zu vermeiden.\n",
    "\n",
    "Der letzte Bestandtteilt ist die Dense Layer. Dort wird das Outputformat definiert. Die Anzahl an `units` entspricht in diesem Beispiel 1, da nur der Preis für morgen verhergesagt werden soll. Sollten beispielsweise die Preise für die nächsten 3 Tage vorhergesatz werden, müsste die Dense-layser mit 3 definiert werden.  \n",
    "\n",
    "In der `model.summary` können nochmal die Daten überprüft werden."
   ]
  },
  {
   "cell_type": "code",
   "execution_count": 11,
   "metadata": {},
   "outputs": [
    {
     "name": "stdout",
     "output_type": "stream",
     "text": [
      "Model: \"sequential\"\n",
      "_________________________________________________________________\n",
      "Layer (type)                 Output Shape              Param #   \n",
      "=================================================================\n",
      "lstm (LSTM)                  (None, 15)                1620      \n",
      "_________________________________________________________________\n",
      "dropout (Dropout)            (None, 15)                0         \n",
      "_________________________________________________________________\n",
      "dense (Dense)                (None, 1)                 16        \n",
      "=================================================================\n",
      "Total params: 1,636\n",
      "Trainable params: 1,636\n",
      "Non-trainable params: 0\n",
      "_________________________________________________________________\n"
     ]
    }
   ],
   "source": [
    "model = tf.keras.Sequential()\n",
    "\n",
    "model.add(layers.LSTM(units = 15, return_sequences = False, input_shape = (X_train_random.shape[1], X_train_random.shape[2])))\n",
    "model.add(layers.Dropout(0.2))\n",
    "model.add(layers.Dense(units = 1))\n",
    "\n",
    "model.summary()"
   ]
  },
  {
   "cell_type": "markdown",
   "metadata": {},
   "source": [
    "### Modell trainieren\n",
    "Für das Modell wird zum einen der `adam`-Optimierer und zum anderen die `mean_squared_error` loss-Funktion genutzt."
   ]
  },
  {
   "cell_type": "code",
   "execution_count": 12,
   "metadata": {},
   "outputs": [
    {
     "name": "stdout",
     "output_type": "stream",
     "text": [
      "Epoch 1/30\n",
      "51/51 [==============================] - 3s 28ms/step - loss: 0.0375 - val_loss: 0.0021\n",
      "Epoch 2/30\n",
      "51/51 [==============================] - 0s 8ms/step - loss: 0.0110 - val_loss: 0.0014\n",
      "Epoch 3/30\n",
      "51/51 [==============================] - 0s 8ms/step - loss: 0.0072 - val_loss: 0.0011\n",
      "Epoch 4/30\n",
      "51/51 [==============================] - 0s 8ms/step - loss: 0.0057 - val_loss: 8.9596e-04\n",
      "Epoch 5/30\n",
      "51/51 [==============================] - 0s 8ms/step - loss: 0.0042 - val_loss: 8.3298e-04\n",
      "Epoch 6/30\n",
      "51/51 [==============================] - 0s 8ms/step - loss: 0.0041 - val_loss: 6.6616e-04\n",
      "Epoch 7/30\n",
      "51/51 [==============================] - 0s 8ms/step - loss: 0.0031 - val_loss: 8.4141e-04\n",
      "Epoch 8/30\n",
      "51/51 [==============================] - 0s 8ms/step - loss: 0.0037 - val_loss: 5.1532e-04\n",
      "Epoch 9/30\n",
      "51/51 [==============================] - 0s 8ms/step - loss: 0.0038 - val_loss: 7.2629e-04\n",
      "Epoch 10/30\n",
      "51/51 [==============================] - 0s 8ms/step - loss: 0.0032 - val_loss: 4.8415e-04\n",
      "Epoch 11/30\n",
      "51/51 [==============================] - 0s 8ms/step - loss: 0.0031 - val_loss: 4.8093e-04\n",
      "Epoch 12/30\n",
      "51/51 [==============================] - 0s 8ms/step - loss: 0.0030 - val_loss: 4.7560e-04\n",
      "Epoch 13/30\n",
      "51/51 [==============================] - 0s 8ms/step - loss: 0.0023 - val_loss: 4.6814e-04\n",
      "Epoch 14/30\n",
      "51/51 [==============================] - 0s 8ms/step - loss: 0.0022 - val_loss: 3.8518e-04\n",
      "Epoch 15/30\n",
      "51/51 [==============================] - 0s 8ms/step - loss: 0.0022 - val_loss: 4.2278e-04\n",
      "Epoch 16/30\n",
      "51/51 [==============================] - 0s 10ms/step - loss: 0.0021 - val_loss: 4.0126e-04\n",
      "Epoch 17/30\n",
      "51/51 [==============================] - 1s 10ms/step - loss: 0.0021 - val_loss: 5.4340e-04\n",
      "Epoch 18/30\n",
      "51/51 [==============================] - 0s 8ms/step - loss: 0.0020 - val_loss: 3.7631e-04\n",
      "Epoch 19/30\n",
      "51/51 [==============================] - 0s 9ms/step - loss: 0.0023 - val_loss: 3.7000e-04\n",
      "Epoch 20/30\n",
      "51/51 [==============================] - 0s 9ms/step - loss: 0.0019 - val_loss: 4.1604e-04\n",
      "Epoch 21/30\n",
      "51/51 [==============================] - 0s 9ms/step - loss: 0.0022 - val_loss: 3.5006e-04\n",
      "Epoch 22/30\n",
      "51/51 [==============================] - 0s 8ms/step - loss: 0.0019 - val_loss: 4.4683e-04\n",
      "Epoch 23/30\n",
      "51/51 [==============================] - 0s 10ms/step - loss: 0.0018 - val_loss: 3.6171e-04\n",
      "Epoch 24/30\n",
      "51/51 [==============================] - 0s 9ms/step - loss: 0.0018 - val_loss: 3.9439e-04\n",
      "Epoch 25/30\n",
      "51/51 [==============================] - 0s 10ms/step - loss: 0.0018 - val_loss: 3.6232e-04\n",
      "Epoch 26/30\n",
      "51/51 [==============================] - 0s 8ms/step - loss: 0.0015 - val_loss: 3.2316e-04\n",
      "Epoch 27/30\n",
      "51/51 [==============================] - 1s 10ms/step - loss: 0.0015 - val_loss: 3.1158e-04\n",
      "Epoch 28/30\n",
      "51/51 [==============================] - 0s 8ms/step - loss: 0.0016 - val_loss: 4.1495e-04\n",
      "Epoch 29/30\n",
      "51/51 [==============================] - 0s 8ms/step - loss: 0.0018 - val_loss: 3.4130e-04\n",
      "Epoch 30/30\n",
      "51/51 [==============================] - 0s 8ms/step - loss: 0.0016 - val_loss: 3.5523e-04\n"
     ]
    }
   ],
   "source": [
    "model.compile(loss='mean_squared_error', optimizer='adam')\n",
    "\n",
    "history = model.fit(\n",
    "    X_train_random, y_train_random,\n",
    "    epochs=30,\n",
    "    batch_size=32, \n",
    "    validation_split=0.1,\n",
    "    shuffle=False\n",
    ")"
   ]
  },
  {
   "cell_type": "markdown",
   "metadata": {},
   "source": [
    "Die loss-Rate sollte bei einem Modell immer so gering wie nur möglich sein. In dem folgendem Diagramm ist gut zu sehen, dass die loss-Rate in den ersten Epochen noch relativ hoch war und sich dann immer mehr einer Zahl nahe 0,0015 angegelichen hat. Die Rate wurde dann auch ziemlich konstant über die restlichen Epochen gehalten. "
   ]
  },
  {
   "cell_type": "code",
   "execution_count": 13,
   "metadata": {},
   "outputs": [
    {
     "data": {
      "text/plain": [
       "dict_keys(['loss', 'val_loss'])"
      ]
     },
     "execution_count": 13,
     "metadata": {},
     "output_type": "execute_result"
    }
   ],
   "source": [
    "history_dict = history.history\n",
    "history_dict.keys()"
   ]
  },
  {
   "cell_type": "code",
   "execution_count": 14,
   "metadata": {},
   "outputs": [
    {
     "data": {
      "image/png": "[encoded data removed]",
      "text/plain": [
       "<Figure size 432x288 with 1 Axes>"
      ]
     },
     "metadata": {
      "needs_background": "light"
     },
     "output_type": "display_data"
    }
   ],
   "source": [
    "loss = history_dict['loss']\n",
    "val_loss = history_dict['val_loss']\n",
    "\n",
    "epochs = range(1, len(loss) + 1)\n",
    "\n",
    "plt.plot(epochs, loss, 'o', color='orange', label='Training Loss')\n",
    "plt.plot(epochs, val_loss, 'blue', label='Validation Loss')\n",
    "plt.title('Trainings- und Validationsloss')\n",
    "plt.xlabel('Epochen')\n",
    "plt.ylabel('Loss')\n",
    "plt.legend()\n",
    "\n",
    "plt.show()"
   ]
  },
  {
   "cell_type": "markdown",
   "metadata": {},
   "source": [
    "### Überprüfung des Modells\n",
    "Nachdem das Modell nun trainiert ist, kann zunächst überprüft werden, wie das Modell mit den Trainingsdaten performed. In dem ersten Diagramm sind alle Trainingsdaten abgebildet. Im zweiten Diagramm sind die Vorhersagen des ersten Jahres und im letzten Diagramm die Vorhersagen des letzten Jahres eingezeichnet. Dort ist gut zu erkennen, dass im ersten Jahr die Vorhersage noch sehr ungenau ist und große Schwankungen enhält. Im Gegensatz dazu ist die Vorhersage im letzten Jahr ziemliche nahe am tatsächlichen Kurs."
   ]
  },
  {
   "cell_type": "code",
   "execution_count": 15,
   "metadata": {},
   "outputs": [],
   "source": [
    "predicted_price = model.predict(X_train)\n",
    "predicted_price = y_scaler.inverse_transform(predicted_price)\n",
    "y_train = y_scaler.inverse_transform(y_train)"
   ]
  },
  {
   "cell_type": "code",
   "execution_count": 16,
   "metadata": {
    "scrolled": false
   },
   "outputs": [
    {
     "data": {
      "image/png": "[encoded data removed]",
      "text/plain": [
       "<Figure size 432x288 with 1 Axes>"
      ]
     },
     "metadata": {
      "needs_background": "light"
     },
     "output_type": "display_data"
    }
   ],
   "source": [
    "plt.plot(np.arange(0, len(y_train)), y_train, 'g', label=\"true\")\n",
    "plt.plot(np.arange(0, len(y_train)), predicted_price, 'r', label=\"prediction\")\n",
    "plt.ylabel('Price')\n",
    "plt.xlabel('Time Step')\n",
    "plt.legend()\n",
    "plt.show();"
   ]
  },
  {
   "cell_type": "code",
   "execution_count": 17,
   "metadata": {},
   "outputs": [
    {
     "data": {
      "image/png": "[encoded data removed]",
      "text/plain": [
       "<Figure size 432x288 with 1 Axes>"
      ]
     },
     "metadata": {
      "needs_background": "light"
     },
     "output_type": "display_data"
    }
   ],
   "source": [
    "plt.plot(np.arange(0, 365), y_train[0:365], 'g', label=\"true\")\n",
    "plt.plot(np.arange(0, 365), predicted_price[0:365], 'r', label=\"prediction\")\n",
    "plt.ylabel('Price')\n",
    "plt.xlabel('Time Step')\n",
    "plt.legend()\n",
    "plt.show();"
   ]
  },
  {
   "cell_type": "code",
   "execution_count": 18,
   "metadata": {
    "scrolled": false
   },
   "outputs": [
    {
     "data": {
      "image/png": "[encoded data removed]",
      "text/plain": [
       "<Figure size 432x288 with 1 Axes>"
      ]
     },
     "metadata": {
      "needs_background": "light"
     },
     "output_type": "display_data"
    }
   ],
   "source": [
    "plt.plot(np.arange(0, 365), y_train[-365:], 'g', label=\"true\")\n",
    "plt.plot(np.arange(0, 365), predicted_price[-365:], 'r', label=\"prediction\")\n",
    "plt.ylabel('Price')\n",
    "plt.xlabel('Time Step')\n",
    "plt.legend()\n",
    "plt.show();"
   ]
  },
  {
   "cell_type": "markdown",
   "metadata": {},
   "source": [
    "### Test des Modells\n",
    "Nachdem das Modell nun trainiert ist, kann mit den Testdaten überprüft werden, wie gut das Modell funktioniert. Das Diagramm zeigt dabei in blau den tatsächlichen Preisverlauf während der Testphase ab und in rot den vom Modell vorhergesagten Preisverlauf während der Testphase."
   ]
  },
  {
   "cell_type": "code",
   "execution_count": 336,
   "metadata": {},
   "outputs": [
    {
     "data": {
      "image/png": "[encoded data removed]",
      "text/plain": [
       "<Figure size 432x288 with 1 Axes>"
      ]
     },
     "metadata": {
      "needs_background": "light"
     },
     "output_type": "display_data"
    }
   ],
   "source": [
    "predicted_price = model.predict(X_test)\n",
    "predicted_price = y_scaler.inverse_transform(predicted_price)\n",
    "y_train_inv = y_scaler.inverse_transform(y_train)\n",
    "y_test_inv = y_scaler.inverse_transform(y_test)\n",
    "predicted_price\n",
    "\n",
    "plt.plot(y_test_inv, label=\"true\")\n",
    "plt.plot(predicted_price, 'r', label=\"prediction\")\n",
    "plt.ylabel('Price')\n",
    "plt.xlabel('Time Step')\n",
    "plt.legend()\n",
    "plt.show();"
   ]
  },
  {
   "cell_type": "markdown",
   "metadata": {},
   "source": [
    "## 3. Auführung"
   ]
  },
  {
   "cell_type": "markdown",
   "metadata": {},
   "source": [
    "## Anwenden auf Twitter Livedaten\n",
    "\n",
    "Da die Sentimentanalyse lediglich eine Ergänzung zu der technischen Analyse ist müssen die Ergebnisse entsprechend aufbereitet werden.\n",
    "\n",
    "Um die Tweets zu fetchen wird `searchtweets` verwendet. Weiterhin wird wieder Matplotlib verwendet, um die Ergebnisse graphisch darzustellen."
   ]
  },
  {
   "cell_type": "code",
   "execution_count": 337,
   "metadata": {},
   "outputs": [
    {
     "ename": "ModuleNotFoundError",
     "evalue": "No module named 'searchtweets'",
     "output_type": "error",
     "traceback": [
      "\u001b[0;31m---------------------------------------------------------------------------\u001b[0m",
      "\u001b[0;31mModuleNotFoundError\u001b[0m                       Traceback (most recent call last)",
      "\u001b[0;32m<ipython-input-337-8b1598c3b404>\u001b[0m in \u001b[0;36m<module>\u001b[0;34m\u001b[0m\n\u001b[1;32m      1\u001b[0m \u001b[0;31m# pip install searchtweets-v2\u001b[0m\u001b[0;34m\u001b[0m\u001b[0;34m\u001b[0m\u001b[0;34m\u001b[0m\u001b[0m\n\u001b[0;32m----> 2\u001b[0;31m \u001b[0;32mfrom\u001b[0m \u001b[0msearchtweets\u001b[0m \u001b[0;32mimport\u001b[0m \u001b[0mload_credentials\u001b[0m\u001b[0;34m,\u001b[0m \u001b[0mgen_request_parameters\u001b[0m\u001b[0;34m,\u001b[0m \u001b[0mcollect_results\u001b[0m\u001b[0;34m\u001b[0m\u001b[0;34m\u001b[0m\u001b[0m\n\u001b[0m\u001b[1;32m      3\u001b[0m \u001b[0;32mfrom\u001b[0m \u001b[0mdatetime\u001b[0m \u001b[0;32mimport\u001b[0m \u001b[0mdatetime\u001b[0m\u001b[0;34m\u001b[0m\u001b[0;34m\u001b[0m\u001b[0m\n\u001b[1;32m      4\u001b[0m \u001b[0;32mimport\u001b[0m \u001b[0mmatplotlib\u001b[0m\u001b[0;34m.\u001b[0m\u001b[0mdates\u001b[0m \u001b[0;32mas\u001b[0m \u001b[0mmdate\u001b[0m\u001b[0;34m\u001b[0m\u001b[0;34m\u001b[0m\u001b[0m\n\u001b[1;32m      5\u001b[0m \u001b[0;32mimport\u001b[0m \u001b[0mmath\u001b[0m\u001b[0;34m\u001b[0m\u001b[0;34m\u001b[0m\u001b[0m\n",
      "\u001b[0;31mModuleNotFoundError\u001b[0m: No module named 'searchtweets'"
     ]
    }
   ],
   "source": [
    "# pip install searchtweets-v2\n",
    "from searchtweets import load_credentials, gen_request_parameters, collect_results\n",
    "from datetime import datetime\n",
    "import matplotlib.dates as mdate\n",
    "import math"
   ]
  },
  {
   "cell_type": "markdown",
   "metadata": {},
   "source": [
    "Hier laden wir den Token für die Twitter API, dieser sollte sich im Rootordner des Projekts liegen."
   ]
  },
  {
   "cell_type": "code",
   "execution_count": 50,
   "metadata": {},
   "outputs": [],
   "source": [
    "search_args = load_credentials(\"./.twitter_keys.yaml\", yaml_key=\"search_tweets_v2\")"
   ]
  },
  {
   "cell_type": "markdown",
   "metadata": {},
   "source": [
    "Hier definieren wir unsere Queryparameter. Wir laden 100 Tweets, was das Maximum für einen einzelnen API Request ist und geben an, dass alle Tweets mit den Keywords \"ether\", \"eth\", \"ethereum\" oder \"cryptocurrency\" gefetcht werden sollen. Weiterhin filtern wir Tweets von Bots heraus und Tweets, die das Wort \"app\" enthalten, da dies meist nur Werbung ist. Zusätzlich müssen die Nutzer verifiziert sein und die Sprache englisch."
   ]
  },
  {
   "cell_type": "code",
   "execution_count": 51,
   "metadata": {},
   "outputs": [],
   "source": [
    "max_tweets = 100\n",
    "\n",
    "query = gen_request_parameters(\n",
    "    \"(ether OR eth OR ethereum OR cryptocurrency) -bot -app -is:retweet is:verified lang:en\",\n",
    "    tweet_fields=\"id,created_at,text,public_metrics\",\n",
    "    results_per_call=max_tweets)"
   ]
  },
  {
   "cell_type": "markdown",
   "metadata": {},
   "source": [
    "Mit `collect_results()` fetchen wir nun die Tweets und reversen sie, da sie hier für uns falschrum ankommen (neuester Tweet kommt hier zuerst). Mit `pop()` entfernen wir das erste Element, da es sich hier um ein Informationsobjekt handelt. Weiterhin filtern wir die für uns relevanten Informationen heraus wie Datum und Text."
   ]
  },
  {
   "cell_type": "code",
   "execution_count": 52,
   "metadata": {},
   "outputs": [
    {
     "name": "stdout",
     "output_type": "stream",
     "text": [
      "{'id': '1371408447225225222', 'public_metrics': {'retweet_count': 0, 'reply_count': 0, 'like_count': 0, 'quote_count': 0}, 'text': 'India to propose cryptocurrency ban, penalising miners, traders: Report #IndiaCryptoBan #CryptocurrencyBan #Compliance #FinanceMinistry #India #Bitcoin #Panic #Miners  https://t.co/ZhgVCjS8Y7', 'created_at': '2021-03-15T10:30:28.000Z'}\n"
     ]
    }
   ],
   "source": [
    "tweets = list(reversed(collect_results(query, max_tweets=max_tweets, result_stream_args=search_args)))\n",
    "\n",
    "tweets.pop(0)\n",
    "\n",
    "print(tweets[0])\n",
    "\n",
    "create_dates = []\n",
    "tweet_texts = []\n",
    "\n",
    "for tweet in tweets:\n",
    "    if 'text' not in tweet:\n",
    "        continue\n",
    "    tweet_texts.append(tweet['text'])\n",
    "    \n",
    "    utc_time = datetime.strptime(tweet['created_at'], \"%Y-%m-%dT%H:%M:%S.%fZ\")\n",
    "    epoch_time = (utc_time - datetime(1970, 1, 1)).total_seconds()\n",
    "    create_dates.append(epoch_time)"
   ]
  },
  {
   "cell_type": "markdown",
   "metadata": {},
   "source": [
    "Hier übergeben wir unseren Sentimentmodel den Batch an gefetchten Tweets. Dannach formatieren wir noch das Sentiment, sodass es von -1 bis 1 geht. Somit kann man besser unterscheiden, ob Tweets negativ oder positiv gemeint sind."
   ]
  },
  {
   "cell_type": "code",
   "execution_count": 53,
   "metadata": {},
   "outputs": [
    {
     "name": "stdout",
     "output_type": "stream",
     "text": [
      "1615804228.0 - India to propose cryptocurrency ban, penalising miners, traders: Report #IndiaCryptoBan #CryptocurrencyBan #Compliance #FinanceMinistry #India #Bitcoin #Panic #Miners  https://t.co/ZhgVCjS8Y7 - 0.2757258415222168\n",
      "1615804406.0 - The deal would see FTX become the first crypto exchange to sponsor a major professional sports venue in the US.\n",
      "\n",
      "The company would replace American Airlines, whose 20-year, US$2.1m per season contract expired in 2019 #NBA #SportsBiz https://t.co/dp0fRovMsz - 0.3065521717071533\n",
      "1615804541.0 - India to propose cryptocurrency ban https://t.co/6f8TrGPmnY - 0.02441096305847168\n",
      "1615804678.0 - India to propose cryptocurrency ban, penalising miners, traders - source - 0.38356590270996094\n",
      "1615804822.0 - Oil prices ended lower on Friday, a day after hitting their highest close in around two years.\n",
      "Bitcoin will be in focus today, after the cryptocurrency climbed past the $61,000 mark for the first time.\n",
      "https://t.co/Ep1r3aCQwb\n",
      "\n",
      "#finance #investment #trade #stockmarket #commodities https://t.co/zVI9PrVBWU - 0.388644814491272\n"
     ]
    }
   ],
   "source": [
    "raw_sentiment = sentiment_model.predict(tweet_texts).flatten()\n",
    "\n",
    "sentiment = []\n",
    "\n",
    "for s in raw_sentiment:\n",
    "    sentiment.append((s - 0.5) * 2)\n",
    "\n",
    "for i in range(5):\n",
    "    d = create_dates[i]\n",
    "    t = tweet_texts[i]\n",
    "    p = sentiment[i]\n",
    "    print(\"{} - {} - {}\".format(d,t,p))"
   ]
  },
  {
   "cell_type": "markdown",
   "metadata": {},
   "source": [
    "Da wir den aktuellen Sentimenttrend bestimmen wollen implementieren wir eine Simple Moving Average"
   ]
  },
  {
   "cell_type": "code",
   "execution_count": 54,
   "metadata": {},
   "outputs": [],
   "source": [
    "def simple_moving_avg(x, n):\n",
    "    cumsum = np.cumsum(np.insert(x, 0, 0))\n",
    "    return (cumsum[n:] - cumsum[:-n]) / float(n)"
   ]
  },
  {
   "cell_type": "markdown",
   "metadata": {},
   "source": [
    "Nun plotten wir das Sentiment in einen Zeitgraphen. Hier können wir bereits erkennen, wir die aktuelle Marktstimmung der letzten Stunden aussieht"
   ]
  },
  {
   "cell_type": "code",
   "execution_count": 55,
   "metadata": {},
   "outputs": [
    {
     "data": {
      "image/png": "[encoded data removed]",
      "text/plain": [
       "<Figure size 432x288 with 1 Axes>"
      ]
     },
     "metadata": {
      "needs_background": "light"
     },
     "output_type": "display_data"
    }
   ],
   "source": [
    "n = 10\n",
    "sma = simple_moving_avg(sentiment, n)\n",
    "\n",
    "for i in range(n - 1):\n",
    "    sma = np.insert(sma, i, sentiment[i])\n",
    "    \n",
    "dates = mdate.epoch2num(create_dates)\n",
    "\n",
    "fig, ax = plt.subplots()\n",
    "\n",
    "ax.plot(dates, sma, label=\"simple moving average\")\n",
    "ax.plot(dates, sentiment, \"o\", label=\"predicted sentiment\")\n",
    "\n",
    "date_fmt = '%d-%m-%y %H:%M:%S'\n",
    "\n",
    "date_formatter = mdate.DateFormatter(date_fmt)\n",
    "ax.xaxis.set_major_formatter(date_formatter)\n",
    "\n",
    "fig.autofmt_xdate()\n",
    "\n",
    "plt.title('Predictions and MA')\n",
    "plt.legend(loc='lower right')\n",
    "\n",
    "plt.show()"
   ]
  },
  {
   "cell_type": "markdown",
   "metadata": {},
   "source": [
    "Wir wollen aber zusätzlich noch den Einfluss der Tweets miteinberechnen. Dafür gewichten wir die Tweets mithilfe der Anzahl der Likes. Dafür mulitplizieren wir die Anzahl der Likes mit dem Sentiment Wert (+1 da sonst alle Tweets mit 0 Likes eliminiert werden). Mit den Sigmoid Funktion squashen wir alle Werte zurück in unseren vorherigen Wertebereich."
   ]
  },
  {
   "cell_type": "code",
   "execution_count": 56,
   "metadata": {},
   "outputs": [],
   "source": [
    "weighted_sentiment = []\n",
    "\n",
    "def normalized_sigmoid(x):\n",
    "  return ((1 / (1 + math.exp(-x))) - 0.5) * 2\n",
    "\n",
    "for i in range(len(sentiment)):\n",
    "    weight = tweets[i]['public_metrics']['like_count'] + 1\n",
    "    weighted_sentiment.append(normalized_sigmoid(weight * sentiment[i]))\n"
   ]
  },
  {
   "cell_type": "markdown",
   "metadata": {},
   "source": [
    "Nun können wir die gewichtete Marktstimmung erneut ausgeben"
   ]
  },
  {
   "cell_type": "code",
   "execution_count": 57,
   "metadata": {},
   "outputs": [
    {
     "data": {
      "image/png": "[encoded data removed]",
      "text/plain": [
       "<Figure size 432x288 with 1 Axes>"
      ]
     },
     "metadata": {
      "needs_background": "light"
     },
     "output_type": "display_data"
    }
   ],
   "source": [
    "n = 10\n",
    "weighted_sma = simple_moving_avg(weighted_sentiment, n)\n",
    "\n",
    "for i in range(n - 1):\n",
    "    weighted_sma = np.insert(weighted_sma, i, weighted_sentiment[i])\n",
    "    \n",
    "dates = mdate.epoch2num(create_dates)\n",
    "\n",
    "fig, ax = plt.subplots()\n",
    "\n",
    "ax.plot(dates, weighted_sma, label=\"simple moving average\")\n",
    "ax.plot(dates, weighted_sentiment, \"o\", label=\"weighted sentiment\")\n",
    "\n",
    "date_fmt = '%d-%m-%y %H:%M:%S'\n",
    "\n",
    "date_formatter = mdate.DateFormatter(date_fmt)\n",
    "ax.xaxis.set_major_formatter(date_formatter)\n",
    "\n",
    "fig.autofmt_xdate()\n",
    "\n",
    "plt.title('Weighted predictions and MA')\n",
    "plt.legend(loc='lower right')\n",
    "\n",
    "plt.show()"
   ]
  },
  {
   "cell_type": "markdown",
   "metadata": {},
   "source": [
    "Letztendlich können wir die beiden Werte noch vergleichen, um zu überprüfen, ob die Gewichtung tatsächlich einen Einfluss auf den Stimmungstrend hat"
   ]
  },
  {
   "cell_type": "code",
   "execution_count": 58,
   "metadata": {},
   "outputs": [
    {
     "data": {
      "image/png": "[encoded data removed]",
      "text/plain": [
       "<Figure size 432x288 with 1 Axes>"
      ]
     },
     "metadata": {
      "needs_background": "light"
     },
     "output_type": "display_data"
    }
   ],
   "source": [
    "dates = mdate.epoch2num(create_dates)\n",
    "\n",
    "fig, ax = plt.subplots()\n",
    "\n",
    "ax.plot(dates, sma, label=\"raw\", color='blue')\n",
    "ax.plot(dates, weighted_sma, label=\"weighted\", color='orange')\n",
    "\n",
    "date_fmt = '%d-%m-%y %H:%M:%S'\n",
    "\n",
    "date_formatter = mdate.DateFormatter(date_fmt)\n",
    "ax.xaxis.set_major_formatter(date_formatter)\n",
    "\n",
    "fig.autofmt_xdate()\n",
    "\n",
    "plt.title('Raw and weighted predictions')\n",
    "plt.legend(loc='lower right')\n",
    "\n",
    "plt.show()"
   ]
  },
  {
   "cell_type": "markdown",
   "metadata": {},
   "source": [
    "Die folgende Funktion dient zur Datenaufbereitung für die Vorhersage des Kursverlaufes 30 Tage in die Zukunft."
   ]
  },
  {
   "cell_type": "code",
   "execution_count": 338,
   "metadata": {},
   "outputs": [],
   "source": [
    "def create_data(df, X_scaler_predict, y_scaler_predict):\n",
    "    kama_indicator = KAMAIndicator(close = df[\"price\"], window = 10, pow1 = 2, pow2 = 30, fillna = False)\n",
    "    df['kama'] = kama_indicator.kama()\n",
    "    ppo_indicator = PercentagePriceOscillator(close = df[\"price\"], window_slow = 20, window_fast = 10, window_sign = 9, fillna = False)\n",
    "    df['ppo'] = ppo_indicator.ppo()\n",
    "    roc_indicator = ROCIndicator(close = df[\"price\"], window = 12, fillna = False)\n",
    "    df['roc'] = roc_indicator.roc()\n",
    "    macd_indicator = MACD(close = df[\"price\"], window_slow = 20, window_fast = 12, window_sign = 9, fillna = False)\n",
    "    df['macd'] = macd_indicator.macd()\n",
    "    rsi_indicator = RSIIndicator(close = df[\"price\"], window = 14, fillna = False)\n",
    "    df['rsi'] = rsi_indicator.rsi()\n",
    "    aroon_indicator = AroonIndicator(close = df[\"price\"], window = 20, fillna = False)\n",
    "    df['aroon'] = aroon_indicator.aroon_indicator()\n",
    "    boll_indicator = BollingerBands(close = df[\"price\"], window = 20, window_dev = 2, fillna = False)\n",
    "    df['boll_mavg'] = boll_indicator.bollinger_mavg()\n",
    "    df['day_of_month'] = df.index.day\n",
    "    df['day_of_week'] = df.index.dayofweek\n",
    "    df['month'] = df.index.month\n",
    "    prices = df['price'].to_numpy()\n",
    "    \n",
    "    increase = []\n",
    "    for i in range(0, len(df)):\n",
    "        if(i == len(prices)-1):\n",
    "            increase.append(1)\n",
    "        else:\n",
    "            if(prices[i+1] > prices[i]):\n",
    "                increase.append(1)\n",
    "            else:\n",
    "                increase.append(0)\n",
    "    df['increase'] = increase\n",
    "\n",
    "    df_new = df.tail(batch_size)\n",
    "    predict = df_new.iloc[:len(df_new)]\n",
    "    \n",
    "\n",
    "    X_predict = predict.filter(X_columns)\n",
    "    y_predict = predict.filter(['price'])\n",
    "\n",
    "    X_scaled_predict = X_scaler_predict.fit_transform(X_predict)\n",
    "    y_scaled_predict = y_scaler_predict.fit_transform(y_predict)\n",
    "\n",
    "    X_scaled_predict = pd.DataFrame(data=X_scaled_predict, index=predict.index, columns=X_columns)\n",
    "    y_scaled_predict = pd.DataFrame(data=y_scaled_predict, index=predict.index, columns=['price'])\n",
    "    \n",
    "    return df, X_scaled_predict, y_scaled_predict"
   ]
  },
  {
   "cell_type": "markdown",
   "metadata": {},
   "source": [
    "### Vorhersage des Kurses 30 Tage in die Zukunft\n",
    "Für die Vorhersage werden die Daten der letzten 56 Tage abgefragt, anschließend werden wieder alle Indicatoren hinzugefügt. Danach wird der Datensatz wieder auf 30 Einträge gekürzt (wie Batch-Größe) und eine Vorhersage für den nächsten Tag gemacht. Anhand von dem vorhergesagten Preis müssen mit der Funktion oben wieder die verschiedenen Indikatoren berechnet und die Daten in das richtige Format gebracht werden. Danach wird wieder eine Vorhersage für den nächsten Tag gemacht und dies wiederholt sich 30 mal und am Ende ist ein Diagramm mit der Vorhersage für die nächsten 30 Tage zu sehen. "
   ]
  },
  {
   "cell_type": "code",
   "execution_count": 339,
   "metadata": {},
   "outputs": [
    {
     "name": "stdout",
     "output_type": "stream",
     "text": [
      "[1723.8058, 1713.8246, 1705.2152, 1696.3575, 1680.9337, 1670.4683, 1669.3579, 1669.7205, 1665.5104, 1663.6744, 1661.0651, 1664.9491, 1666.4053, 1673.3661, 1678.3859, 1683.1365, 1694.4926, 1703.9674, 1706.0189, 1719.1744, 1723.9122, 1736.337, 1771.7825, 1790.2035, 1791.8595, 1795.5083, 1805.3932, 1814.0636, 1822.4109, 1830.3983]\n"
     ]
    }
   ],
   "source": [
    "end = datetime.today()\n",
    "start = datetime.today() - timedelta(days=batch_size + 50)\n",
    "ETH = pdr.DataReader(symbol,'yahoo',start,end)\n",
    "\n",
    "df = pd.DataFrame(data=ETH)\n",
    "df =  df.drop(df.columns[[0, 1, 2, 4, 5]], axis=1)\n",
    "df.rename(columns = {\"Close\": \"price\"}, inplace=True)\n",
    "prices = df['price'].to_numpy()\n",
    "\n",
    "X_scaler_predict = MinMaxScaler(feature_range = (0, 1))\n",
    "y_scaler_predict = MinMaxScaler(feature_range = (0, 1))\n",
    "\n",
    "days_in_future = 30\n",
    "y_predicted_all = []\n",
    "\n",
    "for i in range(days_in_future):\n",
    "    df, X_scaled_predict, y_scaled_predict = create_data(df, X_scaler_predict, y_scaler_predict)\n",
    "    X = np.array([X_scaled_predict.values])\n",
    "    y_predicted = model.predict(X)\n",
    "    y_predicted_inv = y_scaler_predict.inverse_transform(y_predicted)\n",
    "    y_predicted_all.append(y_predicted_inv[0][0])\n",
    "    del X_scaled_predict\n",
    "    del y_scaled_predict\n",
    "    \n",
    "    add_index = pd.Index([(datetime.today())+ timedelta(days=1)])\n",
    "    add_index.set_names('Date', inplace=True)\n",
    "    df2 = pd.DataFrame(index = add_index, data=([[y_predicted_inv[0][0], 0.0, 0.0, 0.0, 0.0, 0.0, 0.0, 0.0, 0, 0, 0]]), columns=X_columns)\n",
    "    df = df.append(df2)\n",
    "    del y_predicted\n",
    "    del y_predicted_inv\n",
    "\n",
    "print(y_predicted_all)"
   ]
  },
  {
   "cell_type": "code",
   "execution_count": 340,
   "metadata": {},
   "outputs": [
    {
     "data": {
      "image/png": "[encoded data removed]",
      "text/plain": [
       "<Figure size 432x288 with 1 Axes>"
      ]
     },
     "metadata": {
      "needs_background": "light"
     },
     "output_type": "display_data"
    }
   ],
   "source": [
    "plt.plot(np.arange(0, len(prices)), prices, 'g', label=\"history\")\n",
    "plt.plot(np.arange(len(prices) - 1, len(prices) + len(y_predicted_all)), [prices[-1]] + y_predicted_all, 'r', label=\"prediction\")\n",
    "plt.title('ETH USD Price with prediction')\n",
    "plt.xlabel('Tage')\n",
    "plt.ylabel('Preis')\n",
    "plt.legend()\n",
    "\n",
    "plt.show()"
   ]
  }
 ],
 "metadata": {
  "kernelspec": {
   "display_name": "Python 3",
   "language": "python",
   "name": "python3"
  },
  "language_info": {
   "codemirror_mode": {
    "name": "ipython",
    "version": 3
   },
   "file_extension": ".py",
   "mimetype": "text/x-python",
   "name": "python",
   "nbconvert_exporter": "python",
   "pygments_lexer": "ipython3",
   "version": "3.8.5"
  }
 },
 "nbformat": 4,
 "nbformat_minor": 2
}
