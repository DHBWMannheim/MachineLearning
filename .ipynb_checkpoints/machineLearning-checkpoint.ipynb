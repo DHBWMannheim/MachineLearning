{
 "cells": [
  {
   "cell_type": "markdown",
   "metadata": {},
   "source": [
    "@patrick\n",
    "\n",
    "# Machine Learning\n",
    "\n",
    "Dieses Notebook beinhaltet die Prüfungsleistung im Kurs WWI18SEA/C für Machine Learning bei Frau Minges. Es wurde erstellt von Patrick Mischka, Jan Grübener, Matthias Vonend, Aaron Schweig, Michael Angermeier und Troy Keßler.\n",
    "\n",
    "Hinweis: Alle Sektionen, welche mit @ annotiert sind, sind lediglich Einteilungen für die Präsentation und stellen nicht die Leistung der Personen dar.\n",
    "\n",
    "## Inhalt\n",
    "\n",
    "Ziel ist mithilfe von Machine Learning eine Trading Recommendation für Ethereum zu entwickeln. Diese soll aus zwei Teilen bestehen, zum einen aus einer technischen Analyse, wo ein LSTM Modell unter Verwendung von historischen Preisen und Indikatoren entwickelt und trainiert wird, und zum Anderen aus einer Stimmungsanalyse auf Twitter, wofür ein weiteres Deep Neural Network entwickelt und trainiert wird. Letztendlich sollen die Ergebnisse dieser Modelle Entscheidungshilfen sein, um Ethereum zu handeln.\n",
    "\n",
    "### 1. Sentimentmodell\n",
    "\n",
    "Im ersten Teil wird ein Sentimentmodell entwickelt und trainiert. Das Ziel ist hier ein Modell zu entwickelt, welches Tweets auf ihre Stimmung bewerten kann.\n",
    "\n",
    "### 2. Technisches Modell\n",
    "\n",
    "Im zweiten Teil wird ein technisches Modell entwickelt und trainiert. Das Ziel ist hier, basierend auf historischen Preisverläufen und anderen technischen Indikatoren, den zukünftigen Preis für die nächsten 30 Tage vorherzusagen.\n",
    "\n",
    "### 3. Ausführung\n",
    "\n",
    "Im dritten und letzten Teil werden die Modelle an APIs angeschlossen, so dass die Entscheidungshilfen live ausgeführt werden können.\n",
    "\n",
    "## Technologien\n",
    "\n",
    "Für das Modell wird [Tensorflow](https://www.tensorflow.org/) verwendet, zum Plotten von Informationen nutzen wir [Matplotlib](https://matplotlib.org/stable/index.html) und zum Verarbeiten von Daten [Pandas](https://pandas.pydata.org/). Außerdem werden weitere Utilities von [sklearn](https://scikit-learn.org/stable/) übernommen.\n",
    "\n",
    "## Setup\n",
    "\n",
    "Um dieses Notebook zu benutzen müssen Python 3.x (vorzugsweise 3.7.3) und folgende Packages installiert werden:\n",
    "\n",
    "* tensorflow==2.4.1\n",
    "* matplotlib==3.3.4\n",
    "* pandas==1.2.2\n",
    "* pandas_datareader==0.9.0\n",
    "* searchtweets-v2==1.0.7\n",
    "* scikit-learn==0.24.1\n",
    "* seaborn==0.11.0\n",
    "* numpy==1.19.2\n",
    "\n",
    "Diese können auch automatisch über die requirements.txt mit pip installiert werden.\n",
    "\n",
    "Das Datenset für das Trainieren kann über [diesen Link](https://www.dropbox.com/s/ur7pw797mgcc1wr/tweets.csv?dl=0) heruntergeladen werden. Dabei muss die Datei \"tweets.csv\" in den gleichen Ordner wie dieses Notepad abgelegt werden.\n"
   ]
  },
  {
   "cell_type": "markdown",
   "metadata": {},
   "source": [
    "## 1. Sentimentmodell\n",
    "\n",
    "In diesem Notebook wird ein Modell trainiert, welches Tweets live auf ihre Stimmung bewerten soll. Dafür wird ein Deep Neural Network erstellt, welches mit 1.6 Millionen Tweets trainiert wird. Hierbei handelt es sich um ein Klassifikationsproblem, es soll letztendlich entschieden werden, ob ein Tweet negativ (0), oder positiv (1) gestimmt ist.\n",
    "\n",
    "### Datensatz\n",
    "\n",
    "Um nun das Modell möglichst gut darauf zu trainieren reale Tweets zu bewerten haben wir uns für ein Datenset entschieden, welches 1.6 Millionen bereits gelabelte Tweets enthält. Dieses Datenset kann [hier](https://www.kaggle.com/kazanova/sentiment140) gefunden werden."
   ]
  },
  {
   "cell_type": "code",
   "execution_count": 2,
   "metadata": {},
   "outputs": [],
   "source": [
    "import matplotlib.pyplot as plt\n",
    "import os\n",
    "import re\n",
    "import shutil\n",
    "import string\n",
    "import tensorflow as tf\n",
    "import pandas as pd\n",
    "import seaborn as sns\n",
    "import numpy as np\n",
    "import sklearn\n",
    "\n",
    "from tensorflow.keras import layers\n",
    "from tensorflow.keras import losses\n",
    "from tensorflow.keras import preprocessing\n",
    "from tensorflow.keras.layers.experimental.preprocessing import TextVectorization\n",
    "from sklearn.model_selection import train_test_split\n",
    "from sklearn.metrics import confusion_matrix\n",
    "from sklearn.utils import shuffle\n",
    "from tensorflow import feature_column"
   ]
  },
  {
   "cell_type": "markdown",
   "metadata": {},
   "source": [
    "### Laden des Datensatzes\n",
    "\n",
    "Mithilfe von pandas wird das Datenset geladen. Dabei werden nur die erste und die letzte Spalte geladen, da nur diese für uns von Interesse sind. Da es sich bei der ersten Spalte um die Stimmung des Tweets handelt, wird diese mit \"targets\" gelabelt. Die letzte Spalte beinhaltet den eigentlichen Tweet, welcher mit \"text\" gelabelt wird."
   ]
  },
  {
   "cell_type": "code",
   "execution_count": 3,
   "metadata": {},
   "outputs": [],
   "source": [
    "dataframe = pd.read_csv(\"./tweets.csv\", usecols=[0, 5], names=[\"target\", \"text\"])"
   ]
  },
  {
   "cell_type": "markdown",
   "metadata": {},
   "source": [
    "Da das Datenset sortiert ist, muss es randomisiert werden. Falls dies nicht gemacht werden würde, hätte dies einen negativen Einfluss auf das Lernen. Zuerst würden alle negativ gelabelten Daten geladen werden, wodurch das Modell \"denkt\", dass alle Daten negativ wären. Das Modell würde sich entsprechend darauf einstellen. Werden positiven Daten verwerdet, würde das Modell annehmen, dass es nur positive Daten gäbe. Dementsprechend würde es bei richtigen (nicht-trainings) Daten immer eine positive Stimmung vorhersagen, was aber nicht der Realtität entsprechen würde."
   ]
  },
  {
   "cell_type": "code",
   "execution_count": 4,
   "metadata": {},
   "outputs": [],
   "source": [
    "dataframe = shuffle(dataframe)"
   ]
  },
  {
   "cell_type": "markdown",
   "metadata": {},
   "source": [
    "Wenn der Datensatz korrekt geladen wurde sollte eine Tabelle mit den ersten fünf Einträgen zu sehen sein."
   ]
  },
  {
   "cell_type": "code",
   "execution_count": 5,
   "metadata": {},
   "outputs": [
    {
     "data": {
      "text/html": [
       "<div>\n",
       "<style scoped>\n",
       "    .dataframe tbody tr th:only-of-type {\n",
       "        vertical-align: middle;\n",
       "    }\n",
       "\n",
       "    .dataframe tbody tr th {\n",
       "        vertical-align: top;\n",
       "    }\n",
       "\n",
       "    .dataframe thead th {\n",
       "        text-align: right;\n",
       "    }\n",
       "</style>\n",
       "<table border=\"1\" class=\"dataframe\">\n",
       "  <thead>\n",
       "    <tr style=\"text-align: right;\">\n",
       "      <th></th>\n",
       "      <th>target</th>\n",
       "      <th>text</th>\n",
       "    </tr>\n",
       "  </thead>\n",
       "  <tbody>\n",
       "    <tr>\n",
       "      <th>873380</th>\n",
       "      <td>4</td>\n",
       "      <td>Ahhhhhh....2 jumps- I feel back to center agai...</td>\n",
       "    </tr>\n",
       "    <tr>\n",
       "      <th>643814</th>\n",
       "      <td>0</td>\n",
       "      <td>I really do want to go to sleep, but I can't s...</td>\n",
       "    </tr>\n",
       "    <tr>\n",
       "      <th>618262</th>\n",
       "      <td>0</td>\n",
       "      <td>@callmedingding don't laugh at me jerk. i hurt</td>\n",
       "    </tr>\n",
       "    <tr>\n",
       "      <th>293885</th>\n",
       "      <td>0</td>\n",
       "      <td>@LaurenConrad im crying the hills is nuthing w...</td>\n",
       "    </tr>\n",
       "    <tr>\n",
       "      <th>478219</th>\n",
       "      <td>0</td>\n",
       "      <td>fuck, i've lost my wallet.. I think</td>\n",
       "    </tr>\n",
       "  </tbody>\n",
       "</table>\n",
       "</div>"
      ],
      "text/plain": [
       "        target                                               text\n",
       "873380       4  Ahhhhhh....2 jumps- I feel back to center agai...\n",
       "643814       0  I really do want to go to sleep, but I can't s...\n",
       "618262       0    @callmedingding don't laugh at me jerk. i hurt \n",
       "293885       0  @LaurenConrad im crying the hills is nuthing w...\n",
       "478219       0               fuck, i've lost my wallet.. I think "
      ]
     },
     "execution_count": 5,
     "metadata": {},
     "output_type": "execute_result"
    }
   ],
   "source": [
    "dataframe.head()"
   ]
  },
  {
   "cell_type": "markdown",
   "metadata": {},
   "source": [
    "Um das Trainieren des Modells zu überwachen und um die Trefferquote des Modells hinterher zu errechnen wird der Datensatz in drei Teile unterteilt. In einem Verhältnis von 80:20 wird der Datensatz in Trainingsdaten und Testdaten unterteilt. Trainingsdaten dienen hier ausschließlich zum Trainieren des Modells. Die Testdaten werden nach dem Trainieren dazu verwendet, um die Trefferquote des Modells zu errechnen. Diese sollen reale Daten simulieren. Dieses Verhältnis wurde gewählt, da mehr Trainingsdaten ein besseres Ergebnis versprechen. Die Anzahl der Testdaten muss hingegen nicht hoch sein, um die Trefferquote zu bestimmen.\n",
    "\n",
    "Weiterhin werden die Trainingsdaten wiederum in Trainingsdaten und Validierungsdaten aufgeteilt. Auch hier wird ein Verhältnis von 80:20 angesetzt. Die Validierungsdaten werden dazu verwendet, um das Training zu überwachen. Nach jeder Epoche (Trainingsschritt) wird damit die aktuelle Trefferquote bestimmt."
   ]
  },
  {
   "cell_type": "code",
   "execution_count": 6,
   "metadata": {},
   "outputs": [
    {
     "name": "stdout",
     "output_type": "stream",
     "text": [
      "1024000 training tweets\n",
      "256000 validation tweets\n",
      "320000 test tweets\n"
     ]
    }
   ],
   "source": [
    "train, test = train_test_split(dataframe, test_size=0.2)\n",
    "train, val = train_test_split(train, test_size=0.2)\n",
    "\n",
    "print(len(train), 'training tweets')\n",
    "print(len(val), 'validation tweets')\n",
    "print(len(test), 'test tweets')"
   ]
  },
  {
   "cell_type": "markdown",
   "metadata": {},
   "source": [
    "Da jetzt der Datensatz entsprechend aufgeteilt wurde, kann er nun in das Tensorflow-Format gebracht werden. Dafür werden die Features (text) und die Labels (labels) klar definiert. Zusätzlich wird eine Batchgröße definiert, welche Daten gruppiert und dadurch das Lernen beschleunigt."
   ]
  },
  {
   "cell_type": "code",
   "execution_count": 8,
   "metadata": {},
   "outputs": [],
   "source": [
    "def df_to_dataset(dataframe, batch_size):\n",
    "  dataframe = dataframe.copy()\n",
    "  texts = dataframe.pop('text')\n",
    "  labels = dataframe.pop('target')\n",
    "  return tf.data.Dataset.from_tensor_slices((texts, labels)).batch(batch_size)"
   ]
  },
  {
   "cell_type": "code",
   "execution_count": 9,
   "metadata": {},
   "outputs": [],
   "source": [
    "batch_size = 320\n",
    "\n",
    "raw_train_ds = df_to_dataset(train, batch_size)\n",
    "raw_val_ds = df_to_dataset(val, batch_size)\n",
    "raw_test_ds = df_to_dataset(test, batch_size)"
   ]
  },
  {
   "cell_type": "markdown",
   "metadata": {},
   "source": [
    "Um zu validieren, dass die Konvertierung erfolgreich war, werden die ersten drei Einträge ausgelesen."
   ]
  },
  {
   "cell_type": "code",
   "execution_count": 10,
   "metadata": {},
   "outputs": [
    {
     "name": "stdout",
     "output_type": "stream",
     "text": [
      "Tweet: b\"@grossdale have fun in fl. I'll be there the day you leave \"\n",
      "Label: 0\n",
      "Tweet: b'needs a full day of sleep ... like 20 hrs instead of 3-4 hrs a night... starting to catch up!!!  '\n",
      "Label: 0\n",
      "Tweet: b\"why are you such an idiot ? i can't understand u, mygooosh! \"\n",
      "Label: 0\n"
     ]
    }
   ],
   "source": [
    "for text_batch, label_batch in raw_train_ds.take(1):\n",
    "  for i in range(3):\n",
    "    print(\"Tweet:\", text_batch.numpy()[i])\n",
    "    print(\"Label:\", label_batch.numpy()[i])"
   ]
  },
  {
   "cell_type": "markdown",
   "metadata": {},
   "source": [
    "@matthias\n",
    "\n",
    "Um unnötige Duplikate zu vermeiden, werden die Daten für das Modell normalisiert. Beispielsweiße werden Wörter, die in manchen Tweets groß und in anderen wieder klein geschrieben werden, angepasst. Zusätzlich können User-Namen, welche mit \"@\" beginnen normalisiert werden, da der genaue User-Name unwichtig für die Sentiment-prediction ist."
   ]
  },
  {
   "cell_type": "code",
   "execution_count": 11,
   "metadata": {},
   "outputs": [],
   "source": [
    "def normalize_data(tweet):\n",
    "  lowercase = tf.strings.lower(tweet)\n",
    "  return tf.strings.regex_replace(lowercase, '@(\\w*)|(\\\\n)|(https:\\/\\/t\\.co[\\w\\/]*)', '')"
   ]
  },
  {
   "cell_type": "markdown",
   "metadata": {},
   "source": [
    "Nun können die Texte vektorisiert werden. Da ein neuronales Netz nicht mit Wörtern und Buchstaben arbeiten kann, müssen diese in Zahlen umgewandelt werden. Dafür werden die Tweets in Vektoren umgewandelt. Die Größe des Vektors wird dabei mit sequence_length definiert. Die Größe der sequence_length, also die Größe des Vektors, sollte in der Regel so groß sein, dass alle Wörter eines Tweets hineinpassen. Da die Anzahl an Zeichen auf 280 pro Tweet limitiert ist, und die durchnittliche Anzahl der Zeichen pro Wort im Englischen bei 5 liegt, wird die sequence_length mit 56 definiert.\n",
    "\n",
    "Hier erhält jedes Wort eine fortlaufende Id. Die Reihenfolge dieser Ids ist durch die Reihenfolge in dem die Wörter vektorisiert wurden festgelegt. Dabei können aufgrund dictionary_size maximal 10000 Wörter eingelesen werden. Alle weiteren Wörter werden ignoriert. Diese Menge an Vokabeln sollte aber ausreichen, da in der Alltagssprache lediglich zwei- bis dreitausend Wörter verwendet werden. Somit kann jedes Wort einer Id zugewiesen werden, sodass man ganze Sätze in einem Vektor abbilden kann. Da die Vektorengröße immer der sequence_length enstpricht, wird auch das Problem, dass ein neuronales Netz immer die gleiche Inputgröße benötigt, gelöst.\n",
    "\n",
    "Dafür wird hier ein Vektorlayer erstellt. Gleichzeitig können hier die Daten normalisiert werden."
   ]
  },
  {
   "cell_type": "code",
   "execution_count": 13,
   "metadata": {},
   "outputs": [],
   "source": [
    "dictionary_size = 10000\n",
    "sequence_length = 56\n",
    "\n",
    "vectorize_layer = TextVectorization(\n",
    "    standardize=normalize_data,\n",
    "    max_tokens=dictionary_size,\n",
    "    output_mode='int',\n",
    "    output_sequence_length=sequence_length)"
   ]
  },
  {
   "cell_type": "markdown",
   "metadata": {},
   "source": [
    "Hier werden die Trainingsdaten eingelesen, so dass die 10000 Features gefüllt werden können. Es entsteht ein \"Wörterbuch\" für Tweets"
   ]
  },
  {
   "cell_type": "code",
   "execution_count": 14,
   "metadata": {},
   "outputs": [],
   "source": [
    "train_text = np.concatenate([x for x, y in raw_train_ds], axis=0)\n",
    "vectorize_layer.adapt(train_text)"
   ]
  },
  {
   "cell_type": "markdown",
   "metadata": {},
   "source": [
    "Mit der Methode können wir alle Datensätze vektorisieren. Hier normalisieren wir das Label, so dass das Label eine Wertebereich von 0 bis 1, anstatt von 0 bis 4 besitzt. "
   ]
  },
  {
   "cell_type": "code",
   "execution_count": 22,
   "metadata": {},
   "outputs": [],
   "source": [
    "def vectorize_tweet(text, label):\n",
    "  text = tf.expand_dims(text, -1)\n",
    "  return vectorize_layer(text), int(label / 4)"
   ]
  },
  {
   "cell_type": "markdown",
   "metadata": {},
   "source": [
    "Um zu testen, ob das Vektorisieren der Tweets funktioniert, können wir den ersten Tweet aus dem ersten Batch auslesen und vektorisieren."
   ]
  },
  {
   "cell_type": "code",
   "execution_count": 23,
   "metadata": {},
   "outputs": [
    {
     "name": "stdout",
     "output_type": "stream",
     "text": [
      "tf.Tensor(b\"@grossdale have fun in fl. I'll be there the day you leave \", shape=(), dtype=string)\n",
      "tf.Tensor(0, shape=(), dtype=int64)\n",
      "(<tf.Tensor: shape=(1, 56), dtype=int64, numpy=\n",
      "array([[ 16, 136,  11,   1, 108,  24,  96,   4,  42,   8, 349,   0,   0,\n",
      "          0,   0,   0,   0,   0,   0,   0,   0,   0,   0,   0,   0,   0,\n",
      "          0,   0,   0,   0,   0,   0,   0,   0,   0,   0,   0,   0,   0,\n",
      "          0,   0,   0,   0,   0,   0,   0,   0,   0,   0,   0,   0,   0,\n",
      "          0,   0,   0,   0]], dtype=int64)>, 0)\n"
     ]
    }
   ],
   "source": [
    "text_batch, label_batch = next(iter(raw_train_ds))\n",
    "text, label = text_batch[0], label_batch[0]\n",
    "print(text)\n",
    "print(label)\n",
    "print(vectorize_tweet(text, label))"
   ]
  },
  {
   "cell_type": "markdown",
   "metadata": {},
   "source": [
    "Mithilfe des Vektorlayers können wir von den Ids wieder auf die Wörtern zurückschließen. Außerdem können wir die Größe unseres Wörterbuchs auslesen."
   ]
  },
  {
   "cell_type": "code",
   "execution_count": 24,
   "metadata": {},
   "outputs": [
    {
     "name": "stdout",
     "output_type": "stream",
     "text": [
      "Token 1234: comment\n",
      "Dictionary size: 10000\n"
     ]
    }
   ],
   "source": [
    "print(\"Token 1234:\", vectorize_layer.get_vocabulary()[1234])\n",
    "print('Dictionary size: {}'.format(len(vectorize_layer.get_vocabulary())))"
   ]
  },
  {
   "cell_type": "markdown",
   "metadata": {},
   "source": [
    "Nun vektorisieren wir alle benötigten Datensätze."
   ]
  },
  {
   "cell_type": "code",
   "execution_count": 25,
   "metadata": {},
   "outputs": [],
   "source": [
    "train_ds = raw_train_ds.map(vectorize_tweet)\n",
    "val_ds = raw_val_ds.map(vectorize_tweet)\n",
    "test_ds = raw_test_ds.map(vectorize_tweet)"
   ]
  },
  {
   "cell_type": "markdown",
   "metadata": {},
   "source": [
    "Aus Performancegründen können die Datensätze weiter aufbereitet werden. Mit `.cache()` bleiben die Daten im Arbeitsspeicher, nachdem diese von der Festplatte geladen wurden. Somit kann sichergestellt werden, dass das Laden der Daten nicht der Flaschenhals beim Training sein wird.\n",
    "\n",
    "Mit `.prefetch()` können die Daten gleichzeitig mit dem Lernen präprozessiert werden."
   ]
  },
  {
   "cell_type": "code",
   "execution_count": 16,
   "metadata": {},
   "outputs": [],
   "source": [
    "AUTOTUNE = tf.data.AUTOTUNE\n",
    "\n",
    "train_ds = train_ds.cache().prefetch(buffer_size=AUTOTUNE)\n",
    "val_ds = val_ds.cache().prefetch(buffer_size=AUTOTUNE)\n",
    "test_ds = test_ds.cache().prefetch(buffer_size=AUTOTUNE)"
   ]
  },
  {
   "cell_type": "markdown",
   "metadata": {},
   "source": [
    "Schließlich definieren wir das eigentliche Modell. Der erste Layer ist ein Embedding-Layer. Dieser sorgt dafür, dass jedes Wort einen eigenen Vektor erhält, welcher die Bedeutung des Wortes darstellt. Diese Vektoren werden mit dem Modell über die Zeit trainiert. Dieser Embedding-Layer fügt eine weitere Dimension zum Outputvektor hinzu. Hier definieren wir mit der Embedding-Dimension die Größe der Layer, das bedeutet, dass es 32 Nodes pro Layer gibt.\n",
    "\n",
    "Als nächster Layer wird `GlobalAveragePooling1D` verwendet. Dieser reduziert die Dimension wieder um 1 und verrechnet dabei alle Informationen, sodass keine Informationen verloren gehen. Der Outputvektor wird dabei wieder auf eine feste Länge normalisiert.\n",
    "\n",
    "Anschließend folgt ein fully-connected 32 Dense-Layer. Hier wurde eine Dropoutrate festgelegt, um Overfitting zu verhindern. Das Ziel hier ist random ausgewählte Nodes auf 0 zu setzen, damit das anspassen der Weights der einzelnen Nodes beim Lernen gefördert wird.\n",
    "\n",
    "Letztendlich wird der letzte Layer mit einem Dense Layer zu einer einzigen Node verknüpft. Diese hat dank der Sigmoid-Aktivierungsfunktion ein Intervall von 0 bis 1 und gibt das Ergenis aus.\n",
    "\n",
    "Wir können nun noch mit `.summary()` das Modell verifizieren."
   ]
  },
  {
   "cell_type": "code",
   "execution_count": 30,
   "metadata": {},
   "outputs": [
    {
     "name": "stdout",
     "output_type": "stream",
     "text": [
      "Model: \"sequential_2\"\n",
      "_________________________________________________________________\n",
      "Layer (type)                 Output Shape              Param #   \n",
      "=================================================================\n",
      "embedding_2 (Embedding)      (None, None, 32)          320000    \n",
      "_________________________________________________________________\n",
      "global_max_pooling1d (Global (None, 32)                0         \n",
      "_________________________________________________________________\n",
      "dropout_2 (Dropout)          (None, 32)                0         \n",
      "_________________________________________________________________\n",
      "dense_2 (Dense)              (None, 1)                 33        \n",
      "=================================================================\n",
      "Total params: 320,033\n",
      "Trainable params: 320,033\n",
      "Non-trainable params: 0\n",
      "_________________________________________________________________\n"
     ]
    }
   ],
   "source": [
    "model = tf.keras.Sequential([\n",
    "  layers.Embedding(dictionary_size, 32),\n",
    "  layers.GlobalMaxPooling1D(),\n",
    "  layers.Dropout(0.1),\n",
    "  layers.Dense(1, activation='sigmoid')\n",
    "])\n",
    "\n",
    "model.summary()"
   ]
  },
  {
   "cell_type": "markdown",
   "metadata": {},
   "source": [
    "@troy\n",
    "\n",
    "Für das Trainieren müssen noch ein paar Parameter definiert werden. Für die Berechnung des Fehlers (loss) verwenden wir die `BinaryCrossentropy` Funktion. Der Fehler gibt uns an, wie weit wir von der richtigen Prediction weg sind. Wir haben uns dafür entschieden, da wir einen sogenannten Binary Classifier haben, der uns eine Wahrscheinlichkeit von 0 bis 1 als Ergebnis gibt.\n",
    "\n",
    "Weiterhin verwenden wir für den Optimierungsalgorithmus den `Adam-Optimizer`. Wir haben uns für den Adam-Optimizer, im Vergleich zum klassischen Stochastic-Gradient-Descent-Algorithmus entschieden, da sich die Learningrate beim Adam-Optimizer mit der Zeit automatisch anpasst. Das ist besonders praktisch bei Natural-Language-Processing, da hier die Gradients in der Regel sehr gering sind. Dabei wird die Learningrate basierend auf der vorherigen Änderung der Weights angepasst. Hier haben wir eine sehr kleine Learningrate definiert, da wir ein sehr großes Datenset haben und nicht zu schnell in das Problem von Overfitting laufen wollen.\n",
    "\n",
    "Zusätzlich werden weitere Metriken wie True Positives, False Positives, True Negatives, False Negatives, Precision, Recall und AUC gemessen, um genauere Aussagen über die Genauigkeit des Modells zu treffen."
   ]
  },
  {
   "cell_type": "code",
   "execution_count": 31,
   "metadata": {},
   "outputs": [],
   "source": [
    "metrics = [\n",
    "  tf.metrics.TruePositives(name='tp'),\n",
    "  tf.metrics.FalsePositives(name='fp'),\n",
    "  tf.metrics.TrueNegatives(name='tn'),\n",
    "  tf.metrics.FalseNegatives(name='fn'), \n",
    "  tf.metrics.BinaryAccuracy(name='accuracy'),\n",
    "  tf.metrics.Precision(name='precision'),\n",
    "  tf.metrics.Recall(name='recall'),\n",
    "  tf.metrics.AUC(name='auc'),\n",
    "]\n",
    "\n",
    "model.compile(loss=losses.BinaryCrossentropy(),\n",
    "              optimizer=tf.keras.optimizers.Adam(learning_rate=0.0001),\n",
    "              metrics=metrics)"
   ]
  },
  {
   "cell_type": "markdown",
   "metadata": {},
   "source": [
    "Nun wird das Modell trainiert. Dafür definieren wir mit epochs, wie oft wir über das Trainingsdatenset iterieren. In `model.fit()` werden die Trainingsdaten, die Validationsdaten und die Anzahl der Epochen angegeben. Tensorflow loggt den Fortschritt live in der Konsole aus und zusätzlich wird der Trainingsstatus in einem History-Objekt festgehalten."
   ]
  },
  {
   "cell_type": "code",
   "execution_count": 32,
   "metadata": {},
   "outputs": [
    {
     "name": "stdout",
     "output_type": "stream",
     "text": [
      "Epoch 1/10\n",
      "3200/3200 [==============================] - 31s 9ms/step - loss: 0.6577 - tp: 156518.8166 - fp: 56567.5114 - tn: 199717.6001 - fn: 99515.9719 - accuracy: 0.6709 - precision: 0.7073 - recall: 0.5846 - auc: 0.7300 - val_loss: 0.5372 - val_tp: 94921.0000 - val_fp: 29195.0000 - val_tn: 98917.0000 - val_fn: 32967.0000 - val_accuracy: 0.7572 - val_precision: 0.7648 - val_recall: 0.7422 - val_auc: 0.8308\n",
      "Epoch 2/10\n",
      "3200/3200 [==============================] - 30s 9ms/step - loss: 0.5185 - tp: 194603.1793 - fp: 58898.5345 - tn: 197386.5770 - fn: 61431.6092 - accuracy: 0.7634 - precision: 0.7668 - recall: 0.7564 - auc: 0.8369 - val_loss: 0.4819 - val_tp: 99400.0000 - val_fp: 29005.0000 - val_tn: 99107.0000 - val_fn: 28488.0000 - val_accuracy: 0.7754 - val_precision: 0.7741 - val_recall: 0.7772 - val_auc: 0.8537\n",
      "Epoch 3/10\n",
      "3200/3200 [==============================] - 30s 9ms/step - loss: 0.4748 - tp: 200245.1097 - fp: 57128.4427 - tn: 199156.6689 - fn: 55789.6789 - accuracy: 0.7789 - precision: 0.7771 - recall: 0.7815 - auc: 0.8575 - val_loss: 0.4623 - val_tp: 100345.0000 - val_fp: 28019.0000 - val_tn: 100093.0000 - val_fn: 27543.0000 - val_accuracy: 0.7830 - val_precision: 0.7817 - val_recall: 0.7846 - val_auc: 0.8638\n",
      "Epoch 4/10\n",
      "3200/3200 [==============================] - 30s 9ms/step - loss: 0.4565 - tp: 201891.4549 - fp: 54924.4136 - tn: 201360.6979 - fn: 54143.3336 - accuracy: 0.7869 - precision: 0.7856 - recall: 0.7886 - auc: 0.8675 - val_loss: 0.4528 - val_tp: 100645.0000 - val_fp: 27281.0000 - val_tn: 100831.0000 - val_fn: 27243.0000 - val_accuracy: 0.7870 - val_precision: 0.7867 - val_recall: 0.7870 - val_auc: 0.8691\n",
      "Epoch 5/10\n",
      "3200/3200 [==============================] - 30s 9ms/step - loss: 0.4464 - tp: 202485.0519 - fp: 53292.8750 - tn: 202992.2365 - fn: 53549.7366 - accuracy: 0.7911 - precision: 0.7911 - recall: 0.7906 - auc: 0.8732 - val_loss: 0.4473 - val_tp: 100721.0000 - val_fp: 26530.0000 - val_tn: 101582.0000 - val_fn: 27167.0000 - val_accuracy: 0.7902 - val_precision: 0.7915 - val_recall: 0.7876 - val_auc: 0.8722\n",
      "Epoch 6/10\n",
      "3200/3200 [==============================] - 29s 9ms/step - loss: 0.4398 - tp: 202980.9925 - fp: 52181.3374 - tn: 204103.7741 - fn: 53053.7960 - accuracy: 0.7945 - precision: 0.7951 - recall: 0.7930 - auc: 0.8770 - val_loss: 0.4439 - val_tp: 100828.0000 - val_fp: 26177.0000 - val_tn: 101935.0000 - val_fn: 27060.0000 - val_accuracy: 0.7920 - val_precision: 0.7939 - val_recall: 0.7884 - val_auc: 0.8742\n",
      "Epoch 7/10\n",
      "3200/3200 [==============================] - 30s 9ms/step - loss: 0.4348 - tp: 203462.0075 - fp: 51213.2596 - tn: 205071.8519 - fn: 52572.7810 - accuracy: 0.7972 - precision: 0.7984 - recall: 0.7947 - auc: 0.8799 - val_loss: 0.4417 - val_tp: 100953.0000 - val_fp: 25932.0000 - val_tn: 102180.0000 - val_fn: 26935.0000 - val_accuracy: 0.7935 - val_precision: 0.7956 - val_recall: 0.7894 - val_auc: 0.8755\n",
      "Epoch 8/10\n",
      "3200/3200 [==============================] - 30s 9ms/step - loss: 0.4310 - tp: 203642.1824 - fp: 50673.6226 - tn: 205611.4889 - fn: 52392.6061 - accuracy: 0.7987 - precision: 0.8003 - recall: 0.7956 - auc: 0.8820 - val_loss: 0.4402 - val_tp: 101019.0000 - val_fp: 25790.0000 - val_tn: 102322.0000 - val_fn: 26869.0000 - val_accuracy: 0.7943 - val_precision: 0.7966 - val_recall: 0.7899 - val_auc: 0.8764\n",
      "Epoch 9/10\n",
      "3200/3200 [==============================] - 30s 9ms/step - loss: 0.4285 - tp: 203954.6364 - fp: 50278.4149 - tn: 206006.6967 - fn: 52080.1521 - accuracy: 0.8001 - precision: 0.8019 - recall: 0.7967 - auc: 0.8834 - val_loss: 0.4391 - val_tp: 101041.0000 - val_fp: 25658.0000 - val_tn: 102454.0000 - val_fn: 26847.0000 - val_accuracy: 0.7949 - val_precision: 0.7975 - val_recall: 0.7901 - val_auc: 0.8770\n",
      "Epoch 10/10\n",
      "3200/3200 [==============================] - 30s 9ms/step - loss: 0.4259 - tp: 204165.2765 - fp: 49650.7610 - tn: 206634.3505 - fn: 51869.5120 - accuracy: 0.8018 - precision: 0.8041 - recall: 0.7975 - auc: 0.8849 - val_loss: 0.4384 - val_tp: 101060.0000 - val_fp: 25578.0000 - val_tn: 102534.0000 - val_fn: 26828.0000 - val_accuracy: 0.7953 - val_precision: 0.7980 - val_recall: 0.7902 - val_auc: 0.8775\n"
     ]
    }
   ],
   "source": [
    "training_history = model.fit(\n",
    "    train_ds,\n",
    "    validation_data=val_ds,\n",
    "    epochs=10)"
   ]
  },
  {
   "cell_type": "markdown",
   "metadata": {},
   "source": [
    "Mithilfe von Matplotlib können wir den Loss plotten und beobachten, wie sich diese während des Lernens verhalten hat. Optimalerweise sollte diese mit der Zeit sinken, da mit dem Anpassen der Weights das Modell immer genauere Aussagen treffen sollte und somit auch der Fehler immer geringer werden sollte.\n",
    "\n",
    "Wir können erkennen, dass dies tatsächlich der Fall ist. Der Loss fällt fast exponentiell. Logischerweise wird der Trainingsloss immer geringer. Als Bestätigung für die Verbesserung des Modells dient hier der Validationloss. Dieser ist fast gleich, sodass wir davon ausgehen können, dass die Anzahl der Fehlinterpretierungen tatsächlich geringer wurde."
   ]
  },
  {
   "cell_type": "code",
   "execution_count": 33,
   "metadata": {},
   "outputs": [
    {
     "data": {
      "image/png": "[encoded data removed]",
      "text/plain": [
       "<Figure size 432x288 with 1 Axes>"
      ]
     },
     "metadata": {
      "needs_background": "light"
     },
     "output_type": "display_data"
    }
   ],
   "source": [
    "history_dict = training_history.history\n",
    "\n",
    "loss = history_dict['loss']\n",
    "val_loss = history_dict['val_loss']\n",
    "\n",
    "epochs = range(1, len(loss) + 1)\n",
    "\n",
    "plt.plot(epochs, loss, 'o', color='orange', label='Training Loss')\n",
    "plt.plot(epochs, val_loss, 'blue', label='Validation Loss')\n",
    "plt.title('Trainings- und Validationsloss')\n",
    "plt.xlabel('Epochen')\n",
    "plt.ylabel('Loss')\n",
    "plt.legend()\n",
    "\n",
    "plt.show()"
   ]
  },
  {
   "cell_type": "markdown",
   "metadata": {},
   "source": [
    "Das Gleiche können wir auch für die Accuracy durchführen. Hier sollte im Optimalfall die Accuracy mit der Zeit steigen. Dieses Verhalten können wir wieder an unserem Modell erkennen. Hier erinnert der Graph an eine Sättigungskurve. Dies liegt daran, dass das Lernen letztendlich eine Optimierung ist und es mit der Zeit immer schwerer wird, das Modell noch mehr zu verbessern.\n",
    "\n",
    "An beiden Graphiken kann man jedoch gut erkennen, dass es zu keinem Overfitting kommt. Wenn wir die Accuracy betrachten, würde bei Overfitting die Accuracy der Testdaten weiter ansteigen, während die Accuracy der Validationsdaten und die der Testdaten stagniert oder gar sinken. Das Gleiche würde analog mit dem Loss passieren."
   ]
  },
  {
   "cell_type": "code",
   "execution_count": 34,
   "metadata": {},
   "outputs": [
    {
     "data": {
      "image/png": "[encoded data removed]",
      "text/plain": [
       "<Figure size 432x288 with 1 Axes>"
      ]
     },
     "metadata": {
      "needs_background": "light"
     },
     "output_type": "display_data"
    }
   ],
   "source": [
    "acc = history_dict['accuracy']\n",
    "val_acc = history_dict['val_accuracy']\n",
    "\n",
    "plt.plot(epochs, acc, 'o', color='orange', label='Training Accuracy')\n",
    "plt.plot(epochs, val_acc, 'blue', label='Validation Accuracy')\n",
    "plt.title('Trainings- und Validationsaccuracy')\n",
    "plt.xlabel('Epochen')\n",
    "plt.ylabel('Accuracy')\n",
    "plt.legend(loc='lower right')\n",
    "\n",
    "plt.show()"
   ]
  },
  {
   "cell_type": "markdown",
   "metadata": {},
   "source": [
    "Nachdem das Modell nun erfolgreich trainiert wurde können wir es mit den vorher festgelegten Testdatensatz testen. Zuerst extrahieren wir noch die Features und Labels aus den Datasets, um mit ihnen arbeiten zu können."
   ]
  },
  {
   "cell_type": "code",
   "execution_count": 35,
   "metadata": {},
   "outputs": [],
   "source": [
    "train_features = np.concatenate([x for x, y in train_ds], axis=0)\n",
    "train_labels = np.concatenate([y for x, y in train_ds], axis=0)\n",
    "\n",
    "test_features = np.concatenate([x for x, y in test_ds], axis=0)\n",
    "test_labels = np.concatenate([y for x, y in test_ds], axis=0)\n",
    "\n",
    "train_predictions_baseline = model.predict(train_features, batch_size=batch_size)\n",
    "test_predictions_baseline = model.predict(test_features, batch_size=batch_size)"
   ]
  },
  {
   "cell_type": "markdown",
   "metadata": {},
   "source": [
    "Mit den vorher gemessenen Metriken kann nun die Genauigkeit mithilfe einer Confusion-Matrix bestimmt werden. Hier wird ein Threshold von 0.5 verwendet, um die Anzahl an falschen Predictions insgesamt zu reduzieren. Dabei hat das Modell eine Testaccuracy von 79.66%, während die Präzision bei 79.99% und der Recall bei 79.16% liegt. Die Präzision sagt hier aus, dass 79.99% aller positiv predicteten Tweets tatsächlich positiv waren. Der Recall sagt hier, dass 79.16% aller positiven Tweets korrekt klassifiziert wurden.\n",
    "\n",
    "Weiterhin beträgt die AUC 87.84 und da die Kurve über der Diagonale liegt ist das Modell besser als der Zufall."
   ]
  },
  {
   "cell_type": "code",
   "execution_count": 36,
   "metadata": {},
   "outputs": [
    {
     "name": "stdout",
     "output_type": "stream",
     "text": [
      "loss :  0.4370047450065613\n",
      "tp :  126839.0\n",
      "fp :  31712.0\n",
      "tn :  128061.0\n",
      "fn :  33388.0\n",
      "accuracy :  0.7965624928474426\n",
      "precision :  0.7999886274337769\n",
      "recall :  0.7916206121444702\n",
      "auc :  0.8783805966377258\n",
      "\n",
      "Negative Stimmung korrekt erkannt (True Negatives):  128061\n",
      "Negative Stimmung falsch positiv erkannt (False Positives):  31712\n",
      "Positive Stimmung falsch negativ erkannt (False Negatives):  33388\n",
      "Positive Stimmung korrekt erkannt (True Positives):  126839\n"
     ]
    },
    {
     "data": {
      "image/png": "[encoded data removed]",
      "text/plain": [
       "<Figure size 360x360 with 2 Axes>"
      ]
     },
     "metadata": {
      "needs_background": "light"
     },
     "output_type": "display_data"
    }
   ],
   "source": [
    "def plot_cm(labels, predictions, p=0.5):\n",
    "  cm = confusion_matrix(labels, predictions > p)\n",
    "  plt.figure(figsize=(5,5))\n",
    "  sns.heatmap(cm, annot=True, fmt=\"d\")\n",
    "  plt.title('Confusion matrix @{:.2f}'.format(p))\n",
    "  plt.ylabel('Actual label')\n",
    "  plt.xlabel('Predicted label')\n",
    "\n",
    "  print('Negative Stimmung korrekt erkannt (True Negatives): ', cm[0][0])\n",
    "  print('Negative Stimmung falsch positiv erkannt (False Positives): ', cm[0][1])\n",
    "  print('Positive Stimmung falsch negativ erkannt (False Negatives): ', cm[1][0])\n",
    "  print('Positive Stimmung korrekt erkannt (True Positives): ', cm[1][1])\n",
    "\n",
    "baseline_results = model.evaluate(test_features, test_labels, batch_size=batch_size, verbose=0)\n",
    "\n",
    "for name, value in zip(model.metrics_names, baseline_results):\n",
    "  print(name, ': ', value)\n",
    "\n",
    "print()\n",
    "\n",
    "plot_cm(test_labels, test_predictions_baseline)"
   ]
  },
  {
   "cell_type": "markdown",
   "metadata": {},
   "source": [
    "Die ROC-Kurve beschreibt hier Confusion Matrizen mit unterschiedlichen Thresholds von 0 bis 1. Dabei wird insbesondere das Verhältnis zwischen True Positives und False Positives betrachtet.\n",
    "\n",
    "Wie bereits erwähnt beträgt die AUC 87.84 und da die Kurve über der Diagonale liegt ist das Modell besser als der Zufall, sowohl im Training, als auch im Test."
   ]
  },
  {
   "cell_type": "code",
   "execution_count": 37,
   "metadata": {},
   "outputs": [
    {
     "data": {
      "image/png": "[encoded data removed]",
      "text/plain": [
       "<Figure size 432x288 with 1 Axes>"
      ]
     },
     "metadata": {
      "needs_background": "light"
     },
     "output_type": "display_data"
    }
   ],
   "source": [
    "def plot_roc(name, labels, predictions, **kwargs):\n",
    "  fp, tp, _ = sklearn.metrics.roc_curve(labels, predictions)\n",
    "\n",
    "  plt.plot(fp, tp, label=name, linewidth=2, **kwargs)\n",
    "  plt.xlabel('False positives [%]')\n",
    "  plt.ylabel('True positives [%]')\n",
    "  plt.grid(True)\n",
    "\n",
    "plot_roc(\"Train\", train_labels, train_predictions_baseline, color='b')\n",
    "plot_roc(\"Test\", test_labels, test_predictions_baseline, color='orange', linestyle='--')\n",
    "plt.plot([0, 1], linewidth=1, linestyle='--')\n",
    "plt.legend(loc='lower right')\n",
    "plt.show()"
   ]
  },
  {
   "cell_type": "markdown",
   "metadata": {},
   "source": [
    "Nun exportieren wir das fertige Modell. Da wir vorher die Texte vektorisiert haben, bevor sie in das Modell gegeben wurden, können wir hier ein Modell exportieren, welche die Texte beim Input vektorisiert. Dies macht uns das zukünftige Predicten einfacher, da das Model nicht immer neu trainiert werden muss."
   ]
  },
  {
   "cell_type": "code",
   "execution_count": 38,
   "metadata": {},
   "outputs": [],
   "source": [
    "sentiment_model = tf.keras.Sequential([\n",
    "  vectorize_layer,\n",
    "  model\n",
    "])"
   ]
  },
  {
   "cell_type": "markdown",
   "metadata": {},
   "source": [
    "Schließlich können wir einige Beispiele eingeben, um zu sehen, wie sich das Modell verhält. Dabei ist der erste Satz positiv, der zweite neutral und der letzte negativ. Während der neutrale Satz mit rund 0.5 gewertet wird, wird der positive höher gewertet und der negative geringer."
   ]
  },
  {
   "cell_type": "code",
   "execution_count": 39,
   "metadata": {},
   "outputs": [
    {
     "data": {
      "text/plain": [
       "array([[0.9744337 ],\n",
       "       [0.5660003 ],\n",
       "       [0.03791037]], dtype=float32)"
      ]
     },
     "execution_count": 39,
     "metadata": {},
     "output_type": "execute_result"
    }
   ],
   "source": [
    "examples = [\n",
    "  \"Today is a great day!\",\n",
    "  \"This sentence is rather neutral\",\n",
    "  \"This show is terrible!\"\n",
    "]\n",
    "\n",
    "sentiment_model.predict(examples)"
   ]
  },
  {
   "cell_type": "markdown",
   "metadata": {},
   "source": [
    "@jan\n",
    "\n",
    "## 2. Technisches Modell\n",
    "\n",
    "Bei dem zweiten Modell soll mithilfe von Finanzdaten eine Progrose erstellt werden, wie der Kursverlauf in den nächsten 30 Tagen sein wird. Für diese Progrose wird ein LSTM-Modell verwendet. Die Prognose wird anhand von des Kurses von Etherium zum US-Dollar aufgebaut. \n",
    "\n",
    "### Datensatz\n",
    "\n",
    "Die Daten zum Trainieren des Modelles werden von Yahoo abgefragt. Bei diesen Daten handelt es sich stets um den \"Closing Price\", also den Preis, den Etherium am Ende eines Tages hatte. Diese Preise werden bis in das Jahr 2015 geladen. Dies entspricht insgesamt ca. 2000 Preisdaten. Zusätzlich zu den Preisdaten werden mithilfe von der \"Technical Analysis Library\" verschiedene technische Indikatoren berechnet. Anhand von diesen Indikatoren soll das Modell trainiert werden den Preis vorherzusagen.  "
   ]
  },
  {
   "cell_type": "code",
   "execution_count": 40,
   "metadata": {},
   "outputs": [],
   "source": [
    "import pandas_datareader.data as pdr\n",
    "\n",
    "from sklearn.preprocessing import MinMaxScaler\n",
    "import random\n",
    "\n",
    "from datetime import datetime, timezone,timedelta\n",
    "from ta.utils import dropna\n",
    "from ta.volatility import BollingerBands, AverageTrueRange\n",
    "from ta.momentum import KAMAIndicator, PercentagePriceOscillator, PercentageVolumeOscillator, ROCIndicator, RSIIndicator, StochasticOscillator\n",
    "from ta.trend import MACD, ADXIndicator, AroonIndicator\n",
    "from ta.volume import OnBalanceVolumeIndicator, AccDistIndexIndicator"
   ]
  },
  {
   "cell_type": "markdown",
   "metadata": {},
   "source": [
    "### Laden und generieren der Daten\n",
    "Im Folgenden werden die Preisdaten von Etherium von 2015 bis heute geladen. Anschließend werden 7 technische Indikatoren generiert und dem Datensatz hinzugefügt. Diese Indikatoren sind:\n",
    "\n",
    "* Kama\n",
    "* Percentage Price Oscillator\n",
    "* Rate of Change\n",
    "* Moving Average Convergence/Divergence\n",
    "* Relative Strength Index\n",
    "* Aaron Indicator\n",
    "* Bollinger bands\n",
    "\n",
    "Zusätzlich werden der Tag des Monats, der Tag der Woche und der Monat als eigene Indikatoren hinzugefügt. Dies ist sinnvoll, da hier ein LSTM-, also ein Zeitreihen-Modell verwendet wird. Die Zeit spielt eine wichtige Rolle, um Besonderheiten an beispielsweise dem ersten Tag eines Monats erkennen zu können. Außerdem werden die Daten nicht gemischt, da sonst der zeitliche Verlauf verloren geht."
   ]
  },
  {
   "cell_type": "code",
   "execution_count": 41,
   "metadata": {},
   "outputs": [
    {
     "data": {
      "text/html": [
       "<div>\n",
       "<style scoped>\n",
       "    .dataframe tbody tr th:only-of-type {\n",
       "        vertical-align: middle;\n",
       "    }\n",
       "\n",
       "    .dataframe tbody tr th {\n",
       "        vertical-align: top;\n",
       "    }\n",
       "\n",
       "    .dataframe thead th {\n",
       "        text-align: right;\n",
       "    }\n",
       "</style>\n",
       "<table border=\"1\" class=\"dataframe\">\n",
       "  <thead>\n",
       "    <tr style=\"text-align: right;\">\n",
       "      <th></th>\n",
       "      <th>High</th>\n",
       "      <th>Low</th>\n",
       "      <th>Open</th>\n",
       "      <th>Close</th>\n",
       "      <th>Volume</th>\n",
       "      <th>Adj Close</th>\n",
       "    </tr>\n",
       "    <tr>\n",
       "      <th>Date</th>\n",
       "      <th></th>\n",
       "      <th></th>\n",
       "      <th></th>\n",
       "      <th></th>\n",
       "      <th></th>\n",
       "      <th></th>\n",
       "    </tr>\n",
       "  </thead>\n",
       "  <tbody>\n",
       "    <tr>\n",
       "      <th>2015-08-06</th>\n",
       "      <td>3.536610</td>\n",
       "      <td>2.521120</td>\n",
       "      <td>2.831620</td>\n",
       "      <td>2.772120</td>\n",
       "      <td>1.643290e+05</td>\n",
       "      <td>2.772120</td>\n",
       "    </tr>\n",
       "    <tr>\n",
       "      <th>2015-08-07</th>\n",
       "      <td>2.798810</td>\n",
       "      <td>0.714725</td>\n",
       "      <td>2.793760</td>\n",
       "      <td>0.753325</td>\n",
       "      <td>6.741880e+05</td>\n",
       "      <td>0.753325</td>\n",
       "    </tr>\n",
       "    <tr>\n",
       "      <th>2015-08-08</th>\n",
       "      <td>0.879810</td>\n",
       "      <td>0.629191</td>\n",
       "      <td>0.706136</td>\n",
       "      <td>0.701897</td>\n",
       "      <td>5.321700e+05</td>\n",
       "      <td>0.701897</td>\n",
       "    </tr>\n",
       "    <tr>\n",
       "      <th>2015-08-09</th>\n",
       "      <td>0.729854</td>\n",
       "      <td>0.636546</td>\n",
       "      <td>0.713989</td>\n",
       "      <td>0.708448</td>\n",
       "      <td>4.052830e+05</td>\n",
       "      <td>0.708448</td>\n",
       "    </tr>\n",
       "    <tr>\n",
       "      <th>2015-08-10</th>\n",
       "      <td>1.131410</td>\n",
       "      <td>0.663235</td>\n",
       "      <td>0.708087</td>\n",
       "      <td>1.067860</td>\n",
       "      <td>1.463100e+06</td>\n",
       "      <td>1.067860</td>\n",
       "    </tr>\n",
       "    <tr>\n",
       "      <th>...</th>\n",
       "      <td>...</td>\n",
       "      <td>...</td>\n",
       "      <td>...</td>\n",
       "      <td>...</td>\n",
       "      <td>...</td>\n",
       "      <td>...</td>\n",
       "    </tr>\n",
       "    <tr>\n",
       "      <th>2021-04-13</th>\n",
       "      <td>2449.687500</td>\n",
       "      <td>2284.563721</td>\n",
       "      <td>2299.347900</td>\n",
       "      <td>2435.104980</td>\n",
       "      <td>3.559282e+10</td>\n",
       "      <td>2435.104980</td>\n",
       "    </tr>\n",
       "    <tr>\n",
       "      <th>2021-04-14</th>\n",
       "      <td>2544.267334</td>\n",
       "      <td>2409.924072</td>\n",
       "      <td>2436.034668</td>\n",
       "      <td>2519.116211</td>\n",
       "      <td>3.232561e+10</td>\n",
       "      <td>2519.116211</td>\n",
       "    </tr>\n",
       "    <tr>\n",
       "      <th>2021-04-15</th>\n",
       "      <td>2547.555664</td>\n",
       "      <td>2318.675049</td>\n",
       "      <td>2516.601807</td>\n",
       "      <td>2431.946533</td>\n",
       "      <td>3.619693e+10</td>\n",
       "      <td>2431.946533</td>\n",
       "    </tr>\n",
       "    <tr>\n",
       "      <th>2021-04-16</th>\n",
       "      <td>2497.385254</td>\n",
       "      <td>2333.682861</td>\n",
       "      <td>2429.980957</td>\n",
       "      <td>2344.895020</td>\n",
       "      <td>3.234981e+10</td>\n",
       "      <td>2344.895020</td>\n",
       "    </tr>\n",
       "    <tr>\n",
       "      <th>2021-04-18</th>\n",
       "      <td>2359.698486</td>\n",
       "      <td>2044.876587</td>\n",
       "      <td>2089.619385</td>\n",
       "      <td>2070.818359</td>\n",
       "      <td>4.703721e+10</td>\n",
       "      <td>2070.818359</td>\n",
       "    </tr>\n",
       "  </tbody>\n",
       "</table>\n",
       "<p>2078 rows × 6 columns</p>\n",
       "</div>"
      ],
      "text/plain": [
       "                   High          Low         Open        Close        Volume  \\\n",
       "Date                                                                           \n",
       "2015-08-06     3.536610     2.521120     2.831620     2.772120  1.643290e+05   \n",
       "2015-08-07     2.798810     0.714725     2.793760     0.753325  6.741880e+05   \n",
       "2015-08-08     0.879810     0.629191     0.706136     0.701897  5.321700e+05   \n",
       "2015-08-09     0.729854     0.636546     0.713989     0.708448  4.052830e+05   \n",
       "2015-08-10     1.131410     0.663235     0.708087     1.067860  1.463100e+06   \n",
       "...                 ...          ...          ...          ...           ...   \n",
       "2021-04-13  2449.687500  2284.563721  2299.347900  2435.104980  3.559282e+10   \n",
       "2021-04-14  2544.267334  2409.924072  2436.034668  2519.116211  3.232561e+10   \n",
       "2021-04-15  2547.555664  2318.675049  2516.601807  2431.946533  3.619693e+10   \n",
       "2021-04-16  2497.385254  2333.682861  2429.980957  2344.895020  3.234981e+10   \n",
       "2021-04-18  2359.698486  2044.876587  2089.619385  2070.818359  4.703721e+10   \n",
       "\n",
       "              Adj Close  \n",
       "Date                     \n",
       "2015-08-06     2.772120  \n",
       "2015-08-07     0.753325  \n",
       "2015-08-08     0.701897  \n",
       "2015-08-09     0.708448  \n",
       "2015-08-10     1.067860  \n",
       "...                 ...  \n",
       "2021-04-13  2435.104980  \n",
       "2021-04-14  2519.116211  \n",
       "2021-04-15  2431.946533  \n",
       "2021-04-16  2344.895020  \n",
       "2021-04-18  2070.818359  \n",
       "\n",
       "[2078 rows x 6 columns]"
      ]
     },
     "execution_count": 41,
     "metadata": {},
     "output_type": "execute_result"
    }
   ],
   "source": [
    "batch_size = 31\n",
    "symbol = 'ETH-USD'\n",
    "\n",
    "end = datetime.today()\n",
    "start = datetime(2000, 9, 1)\n",
    "ETH = pdr.DataReader(symbol,'yahoo',start,end)\n",
    "\n",
    "df = pd.DataFrame(data=ETH)\n",
    "df"
   ]
  },
  {
   "cell_type": "code",
   "execution_count": 42,
   "metadata": {},
   "outputs": [
    {
     "data": {
      "text/html": [
       "<div>\n",
       "<style scoped>\n",
       "    .dataframe tbody tr th:only-of-type {\n",
       "        vertical-align: middle;\n",
       "    }\n",
       "\n",
       "    .dataframe tbody tr th {\n",
       "        vertical-align: top;\n",
       "    }\n",
       "\n",
       "    .dataframe thead th {\n",
       "        text-align: right;\n",
       "    }\n",
       "</style>\n",
       "<table border=\"1\" class=\"dataframe\">\n",
       "  <thead>\n",
       "    <tr style=\"text-align: right;\">\n",
       "      <th></th>\n",
       "      <th>price</th>\n",
       "      <th>kama</th>\n",
       "      <th>ppo</th>\n",
       "      <th>roc</th>\n",
       "      <th>macd</th>\n",
       "      <th>rsi</th>\n",
       "      <th>aroon</th>\n",
       "      <th>boll_mavg</th>\n",
       "      <th>day_of_month</th>\n",
       "      <th>day_of_week</th>\n",
       "      <th>month</th>\n",
       "    </tr>\n",
       "    <tr>\n",
       "      <th>Date</th>\n",
       "      <th></th>\n",
       "      <th></th>\n",
       "      <th></th>\n",
       "      <th></th>\n",
       "      <th></th>\n",
       "      <th></th>\n",
       "      <th></th>\n",
       "      <th></th>\n",
       "      <th></th>\n",
       "      <th></th>\n",
       "      <th></th>\n",
       "    </tr>\n",
       "  </thead>\n",
       "  <tbody>\n",
       "    <tr>\n",
       "      <th>2015-08-25</th>\n",
       "      <td>1.159980</td>\n",
       "      <td>1.405750</td>\n",
       "      <td>-13.445239</td>\n",
       "      <td>-36.539248</td>\n",
       "      <td>-0.166625</td>\n",
       "      <td>35.737493</td>\n",
       "      <td>-10.0</td>\n",
       "      <td>1.340227</td>\n",
       "      <td>25</td>\n",
       "      <td>1</td>\n",
       "      <td>8</td>\n",
       "    </tr>\n",
       "    <tr>\n",
       "      <th>2015-08-26</th>\n",
       "      <td>1.147700</td>\n",
       "      <td>1.402955</td>\n",
       "      <td>-13.377194</td>\n",
       "      <td>-32.044529</td>\n",
       "      <td>-0.162148</td>\n",
       "      <td>35.483536</td>\n",
       "      <td>25.0</td>\n",
       "      <td>1.259006</td>\n",
       "      <td>26</td>\n",
       "      <td>2</td>\n",
       "      <td>8</td>\n",
       "    </tr>\n",
       "    <tr>\n",
       "      <th>2015-08-27</th>\n",
       "      <td>1.191380</td>\n",
       "      <td>1.398493</td>\n",
       "      <td>-12.841273</td>\n",
       "      <td>-23.923552</td>\n",
       "      <td>-0.153785</td>\n",
       "      <td>37.193189</td>\n",
       "      <td>25.0</td>\n",
       "      <td>1.280909</td>\n",
       "      <td>27</td>\n",
       "      <td>3</td>\n",
       "      <td>8</td>\n",
       "    </tr>\n",
       "    <tr>\n",
       "      <th>2015-08-28</th>\n",
       "      <td>1.182550</td>\n",
       "      <td>1.394309</td>\n",
       "      <td>-12.305072</td>\n",
       "      <td>-1.749735</td>\n",
       "      <td>-0.145647</td>\n",
       "      <td>36.979851</td>\n",
       "      <td>20.0</td>\n",
       "      <td>1.304942</td>\n",
       "      <td>28</td>\n",
       "      <td>4</td>\n",
       "      <td>8</td>\n",
       "    </tr>\n",
       "    <tr>\n",
       "      <th>2015-08-29</th>\n",
       "      <td>1.319270</td>\n",
       "      <td>1.390506</td>\n",
       "      <td>-10.768333</td>\n",
       "      <td>21.362409</td>\n",
       "      <td>-0.129269</td>\n",
       "      <td>42.481178</td>\n",
       "      <td>15.0</td>\n",
       "      <td>1.335483</td>\n",
       "      <td>29</td>\n",
       "      <td>5</td>\n",
       "      <td>8</td>\n",
       "    </tr>\n",
       "    <tr>\n",
       "      <th>...</th>\n",
       "      <td>...</td>\n",
       "      <td>...</td>\n",
       "      <td>...</td>\n",
       "      <td>...</td>\n",
       "      <td>...</td>\n",
       "      <td>...</td>\n",
       "      <td>...</td>\n",
       "      <td>...</td>\n",
       "      <td>...</td>\n",
       "      <td>...</td>\n",
       "      <td>...</td>\n",
       "    </tr>\n",
       "    <tr>\n",
       "      <th>2021-04-13</th>\n",
       "      <td>2435.104980</td>\n",
       "      <td>2087.636183</td>\n",
       "      <td>5.462911</td>\n",
       "      <td>13.618697</td>\n",
       "      <td>85.377266</td>\n",
       "      <td>73.005780</td>\n",
       "      <td>85.0</td>\n",
       "      <td>2023.104608</td>\n",
       "      <td>13</td>\n",
       "      <td>1</td>\n",
       "      <td>4</td>\n",
       "    </tr>\n",
       "    <tr>\n",
       "      <th>2021-04-14</th>\n",
       "      <td>2519.116211</td>\n",
       "      <td>2151.219375</td>\n",
       "      <td>6.256303</td>\n",
       "      <td>24.190903</td>\n",
       "      <td>99.025381</td>\n",
       "      <td>75.243166</td>\n",
       "      <td>90.0</td>\n",
       "      <td>2063.918317</td>\n",
       "      <td>14</td>\n",
       "      <td>2</td>\n",
       "      <td>4</td>\n",
       "    </tr>\n",
       "    <tr>\n",
       "      <th>2021-04-15</th>\n",
       "      <td>2431.946533</td>\n",
       "      <td>2174.200615</td>\n",
       "      <td>6.366490</td>\n",
       "      <td>16.187475</td>\n",
       "      <td>102.914171</td>\n",
       "      <td>68.865192</td>\n",
       "      <td>90.0</td>\n",
       "      <td>2099.690912</td>\n",
       "      <td>15</td>\n",
       "      <td>3</td>\n",
       "      <td>4</td>\n",
       "    </tr>\n",
       "    <tr>\n",
       "      <th>2021-04-16</th>\n",
       "      <td>2344.895020</td>\n",
       "      <td>2194.967448</td>\n",
       "      <td>5.996797</td>\n",
       "      <td>11.243856</td>\n",
       "      <td>99.281483</td>\n",
       "      <td>63.111826</td>\n",
       "      <td>85.0</td>\n",
       "      <td>2132.367865</td>\n",
       "      <td>16</td>\n",
       "      <td>4</td>\n",
       "      <td>4</td>\n",
       "    </tr>\n",
       "    <tr>\n",
       "      <th>2021-04-18</th>\n",
       "      <td>2070.818359</td>\n",
       "      <td>2194.254329</td>\n",
       "      <td>4.579605</td>\n",
       "      <td>-2.245139</td>\n",
       "      <td>78.982640</td>\n",
       "      <td>49.180422</td>\n",
       "      <td>80.0</td>\n",
       "      <td>2144.924536</td>\n",
       "      <td>18</td>\n",
       "      <td>6</td>\n",
       "      <td>4</td>\n",
       "    </tr>\n",
       "  </tbody>\n",
       "</table>\n",
       "<p>2059 rows × 11 columns</p>\n",
       "</div>"
      ],
      "text/plain": [
       "                  price         kama        ppo        roc        macd  \\\n",
       "Date                                                                     \n",
       "2015-08-25     1.159980     1.405750 -13.445239 -36.539248   -0.166625   \n",
       "2015-08-26     1.147700     1.402955 -13.377194 -32.044529   -0.162148   \n",
       "2015-08-27     1.191380     1.398493 -12.841273 -23.923552   -0.153785   \n",
       "2015-08-28     1.182550     1.394309 -12.305072  -1.749735   -0.145647   \n",
       "2015-08-29     1.319270     1.390506 -10.768333  21.362409   -0.129269   \n",
       "...                 ...          ...        ...        ...         ...   \n",
       "2021-04-13  2435.104980  2087.636183   5.462911  13.618697   85.377266   \n",
       "2021-04-14  2519.116211  2151.219375   6.256303  24.190903   99.025381   \n",
       "2021-04-15  2431.946533  2174.200615   6.366490  16.187475  102.914171   \n",
       "2021-04-16  2344.895020  2194.967448   5.996797  11.243856   99.281483   \n",
       "2021-04-18  2070.818359  2194.254329   4.579605  -2.245139   78.982640   \n",
       "\n",
       "                  rsi  aroon    boll_mavg  day_of_month  day_of_week  month  \n",
       "Date                                                                         \n",
       "2015-08-25  35.737493  -10.0     1.340227            25            1      8  \n",
       "2015-08-26  35.483536   25.0     1.259006            26            2      8  \n",
       "2015-08-27  37.193189   25.0     1.280909            27            3      8  \n",
       "2015-08-28  36.979851   20.0     1.304942            28            4      8  \n",
       "2015-08-29  42.481178   15.0     1.335483            29            5      8  \n",
       "...               ...    ...          ...           ...          ...    ...  \n",
       "2021-04-13  73.005780   85.0  2023.104608            13            1      4  \n",
       "2021-04-14  75.243166   90.0  2063.918317            14            2      4  \n",
       "2021-04-15  68.865192   90.0  2099.690912            15            3      4  \n",
       "2021-04-16  63.111826   85.0  2132.367865            16            4      4  \n",
       "2021-04-18  49.180422   80.0  2144.924536            18            6      4  \n",
       "\n",
       "[2059 rows x 11 columns]"
      ]
     },
     "execution_count": 42,
     "metadata": {},
     "output_type": "execute_result"
    }
   ],
   "source": [
    "kama_indicator = KAMAIndicator(close = df[\"Close\"], window = 10, pow1 = 2, pow2 = 30, fillna = False)\n",
    "df['kama'] = kama_indicator.kama()\n",
    "ppo_indicator = PercentagePriceOscillator(close = df[\"Close\"], window_slow = 20, window_fast = 10, window_sign = 9, fillna = False)\n",
    "df['ppo'] = ppo_indicator.ppo()\n",
    "roc_indicator = ROCIndicator(close = df[\"Close\"], window = 12, fillna = False)\n",
    "df['roc'] = roc_indicator.roc()\n",
    "macd_indicator = MACD(close = df[\"Close\"], window_slow = 20, window_fast = 12, window_sign = 9, fillna = False)\n",
    "df['macd'] = macd_indicator.macd()\n",
    "rsi_indicator = RSIIndicator(close = df[\"Close\"], window = 14, fillna = False)\n",
    "df['rsi'] = rsi_indicator.rsi()\n",
    "aroon_indicator = AroonIndicator(close = df[\"Close\"], window = 20, fillna = False)\n",
    "df['aroon'] = aroon_indicator.aroon_indicator()\n",
    "boll_indicator = BollingerBands(close = df[\"Close\"], window = 20, window_dev = 2, fillna = False)\n",
    "df['boll_mavg'] = boll_indicator.bollinger_mavg()\n",
    "df.rename(columns = {\"Close\": \"price\"}, inplace=True)\n",
    "prices = df['price'].to_numpy()\n",
    "\n",
    "df['day_of_month'] = df.index.day\n",
    "df['day_of_week'] = df.index.dayofweek\n",
    "df['month'] = df.index.month\n",
    "\n",
    "df.dropna(inplace=True)\n",
    "df = df.drop(df.columns[[0, 1, 2, 4, 5]], axis=1)\n",
    "df"
   ]
  },
  {
   "cell_type": "markdown",
   "metadata": {},
   "source": [
    "Im Folgenden ist nun einmal der gesamt geladene Kursverlauf Etherium zu sehen."
   ]
  },
  {
   "cell_type": "code",
   "execution_count": 43,
   "metadata": {
    "scrolled": false
   },
   "outputs": [
    {
     "data": {
      "image/png": "[encoded data removed]",
      "text/plain": [
       "<Figure size 432x288 with 1 Axes>"
      ]
     },
     "metadata": {
      "needs_background": "light"
     },
     "output_type": "display_data"
    }
   ],
   "source": [
    "prices = df['price'].to_numpy()\n",
    "days = range(1, len(prices) + 1)\n",
    "\n",
    "plt.plot(days, prices, 'blue', label='Price')\n",
    "plt.title('ETH USD Price')\n",
    "plt.xlabel('Tage')\n",
    "plt.ylabel('Preis')\n",
    "plt.legend()\n",
    "\n",
    "plt.show()"
   ]
  },
  {
   "cell_type": "markdown",
   "metadata": {},
   "source": [
    "### Aufteilung in Features und Labels\n",
    "Die Daten werden in Features und Labels aufgeteilt. In diesem Fall sind die Spalten, welche in `X_columns` definiert sind, die Features und der Preis das Label. "
   ]
  },
  {
   "cell_type": "code",
   "execution_count": 45,
   "metadata": {},
   "outputs": [
    {
     "name": "stdout",
     "output_type": "stream",
     "text": [
      "(2059, 11)\n",
      "(2059, 1)\n"
     ]
    }
   ],
   "source": [
    "X_columns = ['price', 'kama', 'ppo', 'roc', 'macd', 'rsi', 'aroon', 'boll_mavg', \n",
    "                   'day_of_month', 'day_of_week', 'month']\n",
    "\n",
    "X_data = df.filter(X_columns)\n",
    "y_data = df.filter(['price'])\n",
    "\n",
    "print(X_data.shape)\n",
    "print(y_data.shape)"
   ]
  },
  {
   "cell_type": "markdown",
   "metadata": {},
   "source": [
    "### Transformation der Daten\n",
    "Für die Transformation der Daten wird der MinMaxScaler verwendet. Dieser skaliert die Daten in einen vorgegebenen Bereich und macht die Daten damit praktikabel. In diesem Fall werden alle Daten in einem Bereich zwischen 0 und 1 skaliert."
   ]
  },
  {
   "cell_type": "code",
   "execution_count": 46,
   "metadata": {},
   "outputs": [
    {
     "data": {
      "text/html": [
       "<div>\n",
       "<style scoped>\n",
       "    .dataframe tbody tr th:only-of-type {\n",
       "        vertical-align: middle;\n",
       "    }\n",
       "\n",
       "    .dataframe tbody tr th {\n",
       "        vertical-align: top;\n",
       "    }\n",
       "\n",
       "    .dataframe thead th {\n",
       "        text-align: right;\n",
       "    }\n",
       "</style>\n",
       "<table border=\"1\" class=\"dataframe\">\n",
       "  <thead>\n",
       "    <tr style=\"text-align: right;\">\n",
       "      <th></th>\n",
       "      <th>price</th>\n",
       "      <th>kama</th>\n",
       "      <th>ppo</th>\n",
       "      <th>roc</th>\n",
       "      <th>macd</th>\n",
       "      <th>rsi</th>\n",
       "      <th>aroon</th>\n",
       "      <th>boll_mavg</th>\n",
       "      <th>day_of_month</th>\n",
       "      <th>day_of_week</th>\n",
       "      <th>month</th>\n",
       "    </tr>\n",
       "    <tr>\n",
       "      <th>Date</th>\n",
       "      <th></th>\n",
       "      <th></th>\n",
       "      <th></th>\n",
       "      <th></th>\n",
       "      <th></th>\n",
       "      <th></th>\n",
       "      <th></th>\n",
       "      <th></th>\n",
       "      <th></th>\n",
       "      <th></th>\n",
       "      <th></th>\n",
       "    </tr>\n",
       "  </thead>\n",
       "  <tbody>\n",
       "    <tr>\n",
       "      <th>2015-08-25</th>\n",
       "      <td>0.000288</td>\n",
       "      <td>0.000382</td>\n",
       "      <td>0.087378</td>\n",
       "      <td>0.076386</td>\n",
       "      <td>0.333396</td>\n",
       "      <td>0.257724</td>\n",
       "      <td>0.447368</td>\n",
       "      <td>0.000360</td>\n",
       "      <td>0.800000</td>\n",
       "      <td>0.166667</td>\n",
       "      <td>0.636364</td>\n",
       "    </tr>\n",
       "    <tr>\n",
       "      <th>2015-08-26</th>\n",
       "      <td>0.000283</td>\n",
       "      <td>0.000381</td>\n",
       "      <td>0.089021</td>\n",
       "      <td>0.097446</td>\n",
       "      <td>0.333423</td>\n",
       "      <td>0.254459</td>\n",
       "      <td>0.631579</td>\n",
       "      <td>0.000322</td>\n",
       "      <td>0.833333</td>\n",
       "      <td>0.333333</td>\n",
       "      <td>0.636364</td>\n",
       "    </tr>\n",
       "    <tr>\n",
       "      <th>2015-08-27</th>\n",
       "      <td>0.000300</td>\n",
       "      <td>0.000379</td>\n",
       "      <td>0.101965</td>\n",
       "      <td>0.135497</td>\n",
       "      <td>0.333472</td>\n",
       "      <td>0.276440</td>\n",
       "      <td>0.631579</td>\n",
       "      <td>0.000332</td>\n",
       "      <td>0.866667</td>\n",
       "      <td>0.500000</td>\n",
       "      <td>0.636364</td>\n",
       "    </tr>\n",
       "    <tr>\n",
       "      <th>2015-08-28</th>\n",
       "      <td>0.000297</td>\n",
       "      <td>0.000377</td>\n",
       "      <td>0.114915</td>\n",
       "      <td>0.239393</td>\n",
       "      <td>0.333520</td>\n",
       "      <td>0.273698</td>\n",
       "      <td>0.605263</td>\n",
       "      <td>0.000343</td>\n",
       "      <td>0.900000</td>\n",
       "      <td>0.666667</td>\n",
       "      <td>0.636364</td>\n",
       "    </tr>\n",
       "    <tr>\n",
       "      <th>2015-08-29</th>\n",
       "      <td>0.000351</td>\n",
       "      <td>0.000375</td>\n",
       "      <td>0.152030</td>\n",
       "      <td>0.347686</td>\n",
       "      <td>0.333617</td>\n",
       "      <td>0.344430</td>\n",
       "      <td>0.578947</td>\n",
       "      <td>0.000358</td>\n",
       "      <td>0.933333</td>\n",
       "      <td>0.833333</td>\n",
       "      <td>0.636364</td>\n",
       "    </tr>\n",
       "    <tr>\n",
       "      <th>...</th>\n",
       "      <td>...</td>\n",
       "      <td>...</td>\n",
       "      <td>...</td>\n",
       "      <td>...</td>\n",
       "      <td>...</td>\n",
       "      <td>...</td>\n",
       "      <td>...</td>\n",
       "      <td>...</td>\n",
       "      <td>...</td>\n",
       "      <td>...</td>\n",
       "      <td>...</td>\n",
       "    </tr>\n",
       "    <tr>\n",
       "      <th>2021-04-13</th>\n",
       "      <td>0.966645</td>\n",
       "      <td>0.951089</td>\n",
       "      <td>0.544041</td>\n",
       "      <td>0.311402</td>\n",
       "      <td>0.838183</td>\n",
       "      <td>0.736895</td>\n",
       "      <td>0.947368</td>\n",
       "      <td>0.943190</td>\n",
       "      <td>0.400000</td>\n",
       "      <td>0.166667</td>\n",
       "      <td>0.272727</td>\n",
       "    </tr>\n",
       "    <tr>\n",
       "      <th>2021-04-14</th>\n",
       "      <td>1.000000</td>\n",
       "      <td>0.980064</td>\n",
       "      <td>0.563203</td>\n",
       "      <td>0.360939</td>\n",
       "      <td>0.918719</td>\n",
       "      <td>0.765662</td>\n",
       "      <td>0.973684</td>\n",
       "      <td>0.962224</td>\n",
       "      <td>0.433333</td>\n",
       "      <td>0.333333</td>\n",
       "      <td>0.272727</td>\n",
       "    </tr>\n",
       "    <tr>\n",
       "      <th>2021-04-15</th>\n",
       "      <td>0.965391</td>\n",
       "      <td>0.990536</td>\n",
       "      <td>0.565864</td>\n",
       "      <td>0.323438</td>\n",
       "      <td>0.941666</td>\n",
       "      <td>0.683658</td>\n",
       "      <td>0.973684</td>\n",
       "      <td>0.978906</td>\n",
       "      <td>0.466667</td>\n",
       "      <td>0.500000</td>\n",
       "      <td>0.272727</td>\n",
       "    </tr>\n",
       "    <tr>\n",
       "      <th>2021-04-16</th>\n",
       "      <td>0.930828</td>\n",
       "      <td>1.000000</td>\n",
       "      <td>0.556935</td>\n",
       "      <td>0.300275</td>\n",
       "      <td>0.920230</td>\n",
       "      <td>0.609685</td>\n",
       "      <td>0.947368</td>\n",
       "      <td>0.994144</td>\n",
       "      <td>0.500000</td>\n",
       "      <td>0.666667</td>\n",
       "      <td>0.272727</td>\n",
       "    </tr>\n",
       "    <tr>\n",
       "      <th>2021-04-18</th>\n",
       "      <td>0.822011</td>\n",
       "      <td>0.999675</td>\n",
       "      <td>0.522708</td>\n",
       "      <td>0.237072</td>\n",
       "      <td>0.800449</td>\n",
       "      <td>0.430564</td>\n",
       "      <td>0.921053</td>\n",
       "      <td>1.000000</td>\n",
       "      <td>0.566667</td>\n",
       "      <td>1.000000</td>\n",
       "      <td>0.272727</td>\n",
       "    </tr>\n",
       "  </tbody>\n",
       "</table>\n",
       "<p>2059 rows × 11 columns</p>\n",
       "</div>"
      ],
      "text/plain": [
       "               price      kama       ppo       roc      macd       rsi  \\\n",
       "Date                                                                     \n",
       "2015-08-25  0.000288  0.000382  0.087378  0.076386  0.333396  0.257724   \n",
       "2015-08-26  0.000283  0.000381  0.089021  0.097446  0.333423  0.254459   \n",
       "2015-08-27  0.000300  0.000379  0.101965  0.135497  0.333472  0.276440   \n",
       "2015-08-28  0.000297  0.000377  0.114915  0.239393  0.333520  0.273698   \n",
       "2015-08-29  0.000351  0.000375  0.152030  0.347686  0.333617  0.344430   \n",
       "...              ...       ...       ...       ...       ...       ...   \n",
       "2021-04-13  0.966645  0.951089  0.544041  0.311402  0.838183  0.736895   \n",
       "2021-04-14  1.000000  0.980064  0.563203  0.360939  0.918719  0.765662   \n",
       "2021-04-15  0.965391  0.990536  0.565864  0.323438  0.941666  0.683658   \n",
       "2021-04-16  0.930828  1.000000  0.556935  0.300275  0.920230  0.609685   \n",
       "2021-04-18  0.822011  0.999675  0.522708  0.237072  0.800449  0.430564   \n",
       "\n",
       "               aroon  boll_mavg  day_of_month  day_of_week     month  \n",
       "Date                                                                  \n",
       "2015-08-25  0.447368   0.000360      0.800000     0.166667  0.636364  \n",
       "2015-08-26  0.631579   0.000322      0.833333     0.333333  0.636364  \n",
       "2015-08-27  0.631579   0.000332      0.866667     0.500000  0.636364  \n",
       "2015-08-28  0.605263   0.000343      0.900000     0.666667  0.636364  \n",
       "2015-08-29  0.578947   0.000358      0.933333     0.833333  0.636364  \n",
       "...              ...        ...           ...          ...       ...  \n",
       "2021-04-13  0.947368   0.943190      0.400000     0.166667  0.272727  \n",
       "2021-04-14  0.973684   0.962224      0.433333     0.333333  0.272727  \n",
       "2021-04-15  0.973684   0.978906      0.466667     0.500000  0.272727  \n",
       "2021-04-16  0.947368   0.994144      0.500000     0.666667  0.272727  \n",
       "2021-04-18  0.921053   1.000000      0.566667     1.000000  0.272727  \n",
       "\n",
       "[2059 rows x 11 columns]"
      ]
     },
     "execution_count": 46,
     "metadata": {},
     "output_type": "execute_result"
    }
   ],
   "source": [
    "X_scaler = MinMaxScaler(feature_range = (0, 1))\n",
    "y_scaler = MinMaxScaler(feature_range = (0, 1))\n",
    "\n",
    "X_scaled_data = X_scaler.fit_transform(X_data)\n",
    "y_scaled_data = y_scaler.fit_transform(y_data)\n",
    "\n",
    "X_scaled_data = pd.DataFrame(data=X_scaled_data, index=X_data.index, columns=X_columns)\n",
    "y_scaled_data = pd.DataFrame(data=y_scaled_data, index=y_data.index, columns=['price'])\n",
    "\n",
    "X_scaled_data"
   ]
  },
  {
   "cell_type": "markdown",
   "metadata": {},
   "source": [
    "Um das Modell trainieren zu können, müssen zunächst die Daten in batches unterteilt werden und danach die batches vermischt werden. "
   ]
  },
  {
   "cell_type": "code",
   "execution_count": 47,
   "metadata": {},
   "outputs": [],
   "source": [
    "X_scaled_batches = []\n",
    "y_scaled_batches = []\n",
    "\n",
    "for i in range(len(X_scaled_data) - batch_size - 1):\n",
    "    X_scaled_batches.append(X_scaled_data.iloc[i:(i+batch_size)].values)\n",
    "    y_scaled_batches.append(y_scaled_data.iloc[i+batch_size + 1])\n"
   ]
  },
  {
   "cell_type": "code",
   "execution_count": 48,
   "metadata": {},
   "outputs": [],
   "source": [
    "mixed = list(zip(X_scaled_batches, y_scaled_batches))\n",
    "\n",
    "random.shuffle(mixed)\n",
    "\n",
    "X_random_batches, y_random_batches = zip(*mixed)"
   ]
  },
  {
   "cell_type": "markdown",
   "metadata": {},
   "source": [
    "Die gesammelten Daten müssen im nächsten Schritt in Traings- und Testdaten aufgeteilt werden. Dafür wurde die Aufteilung von 90% zu 10% gewählt (90% Traningsdaten und 10% Testdaten). Beide Datensätze haben immernoch die gleiche Anzahl an Spalten, die Zeilen wurden entsprechend der genannten Aufteilung gesplittet."
   ]
  },
  {
   "cell_type": "code",
   "execution_count": 49,
   "metadata": {},
   "outputs": [],
   "source": [
    "train_size = int(len(X_scaled_batches) * 0.9)\n",
    "test_size = len(X_scaled_batches) - train_size\n",
    "X_train_random, X_test_random = X_random_batches[0:train_size], X_random_batches[train_size:len(X_scaled_batches)]\n",
    "y_train_random, y_test_random = y_random_batches[0:train_size], y_random_batches[train_size:len(y_scaled_batches)]\n",
    "\n",
    "X_train_random = np.array(X_train_random)\n",
    "X_train_random = np.reshape(X_train_random, (X_train_random.shape[0], X_train_random.shape[1], X_train_random.shape[2]))\n",
    "y_train_random = np.array(y_train_random)\n",
    "\n",
    "X_test_random = np.array(X_test_random)\n",
    "X_test_random = np.reshape(X_test_random, (X_test_random.shape[0], X_test_random.shape[1], X_test_random.shape[2]))\n",
    "y_test_random = np.array(y_test_random)\n"
   ]
  },
  {
   "cell_type": "code",
   "execution_count": 50,
   "metadata": {},
   "outputs": [
    {
     "data": {
      "text/plain": [
       "(1824, 31, 11)"
      ]
     },
     "execution_count": 50,
     "metadata": {},
     "output_type": "execute_result"
    }
   ],
   "source": [
    "X_train, X_test = X_scaled_batches[0:train_size], X_scaled_batches[train_size:len(X_scaled_batches)]\n",
    "y_train, y_test = y_scaled_batches[0:train_size], y_scaled_batches[train_size:len(y_scaled_batches)]\n",
    "\n",
    "X_train = np.array(X_train)\n",
    "X_train = np.reshape(X_train, (X_train.shape[0], X_train.shape[1], X_train.shape[2]))\n",
    "y_train = np.array(y_train)\n",
    "\n",
    "X_test = np.array(X_test)\n",
    "X_test = np.reshape(X_test, (X_test.shape[0], X_test.shape[1], X_test.shape[2]))\n",
    "y_test = np.array(y_test)\n",
    "\n",
    "X_train_random.shape"
   ]
  },
  {
   "cell_type": "markdown",
   "metadata": {},
   "source": [
    "@michael\n",
    "\n",
    "### Modell erstellen\n",
    "Bei diesem Anwendungsbeispiel ist das Ziel den Kursverlauf anhand von Indikatoren und Preisen aus der Vergangenheit für die Zukunft vorherzusagen. Im Detail werden 11 Kennzahlen für jeden der letzten 30 Tage verwendet, um den Preis für morgen vorherzusagen.\n",
    "\n",
    "Damit das Ziel erreicht werden kann, wird ein LSTM(long short-term memory)-Modell verwendet. Dieses Modell ist eine Erweiterung zu dem RNN(recurrent neural network)-Modell. Das LSTM-Modell im spezielle ist dafür ausgelegt in Zeitreihen oder anderen zusammenhängenden Datensätzen bestimmte Sequenzen zu erkennen. Neugewonnene Informationen können dabei gespeichert werden, um bei zukünftigen Zeitreihen angewandt zu werden. Außerdem kann ein LSTM-Modell entscheiden, ob eine Zeitreihe wichtige Informationen enthält oder nicht und diese dann entweder vergessen oder aktualisieren.\n",
    "Für das LSTM-Modell werden folgende Parameter definiert: \n",
    "\n",
    "* `units = 15` (passende Anzahl für die Menge an Daten; bei höherer Anzahl --> Overfitting)\n",
    "* `return_sequences = False` (Nur eine LSTM-layer --> False)\n",
    "* `input_shape = 31, 11` (Diese Zahlen spiegel die Form der Inputdaten wider; 31: batch_size; 11: Anzahl der Indikatoren) \n",
    "\n",
    "Anschließend wird für Dropout bestimmt wie viel Prozent der Neuronen pro Durchlauf \"ausgeschaltet\" sind, um die Gefahr von Overfitting zu vermeiden.\n",
    "\n",
    "Der letzte Bestandtteilt ist die Dense Layer. Dort wird das Outputformat definiert. Die Anzahl an `units` entspricht in diesem Beispiel 1, da nur der Preis für morgen verhergesagt werden soll. Sollten beispielsweise die Preise für die nächsten 3 Tage vorhergesatz werden, müsste die Dense-layser mit 3 definiert werden.  \n",
    "\n",
    "In der `model.summary` können nochmal die Daten überprüft werden."
   ]
  },
  {
   "cell_type": "code",
   "execution_count": 51,
   "metadata": {},
   "outputs": [
    {
     "name": "stdout",
     "output_type": "stream",
     "text": [
      "Model: \"sequential_4\"\n",
      "_________________________________________________________________\n",
      "Layer (type)                 Output Shape              Param #   \n",
      "=================================================================\n",
      "lstm (LSTM)                  (None, 15)                1620      \n",
      "_________________________________________________________________\n",
      "dropout_3 (Dropout)          (None, 15)                0         \n",
      "_________________________________________________________________\n",
      "dense_3 (Dense)              (None, 1)                 16        \n",
      "=================================================================\n",
      "Total params: 1,636\n",
      "Trainable params: 1,636\n",
      "Non-trainable params: 0\n",
      "_________________________________________________________________\n"
     ]
    }
   ],
   "source": [
    "model = tf.keras.Sequential()\n",
    "\n",
    "model.add(layers.LSTM(units = 15, return_sequences = False, input_shape = (X_train_random.shape[1], X_train_random.shape[2])))\n",
    "model.add(layers.Dropout(0.2))\n",
    "model.add(layers.Dense(units = 1))\n",
    "\n",
    "model.summary()"
   ]
  },
  {
   "cell_type": "markdown",
   "metadata": {},
   "source": [
    "### Modell trainieren\n",
    "Für das Modell wird zum einen der `adam`-Optimierer und zum anderen die `mean_squared_error` loss-Funktion genutzt.\n",
    "\n",
    "Für den `adam`-Optimierer haben wir uns, wie bereits oben beschrieben, entschieden, weil sich die Learningrate mit der Zeit automatisch anpasst und somit die Weights verbessert. Die Learningrate wurde hier nicht angepasst und ist damit standardmäßig auf 0,001 eingestellt. Dies ist möglich, da bei diesem Modell nicht so viele Daten zur Verfügung stehen und damit das Problem des Overfittings hier nicht eintritt.\n",
    "\n",
    "Die loss-Funktion `mean_aquared_error` ist für diesen Anwendungsfall sehr geeignet, weil die es bei diesem Modell darum geht, möglichst nahe an den tatsächlichen Output zu kommen. Mit dieser Funktion wird als Gundidee immer der vorhergesagte Output von dem tatsächlichen Output abzogen und davon das Quadrat benutzt. Damit kann bei diesem LSTM-Modell ein sehr niedriger loss-Wert erreicht werden. "
   ]
  },
  {
   "cell_type": "code",
   "execution_count": 52,
   "metadata": {},
   "outputs": [
    {
     "name": "stdout",
     "output_type": "stream",
     "text": [
      "Epoch 1/30\n",
      "52/52 [==============================] - 2s 15ms/step - loss: 0.0830 - val_loss: 0.0049\n",
      "Epoch 2/30\n",
      "52/52 [==============================] - 0s 8ms/step - loss: 0.0120 - val_loss: 0.0022\n",
      "Epoch 3/30\n",
      "52/52 [==============================] - 0s 8ms/step - loss: 0.0069 - val_loss: 0.0016\n",
      "Epoch 4/30\n",
      "52/52 [==============================] - 0s 8ms/step - loss: 0.0055 - val_loss: 0.0014\n",
      "Epoch 5/30\n",
      "52/52 [==============================] - 0s 8ms/step - loss: 0.0043 - val_loss: 0.0012\n",
      "Epoch 6/30\n",
      "52/52 [==============================] - 0s 8ms/step - loss: 0.0037 - val_loss: 0.0012\n",
      "Epoch 7/30\n",
      "52/52 [==============================] - 0s 8ms/step - loss: 0.0031 - val_loss: 0.0011\n",
      "Epoch 8/30\n",
      "52/52 [==============================] - 0s 8ms/step - loss: 0.0030 - val_loss: 9.8658e-04\n",
      "Epoch 9/30\n",
      "52/52 [==============================] - 0s 8ms/step - loss: 0.0028 - val_loss: 0.0010\n",
      "Epoch 10/30\n",
      "52/52 [==============================] - 0s 8ms/step - loss: 0.0023 - val_loss: 8.7019e-04\n",
      "Epoch 11/30\n",
      "52/52 [==============================] - 0s 8ms/step - loss: 0.0027 - val_loss: 8.5181e-04\n",
      "Epoch 12/30\n",
      "52/52 [==============================] - 0s 8ms/step - loss: 0.0022 - val_loss: 8.3948e-04\n",
      "Epoch 13/30\n",
      "52/52 [==============================] - 0s 8ms/step - loss: 0.0018 - val_loss: 8.3702e-04\n",
      "Epoch 14/30\n",
      "52/52 [==============================] - 0s 8ms/step - loss: 0.0021 - val_loss: 7.2040e-04\n",
      "Epoch 15/30\n",
      "52/52 [==============================] - 0s 8ms/step - loss: 0.0017 - val_loss: 7.8280e-04\n",
      "Epoch 16/30\n",
      "52/52 [==============================] - 0s 8ms/step - loss: 0.0017 - val_loss: 6.6268e-04\n",
      "Epoch 17/30\n",
      "52/52 [==============================] - 1s 10ms/step - loss: 0.0020 - val_loss: 7.6451e-04\n",
      "Epoch 18/30\n",
      "52/52 [==============================] - 0s 8ms/step - loss: 0.0016 - val_loss: 6.7662e-04\n",
      "Epoch 19/30\n",
      "52/52 [==============================] - 0s 8ms/step - loss: 0.0019 - val_loss: 6.6556e-04\n",
      "Epoch 20/30\n",
      "52/52 [==============================] - 0s 8ms/step - loss: 0.0016 - val_loss: 6.3437e-04\n",
      "Epoch 21/30\n",
      "52/52 [==============================] - 0s 8ms/step - loss: 0.0015 - val_loss: 6.1234e-04\n",
      "Epoch 22/30\n",
      "52/52 [==============================] - 0s 8ms/step - loss: 0.0015 - val_loss: 5.6071e-04\n",
      "Epoch 23/30\n",
      "52/52 [==============================] - 0s 8ms/step - loss: 0.0017 - val_loss: 5.4795e-04\n",
      "Epoch 24/30\n",
      "52/52 [==============================] - 0s 8ms/step - loss: 0.0017 - val_loss: 5.4818e-04\n",
      "Epoch 25/30\n",
      "52/52 [==============================] - 0s 8ms/step - loss: 0.0012 - val_loss: 5.8539e-04\n",
      "Epoch 26/30\n",
      "52/52 [==============================] - 0s 8ms/step - loss: 0.0015 - val_loss: 6.3964e-04\n",
      "Epoch 27/30\n",
      "52/52 [==============================] - 0s 8ms/step - loss: 0.0014 - val_loss: 5.4724e-04\n",
      "Epoch 28/30\n",
      "52/52 [==============================] - 0s 8ms/step - loss: 0.0015 - val_loss: 5.6394e-04\n",
      "Epoch 29/30\n",
      "52/52 [==============================] - 0s 8ms/step - loss: 0.0015 - val_loss: 5.6015e-04\n",
      "Epoch 30/30\n",
      "52/52 [==============================] - 0s 8ms/step - loss: 0.0014 - val_loss: 5.2395e-04\n"
     ]
    }
   ],
   "source": [
    "model.compile(loss='mean_squared_error', optimizer='adam')\n",
    "\n",
    "history = model.fit(\n",
    "    X_train_random, y_train_random,\n",
    "    epochs=30,\n",
    "    validation_split=0.1,\n",
    ")"
   ]
  },
  {
   "cell_type": "markdown",
   "metadata": {},
   "source": [
    "Die loss-Rate sollte bei einem Modell immer so gering wie nur möglich sein. In dem folgendem Diagramm ist gut zu sehen, dass die loss-Rate in den ersten Epochen noch relativ hoch war und sich dann immer mehr einer Zahl nahe 0,0015 angegelichen hat. Die Rate wurde dann auch ziemlich konstant über die restlichen Epochen gehalten. "
   ]
  },
  {
   "cell_type": "code",
   "execution_count": 53,
   "metadata": {},
   "outputs": [
    {
     "data": {
      "text/plain": [
       "dict_keys(['loss', 'val_loss'])"
      ]
     },
     "execution_count": 53,
     "metadata": {},
     "output_type": "execute_result"
    }
   ],
   "source": [
    "history_dict = history.history\n",
    "history_dict.keys()"
   ]
  },
  {
   "cell_type": "code",
   "execution_count": 54,
   "metadata": {},
   "outputs": [
    {
     "data": {
      "image/png": "[encoded data removed]",
      "text/plain": [
       "<Figure size 432x288 with 1 Axes>"
      ]
     },
     "metadata": {
      "needs_background": "light"
     },
     "output_type": "display_data"
    }
   ],
   "source": [
    "loss = history_dict['loss']\n",
    "val_loss = history_dict['val_loss']\n",
    "\n",
    "epochs = range(1, len(loss) + 1)\n",
    "\n",
    "plt.plot(epochs, loss, 'o', color='orange', label='Training Loss')\n",
    "plt.plot(epochs, val_loss, 'blue', label='Validation Loss')\n",
    "plt.title('Trainings- und Validationsloss')\n",
    "plt.xlabel('Epochen')\n",
    "plt.ylabel('Loss')\n",
    "plt.legend()\n",
    "\n",
    "plt.show()"
   ]
  },
  {
   "cell_type": "markdown",
   "metadata": {},
   "source": [
    "### Überprüfung des Modells\n",
    "Nachdem das Modell nun trainiert ist, kann zunächst überprüft werden, wie das Modell mit den Trainingsdaten performed. In dem ersten Diagramm sind alle Trainingsdaten abgebildet. Im zweiten Diagramm sind die Vorhersagen des ersten Jahres und im letzten Diagramm die Vorhersagen des letzten Jahres eingezeichnet. Dort ist gut zu erkennen, dass im ersten Jahr die Vorhersage noch sehr ungenau ist und große Schwankungen enhält. Im Gegensatz dazu ist die Vorhersage im letzten Jahr ziemliche nahe am tatsächlichen Kurs."
   ]
  },
  {
   "cell_type": "code",
   "execution_count": 55,
   "metadata": {},
   "outputs": [],
   "source": [
    "predicted_price = model.predict(X_train)\n",
    "predicted_price = y_scaler.inverse_transform(predicted_price)\n",
    "y_train = y_scaler.inverse_transform(y_train)"
   ]
  },
  {
   "cell_type": "code",
   "execution_count": 56,
   "metadata": {
    "scrolled": false
   },
   "outputs": [
    {
     "data": {
      "image/png": "[encoded data removed]",
      "text/plain": [
       "<Figure size 432x288 with 1 Axes>"
      ]
     },
     "metadata": {
      "needs_background": "light"
     },
     "output_type": "display_data"
    }
   ],
   "source": [
    "plt.plot(np.arange(0, len(y_train)), y_train, 'g', label=\"true\")\n",
    "plt.plot(np.arange(0, len(y_train)), predicted_price, 'r', label=\"prediction\")\n",
    "plt.ylabel('Price')\n",
    "plt.xlabel('Time Step')\n",
    "plt.legend()\n",
    "plt.show();"
   ]
  },
  {
   "cell_type": "code",
   "execution_count": 57,
   "metadata": {},
   "outputs": [
    {
     "data": {
      "image/png": "[encoded data removed]",
      "text/plain": [
       "<Figure size 432x288 with 1 Axes>"
      ]
     },
     "metadata": {
      "needs_background": "light"
     },
     "output_type": "display_data"
    }
   ],
   "source": [
    "plt.plot(np.arange(0, 365), y_train[:365], 'g', label=\"true\")\n",
    "plt.plot(np.arange(0, 365), predicted_price[:365], 'r', label=\"prediction\")\n",
    "plt.ylabel('Price')\n",
    "plt.xlabel('Time Step')\n",
    "plt.legend()\n",
    "plt.show();"
   ]
  },
  {
   "cell_type": "code",
   "execution_count": 58,
   "metadata": {
    "scrolled": false
   },
   "outputs": [
    {
     "data": {
      "image/png": "[encoded data removed]",
      "text/plain": [
       "<Figure size 432x288 with 1 Axes>"
      ]
     },
     "metadata": {
      "needs_background": "light"
     },
     "output_type": "display_data"
    }
   ],
   "source": [
    "plt.plot(np.arange(0, 365), y_train[-365:], 'g', label=\"true\")\n",
    "plt.plot(np.arange(0, 365), predicted_price[-365:], 'r', label=\"prediction\")\n",
    "plt.ylabel('Price')\n",
    "plt.xlabel('Time Step')\n",
    "plt.legend()\n",
    "plt.show();"
   ]
  },
  {
   "cell_type": "markdown",
   "metadata": {},
   "source": [
    "### Test des Modells\n",
    "Nachdem das Modell nun trainiert ist, kann mit den Testdaten überprüft werden, wie gut das Modell funktioniert. Das Diagramm zeigt dabei in blau den tatsächlichen Preisverlauf während der Testphase ab und in rot den vom Modell vorhergesagten Preisverlauf während der Testphase."
   ]
  },
  {
   "cell_type": "code",
   "execution_count": 59,
   "metadata": {},
   "outputs": [
    {
     "data": {
      "image/png": "[encoded data removed]",
      "text/plain": [
       "<Figure size 432x288 with 1 Axes>"
      ]
     },
     "metadata": {
      "needs_background": "light"
     },
     "output_type": "display_data"
    }
   ],
   "source": [
    "predicted_price = model.predict(X_test)\n",
    "predicted_price = y_scaler.inverse_transform(predicted_price)\n",
    "y_train_inv = y_scaler.inverse_transform(y_train)\n",
    "y_test_inv = y_scaler.inverse_transform(y_test)\n",
    "predicted_price\n",
    "\n",
    "plt.plot(y_test_inv, label=\"true\")\n",
    "plt.plot(predicted_price, 'r', label=\"prediction\")\n",
    "plt.ylabel('Price')\n",
    "plt.xlabel('Time Step')\n",
    "plt.legend()\n",
    "plt.show();"
   ]
  },
  {
   "cell_type": "markdown",
   "metadata": {},
   "source": [
    "@aaron\n",
    "\n",
    "## 3. Auführung"
   ]
  },
  {
   "cell_type": "markdown",
   "metadata": {},
   "source": [
    "## Anwenden auf Twitter Livedaten\n",
    "\n",
    "Da die Sentimentanalyse lediglich eine Ergänzung zu der technischen Analyse ist müssen die Ergebnisse entsprechend aufbereitet werden.\n",
    "\n",
    "Um die Tweets zu fetchen wird `searchtweets` verwendet. Weiterhin wird wieder Matplotlib verwendet, um die Ergebnisse graphisch darzustellen."
   ]
  },
  {
   "cell_type": "code",
   "execution_count": 60,
   "metadata": {},
   "outputs": [],
   "source": [
    "# pip install searchtweets-v2\n",
    "from searchtweets import load_credentials, gen_request_parameters, collect_results\n",
    "from datetime import datetime\n",
    "import matplotlib.dates as mdate\n",
    "import math"
   ]
  },
  {
   "cell_type": "markdown",
   "metadata": {},
   "source": [
    "Hier laden wir den Token für die Twitter API, dieser sollte sich im Rootordner des Projekts liegen."
   ]
  },
  {
   "cell_type": "code",
   "execution_count": 61,
   "metadata": {},
   "outputs": [],
   "source": [
    "search_args = load_credentials(\"./.twitter_keys.yaml\", yaml_key=\"search_tweets_v2\")"
   ]
  },
  {
   "cell_type": "markdown",
   "metadata": {},
   "source": [
    "Hier definieren wir unsere Queryparameter. Wir laden 100 Tweets, was das Maximum für einen einzelnen API Request ist und geben an, dass alle Tweets mit den Keywords \"ether\", \"eth\", \"ethereum\" oder \"cryptocurrency\" gefetcht werden sollen. Weiterhin filtern wir Tweets von Bots heraus und Tweets, die das Wort \"app\" enthalten, da dies meist nur Werbung ist. Zusätzlich müssen die Nutzer verifiziert sein und die Sprache englisch."
   ]
  },
  {
   "cell_type": "code",
   "execution_count": 62,
   "metadata": {},
   "outputs": [],
   "source": [
    "max_tweets = 100\n",
    "\n",
    "query = gen_request_parameters(\n",
    "    \"(ether OR eth OR ethereum OR cryptocurrency) -bot -app -is:retweet is:verified lang:en\",\n",
    "    tweet_fields=\"id,created_at,text,public_metrics\",\n",
    "    results_per_call=max_tweets)"
   ]
  },
  {
   "cell_type": "markdown",
   "metadata": {},
   "source": [
    "Mit `collect_results()` fetchen wir nun die Tweets und reversen sie, da sie hier für uns falschrum ankommen (neuester Tweet kommt hier zuerst). Mit `pop()` entfernen wir das erste Element, da es sich hier um ein Informationsobjekt handelt. Weiterhin filtern wir die für uns relevanten Informationen heraus wie Datum und Text."
   ]
  },
  {
   "cell_type": "code",
   "execution_count": 63,
   "metadata": {},
   "outputs": [
    {
     "name": "stdout",
     "output_type": "stream",
     "text": [
      "{'id': '1383624271822417923', 'created_at': '2021-04-18T03:31:47.000Z', 'text': 'This scam claimed to allow clients to invest in a trading pool managed by a “master trader” called Steven Twain. #MTI #bitcoin #cryptocurrency https://t.co/DQ5ochtwfC', 'public_metrics': {'retweet_count': 13, 'reply_count': 4, 'like_count': 44, 'quote_count': 1}}\n"
     ]
    }
   ],
   "source": [
    "tweets = list(reversed(collect_results(query, max_tweets=max_tweets, result_stream_args=search_args)))\n",
    "\n",
    "tweets.pop(0)\n",
    "\n",
    "print(tweets[0])\n",
    "\n",
    "create_dates = []\n",
    "tweet_texts = []\n",
    "\n",
    "for tweet in tweets:\n",
    "    if 'text' not in tweet:\n",
    "        continue\n",
    "    tweet_texts.append(tweet['text'])\n",
    "    \n",
    "    utc_time = datetime.strptime(tweet['created_at'], \"%Y-%m-%dT%H:%M:%S.%fZ\")\n",
    "    epoch_time = (utc_time - datetime(1970, 1, 1)).total_seconds()\n",
    "    create_dates.append(epoch_time)"
   ]
  },
  {
   "cell_type": "markdown",
   "metadata": {},
   "source": [
    "Hier übergeben wir unseren Sentimentmodel den Batch an gefetchten Tweets. Dannach formatieren wir noch das Sentiment, sodass es von -1 bis 1 geht. Somit kann man besser unterscheiden, ob Tweets negativ oder positiv gemeint sind."
   ]
  },
  {
   "cell_type": "code",
   "execution_count": 64,
   "metadata": {},
   "outputs": [
    {
     "name": "stdout",
     "output_type": "stream",
     "text": [
      "1618716707.0 - This scam claimed to allow clients to invest in a trading pool managed by a “master trader” called Steven Twain. #MTI #bitcoin #cryptocurrency https://t.co/DQ5ochtwfC - 0.3408404588699341\n",
      "1618716765.0 - The digital asset #Ethereum touched an all-time high on April 16, 2021, reaching $2,533 per ETH. https://t.co/fgMK0mVgFS - 0.31600141525268555\n",
      "1618716962.0 - Tax cheats cost the U.S. far more than previously thought — and cryptocurrency is part of the problem, IRS commissioner says https://t.co/uUwC4dowjr - -0.24571555852890015\n",
      "1618717502.0 - After Ethering Serius Jones, ARP Emerges As Most Dangerous Man in Battle Rap https://t.co/hj7Be37OHh - 0.27101635932922363\n",
      "1618718031.0 - just made the eth long of my life - 0.2723346948623657\n"
     ]
    }
   ],
   "source": [
    "raw_sentiment = sentiment_model.predict(tweet_texts).flatten()\n",
    "\n",
    "sentiment = []\n",
    "\n",
    "for s in raw_sentiment:\n",
    "    sentiment.append((s - 0.5) * 2)\n",
    "\n",
    "for i in range(5):\n",
    "    d = create_dates[i]\n",
    "    t = tweet_texts[i]\n",
    "    p = sentiment[i]\n",
    "    print(\"{} - {} - {}\".format(d,t,p))"
   ]
  },
  {
   "cell_type": "markdown",
   "metadata": {},
   "source": [
    "Da wir den aktuellen Sentimenttrend bestimmen wollen implementieren wir eine Simple Moving Average"
   ]
  },
  {
   "cell_type": "code",
   "execution_count": 65,
   "metadata": {},
   "outputs": [],
   "source": [
    "def simple_moving_avg(x, n):\n",
    "    cumsum = np.cumsum(np.insert(x, 0, 0))\n",
    "    return (cumsum[n:] - cumsum[:-n]) / float(n)"
   ]
  },
  {
   "cell_type": "markdown",
   "metadata": {},
   "source": [
    "Nun plotten wir das Sentiment in einen Zeitgraphen. Hier können wir bereits erkennen, wir die aktuelle Marktstimmung der letzten Stunden aussieht"
   ]
  },
  {
   "cell_type": "code",
   "execution_count": 66,
   "metadata": {},
   "outputs": [
    {
     "data": {
      "image/png": "[encoded data removed]",
      "text/plain": [
       "<Figure size 432x288 with 1 Axes>"
      ]
     },
     "metadata": {
      "needs_background": "light"
     },
     "output_type": "display_data"
    }
   ],
   "source": [
    "n = 10\n",
    "sma = simple_moving_avg(sentiment, n)\n",
    "\n",
    "for i in range(n - 1):\n",
    "    sma = np.insert(sma, i, sentiment[i])\n",
    "    \n",
    "dates = mdate.epoch2num(create_dates)\n",
    "\n",
    "fig, ax = plt.subplots()\n",
    "\n",
    "ax.plot(dates, sma, label=\"simple moving average\")\n",
    "ax.plot(dates, sentiment, \"o\", label=\"predicted sentiment\")\n",
    "\n",
    "date_fmt = '%d-%m-%y %H:%M:%S'\n",
    "\n",
    "date_formatter = mdate.DateFormatter(date_fmt)\n",
    "ax.xaxis.set_major_formatter(date_formatter)\n",
    "\n",
    "fig.autofmt_xdate()\n",
    "\n",
    "plt.title('Predictions and MA')\n",
    "plt.legend(loc='lower right')\n",
    "\n",
    "plt.show()"
   ]
  },
  {
   "cell_type": "markdown",
   "metadata": {},
   "source": [
    "Wir wollen aber zusätzlich noch den Einfluss der Tweets miteinberechnen. Dafür gewichten wir die Tweets mithilfe der Anzahl der Likes. Dafür mulitplizieren wir die Anzahl der Likes mit dem Sentiment Wert (+1 da sonst alle Tweets mit 0 Likes eliminiert werden). Mit den Sigmoid Funktion squashen wir alle Werte zurück in unseren vorherigen Wertebereich."
   ]
  },
  {
   "cell_type": "code",
   "execution_count": 67,
   "metadata": {},
   "outputs": [],
   "source": [
    "weighted_sentiment = []\n",
    "\n",
    "def normalized_sigmoid(x):\n",
    "  return ((1 / (1 + math.exp(-x))) - 0.5) * 2\n",
    "\n",
    "for i in range(len(sentiment)):\n",
    "    if 'public_metrics' not in tweets[i]:\n",
    "        weight = 1\n",
    "        weighted_sentiment.append(sentiment[i])\n",
    "    else:\n",
    "        weight = tweets[i]['public_metrics']['like_count'] + 1\n",
    "        weighted_sentiment.append(normalized_sigmoid(weight * sentiment[i]))\n"
   ]
  },
  {
   "cell_type": "markdown",
   "metadata": {},
   "source": [
    "Nun können wir die gewichtete Marktstimmung erneut ausgeben"
   ]
  },
  {
   "cell_type": "code",
   "execution_count": 68,
   "metadata": {},
   "outputs": [
    {
     "data": {
      "image/png": "[encoded data removed]",
      "text/plain": [
       "<Figure size 432x288 with 1 Axes>"
      ]
     },
     "metadata": {
      "needs_background": "light"
     },
     "output_type": "display_data"
    }
   ],
   "source": [
    "n = 10\n",
    "weighted_sma = simple_moving_avg(weighted_sentiment, n)\n",
    "\n",
    "for i in range(n - 1):\n",
    "    weighted_sma = np.insert(weighted_sma, i, weighted_sentiment[i])\n",
    "    \n",
    "dates = mdate.epoch2num(create_dates)\n",
    "\n",
    "fig, ax = plt.subplots()\n",
    "\n",
    "ax.plot(dates, weighted_sma, label=\"simple moving average\")\n",
    "ax.plot(dates, weighted_sentiment, \"o\", label=\"weighted sentiment\")\n",
    "\n",
    "date_fmt = '%d-%m-%y %H:%M:%S'\n",
    "\n",
    "date_formatter = mdate.DateFormatter(date_fmt)\n",
    "ax.xaxis.set_major_formatter(date_formatter)\n",
    "\n",
    "fig.autofmt_xdate()\n",
    "\n",
    "plt.title('Weighted predictions and MA')\n",
    "plt.legend(loc='lower right')\n",
    "\n",
    "plt.show()"
   ]
  },
  {
   "cell_type": "markdown",
   "metadata": {},
   "source": [
    "Letztendlich können wir die beiden Werte noch vergleichen, um zu überprüfen, ob die Gewichtung tatsächlich einen Einfluss auf den Stimmungstrend hat"
   ]
  },
  {
   "cell_type": "code",
   "execution_count": 69,
   "metadata": {},
   "outputs": [
    {
     "data": {
      "image/png": "[encoded data removed]",
      "text/plain": [
       "<Figure size 432x288 with 1 Axes>"
      ]
     },
     "metadata": {
      "needs_background": "light"
     },
     "output_type": "display_data"
    }
   ],
   "source": [
    "dates = mdate.epoch2num(create_dates)\n",
    "\n",
    "fig, ax = plt.subplots()\n",
    "\n",
    "ax.plot(dates, sma, label=\"raw\", color='blue')\n",
    "ax.plot(dates, weighted_sma, label=\"weighted\", color='orange')\n",
    "\n",
    "date_fmt = '%d-%m-%y %H:%M:%S'\n",
    "\n",
    "date_formatter = mdate.DateFormatter(date_fmt)\n",
    "ax.xaxis.set_major_formatter(date_formatter)\n",
    "\n",
    "fig.autofmt_xdate()\n",
    "\n",
    "plt.title('Raw and weighted predictions')\n",
    "plt.legend(loc='lower right')\n",
    "\n",
    "plt.show()"
   ]
  },
  {
   "cell_type": "markdown",
   "metadata": {},
   "source": [
    "Die folgende Funktion dient zur Datenaufbereitung für die Vorhersage des Kursverlaufes 30 Tage in die Zukunft."
   ]
  },
  {
   "cell_type": "code",
   "execution_count": 70,
   "metadata": {},
   "outputs": [],
   "source": [
    "def create_data(df, X_scaler_predict, y_scaler_predict):\n",
    "    kama_indicator = KAMAIndicator(close = df[\"price\"], window = 10, pow1 = 2, pow2 = 30, fillna = False)\n",
    "    df['kama'] = kama_indicator.kama()\n",
    "    ppo_indicator = PercentagePriceOscillator(close = df[\"price\"], window_slow = 20, window_fast = 10, window_sign = 9, fillna = False)\n",
    "    df['ppo'] = ppo_indicator.ppo()\n",
    "    roc_indicator = ROCIndicator(close = df[\"price\"], window = 12, fillna = False)\n",
    "    df['roc'] = roc_indicator.roc()\n",
    "    macd_indicator = MACD(close = df[\"price\"], window_slow = 20, window_fast = 12, window_sign = 9, fillna = False)\n",
    "    df['macd'] = macd_indicator.macd()\n",
    "    rsi_indicator = RSIIndicator(close = df[\"price\"], window = 14, fillna = False)\n",
    "    df['rsi'] = rsi_indicator.rsi()\n",
    "    aroon_indicator = AroonIndicator(close = df[\"price\"], window = 20, fillna = False)\n",
    "    df['aroon'] = aroon_indicator.aroon_indicator()\n",
    "    boll_indicator = BollingerBands(close = df[\"price\"], window = 20, window_dev = 2, fillna = False)\n",
    "    df['boll_mavg'] = boll_indicator.bollinger_mavg()\n",
    "    df['day_of_month'] = df.index.day\n",
    "    df['day_of_week'] = df.index.dayofweek\n",
    "    df['month'] = df.index.month\n",
    "    prices = df['price'].to_numpy()\n",
    "    \n",
    "    increase = []\n",
    "    for i in range(0, len(df)):\n",
    "        if(i == len(prices)-1):\n",
    "            increase.append(1)\n",
    "        else:\n",
    "            if(prices[i+1] > prices[i]):\n",
    "                increase.append(1)\n",
    "            else:\n",
    "                increase.append(0)\n",
    "    df['increase'] = increase\n",
    "\n",
    "    df_new = df.tail(batch_size)\n",
    "    predict = df_new.iloc[:len(df_new)]\n",
    "    \n",
    "\n",
    "    X_predict = predict.filter(X_columns)\n",
    "    y_predict = predict.filter(['price'])\n",
    "\n",
    "    X_scaled_predict = X_scaler_predict.fit_transform(X_predict)\n",
    "    y_scaled_predict = y_scaler_predict.fit_transform(y_predict)\n",
    "\n",
    "    X_scaled_predict = pd.DataFrame(data=X_scaled_predict, index=predict.index, columns=X_columns)\n",
    "    y_scaled_predict = pd.DataFrame(data=y_scaled_predict, index=predict.index, columns=['price'])\n",
    "    \n",
    "    return df, X_scaled_predict, y_scaled_predict"
   ]
  },
  {
   "cell_type": "markdown",
   "metadata": {},
   "source": [
    "### Vorhersage des Kurses 30 Tage in die Zukunft\n",
    "Für die Vorhersage werden die Daten der letzten 81 Tage abgefragt, anschließend werden wieder alle Indicatoren hinzugefügt. Danach wird der Datensatz wieder auf 31 Einträge gekürzt (wie Batch-Größe) und eine Vorhersage für den nächsten Tag gemacht. Anhand von dem vorhergesagten Preis müssen mit der Funktion oben wieder die verschiedenen Indikatoren berechnet und die Daten in das richtige Format gebracht werden. Danach wird wieder eine Vorhersage für den nächsten Tag gemacht und dies wiederholt sich 30 mal und am Ende ist ein Diagramm mit der Vorhersage für die nächsten 30 Tage zu sehen. "
   ]
  },
  {
   "cell_type": "code",
   "execution_count": 71,
   "metadata": {},
   "outputs": [
    {
     "name": "stdout",
     "output_type": "stream",
     "text": [
      "[2284.8516, 2308.7874, 2323.3335, 2334.8848, 2351.8909, 2365.3315, 2377.4165, 2392.6086, 2404.4707, 2410.1423, 2404.9104, 2405.7192, 2411.0747, 2406.7961, 2378.739, 2369.7656, 2368.461, 2367.797, 2372.501, 2380.9988, 2404.8696, 2410.6248, 2416.4885, 2420.61, 2426.1545, 2429.0803, 2428.9766, 2427.2515, 2383.3, 2380.743]\n"
     ]
    }
   ],
   "source": [
    "end = datetime.today()\n",
    "start = datetime.today() - timedelta(days=batch_size + 50)\n",
    "ETH = pdr.DataReader(symbol,'yahoo',start,end)\n",
    "\n",
    "df = pd.DataFrame(data=ETH)\n",
    "df =  df.drop(df.columns[[0, 1, 2, 4, 5]], axis=1)\n",
    "df.rename(columns = {\"Close\": \"price\"}, inplace=True)\n",
    "prices = df['price'].to_numpy()\n",
    "\n",
    "X_scaler_predict = MinMaxScaler(feature_range = (0, 1))\n",
    "y_scaler_predict = MinMaxScaler(feature_range = (0, 1))\n",
    "\n",
    "days_in_future = 30\n",
    "y_predicted_all = []\n",
    "\n",
    "for i in range(days_in_future):\n",
    "    df, X_scaled_predict, y_scaled_predict = create_data(df, X_scaler_predict, y_scaler_predict)\n",
    "    X = np.array([X_scaled_predict.values])\n",
    "    y_predicted = model.predict(X)\n",
    "    y_predicted_inv = y_scaler_predict.inverse_transform(y_predicted)\n",
    "    y_predicted_all.append(y_predicted_inv[0][0])\n",
    "    del X_scaled_predict\n",
    "    del y_scaled_predict\n",
    "    \n",
    "    add_index = pd.Index([(datetime.today())+ timedelta(days=1)])\n",
    "    add_index.set_names('Date', inplace=True)\n",
    "    df2 = pd.DataFrame(index = add_index, data=([[y_predicted_inv[0][0], 0.0, 0.0, 0.0, 0.0, 0.0, 0.0, 0.0, 0, 0, 0]]), columns=X_columns)\n",
    "    df = df.append(df2)\n",
    "    del y_predicted\n",
    "    del y_predicted_inv\n",
    "\n",
    "print(y_predicted_all)"
   ]
  },
  {
   "cell_type": "code",
   "execution_count": 72,
   "metadata": {},
   "outputs": [
    {
     "data": {
      "image/png": "[encoded data removed]",
      "text/plain": [
       "<Figure size 432x288 with 1 Axes>"
      ]
     },
     "metadata": {
      "needs_background": "light"
     },
     "output_type": "display_data"
    }
   ],
   "source": [
    "plt.plot(np.arange(0, len(prices)), prices, 'g', label=\"history\")\n",
    "plt.plot(np.arange(len(prices) - 1, len(prices) + len(y_predicted_all)), [prices[-1]] + y_predicted_all, 'r', label=\"prediction\")\n",
    "plt.title('ETH USD Price with prediction')\n",
    "plt.xlabel('Tage')\n",
    "plt.ylabel('Preis')\n",
    "plt.legend()\n",
    "\n",
    "plt.show()"
   ]
  },
  {
   "cell_type": "markdown",
   "metadata": {},
   "source": [
    "#### Herausforderungen bei einem produktiven Einsatz der Modelle\n",
    "\n",
    "Nachdem die ersten Vorhersagen mit einem Modell getroffen wurde, stellt sich auch die Frage, wie diese Modelle nun innerhalb einer produktiven Umgebung eingesetzt werden können.\n",
    "Dabei stellen sich einige Herausforderungen:\n",
    "\n",
    "1. **Wie werden die Modelle bereitgestellt?:**\n",
    "Es muss eine API programmiert werden, die entsprechende Endpunkte bereitstellt, um mit den Modellen zu interagieren.\n",
    "\n",
    "2. **Welche Anforderungen können an die API gestellt werden?:**\n",
    "Es gilt weiterhin zu untersuchen, ob und inwiefern Parameter bei der bisherigen Nutzung des Modells *hardgecodet* wurden, die nun extrahiert und konfigurierbar gemacht werden müssen, sodass eine nutzerindividuelle Anfrage möglich ist.\n",
    "\n",
    "3. **Datentransformation:**\n",
    "Die Datentransformation, die während des Trainings und den initialen Vorhersagen durchgeführt wurde muss auch entsprechend der Live-Datenquelle durchgeführt werden. Das bedeutet, evtl. Aufwändige Datenebereinigung oder Vorbereitungen für das Modell müssen innerhalb der API durchgeführt werden. So stellen sich evtl. neue Anforderungen an das Modell, damit Transformationen nicht zu aufwändig sind, um eine Responsivität der API zu gewährleisten.\n",
    "\n",
    "Zusammenfassend lässt sich sagen, dass es einige Aufgaben zu erledigen gilt, bevor ein trainiertes ML-Modell produktiv genutzt werden kann."
   ]
  }
 ],
 "metadata": {
  "kernelspec": {
   "display_name": "Python 3",
   "language": "python",
   "name": "python3"
  },
  "language_info": {
   "codemirror_mode": {
    "name": "ipython",
    "version": 3
   },
   "file_extension": ".py",
   "mimetype": "text/x-python",
   "name": "python",
   "nbconvert_exporter": "python",
   "pygments_lexer": "ipython3",
   "version": "3.7.3"
  }
 },
 "nbformat": 4,
 "nbformat_minor": 2
}
