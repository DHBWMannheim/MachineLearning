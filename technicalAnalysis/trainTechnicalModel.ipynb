{
 "cells": [
  {
   "cell_type": "code",
   "execution_count": 1,
   "metadata": {},
   "outputs": [],
   "source": [
    "import matplotlib.pyplot as plt\n",
    "import os\n",
    "import re\n",
    "import shutil\n",
    "import string\n",
    "import tensorflow as tf\n",
    "import pandas as pd\n",
    "\n",
    "from tensorflow.keras import layers\n",
    "from tensorflow.keras import losses\n",
    "from tensorflow.keras import preprocessing\n",
    "from tensorflow.keras.layers.experimental.preprocessing import TextVectorization\n",
    "from sklearn.model_selection import train_test_split\n",
    "from sklearn.utils import shuffle\n",
    "from tensorflow import feature_column\n",
    "from tensorflow.keras import layers"
   ]
  },
  {
   "cell_type": "code",
   "execution_count": 2,
   "metadata": {},
   "outputs": [],
   "source": [
    "dataframe = pd.read_csv(\"./ethusd.csv\", usecols=[4], names=[\"price\"], skiprows=1)"
   ]
  },
  {
   "cell_type": "code",
   "execution_count": 3,
   "metadata": {},
   "outputs": [
    {
     "data": {
      "text/html": [
       "<div>\n",
       "<style scoped>\n",
       "    .dataframe tbody tr th:only-of-type {\n",
       "        vertical-align: middle;\n",
       "    }\n",
       "\n",
       "    .dataframe tbody tr th {\n",
       "        vertical-align: top;\n",
       "    }\n",
       "\n",
       "    .dataframe thead th {\n",
       "        text-align: right;\n",
       "    }\n",
       "</style>\n",
       "<table border=\"1\" class=\"dataframe\">\n",
       "  <thead>\n",
       "    <tr style=\"text-align: right;\">\n",
       "      <th></th>\n",
       "      <th>price</th>\n",
       "    </tr>\n",
       "  </thead>\n",
       "  <tbody>\n",
       "    <tr>\n",
       "      <th>0</th>\n",
       "      <td>2.772120</td>\n",
       "    </tr>\n",
       "    <tr>\n",
       "      <th>1</th>\n",
       "      <td>0.753325</td>\n",
       "    </tr>\n",
       "    <tr>\n",
       "      <th>2</th>\n",
       "      <td>0.701897</td>\n",
       "    </tr>\n",
       "    <tr>\n",
       "      <th>3</th>\n",
       "      <td>0.708448</td>\n",
       "    </tr>\n",
       "    <tr>\n",
       "      <th>4</th>\n",
       "      <td>1.067860</td>\n",
       "    </tr>\n",
       "  </tbody>\n",
       "</table>\n",
       "</div>"
      ],
      "text/plain": [
       "      price\n",
       "0  2.772120\n",
       "1  0.753325\n",
       "2  0.701897\n",
       "3  0.708448\n",
       "4  1.067860"
      ]
     },
     "execution_count": 3,
     "metadata": {},
     "output_type": "execute_result"
    }
   ],
   "source": [
    "dataframe.head()"
   ]
  },
  {
   "cell_type": "code",
   "execution_count": 4,
   "metadata": {},
   "outputs": [
    {
     "data": {
      "image/png": "[encoded data removed]",
      "text/plain": [
       "<Figure size 432x288 with 1 Axes>"
      ]
     },
     "metadata": {
      "needs_background": "light"
     },
     "output_type": "display_data"
    }
   ],
   "source": [
    "prices = dataframe['price'].to_numpy()\n",
    "\n",
    "days = range(1, len(prices) + 1)\n",
    "\n",
    "plt.plot(days, prices, 'blue', label='Price')\n",
    "plt.title('ETH USD Price')\n",
    "plt.xlabel('Tage')\n",
    "plt.ylabel('Preis')\n",
    "plt.legend()\n",
    "\n",
    "plt.show()"
   ]
  },
  {
   "cell_type": "code",
   "execution_count": 114,
   "metadata": {},
   "outputs": [],
   "source": [
    "features = []\n",
    "labels = []\n",
    "\n",
    "for i in range(20, len(prices)):\n",
    "    if (i+1 <= len(prices)-1):\n",
    "        feature = prices[i-20:i]\n",
    "        normalized_prices = []\n",
    "        \n",
    "        for q in range(20):\n",
    "            normalized_prices.append(feature[q] / feature[0])\n",
    "        \n",
    "        features.append(normalized_prices)\n",
    "        \n",
    "        next_price = prices[i]\n",
    "        \n",
    "        if (next_price > prices[i+1]):\n",
    "            labels.append([1])\n",
    "        else:\n",
    "            labels.append([0])\n",
    "            "
   ]
  },
  {
   "cell_type": "code",
   "execution_count": 115,
   "metadata": {},
   "outputs": [
    {
     "name": "stdout",
     "output_type": "stream",
     "text": [
      "[1.0, 0.27175050142129487, 0.25319863497972667, 0.25556180829112735, 0.3852142042913005, 0.439172907377747, 0.6593040705308572, 0.6593762174797628, 0.6092449100327547, 0.5649214319726419, 0.43418394586092957, 0.3921367040387862, 0.4541145404960824, 0.5284475419534508, 0.5033295816919902, 0.49753618169487607, 0.4879262081006594, 0.44416186889456444, 0.41130614836298574, 0.41844508895718796]\n",
      "[0]\n",
      "[1.0, 0.93173198818571, 0.9404281020807752, 1.417528954966316, 1.6160886735472737, 2.426137457272757, 2.4264029469352537, 2.241927454949723, 2.0788238807951416, 1.597730063385657, 1.4430026880828328, 1.6710715826502507, 1.944605581920154, 1.8521753559220786, 1.8308565360236284, 1.7954933129791257, 1.6344472837088906, 1.5135432914080909, 1.5398134935120964, 1.5235124282348256]\n",
      "[1]\n",
      "[1.0, 1.0093332782445288, 1.5213913152499583, 1.7344995063378246, 2.603900572306193, 2.6041855143988366, 2.406193501325693, 2.231139326710329, 1.7147957606315458, 1.5487315090390756, 1.793511013724236, 2.087086851774548, 1.9878842622208102, 1.9650034121815594, 1.927049125441482, 1.7542032520441035, 1.6244406230543798, 1.6526356431214266, 1.6351401986331326, 1.6973715516664127]\n",
      "[0]\n"
     ]
    }
   ],
   "source": [
    "for i in range(3):\n",
    "    print(features[i])\n",
    "    print(labels[i])"
   ]
  },
  {
   "cell_type": "code",
   "execution_count": 116,
   "metadata": {},
   "outputs": [],
   "source": [
    "def numpy_to_ds(features, labels, batch_size):\n",
    "    return tf.data.Dataset.from_tensor_slices((features, labels)).batch(batch_size)"
   ]
  },
  {
   "cell_type": "code",
   "execution_count": 117,
   "metadata": {},
   "outputs": [],
   "source": [
    "dataset = numpy_to_ds(features, labels, 1)"
   ]
  },
  {
   "cell_type": "code",
   "execution_count": 157,
   "metadata": {},
   "outputs": [],
   "source": [
    "dataset = dataset.shuffle(len(features))"
   ]
  },
  {
   "cell_type": "code",
   "execution_count": 158,
   "metadata": {},
   "outputs": [],
   "source": [
    "DATASET_SIZE = len(features)\n",
    "\n",
    "train_size = int(0.7 * DATASET_SIZE)\n",
    "val_size = int(0.1 * DATASET_SIZE)\n",
    "test_size = int(0.2 * DATASET_SIZE)\n",
    "\n",
    "train_ds = dataset.take(train_size)\n",
    "test_ds = dataset.skip(train_size)\n",
    "val_ds = dataset.skip(test_size)\n",
    "test_ds = dataset.take(test_size)"
   ]
  },
  {
   "cell_type": "code",
   "execution_count": 159,
   "metadata": {},
   "outputs": [
    {
     "name": "stdout",
     "output_type": "stream",
     "text": [
      "tf.Tensor(\n",
      "[[1.         0.99443337 0.9483217  0.95812562 0.95544201 0.92099535\n",
      "  0.86777999 0.92911266 0.91377534 0.89449153 0.89336989 0.89739116\n",
      "  0.92146062 0.9141326  0.90341476 0.89803922 0.90010801 0.88530243\n",
      "  0.87441841 0.85492689]], shape=(1, 20), dtype=float64) tf.Tensor([[0]], shape=(1, 1), dtype=int32)\n"
     ]
    }
   ],
   "source": [
    "text_batch, label_batch = next(iter(train_ds))\n",
    "print(text_batch, label_batch)"
   ]
  },
  {
   "cell_type": "code",
   "execution_count": 160,
   "metadata": {},
   "outputs": [],
   "source": [
    "AUTOTUNE = tf.data.AUTOTUNE\n",
    "\n",
    "train_ds = train_ds.cache().prefetch(buffer_size=AUTOTUNE)\n",
    "val_ds = val_ds.cache().prefetch(buffer_size=AUTOTUNE)\n",
    "test_ds = test_ds.cache().prefetch(buffer_size=AUTOTUNE)"
   ]
  },
  {
   "cell_type": "code",
   "execution_count": 161,
   "metadata": {},
   "outputs": [
    {
     "name": "stdout",
     "output_type": "stream",
     "text": [
      "Epoch 1/10\n",
      "1403/1403 [==============================] - 7s 4ms/step - loss: 0.6997 - binary_accuracy: 0.5149 - val_loss: 0.6925 - val_binary_accuracy: 0.5143\n",
      "Epoch 2/10\n",
      "1403/1403 [==============================] - 5s 3ms/step - loss: 0.6945 - binary_accuracy: 0.5179 - val_loss: 0.6921 - val_binary_accuracy: 0.5281\n",
      "Epoch 3/10\n",
      "1403/1403 [==============================] - 5s 3ms/step - loss: 0.6940 - binary_accuracy: 0.5136 - val_loss: 0.6922 - val_binary_accuracy: 0.5162\n",
      "Epoch 4/10\n",
      "1403/1403 [==============================] - 5s 3ms/step - loss: 0.6940 - binary_accuracy: 0.4966 - val_loss: 0.6921 - val_binary_accuracy: 0.5162\n",
      "Epoch 5/10\n",
      "1403/1403 [==============================] - 5s 3ms/step - loss: 0.6936 - binary_accuracy: 0.5122 - val_loss: 0.6920 - val_binary_accuracy: 0.5168\n",
      "Epoch 6/10\n",
      "1403/1403 [==============================] - 5s 3ms/step - loss: 0.6940 - binary_accuracy: 0.4990 - val_loss: 0.6922 - val_binary_accuracy: 0.5181\n",
      "Epoch 7/10\n",
      "1403/1403 [==============================] - 5s 3ms/step - loss: 0.6955 - binary_accuracy: 0.4891 - val_loss: 0.6923 - val_binary_accuracy: 0.5162\n",
      "Epoch 8/10\n",
      "1403/1403 [==============================] - 5s 3ms/step - loss: 0.6948 - binary_accuracy: 0.4981 - val_loss: 0.6920 - val_binary_accuracy: 0.5150\n",
      "Epoch 9/10\n",
      "1403/1403 [==============================] - 5s 3ms/step - loss: 0.6942 - binary_accuracy: 0.5066 - val_loss: 0.6921 - val_binary_accuracy: 0.5143\n",
      "Epoch 10/10\n",
      "1403/1403 [==============================] - 5s 3ms/step - loss: 0.6935 - binary_accuracy: 0.5040 - val_loss: 0.6917 - val_binary_accuracy: 0.5256\n"
     ]
    }
   ],
   "source": [
    "model = tf.keras.Sequential([\n",
    "  layers.Reshape((1, 20)),\n",
    "  layers.LSTM(64, return_sequences=True),\n",
    "  layers.Dropout(0.2),\n",
    "  layers.Dense(1)\n",
    "])\n",
    "\n",
    "model.compile(loss=losses.BinaryCrossentropy(from_logits=True),\n",
    "              optimizer=tf.keras.optimizers.Adam(learning_rate=0.001),\n",
    "              metrics=tf.metrics.BinaryAccuracy(threshold=0.0))\n",
    "\n",
    "history = model.fit(train_ds,\n",
    "          validation_data=val_ds,\n",
    "          epochs=10)"
   ]
  },
  {
   "cell_type": "code",
   "execution_count": 162,
   "metadata": {},
   "outputs": [
    {
     "name": "stdout",
     "output_type": "stream",
     "text": [
      "401/401 [==============================] - 1s 1ms/step - loss: 0.6919 - binary_accuracy: 0.5287TA: 0s - loss: 0.6933 - binary_accuracy: 0.\n",
      "Loss:  0.691926896572113\n",
      "Accuracy:  0.528678297996521\n"
     ]
    }
   ],
   "source": [
    "loss, accuracy = model.evaluate(test_ds)\n",
    "\n",
    "print(\"Loss: \", loss)\n",
    "print(\"Accuracy: \", accuracy)"
   ]
  },
  {
   "cell_type": "code",
   "execution_count": 163,
   "metadata": {},
   "outputs": [
    {
     "data": {
      "text/plain": [
       "dict_keys(['loss', 'binary_accuracy', 'val_loss', 'val_binary_accuracy'])"
      ]
     },
     "execution_count": 163,
     "metadata": {},
     "output_type": "execute_result"
    }
   ],
   "source": [
    "history_dict = history.history\n",
    "history_dict.keys()"
   ]
  },
  {
   "cell_type": "code",
   "execution_count": 167,
   "metadata": {},
   "outputs": [
    {
     "data": {
      "image/png": "[encoded data removed]",
      "text/plain": [
       "<Figure size 432x288 with 1 Axes>"
      ]
     },
     "metadata": {
      "needs_background": "light"
     },
     "output_type": "display_data"
    }
   ],
   "source": [
    "loss = history_dict['loss']\n",
    "val_loss = history_dict['val_loss']\n",
    "\n",
    "epochs = range(1, len(loss) + 1)\n",
    "\n",
    "plt.plot(epochs, loss, 'o', color='orange', label='Training Loss')\n",
    "plt.plot(epochs, val_loss, 'blue', label='Validation Loss')\n",
    "plt.title('Trainings- und Validationsloss')\n",
    "plt.xlabel('Epochen')\n",
    "plt.ylabel('Loss')\n",
    "plt.legend()\n",
    "\n",
    "plt.show()"
   ]
  },
  {
   "cell_type": "code",
   "execution_count": 168,
   "metadata": {},
   "outputs": [
    {
     "data": {
      "image/png": "[encoded data removed]",
      "text/plain": [
       "<Figure size 432x288 with 1 Axes>"
      ]
     },
     "metadata": {
      "needs_background": "light"
     },
     "output_type": "display_data"
    }
   ],
   "source": [
    "acc = history_dict['binary_accuracy']\n",
    "val_acc = history_dict['val_binary_accuracy']\n",
    "\n",
    "plt.plot(epochs, acc, 'o', color='orange', label='Training Accuracy')\n",
    "plt.plot(epochs, val_acc, 'blue', label='Validation Accuracy')\n",
    "plt.title('Trainings- und Validationsaccuracy')\n",
    "plt.xlabel('Epochen')\n",
    "plt.ylabel('Accuracy')\n",
    "plt.legend(loc='lower right')\n",
    "\n",
    "plt.show()"
   ]
  },
  {
   "cell_type": "code",
   "execution_count": 166,
   "metadata": {},
   "outputs": [
    {
     "name": "stdout",
     "output_type": "stream",
     "text": [
      "tf.Tensor(\n",
      "[[1.         1.03176604 1.01648195 1.00798682 1.00160052 1.01278327\n",
      "  1.00221291 1.00475145 0.99727279 0.97726808 0.97363827 0.98497663\n",
      "  0.99754047 0.9877764  1.02485069 1.09668539 1.14896349 1.16789628\n",
      "  1.2718021  1.29517067]], shape=(1, 20), dtype=float64)\n",
      "WARNING:tensorflow:8 out of the last 12 calls to <function Model.make_predict_function.<locals>.predict_function at 0x149798488> triggered tf.function retracing. Tracing is expensive and the excessive number of tracings could be due to (1) creating @tf.function repeatedly in a loop, (2) passing tensors with different shapes, (3) passing Python objects instead of tensors. For (1), please define your @tf.function outside of the loop. For (2), @tf.function has experimental_relax_shapes=True option that relaxes argument shapes that can avoid unnecessary retracing. For (3), please refer to https://www.tensorflow.org/guide/function#controlling_retracing and https://www.tensorflow.org/api_docs/python/tf/function for  more details.\n"
     ]
    },
    {
     "data": {
      "text/plain": [
       "array([[[-0.069458]]], dtype=float32)"
      ]
     },
     "execution_count": 166,
     "metadata": {},
     "output_type": "execute_result"
    }
   ],
   "source": [
    "feature_batch, label_batch = next(iter(test_ds))\n",
    "print(feature_batch)\n",
    "\n",
    "model.predict(feature_batch)"
   ]
  },
  {
   "cell_type": "code",
   "execution_count": null,
   "metadata": {},
   "outputs": [],
   "source": []
  }
 ],
 "metadata": {
  "kernelspec": {
   "display_name": "Python 3",
   "language": "python",
   "name": "python3"
  },
  "language_info": {
   "codemirror_mode": {
    "name": "ipython",
    "version": 3
   },
   "file_extension": ".py",
   "mimetype": "text/x-python",
   "name": "python",
   "nbconvert_exporter": "python",
   "pygments_lexer": "ipython3",
   "version": "3.7.3"
  }
 },
 "nbformat": 4,
 "nbformat_minor": 2
}
