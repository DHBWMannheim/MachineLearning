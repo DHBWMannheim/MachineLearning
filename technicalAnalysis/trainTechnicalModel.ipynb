{
 "cells": [
  {
   "cell_type": "code",
   "execution_count": 2,
   "metadata": {},
   "outputs": [],
   "source": [
    "import matplotlib.pyplot as plt\n",
    "import os\n",
    "import re\n",
    "import shutil\n",
    "import string\n",
    "import tensorflow as tf\n",
    "import pandas as pd\n",
    "\n",
    "from tensorflow.keras import layers\n",
    "from tensorflow.keras import losses\n",
    "from tensorflow.keras import preprocessing\n",
    "from tensorflow.keras.layers.experimental.preprocessing import TextVectorization\n",
    "from sklearn.model_selection import train_test_split\n",
    "from sklearn.utils import shuffle\n",
    "from tensorflow import feature_column\n",
    "from tensorflow.keras import layers"
   ]
  },
  {
   "cell_type": "code",
   "execution_count": 73,
   "metadata": {},
   "outputs": [],
   "source": [
    "dataframe = pd.read_csv(\"./ethusd.csv\", usecols=[4], names=[\"price\"], skiprows=1)\n",
    "dataframeNew = pd.read_csv(\"./ethusd.csv\", usecols=[4,7,8,9,10,11,12,13,14,15,16,17,18,19], names=['close','kama','ppo','pvo','roc','macd','rsi','obv','adi','adx','aroon','stoo','boll_mavg','atr'], skiprows=50)"
   ]
  },
  {
   "cell_type": "code",
   "execution_count": 74,
   "metadata": {
    "scrolled": true
   },
   "outputs": [
    {
     "data": {
      "text/html": [
       "<div>\n",
       "<style scoped>\n",
       "    .dataframe tbody tr th:only-of-type {\n",
       "        vertical-align: middle;\n",
       "    }\n",
       "\n",
       "    .dataframe tbody tr th {\n",
       "        vertical-align: top;\n",
       "    }\n",
       "\n",
       "    .dataframe thead th {\n",
       "        text-align: right;\n",
       "    }\n",
       "</style>\n",
       "<table border=\"1\" class=\"dataframe\">\n",
       "  <thead>\n",
       "    <tr style=\"text-align: right;\">\n",
       "      <th></th>\n",
       "      <th>price</th>\n",
       "    </tr>\n",
       "  </thead>\n",
       "  <tbody>\n",
       "    <tr>\n",
       "      <th>0</th>\n",
       "      <td>2.772120</td>\n",
       "    </tr>\n",
       "    <tr>\n",
       "      <th>1</th>\n",
       "      <td>0.753325</td>\n",
       "    </tr>\n",
       "    <tr>\n",
       "      <th>2</th>\n",
       "      <td>0.701897</td>\n",
       "    </tr>\n",
       "    <tr>\n",
       "      <th>3</th>\n",
       "      <td>0.708448</td>\n",
       "    </tr>\n",
       "    <tr>\n",
       "      <th>4</th>\n",
       "      <td>1.067860</td>\n",
       "    </tr>\n",
       "  </tbody>\n",
       "</table>\n",
       "</div>"
      ],
      "text/plain": [
       "      price\n",
       "0  2.772120\n",
       "1  0.753325\n",
       "2  0.701897\n",
       "3  0.708448\n",
       "4  1.067860"
      ]
     },
     "execution_count": 74,
     "metadata": {},
     "output_type": "execute_result"
    }
   ],
   "source": [
    "dataframe.head()"
   ]
  },
  {
   "cell_type": "code",
   "execution_count": 75,
   "metadata": {},
   "outputs": [
    {
     "data": {
      "text/html": [
       "<div>\n",
       "<style scoped>\n",
       "    .dataframe tbody tr th:only-of-type {\n",
       "        vertical-align: middle;\n",
       "    }\n",
       "\n",
       "    .dataframe tbody tr th {\n",
       "        vertical-align: top;\n",
       "    }\n",
       "\n",
       "    .dataframe thead th {\n",
       "        text-align: right;\n",
       "    }\n",
       "</style>\n",
       "<table border=\"1\" class=\"dataframe\">\n",
       "  <thead>\n",
       "    <tr style=\"text-align: right;\">\n",
       "      <th></th>\n",
       "      <th>close</th>\n",
       "      <th>kama</th>\n",
       "      <th>ppo</th>\n",
       "      <th>pvo</th>\n",
       "      <th>roc</th>\n",
       "      <th>macd</th>\n",
       "      <th>rsi</th>\n",
       "      <th>obv</th>\n",
       "      <th>adi</th>\n",
       "      <th>adx</th>\n",
       "      <th>aroon</th>\n",
       "      <th>stoo</th>\n",
       "      <th>boll_mavg</th>\n",
       "      <th>atr</th>\n",
       "    </tr>\n",
       "  </thead>\n",
       "  <tbody>\n",
       "    <tr>\n",
       "      <th>0</th>\n",
       "      <td>0.736223</td>\n",
       "      <td>0.923450</td>\n",
       "      <td>-13.579212</td>\n",
       "      <td>-12.723064</td>\n",
       "      <td>-21.343949</td>\n",
       "      <td>-0.140973</td>\n",
       "      <td>28.901290</td>\n",
       "      <td>-6504737.0</td>\n",
       "      <td>-5.660970e+06</td>\n",
       "      <td>27.838781</td>\n",
       "      <td>-96.0</td>\n",
       "      <td>5.838193</td>\n",
       "      <td>0.982748</td>\n",
       "      <td>0.122810</td>\n",
       "    </tr>\n",
       "    <tr>\n",
       "      <th>1</th>\n",
       "      <td>0.785964</td>\n",
       "      <td>0.914750</td>\n",
       "      <td>-13.673968</td>\n",
       "      <td>-15.242475</td>\n",
       "      <td>-10.239350</td>\n",
       "      <td>-0.139402</td>\n",
       "      <td>33.370985</td>\n",
       "      <td>-6135117.0</td>\n",
       "      <td>-5.306283e+06</td>\n",
       "      <td>28.670630</td>\n",
       "      <td>-80.0</td>\n",
       "      <td>22.793951</td>\n",
       "      <td>0.957254</td>\n",
       "      <td>0.119625</td>\n",
       "    </tr>\n",
       "    <tr>\n",
       "      <th>2</th>\n",
       "      <td>0.720839</td>\n",
       "      <td>0.899199</td>\n",
       "      <td>-14.215479</td>\n",
       "      <td>-16.668281</td>\n",
       "      <td>-23.673087</td>\n",
       "      <td>-0.141778</td>\n",
       "      <td>30.653805</td>\n",
       "      <td>-6548918.0</td>\n",
       "      <td>-5.700917e+06</td>\n",
       "      <td>29.395340</td>\n",
       "      <td>-88.0</td>\n",
       "      <td>3.423733</td>\n",
       "      <td>0.930964</td>\n",
       "      <td>0.116231</td>\n",
       "    </tr>\n",
       "    <tr>\n",
       "      <th>3</th>\n",
       "      <td>0.582886</td>\n",
       "      <td>0.856690</td>\n",
       "      <td>-15.830843</td>\n",
       "      <td>-6.140717</td>\n",
       "      <td>-35.747127</td>\n",
       "      <td>-0.153029</td>\n",
       "      <td>25.851933</td>\n",
       "      <td>-7869808.0</td>\n",
       "      <td>-6.617209e+06</td>\n",
       "      <td>30.868068</td>\n",
       "      <td>-92.0</td>\n",
       "      <td>5.286625</td>\n",
       "      <td>0.897987</td>\n",
       "      <td>0.119972</td>\n",
       "    </tr>\n",
       "    <tr>\n",
       "      <th>4</th>\n",
       "      <td>0.661146</td>\n",
       "      <td>0.840180</td>\n",
       "      <td>-16.298015</td>\n",
       "      <td>-3.083363</td>\n",
       "      <td>-24.373993</td>\n",
       "      <td>-0.153856</td>\n",
       "      <td>32.328235</td>\n",
       "      <td>-6955816.0</td>\n",
       "      <td>-5.931692e+06</td>\n",
       "      <td>32.235600</td>\n",
       "      <td>-92.0</td>\n",
       "      <td>26.003837</td>\n",
       "      <td>0.870718</td>\n",
       "      <td>0.119795</td>\n",
       "    </tr>\n",
       "  </tbody>\n",
       "</table>\n",
       "</div>"
      ],
      "text/plain": [
       "      close      kama        ppo        pvo        roc      macd        rsi  \\\n",
       "0  0.736223  0.923450 -13.579212 -12.723064 -21.343949 -0.140973  28.901290   \n",
       "1  0.785964  0.914750 -13.673968 -15.242475 -10.239350 -0.139402  33.370985   \n",
       "2  0.720839  0.899199 -14.215479 -16.668281 -23.673087 -0.141778  30.653805   \n",
       "3  0.582886  0.856690 -15.830843  -6.140717 -35.747127 -0.153029  25.851933   \n",
       "4  0.661146  0.840180 -16.298015  -3.083363 -24.373993 -0.153856  32.328235   \n",
       "\n",
       "         obv           adi        adx  aroon       stoo  boll_mavg       atr  \n",
       "0 -6504737.0 -5.660970e+06  27.838781  -96.0   5.838193   0.982748  0.122810  \n",
       "1 -6135117.0 -5.306283e+06  28.670630  -80.0  22.793951   0.957254  0.119625  \n",
       "2 -6548918.0 -5.700917e+06  29.395340  -88.0   3.423733   0.930964  0.116231  \n",
       "3 -7869808.0 -6.617209e+06  30.868068  -92.0   5.286625   0.897987  0.119972  \n",
       "4 -6955816.0 -5.931692e+06  32.235600  -92.0  26.003837   0.870718  0.119795  "
      ]
     },
     "execution_count": 75,
     "metadata": {},
     "output_type": "execute_result"
    }
   ],
   "source": [
    "dataframeNew.head()"
   ]
  },
  {
   "cell_type": "code",
   "execution_count": 80,
   "metadata": {},
   "outputs": [
    {
     "data": {
      "text/html": [
       "<div>\n",
       "<style scoped>\n",
       "    .dataframe tbody tr th:only-of-type {\n",
       "        vertical-align: middle;\n",
       "    }\n",
       "\n",
       "    .dataframe tbody tr th {\n",
       "        vertical-align: top;\n",
       "    }\n",
       "\n",
       "    .dataframe thead th {\n",
       "        text-align: right;\n",
       "    }\n",
       "</style>\n",
       "<table border=\"1\" class=\"dataframe\">\n",
       "  <thead>\n",
       "    <tr style=\"text-align: right;\">\n",
       "      <th></th>\n",
       "      <th>close</th>\n",
       "      <th>kama</th>\n",
       "      <th>ppo</th>\n",
       "      <th>pvo</th>\n",
       "      <th>roc</th>\n",
       "      <th>macd</th>\n",
       "      <th>rsi</th>\n",
       "      <th>obv</th>\n",
       "      <th>adi</th>\n",
       "      <th>adx</th>\n",
       "      <th>aroon</th>\n",
       "      <th>stoo</th>\n",
       "      <th>boll_mavg</th>\n",
       "      <th>atr</th>\n",
       "    </tr>\n",
       "  </thead>\n",
       "  <tbody>\n",
       "    <tr>\n",
       "      <th>0</th>\n",
       "      <td>0.736223</td>\n",
       "      <td>0.923450</td>\n",
       "      <td>-13.579212</td>\n",
       "      <td>-12.723064</td>\n",
       "      <td>-21.343949</td>\n",
       "      <td>-0.140973</td>\n",
       "      <td>28.901290</td>\n",
       "      <td>-6.504737e+06</td>\n",
       "      <td>-5.660970e+06</td>\n",
       "      <td>27.838781</td>\n",
       "      <td>-96.0</td>\n",
       "      <td>5.838193</td>\n",
       "      <td>0.982748</td>\n",
       "      <td>0.122810</td>\n",
       "    </tr>\n",
       "    <tr>\n",
       "      <th>1</th>\n",
       "      <td>0.785964</td>\n",
       "      <td>0.914750</td>\n",
       "      <td>-13.673968</td>\n",
       "      <td>-15.242475</td>\n",
       "      <td>-10.239350</td>\n",
       "      <td>-0.139402</td>\n",
       "      <td>33.370985</td>\n",
       "      <td>-6.135117e+06</td>\n",
       "      <td>-5.306283e+06</td>\n",
       "      <td>28.670630</td>\n",
       "      <td>-80.0</td>\n",
       "      <td>22.793951</td>\n",
       "      <td>0.957254</td>\n",
       "      <td>0.119625</td>\n",
       "    </tr>\n",
       "    <tr>\n",
       "      <th>2</th>\n",
       "      <td>0.720839</td>\n",
       "      <td>0.899199</td>\n",
       "      <td>-14.215479</td>\n",
       "      <td>-16.668281</td>\n",
       "      <td>-23.673087</td>\n",
       "      <td>-0.141778</td>\n",
       "      <td>30.653805</td>\n",
       "      <td>-6.548918e+06</td>\n",
       "      <td>-5.700917e+06</td>\n",
       "      <td>29.395340</td>\n",
       "      <td>-88.0</td>\n",
       "      <td>3.423733</td>\n",
       "      <td>0.930964</td>\n",
       "      <td>0.116231</td>\n",
       "    </tr>\n",
       "    <tr>\n",
       "      <th>3</th>\n",
       "      <td>0.582886</td>\n",
       "      <td>0.856690</td>\n",
       "      <td>-15.830843</td>\n",
       "      <td>-6.140717</td>\n",
       "      <td>-35.747127</td>\n",
       "      <td>-0.153029</td>\n",
       "      <td>25.851933</td>\n",
       "      <td>-7.869808e+06</td>\n",
       "      <td>-6.617209e+06</td>\n",
       "      <td>30.868068</td>\n",
       "      <td>-92.0</td>\n",
       "      <td>5.286625</td>\n",
       "      <td>0.897987</td>\n",
       "      <td>0.119972</td>\n",
       "    </tr>\n",
       "    <tr>\n",
       "      <th>4</th>\n",
       "      <td>0.661146</td>\n",
       "      <td>0.840180</td>\n",
       "      <td>-16.298015</td>\n",
       "      <td>-3.083363</td>\n",
       "      <td>-24.373993</td>\n",
       "      <td>-0.153856</td>\n",
       "      <td>32.328235</td>\n",
       "      <td>-6.955816e+06</td>\n",
       "      <td>-5.931692e+06</td>\n",
       "      <td>32.235600</td>\n",
       "      <td>-92.0</td>\n",
       "      <td>26.003837</td>\n",
       "      <td>0.870718</td>\n",
       "      <td>0.119795</td>\n",
       "    </tr>\n",
       "    <tr>\n",
       "      <th>...</th>\n",
       "      <td>...</td>\n",
       "      <td>...</td>\n",
       "      <td>...</td>\n",
       "      <td>...</td>\n",
       "      <td>...</td>\n",
       "      <td>...</td>\n",
       "      <td>...</td>\n",
       "      <td>...</td>\n",
       "      <td>...</td>\n",
       "      <td>...</td>\n",
       "      <td>...</td>\n",
       "      <td>...</td>\n",
       "      <td>...</td>\n",
       "      <td>...</td>\n",
       "    </tr>\n",
       "    <tr>\n",
       "      <th>1972</th>\n",
       "      <td>1935.601074</td>\n",
       "      <td>1783.478243</td>\n",
       "      <td>8.871710</td>\n",
       "      <td>-6.680036</td>\n",
       "      <td>9.477529</td>\n",
       "      <td>149.944851</td>\n",
       "      <td>69.022841</td>\n",
       "      <td>1.234941e+12</td>\n",
       "      <td>1.529547e+12</td>\n",
       "      <td>31.465398</td>\n",
       "      <td>88.0</td>\n",
       "      <td>78.333547</td>\n",
       "      <td>1772.453857</td>\n",
       "      <td>122.700049</td>\n",
       "    </tr>\n",
       "    <tr>\n",
       "      <th>1973</th>\n",
       "      <td>1781.992920</td>\n",
       "      <td>1783.446555</td>\n",
       "      <td>7.908499</td>\n",
       "      <td>-3.963375</td>\n",
       "      <td>2.164234</td>\n",
       "      <td>134.203235</td>\n",
       "      <td>56.186023</td>\n",
       "      <td>1.192531e+12</td>\n",
       "      <td>1.535137e+12</td>\n",
       "      <td>29.766826</td>\n",
       "      <td>76.0</td>\n",
       "      <td>44.192242</td>\n",
       "      <td>1785.793817</td>\n",
       "      <td>139.351985</td>\n",
       "    </tr>\n",
       "    <tr>\n",
       "      <th>1974</th>\n",
       "      <td>1570.203979</td>\n",
       "      <td>1764.869591</td>\n",
       "      <td>6.129902</td>\n",
       "      <td>0.269751</td>\n",
       "      <td>-11.974114</td>\n",
       "      <td>103.445835</td>\n",
       "      <td>44.027908</td>\n",
       "      <td>1.140501e+12</td>\n",
       "      <td>1.532573e+12</td>\n",
       "      <td>29.455699</td>\n",
       "      <td>76.0</td>\n",
       "      <td>29.107055</td>\n",
       "      <td>1781.258539</td>\n",
       "      <td>158.194842</td>\n",
       "    </tr>\n",
       "    <tr>\n",
       "      <th>1975</th>\n",
       "      <td>1626.575684</td>\n",
       "      <td>1758.076427</td>\n",
       "      <td>4.911708</td>\n",
       "      <td>-0.997715</td>\n",
       "      <td>-11.768542</td>\n",
       "      <td>82.666174</td>\n",
       "      <td>47.296920</td>\n",
       "      <td>1.171830e+12</td>\n",
       "      <td>1.537453e+12</td>\n",
       "      <td>29.166796</td>\n",
       "      <td>76.0</td>\n",
       "      <td>37.681408</td>\n",
       "      <td>1782.849188</td>\n",
       "      <td>161.178413</td>\n",
       "    </tr>\n",
       "    <tr>\n",
       "      <th>1976</th>\n",
       "      <td>1523.094360</td>\n",
       "      <td>1741.289845</td>\n",
       "      <td>3.422031</td>\n",
       "      <td>3.765211</td>\n",
       "      <td>-16.041779</td>\n",
       "      <td>57.188828</td>\n",
       "      <td>42.401280</td>\n",
       "      <td>1.113412e+12</td>\n",
       "      <td>1.595387e+12</td>\n",
       "      <td>29.428960</td>\n",
       "      <td>72.0</td>\n",
       "      <td>21.941500</td>\n",
       "      <td>1773.071362</td>\n",
       "      <td>165.076044</td>\n",
       "    </tr>\n",
       "  </tbody>\n",
       "</table>\n",
       "<p>1977 rows × 14 columns</p>\n",
       "</div>"
      ],
      "text/plain": [
       "            close         kama        ppo        pvo        roc        macd  \\\n",
       "0        0.736223     0.923450 -13.579212 -12.723064 -21.343949   -0.140973   \n",
       "1        0.785964     0.914750 -13.673968 -15.242475 -10.239350   -0.139402   \n",
       "2        0.720839     0.899199 -14.215479 -16.668281 -23.673087   -0.141778   \n",
       "3        0.582886     0.856690 -15.830843  -6.140717 -35.747127   -0.153029   \n",
       "4        0.661146     0.840180 -16.298015  -3.083363 -24.373993   -0.153856   \n",
       "...           ...          ...        ...        ...        ...         ...   \n",
       "1972  1935.601074  1783.478243   8.871710  -6.680036   9.477529  149.944851   \n",
       "1973  1781.992920  1783.446555   7.908499  -3.963375   2.164234  134.203235   \n",
       "1974  1570.203979  1764.869591   6.129902   0.269751 -11.974114  103.445835   \n",
       "1975  1626.575684  1758.076427   4.911708  -0.997715 -11.768542   82.666174   \n",
       "1976  1523.094360  1741.289845   3.422031   3.765211 -16.041779   57.188828   \n",
       "\n",
       "            rsi           obv           adi        adx  aroon       stoo  \\\n",
       "0     28.901290 -6.504737e+06 -5.660970e+06  27.838781  -96.0   5.838193   \n",
       "1     33.370985 -6.135117e+06 -5.306283e+06  28.670630  -80.0  22.793951   \n",
       "2     30.653805 -6.548918e+06 -5.700917e+06  29.395340  -88.0   3.423733   \n",
       "3     25.851933 -7.869808e+06 -6.617209e+06  30.868068  -92.0   5.286625   \n",
       "4     32.328235 -6.955816e+06 -5.931692e+06  32.235600  -92.0  26.003837   \n",
       "...         ...           ...           ...        ...    ...        ...   \n",
       "1972  69.022841  1.234941e+12  1.529547e+12  31.465398   88.0  78.333547   \n",
       "1973  56.186023  1.192531e+12  1.535137e+12  29.766826   76.0  44.192242   \n",
       "1974  44.027908  1.140501e+12  1.532573e+12  29.455699   76.0  29.107055   \n",
       "1975  47.296920  1.171830e+12  1.537453e+12  29.166796   76.0  37.681408   \n",
       "1976  42.401280  1.113412e+12  1.595387e+12  29.428960   72.0  21.941500   \n",
       "\n",
       "        boll_mavg         atr  \n",
       "0        0.982748    0.122810  \n",
       "1        0.957254    0.119625  \n",
       "2        0.930964    0.116231  \n",
       "3        0.897987    0.119972  \n",
       "4        0.870718    0.119795  \n",
       "...           ...         ...  \n",
       "1972  1772.453857  122.700049  \n",
       "1973  1785.793817  139.351985  \n",
       "1974  1781.258539  158.194842  \n",
       "1975  1782.849188  161.178413  \n",
       "1976  1773.071362  165.076044  \n",
       "\n",
       "[1977 rows x 14 columns]"
      ]
     },
     "execution_count": 80,
     "metadata": {},
     "output_type": "execute_result"
    }
   ],
   "source": [
    "dataframeNew"
   ]
  },
  {
   "cell_type": "code",
   "execution_count": 76,
   "metadata": {},
   "outputs": [
    {
     "data": {
      "image/png": "[encoded data removed]",
      "text/plain": [
       "<Figure size 432x288 with 1 Axes>"
      ]
     },
     "metadata": {
      "needs_background": "light"
     },
     "output_type": "display_data"
    }
   ],
   "source": [
    "prices = dataframe['price'].to_numpy()\n",
    "\n",
    "days = range(1, len(prices) + 1)\n",
    "\n",
    "plt.plot(days, prices, 'blue', label='Price')\n",
    "plt.title('ETH USD Price')\n",
    "plt.xlabel('Tage')\n",
    "plt.ylabel('Preis')\n",
    "plt.legend()\n",
    "\n",
    "plt.show()"
   ]
  },
  {
   "cell_type": "code",
   "execution_count": 78,
   "metadata": {},
   "outputs": [
    {
     "data": {
      "image/png": "[encoded data removed]",
      "text/plain": [
       "<Figure size 432x288 with 1 Axes>"
      ]
     },
     "metadata": {
      "needs_background": "light"
     },
     "output_type": "display_data"
    }
   ],
   "source": [
    "prices = dataframeNew['close'].to_numpy()\n",
    "kama = dataframeNew['kama'].to_numpy()\n",
    "ppo = dataframeNew['ppo'].to_numpy()\n",
    "pvo = dataframeNew['pvo'].to_numpy()\n",
    "roc = dataframeNew['roc'].to_numpy()\n",
    "macd = dataframeNew['macd'].to_numpy()\n",
    "rsi = dataframeNew['rsi'].to_numpy()\n",
    "obv = dataframeNew['obv'].to_numpy()\n",
    "adi = dataframeNew['adi'].to_numpy()\n",
    "adx = dataframeNew['adx'].to_numpy()\n",
    "aroon = dataframeNew['aroon'].to_numpy()\n",
    "stoo = dataframeNew['stoo'].to_numpy()\n",
    "boll_mavg = dataframeNew['boll_mavg'].to_numpy()\n",
    "atr = dataframeNew['atr'].to_numpy()\n",
    "\n",
    "days = range(1, len(prices) + 1)\n",
    "\n",
    "plt.plot(days, prices, 'blue', label='Price')\n",
    "plt.plot(days, kama, 'red', label='kama')\n",
    "plt.plot(days, ppo, 'green', label='ppo')\n",
    "plt.plot(days, pvo, 'yellow', label='pvo')\n",
    "plt.plot(days, roc, 'purple', label='roc')\n",
    "plt.plot(days, macd, 'orange', label='macd')\n",
    "plt.plot(days, rsi, 'black', label='rsi')\n",
    "plt.plot(days, obv, 'pink', label='obv')\n",
    "plt.plot(days, adi, 'grey', label='adi')\n",
    "plt.plot(days, adx, 'brown', label='adx')\n",
    "plt.plot(days, aroon, 'olive', label='aroon')\n",
    "plt.plot(days, stoo, 'gold', label='stoo')\n",
    "plt.plot(days, boll_mavg, 'tomato', label='boll_mavg')\n",
    "plt.plot(days, atr, 'lime', label='atr')\n",
    "plt.title('ETH USD Price with indicators')\n",
    "plt.xlabel('Tage')\n",
    "plt.ylabel('Preis')\n",
    "plt.legend()\n",
    "\n",
    "plt.show()"
   ]
  },
  {
   "cell_type": "code",
   "execution_count": 79,
   "metadata": {},
   "outputs": [],
   "source": [
    "features = []\n",
    "labels = []\n",
    "\n",
    "for i in range(20, len(prices)):\n",
    "    if (i+1 <= len(prices)-1):\n",
    "        feature = prices[i-20:i]\n",
    "        normalized_prices = []\n",
    "        \n",
    "        for q in range(20):\n",
    "            normalized_prices.append(feature[q] / feature[0])\n",
    "        \n",
    "        features.append(normalized_prices)\n",
    "        \n",
    "        next_price = prices[i]\n",
    "        \n",
    "        if (next_price > prices[i+1]):\n",
    "            labels.append([1])\n",
    "        else:\n",
    "            labels.append([0])\n",
    "            "
   ]
  },
  {
   "cell_type": "code",
   "execution_count": 83,
   "metadata": {},
   "outputs": [],
   "source": [
    "features = []\n",
    "labels = []\n",
    "\n",
    "for i in range(20, len(prices)):\n",
    "    if (i+1 <= len(prices)-1):\n",
    "        feature = []\n",
    "        prices_n = prices[i-20:i]\n",
    "        kama_n = kama[i-20:i]\n",
    "        ppo_n = ppo[i-20:i]\n",
    "        pvo_n = pvo[i-20:i]\n",
    "        roc_n = roc[i-20:i]\n",
    "        macd_n = macd[i-20:i]\n",
    "        rsi_n = rsi[i-20:i]\n",
    "        obv_n = obv[i-20:i]\n",
    "        adi_n = adi[i-20:i]\n",
    "        adx_n = adx[i-20:i]\n",
    "        aroon_n = aroon[i-20:i]\n",
    "        stoo_n = stoo[i-20:i]\n",
    "        boll_mavg_n = boll_mavg[i-20:i]\n",
    "        atr_n = atr[i-20:i]\n",
    "        normalized_prices = []\n",
    "        normalized_kama = []\n",
    "        normalized_ppo = []\n",
    "        normalized_pvo = []\n",
    "        normalized_roc = []\n",
    "        normalized_macd = []\n",
    "        normalized_rsi = []\n",
    "        normalized_obv = []\n",
    "        normalized_adi = []\n",
    "        normalized_adx = []\n",
    "        normalized_aroon = []\n",
    "        normalized_stoo = []\n",
    "        normalized_boll_mavg = []\n",
    "        normalized_atr= []\n",
    "    \n",
    "        for q in range(20):\n",
    "            normalized_prices.append(prices_n[q] / prices_n[0])\n",
    "            #normalized_kama.append(kama_n[q] / kama_n[0])\n",
    "            #normalized_ppo.append(ppo_n[q] / ppo_n[0])\n",
    "            #normalized_pvo.append(pvo_n[q] / pvo_n[0])\n",
    "            #normalized_roc.append(roc_n[q] / roc_n[0])\n",
    "            normalized_macd.append(macd_n[q] / macd_n[0])\n",
    "            #normalized_rsi.append(rsi_n[q] / rsi_n[0])\n",
    "            #normalized_obv.append(obv_n[q] / obv_n[0])\n",
    "            #normalized_adi.append(adi_n[q] / adi_n[0])\n",
    "            #normalized_adx.append(adx_n[q] / adx_n[0])\n",
    "            #normalized_aroon.append(aroon_n[q] / aroon_n[0])\n",
    "            #normalized_stoo.append(stoo_n[q] / stoo_n[0])\n",
    "            #normalized_boll_mavg.append(boll_mavg_n[q] / boll_mavg_n[0])\n",
    "            #normalized_atr.append(atr_n[q] / atr_n[0])\n",
    "            \n",
    "        feature.append(normalized_prices)\n",
    "        #feature.append(normalized_kama)\n",
    "        #feature.append(normalized_ppo)\n",
    "        #feature.append(normalized_pvo)\n",
    "        #feature.append(normalized_roc)\n",
    "        feature.append(normalized_macd)\n",
    "        #feature.append(normalized_rsi)\n",
    "        #feature.append(normalized_obv)\n",
    "        #feature.append(normalized_adi)\n",
    "        #feature.append(normalized_adx)\n",
    "        #feature.append(normalized_aroon)\n",
    "        #feature.append(normalized_stoo)\n",
    "        #feature.append(normalized_boll_mavg)\n",
    "        #feature.append(normalized_atr)\n",
    "    \n",
    "        \n",
    "        features.append(feature)\n",
    "        \n",
    "        next_price = prices[i]\n",
    "        \n",
    "        label = []\n",
    "        for j in range(2):\n",
    "            if (next_price > prices[i+1]):\n",
    "                label.append([1])\n",
    "            else:\n",
    "                label.append([0])\n",
    "        labels.append(label)"
   ]
  },
  {
   "cell_type": "code",
   "execution_count": 84,
   "metadata": {},
   "outputs": [
    {
     "name": "stdout",
     "output_type": "stream",
     "text": [
      "[[1.0, 1.0675624097589997, 0.9791041573001659, 0.7917247899074058, 0.8980241041097603, 1.0032884058226923, 0.9375080648118844, 0.921696279524003, 0.9333734479906224, 0.9078485730546315, 0.8538757957847012, 0.8837607627036917, 0.8277220353072372, 0.8444669617765269, 0.8837376718738752, 0.8528081844767142, 0.8624601513400153, 0.850326599413493, 0.8253681289500601, 0.7103391227929582], [1.0, 0.9888584401822896, 1.005712481745037, 1.085519445877187, 1.0913907609411952, 1.039699568114767, 1.014756817417962, 0.9902378783518491, 0.9548783444541225, 0.9269270137890424, 0.9169499273217516, 0.8862332976599341, 0.8754140993668389, 0.8499852560413894, 0.8040155236616998, 0.771722187050032, 0.7336055190986257, 0.7004367647341908, 0.6768655085027536, 0.6986061905045601]]\n",
      "[[1], [1]]\n",
      "[[1.0, 0.9171399707874661, 0.7416192090222962, 0.8411911995969281, 0.9397936801176644, 0.8781763541332681, 0.8633652431918002, 0.8743034032093072, 0.850393911171504, 0.799836888203531, 0.8278305367675873, 0.7753383106605393, 0.7910235074379997, 0.8278089072781959, 0.7988368423999064, 0.8078779689654998, 0.7965123084517866, 0.7731333750655247, 0.6653841651780489, 0.7148902494261824], [1.0, 1.017043937613194, 1.0977500942168008, 1.1036875619325295, 1.0514139596392635, 1.0261901766555162, 1.0013949804274362, 0.9656370473797007, 0.9373707864779608, 0.9272812872515077, 0.8962185704725975, 0.8852774712682454, 0.8595621188050943, 0.8130744411844073, 0.7804172525521146, 0.7418711205654374, 0.708328650767313, 0.6844918150043579, 0.7064774512879484, 0.6933855941846897]]\n",
      "[[0], [0]]\n",
      "[[1.0, 0.8086216200843739, 0.9171895527295277, 1.024700383858254, 0.9575161721272016, 0.9413669349188931, 0.9532933151508173, 0.9272236935016002, 0.872099040146274, 0.9026218059788663, 0.8453871114076792, 0.8624894047075699, 0.9025982223492347, 0.8710086440938961, 0.8808666012798975, 0.8684740975446666, 0.842982968457589, 0.7254990365393659, 0.7794778029490635, 0.7442646693644488], [1.0, 1.0793536578105059, 1.085191623601505, 1.033794038541471, 1.0089929635329096, 0.9846132928902926, 0.9494546023703407, 0.9216620362319737, 0.911741619961531, 0.881199461820548, 0.8704417169486512, 0.8451573103344197, 0.7994486876275338, 0.7673387782868097, 0.7294386143301398, 0.6964582596398182, 0.6730208889605381, 0.6946380831352427, 0.6817656234320928, 0.6781928249125685]]\n",
      "[[1], [1]]\n"
     ]
    }
   ],
   "source": [
    "for i in range(3):\n",
    "    print(features[i])\n",
    "    print(labels[i])"
   ]
  },
  {
   "cell_type": "code",
   "execution_count": 85,
   "metadata": {},
   "outputs": [],
   "source": [
    "def numpy_to_ds(features, labels, batch_size):\n",
    "    return tf.data.Dataset.from_tensor_slices((features, labels)).batch(batch_size)"
   ]
  },
  {
   "cell_type": "code",
   "execution_count": 86,
   "metadata": {},
   "outputs": [],
   "source": [
    "dataset = numpy_to_ds(features, labels, 1)"
   ]
  },
  {
   "cell_type": "code",
   "execution_count": 87,
   "metadata": {},
   "outputs": [],
   "source": [
    "dataset = dataset.shuffle(len(features))"
   ]
  },
  {
   "cell_type": "code",
   "execution_count": 88,
   "metadata": {},
   "outputs": [],
   "source": [
    "DATASET_SIZE = len(features)\n",
    "\n",
    "train_size = int(0.7 * DATASET_SIZE)\n",
    "val_size = int(0.1 * DATASET_SIZE)\n",
    "test_size = int(0.2 * DATASET_SIZE)\n",
    "\n",
    "train_ds = dataset.take(train_size)\n",
    "test_ds = dataset.skip(train_size)\n",
    "val_ds = dataset.skip(test_size)\n",
    "test_ds = dataset.take(test_size)"
   ]
  },
  {
   "cell_type": "code",
   "execution_count": 89,
   "metadata": {},
   "outputs": [
    {
     "name": "stdout",
     "output_type": "stream",
     "text": [
      "tf.Tensor(\n",
      "[[[ 1.          1.10411592  1.0439265   1.05688098  1.05854786\n",
      "    1.03517994  1.06519554  1.02204513  1.00222458  1.01582362\n",
      "    1.00474604  1.00397853  0.99555627  0.99650066  0.97012335\n",
      "    0.91182186  0.90333787  0.93164743  0.91585135  0.92054584]\n",
      "  [ 1.          0.68559344  0.16970147 -0.18008544 -0.44483392\n",
      "   -0.74880995 -0.84790386 -1.1035294  -1.3774247  -1.51717896\n",
      "   -1.65755694 -1.75198788 -1.84263288 -1.88854547 -2.01770344\n",
      "   -2.34944068 -2.61946932 -2.67806736 -2.7621515  -2.77613671]]], shape=(1, 2, 20), dtype=float64) tf.Tensor(\n",
      "[[[1]\n",
      "  [1]]], shape=(1, 2, 1), dtype=int32)\n"
     ]
    }
   ],
   "source": [
    "text_batch, label_batch = next(iter(train_ds))\n",
    "print(text_batch, label_batch)"
   ]
  },
  {
   "cell_type": "code",
   "execution_count": 90,
   "metadata": {},
   "outputs": [],
   "source": [
    "AUTOTUNE = tf.data.AUTOTUNE\n",
    "\n",
    "train_ds = train_ds.cache().prefetch(buffer_size=AUTOTUNE)\n",
    "val_ds = val_ds.cache().prefetch(buffer_size=AUTOTUNE)\n",
    "test_ds = test_ds.cache().prefetch(buffer_size=AUTOTUNE)"
   ]
  },
  {
   "cell_type": "code",
   "execution_count": 91,
   "metadata": {},
   "outputs": [
    {
     "name": "stdout",
     "output_type": "stream",
     "text": [
      "Epoch 1/10\n",
      "1369/1369 [==============================] - 6s 3ms/step - loss: 0.7023 - binary_accuracy: 0.5026 - val_loss: 0.6923 - val_binary_accuracy: 0.5153\n",
      "Epoch 2/10\n",
      "1369/1369 [==============================] - 3s 2ms/step - loss: 0.6947 - binary_accuracy: 0.5086 - val_loss: 0.6923 - val_binary_accuracy: 0.5173\n",
      "Epoch 3/10\n",
      "1369/1369 [==============================] - 3s 2ms/step - loss: 0.6935 - binary_accuracy: 0.5077 - val_loss: 0.6928 - val_binary_accuracy: 0.5157\n",
      "Epoch 4/10\n",
      "1369/1369 [==============================] - 3s 2ms/step - loss: 0.6955 - binary_accuracy: 0.5094 - val_loss: 0.6924 - val_binary_accuracy: 0.5157\n",
      "Epoch 5/10\n",
      "1369/1369 [==============================] - 3s 2ms/step - loss: 0.6935 - binary_accuracy: 0.5141 - val_loss: 0.6926 - val_binary_accuracy: 0.5141\n",
      "Epoch 6/10\n",
      "1369/1369 [==============================] - 3s 3ms/step - loss: 0.6936 - binary_accuracy: 0.5108 - val_loss: 0.6934 - val_binary_accuracy: 0.5147\n",
      "Epoch 7/10\n",
      "1369/1369 [==============================] - 4s 3ms/step - loss: 0.6942 - binary_accuracy: 0.5058 - val_loss: 0.6924 - val_binary_accuracy: 0.5160\n",
      "Epoch 8/10\n",
      "1369/1369 [==============================] - 3s 2ms/step - loss: 0.6931 - binary_accuracy: 0.5152 - val_loss: 0.6925 - val_binary_accuracy: 0.5166\n",
      "Epoch 9/10\n",
      "1369/1369 [==============================] - 3s 3ms/step - loss: 0.6928 - binary_accuracy: 0.5047 - val_loss: 0.6920 - val_binary_accuracy: 0.5185\n",
      "Epoch 10/10\n",
      "1369/1369 [==============================] - 4s 3ms/step - loss: 0.6924 - binary_accuracy: 0.5093 - val_loss: 0.6912 - val_binary_accuracy: 0.5208\n"
     ]
    }
   ],
   "source": [
    "model = tf.keras.Sequential([\n",
    "  layers.Reshape((2, 20)),\n",
    "  layers.LSTM(64, return_sequences=True),\n",
    "  layers.Dropout(0.2),\n",
    "  layers.Dense(1)\n",
    "])\n",
    "\n",
    "model.compile(loss=losses.BinaryCrossentropy(from_logits=True),\n",
    "              optimizer=tf.keras.optimizers.Adam(learning_rate=0.001),\n",
    "              metrics=tf.metrics.BinaryAccuracy(threshold=0.0))\n",
    "\n",
    "history = model.fit(train_ds,\n",
    "          validation_data=val_ds,\n",
    "          epochs=10)"
   ]
  },
  {
   "cell_type": "code",
   "execution_count": 92,
   "metadata": {},
   "outputs": [
    {
     "name": "stdout",
     "output_type": "stream",
     "text": [
      "391/391 [==============================] - 0s 894us/step - loss: 0.6970 - binary_accuracy: 0.4936\n",
      "Loss:  0.6970403790473938\n",
      "Accuracy:  0.4936061501502991\n"
     ]
    }
   ],
   "source": [
    "loss, accuracy = model.evaluate(test_ds)\n",
    "\n",
    "print(\"Loss: \", loss)\n",
    "print(\"Accuracy: \", accuracy)"
   ]
  },
  {
   "cell_type": "code",
   "execution_count": 93,
   "metadata": {},
   "outputs": [
    {
     "data": {
      "text/plain": [
       "dict_keys(['loss', 'binary_accuracy', 'val_loss', 'val_binary_accuracy'])"
      ]
     },
     "execution_count": 93,
     "metadata": {},
     "output_type": "execute_result"
    }
   ],
   "source": [
    "history_dict = history.history\n",
    "history_dict.keys()"
   ]
  },
  {
   "cell_type": "code",
   "execution_count": 94,
   "metadata": {},
   "outputs": [
    {
     "data": {
      "image/png": "[encoded data removed]",
      "text/plain": [
       "<Figure size 432x288 with 1 Axes>"
      ]
     },
     "metadata": {
      "needs_background": "light"
     },
     "output_type": "display_data"
    }
   ],
   "source": [
    "loss = history_dict['loss']\n",
    "val_loss = history_dict['val_loss']\n",
    "\n",
    "epochs = range(1, len(loss) + 1)\n",
    "\n",
    "plt.plot(epochs, loss, 'o', color='orange', label='Training Loss')\n",
    "plt.plot(epochs, val_loss, 'blue', label='Validation Loss')\n",
    "plt.title('Trainings- und Validationsloss')\n",
    "plt.xlabel('Epochen')\n",
    "plt.ylabel('Loss')\n",
    "plt.legend()\n",
    "\n",
    "plt.show()"
   ]
  },
  {
   "cell_type": "code",
   "execution_count": 95,
   "metadata": {},
   "outputs": [
    {
     "data": {
      "image/png": "[encoded data removed]",
      "text/plain": [
       "<Figure size 432x288 with 1 Axes>"
      ]
     },
     "metadata": {
      "needs_background": "light"
     },
     "output_type": "display_data"
    }
   ],
   "source": [
    "acc = history_dict['binary_accuracy']\n",
    "val_acc = history_dict['val_binary_accuracy']\n",
    "\n",
    "plt.plot(epochs, acc, 'o', color='orange', label='Training Accuracy')\n",
    "plt.plot(epochs, val_acc, 'blue', label='Validation Accuracy')\n",
    "plt.title('Trainings- und Validationsaccuracy')\n",
    "plt.xlabel('Epochen')\n",
    "plt.ylabel('Accuracy')\n",
    "plt.legend(loc='lower right')\n",
    "\n",
    "plt.show()"
   ]
  },
  {
   "cell_type": "code",
   "execution_count": 96,
   "metadata": {},
   "outputs": [
    {
     "name": "stdout",
     "output_type": "stream",
     "text": [
      "tf.Tensor(\n",
      "[[[1.         1.06635074 1.15693705 1.0959956  1.13118333 1.12235984\n",
      "   1.1128246  1.16818178 1.11284077 1.14433087 1.11097698 1.11854718\n",
      "   1.11707965 1.15260837 1.14937616 1.21455194 1.43219793 1.61630336\n",
      "   1.57524328 1.82046301]\n",
      "  [1.         0.98745424 1.11532119 1.10258679 1.13790311 1.13809674\n",
      "   1.10960008 1.16565133 1.10528624 1.09717434 1.0234723  0.96651257\n",
      "   0.90845859 0.91104106 0.89736749 0.98359541 1.39781486 2.00913719\n",
      "   2.39768301 3.07798521]]], shape=(1, 2, 20), dtype=float64)\n"
     ]
    },
    {
     "data": {
      "text/plain": [
       "array([[[-0.14952512],\n",
       "        [-0.15293345]]], dtype=float32)"
      ]
     },
     "execution_count": 96,
     "metadata": {},
     "output_type": "execute_result"
    }
   ],
   "source": [
    "feature_batch, label_batch = next(iter(test_ds))\n",
    "print(feature_batch)\n",
    "\n",
    "model.predict(feature_batch)"
   ]
  },
  {
   "cell_type": "code",
   "execution_count": null,
   "metadata": {},
   "outputs": [],
   "source": []
  }
 ],
 "metadata": {
  "kernelspec": {
   "display_name": "Python 3",
   "language": "python",
   "name": "python3"
  },
  "language_info": {
   "codemirror_mode": {
    "name": "ipython",
    "version": 3
   },
   "file_extension": ".py",
   "mimetype": "text/x-python",
   "name": "python",
   "nbconvert_exporter": "python",
   "pygments_lexer": "ipython3",
   "version": "3.7.6"
  }
 },
 "nbformat": 4,
 "nbformat_minor": 2
}
