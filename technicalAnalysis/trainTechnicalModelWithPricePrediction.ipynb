{
 "cells": [
  {
   "cell_type": "code",
   "execution_count": 1,
   "metadata": {},
   "outputs": [],
   "source": [
    "import matplotlib.pyplot as plt\n",
    "import tensorflow as tf\n",
    "from tensorflow import keras\n",
    "import pandas as pd\n",
    "import pandas_datareader.data as pdr\n",
    "import numpy as np\n",
    "import seaborn as sns\n",
    "from pylab import rcParams\n",
    "from matplotlib import rc\n",
    "from sklearn.model_selection import train_test_split\n",
    "from pandas.plotting import register_matplotlib_converters\n",
    "from sklearn.preprocessing import RobustScaler\n",
    "\n",
    "from datetime import datetime, timezone,timedelta\n",
    "from ta.utils import dropna\n",
    "from ta.volatility import BollingerBands, AverageTrueRange\n",
    "from ta.momentum import KAMAIndicator, PercentagePriceOscillator, PercentageVolumeOscillator, ROCIndicator, RSIIndicator, StochasticOscillator\n",
    "from ta.trend import MACD, ADXIndicator, AroonIndicator\n",
    "from ta.volume import OnBalanceVolumeIndicator, AccDistIndexIndicator"
   ]
  },
  {
   "cell_type": "code",
   "execution_count": 23,
   "metadata": {},
   "outputs": [
    {
     "name": "stderr",
     "output_type": "stream",
     "text": [
      "/Users/michi/opt/anaconda3/lib/python3.7/site-packages/ta/trend.py:768: RuntimeWarning: invalid value encountered in double_scalars\n",
      "  dip[i] = 100 * (self._dip[i] / self._trs[i])\n",
      "/Users/michi/opt/anaconda3/lib/python3.7/site-packages/ta/trend.py:772: RuntimeWarning: invalid value encountered in double_scalars\n",
      "  din[i] = 100 * (self._din[i] / self._trs[i])\n"
     ]
    },
    {
     "data": {
      "text/html": [
       "<div>\n",
       "<style scoped>\n",
       "    .dataframe tbody tr th:only-of-type {\n",
       "        vertical-align: middle;\n",
       "    }\n",
       "\n",
       "    .dataframe tbody tr th {\n",
       "        vertical-align: top;\n",
       "    }\n",
       "\n",
       "    .dataframe thead th {\n",
       "        text-align: right;\n",
       "    }\n",
       "</style>\n",
       "<table border=\"1\" class=\"dataframe\">\n",
       "  <thead>\n",
       "    <tr style=\"text-align: right;\">\n",
       "      <th></th>\n",
       "      <th>price</th>\n",
       "      <th>kama</th>\n",
       "      <th>ppo</th>\n",
       "      <th>pvo</th>\n",
       "      <th>roc</th>\n",
       "      <th>macd</th>\n",
       "      <th>rsi</th>\n",
       "      <th>obv</th>\n",
       "      <th>adi</th>\n",
       "      <th>adx</th>\n",
       "      <th>aroon</th>\n",
       "      <th>stoo</th>\n",
       "      <th>boll_mavg</th>\n",
       "      <th>atr</th>\n",
       "    </tr>\n",
       "    <tr>\n",
       "      <th>Date</th>\n",
       "      <th></th>\n",
       "      <th></th>\n",
       "      <th></th>\n",
       "      <th></th>\n",
       "      <th></th>\n",
       "      <th></th>\n",
       "      <th></th>\n",
       "      <th></th>\n",
       "      <th></th>\n",
       "      <th></th>\n",
       "      <th></th>\n",
       "      <th></th>\n",
       "      <th></th>\n",
       "      <th></th>\n",
       "    </tr>\n",
       "  </thead>\n",
       "  <tbody>\n",
       "    <tr>\n",
       "      <th>2000-10-16</th>\n",
       "      <td>25.187500</td>\n",
       "      <td>27.159789</td>\n",
       "      <td>-5.040520</td>\n",
       "      <td>9.643245</td>\n",
       "      <td>-17.838940</td>\n",
       "      <td>-1.139903</td>\n",
       "      <td>17.960717</td>\n",
       "      <td>-9.798560e+08</td>\n",
       "      <td>-5.922451e+08</td>\n",
       "      <td>50.963362</td>\n",
       "      <td>-95.0</td>\n",
       "      <td>5.803571</td>\n",
       "      <td>29.198438</td>\n",
       "      <td>1.288931</td>\n",
       "    </tr>\n",
       "    <tr>\n",
       "      <th>2000-10-17</th>\n",
       "      <td>25.218750</td>\n",
       "      <td>26.779223</td>\n",
       "      <td>-5.298152</td>\n",
       "      <td>7.644222</td>\n",
       "      <td>-16.373057</td>\n",
       "      <td>-1.181762</td>\n",
       "      <td>18.321330</td>\n",
       "      <td>-8.985794e+08</td>\n",
       "      <td>-6.595886e+08</td>\n",
       "      <td>51.577473</td>\n",
       "      <td>-90.0</td>\n",
       "      <td>7.106599</td>\n",
       "      <td>28.834375</td>\n",
       "      <td>1.274990</td>\n",
       "    </tr>\n",
       "    <tr>\n",
       "      <th>2000-10-18</th>\n",
       "      <td>25.875000</td>\n",
       "      <td>26.704246</td>\n",
       "      <td>-5.198908</td>\n",
       "      <td>8.771409</td>\n",
       "      <td>-12.473573</td>\n",
       "      <td>-1.158031</td>\n",
       "      <td>25.706722</td>\n",
       "      <td>-7.880430e+08</td>\n",
       "      <td>-6.179580e+08</td>\n",
       "      <td>52.488953</td>\n",
       "      <td>-85.0</td>\n",
       "      <td>25.728155</td>\n",
       "      <td>28.521875</td>\n",
       "      <td>1.355794</td>\n",
       "    </tr>\n",
       "    <tr>\n",
       "      <th>2000-10-19</th>\n",
       "      <td>30.937500</td>\n",
       "      <td>26.990888</td>\n",
       "      <td>-3.421693</td>\n",
       "      <td>20.470591</td>\n",
       "      <td>9.392265</td>\n",
       "      <td>-0.826192</td>\n",
       "      <td>57.575357</td>\n",
       "      <td>-5.310498e+08</td>\n",
       "      <td>-3.993220e+08</td>\n",
       "      <td>48.810157</td>\n",
       "      <td>-80.0</td>\n",
       "      <td>97.727273</td>\n",
       "      <td>28.464063</td>\n",
       "      <td>1.631720</td>\n",
       "    </tr>\n",
       "    <tr>\n",
       "      <th>2000-10-20</th>\n",
       "      <td>32.593750</td>\n",
       "      <td>27.547329</td>\n",
       "      <td>-1.557562</td>\n",
       "      <td>20.537458</td>\n",
       "      <td>17.587373</td>\n",
       "      <td>-0.462973</td>\n",
       "      <td>63.145318</td>\n",
       "      <td>-3.706712e+08</td>\n",
       "      <td>-2.990853e+08</td>\n",
       "      <td>46.368619</td>\n",
       "      <td>20.0</td>\n",
       "      <td>94.699647</td>\n",
       "      <td>28.512500</td>\n",
       "      <td>1.693740</td>\n",
       "    </tr>\n",
       "    <tr>\n",
       "      <th>...</th>\n",
       "      <td>...</td>\n",
       "      <td>...</td>\n",
       "      <td>...</td>\n",
       "      <td>...</td>\n",
       "      <td>...</td>\n",
       "      <td>...</td>\n",
       "      <td>...</td>\n",
       "      <td>...</td>\n",
       "      <td>...</td>\n",
       "      <td>...</td>\n",
       "      <td>...</td>\n",
       "      <td>...</td>\n",
       "      <td>...</td>\n",
       "      <td>...</td>\n",
       "    </tr>\n",
       "    <tr>\n",
       "      <th>2021-01-15</th>\n",
       "      <td>212.649994</td>\n",
       "      <td>217.522259</td>\n",
       "      <td>-0.441442</td>\n",
       "      <td>0.019742</td>\n",
       "      <td>-5.130493</td>\n",
       "      <td>-0.597227</td>\n",
       "      <td>42.633777</td>\n",
       "      <td>2.709230e+09</td>\n",
       "      <td>-1.893908e+09</td>\n",
       "      <td>13.692728</td>\n",
       "      <td>-30.0</td>\n",
       "      <td>4.658740</td>\n",
       "      <td>219.084998</td>\n",
       "      <td>4.096074</td>\n",
       "    </tr>\n",
       "    <tr>\n",
       "      <th>2021-01-19</th>\n",
       "      <td>216.440002</td>\n",
       "      <td>217.512981</td>\n",
       "      <td>-0.384569</td>\n",
       "      <td>1.301429</td>\n",
       "      <td>-2.363763</td>\n",
       "      <td>-0.539563</td>\n",
       "      <td>49.151288</td>\n",
       "      <td>2.739711e+09</td>\n",
       "      <td>-1.870994e+09</td>\n",
       "      <td>13.378667</td>\n",
       "      <td>-30.0</td>\n",
       "      <td>29.527578</td>\n",
       "      <td>218.935999</td>\n",
       "      <td>4.114211</td>\n",
       "    </tr>\n",
       "    <tr>\n",
       "      <th>2021-01-20</th>\n",
       "      <td>224.339996</td>\n",
       "      <td>217.726665</td>\n",
       "      <td>-0.020414</td>\n",
       "      <td>4.408411</td>\n",
       "      <td>0.863231</td>\n",
       "      <td>-0.024508</td>\n",
       "      <td>59.484171</td>\n",
       "      <td>2.777488e+09</td>\n",
       "      <td>-1.846106e+09</td>\n",
       "      <td>13.908565</td>\n",
       "      <td>-30.0</td>\n",
       "      <td>89.530701</td>\n",
       "      <td>219.223499</td>\n",
       "      <td>4.488196</td>\n",
       "    </tr>\n",
       "    <tr>\n",
       "      <th>2021-01-21</th>\n",
       "      <td>224.970001</td>\n",
       "      <td>218.488598</td>\n",
       "      <td>0.272778</td>\n",
       "      <td>4.444744</td>\n",
       "      <td>3.344204</td>\n",
       "      <td>0.407084</td>\n",
       "      <td>60.179122</td>\n",
       "      <td>2.808238e+09</td>\n",
       "      <td>-1.836437e+09</td>\n",
       "      <td>14.496083</td>\n",
       "      <td>50.0</td>\n",
       "      <td>90.738149</td>\n",
       "      <td>219.342499</td>\n",
       "      <td>4.444753</td>\n",
       "    </tr>\n",
       "    <tr>\n",
       "      <th>2021-01-22</th>\n",
       "      <td>225.949997</td>\n",
       "      <td>218.967695</td>\n",
       "      <td>0.522173</td>\n",
       "      <td>4.220332</td>\n",
       "      <td>3.694357</td>\n",
       "      <td>0.788968</td>\n",
       "      <td>61.291371</td>\n",
       "      <td>2.838410e+09</td>\n",
       "      <td>-1.864490e+09</td>\n",
       "      <td>15.700332</td>\n",
       "      <td>55.0</td>\n",
       "      <td>77.275183</td>\n",
       "      <td>219.442999</td>\n",
       "      <td>4.491557</td>\n",
       "    </tr>\n",
       "  </tbody>\n",
       "</table>\n",
       "<p>5099 rows × 14 columns</p>\n",
       "</div>"
      ],
      "text/plain": [
       "                 price        kama       ppo        pvo        roc      macd  \\\n",
       "Date                                                                           \n",
       "2000-10-16   25.187500   27.159789 -5.040520   9.643245 -17.838940 -1.139903   \n",
       "2000-10-17   25.218750   26.779223 -5.298152   7.644222 -16.373057 -1.181762   \n",
       "2000-10-18   25.875000   26.704246 -5.198908   8.771409 -12.473573 -1.158031   \n",
       "2000-10-19   30.937500   26.990888 -3.421693  20.470591   9.392265 -0.826192   \n",
       "2000-10-20   32.593750   27.547329 -1.557562  20.537458  17.587373 -0.462973   \n",
       "...                ...         ...       ...        ...        ...       ...   \n",
       "2021-01-15  212.649994  217.522259 -0.441442   0.019742  -5.130493 -0.597227   \n",
       "2021-01-19  216.440002  217.512981 -0.384569   1.301429  -2.363763 -0.539563   \n",
       "2021-01-20  224.339996  217.726665 -0.020414   4.408411   0.863231 -0.024508   \n",
       "2021-01-21  224.970001  218.488598  0.272778   4.444744   3.344204  0.407084   \n",
       "2021-01-22  225.949997  218.967695  0.522173   4.220332   3.694357  0.788968   \n",
       "\n",
       "                  rsi           obv           adi        adx  aroon  \\\n",
       "Date                                                                  \n",
       "2000-10-16  17.960717 -9.798560e+08 -5.922451e+08  50.963362  -95.0   \n",
       "2000-10-17  18.321330 -8.985794e+08 -6.595886e+08  51.577473  -90.0   \n",
       "2000-10-18  25.706722 -7.880430e+08 -6.179580e+08  52.488953  -85.0   \n",
       "2000-10-19  57.575357 -5.310498e+08 -3.993220e+08  48.810157  -80.0   \n",
       "2000-10-20  63.145318 -3.706712e+08 -2.990853e+08  46.368619   20.0   \n",
       "...               ...           ...           ...        ...    ...   \n",
       "2021-01-15  42.633777  2.709230e+09 -1.893908e+09  13.692728  -30.0   \n",
       "2021-01-19  49.151288  2.739711e+09 -1.870994e+09  13.378667  -30.0   \n",
       "2021-01-20  59.484171  2.777488e+09 -1.846106e+09  13.908565  -30.0   \n",
       "2021-01-21  60.179122  2.808238e+09 -1.836437e+09  14.496083   50.0   \n",
       "2021-01-22  61.291371  2.838410e+09 -1.864490e+09  15.700332   55.0   \n",
       "\n",
       "                 stoo   boll_mavg       atr  \n",
       "Date                                         \n",
       "2000-10-16   5.803571   29.198438  1.288931  \n",
       "2000-10-17   7.106599   28.834375  1.274990  \n",
       "2000-10-18  25.728155   28.521875  1.355794  \n",
       "2000-10-19  97.727273   28.464063  1.631720  \n",
       "2000-10-20  94.699647   28.512500  1.693740  \n",
       "...               ...         ...       ...  \n",
       "2021-01-15   4.658740  219.084998  4.096074  \n",
       "2021-01-19  29.527578  218.935999  4.114211  \n",
       "2021-01-20  89.530701  219.223499  4.488196  \n",
       "2021-01-21  90.738149  219.342499  4.444753  \n",
       "2021-01-22  77.275183  219.442999  4.491557  \n",
       "\n",
       "[5099 rows x 14 columns]"
      ]
     },
     "execution_count": 23,
     "metadata": {},
     "output_type": "execute_result"
    }
   ],
   "source": [
    "end = datetime.today() - timedelta(days=46)\n",
    "start = datetime(2000, 9, 1)\n",
    "ETH = pdr.DataReader('MSFT','yahoo',start,end)\n",
    "\n",
    "df = pd.DataFrame(data=ETH)\n",
    "\n",
    "kama_indicator = KAMAIndicator(close = df[\"Close\"], window = 10, pow1 = 2, pow2 = 30, fillna = False)\n",
    "df['kama'] = kama_indicator.kama()\n",
    "ppo_indicator = PercentagePriceOscillator(close = df[\"Close\"], window_slow = 20, window_fast = 10, window_sign = 9, fillna = False)\n",
    "df['ppo'] = ppo_indicator.ppo()\n",
    "pvo_indicator = PercentageVolumeOscillator(volume = df[\"Volume\"], window_slow = 20, window_fast = 10, window_sign = 9, fillna = False)\n",
    "df['pvo'] = pvo_indicator.pvo()\n",
    "roc_indicator = ROCIndicator(close = df[\"Close\"], window = 12, fillna = False)\n",
    "df['roc'] = roc_indicator.roc()\n",
    "macd_indicator = MACD(close = df[\"Close\"], window_slow = 20, window_fast = 12, window_sign = 9, fillna = False)\n",
    "df['macd'] = macd_indicator.macd()\n",
    "rsi_indicator = RSIIndicator(close = df[\"Close\"], window = 14, fillna = False)\n",
    "df['rsi'] = rsi_indicator.rsi()\n",
    "obv_indicator = OnBalanceVolumeIndicator(close = df[\"Close\"], volume = df[\"Volume\"], fillna = False)\n",
    "df['obv'] = obv_indicator.on_balance_volume() \n",
    "adi_indicator = AccDistIndexIndicator(high = df[\"High\"], low = df[\"Low\"], close = df[\"Close\"], volume = df[\"Volume\"], fillna = False)\n",
    "df['adi'] = adi_indicator.acc_dist_index() \n",
    "adx_indicator = ADXIndicator(high = df[\"High\"], low = df[\"Low\"], close = df[\"Close\"], window = 14, fillna = False)\n",
    "df['adx'] = adx_indicator.adx() \n",
    "aroon_indicator = AroonIndicator(close = df[\"Close\"], window = 20, fillna = False)\n",
    "df['aroon'] = aroon_indicator.aroon_indicator()\n",
    "stoo_indicator = StochasticOscillator(high = df[\"High\"], low = df[\"Low\"], close = df[\"Close\"], window = 14, smooth_window = 3, fillna = False)\n",
    "df['stoo'] = stoo_indicator.stoch()\n",
    "boll_indicator = BollingerBands(close = df[\"Close\"], window = 20, window_dev = 2, fillna = False)\n",
    "df['boll_mavg'] = boll_indicator.bollinger_mavg()\n",
    "atr_indicator = AverageTrueRange(high = df[\"High\"], low = df[\"Low\"], close = df[\"Close\"], window = 14, fillna = False)\n",
    "df['atr'] = atr_indicator.average_true_range()\n",
    "df = df[30:len(df)]\n",
    "df = df.drop(df.columns[[0, 1, 2, 4, 5]], axis=1)\n",
    "df.rename(columns = {\"Close\": \"price\"}, inplace=True)\n",
    "df"
   ]
  },
  {
   "cell_type": "code",
   "execution_count": 24,
   "metadata": {
    "scrolled": true
   },
   "outputs": [
    {
     "data": {
      "text/plain": [
       "Index(['price', 'kama', 'ppo', 'pvo', 'roc', 'macd', 'rsi', 'obv', 'adi',\n",
       "       'adx', 'aroon', 'stoo', 'boll_mavg', 'atr'],\n",
       "      dtype='object')"
      ]
     },
     "execution_count": 24,
     "metadata": {},
     "output_type": "execute_result"
    }
   ],
   "source": [
    "df.columns"
   ]
  },
  {
   "cell_type": "code",
   "execution_count": 25,
   "metadata": {},
   "outputs": [],
   "source": [
    "df['day_of_month'] = df.index.day\n",
    "df['day_of_week'] = df.index.dayofweek\n",
    "df['month'] = df.index.month"
   ]
  },
  {
   "cell_type": "code",
   "execution_count": 26,
   "metadata": {
    "scrolled": false
   },
   "outputs": [
    {
     "data": {
      "image/png": "[encoded data removed]",
      "text/plain": [
       "<Figure size 432x288 with 1 Axes>"
      ]
     },
     "metadata": {
      "needs_background": "light"
     },
     "output_type": "display_data"
    }
   ],
   "source": [
    "sns.lineplot(x=df.index, y=\"price\", data=df);"
   ]
  },
  {
   "cell_type": "code",
   "execution_count": 27,
   "metadata": {
    "scrolled": true
   },
   "outputs": [
    {
     "data": {
      "image/png": "[encoded data removed]",
      "text/plain": [
       "<Figure size 432x288 with 1 Axes>"
      ]
     },
     "metadata": {
      "needs_background": "light"
     },
     "output_type": "display_data"
    }
   ],
   "source": [
    "df_by_month = df.resample('M').sum()\n",
    "\n",
    "sns.lineplot(x=df_by_month.index, y=\"price\", data=df_by_month);"
   ]
  },
  {
   "cell_type": "code",
   "execution_count": 28,
   "metadata": {},
   "outputs": [
    {
     "name": "stdout",
     "output_type": "stream",
     "text": [
      "(4589, 17) (510, 17)\n"
     ]
    }
   ],
   "source": [
    "train_size = int(len(df) * 0.9)\n",
    "test_size = len(df) - train_size\n",
    "train, test = df.iloc[0:train_size], df.iloc[train_size:len(df)]\n",
    "print(train.shape, test.shape)"
   ]
  },
  {
   "cell_type": "code",
   "execution_count": 29,
   "metadata": {},
   "outputs": [
    {
     "name": "stderr",
     "output_type": "stream",
     "text": [
      "/Users/michi/opt/anaconda3/lib/python3.7/site-packages/pandas/core/indexing.py:965: SettingWithCopyWarning: \n",
      "A value is trying to be set on a copy of a slice from a DataFrame.\n",
      "Try using .loc[row_indexer,col_indexer] = value instead\n",
      "\n",
      "See the caveats in the documentation: https://pandas.pydata.org/pandas-docs/stable/user_guide/indexing.html#returning-a-view-versus-a-copy\n",
      "  self.obj[item] = s\n",
      "/Users/michi/opt/anaconda3/lib/python3.7/site-packages/ipykernel_launcher.py:11: SettingWithCopyWarning: \n",
      "A value is trying to be set on a copy of a slice from a DataFrame.\n",
      "Try using .loc[row_indexer,col_indexer] = value instead\n",
      "\n",
      "See the caveats in the documentation: https://pandas.pydata.org/pandas-docs/stable/user_guide/indexing.html#returning-a-view-versus-a-copy\n",
      "  # This is added back by InteractiveShellApp.init_path()\n",
      "/Users/michi/opt/anaconda3/lib/python3.7/site-packages/pandas/core/indexing.py:965: SettingWithCopyWarning: \n",
      "A value is trying to be set on a copy of a slice from a DataFrame.\n",
      "Try using .loc[row_indexer,col_indexer] = value instead\n",
      "\n",
      "See the caveats in the documentation: https://pandas.pydata.org/pandas-docs/stable/user_guide/indexing.html#returning-a-view-versus-a-copy\n",
      "  self.obj[item] = s\n",
      "/Users/michi/opt/anaconda3/lib/python3.7/site-packages/ipykernel_launcher.py:14: SettingWithCopyWarning: \n",
      "A value is trying to be set on a copy of a slice from a DataFrame.\n",
      "Try using .loc[row_indexer,col_indexer] = value instead\n",
      "\n",
      "See the caveats in the documentation: https://pandas.pydata.org/pandas-docs/stable/user_guide/indexing.html#returning-a-view-versus-a-copy\n",
      "  \n"
     ]
    }
   ],
   "source": [
    "f_columns = ['kama', 'ppo', 'pvo', 'roc', 'macd', 'rsi', 'obv', 'adi',\n",
    "       'adx', 'aroon', 'stoo', 'boll_mavg', 'atr']\n",
    "\n",
    "f_transformer = RobustScaler()\n",
    "price_transformer = RobustScaler()\n",
    "\n",
    "f_transformer = f_transformer.fit(train[f_columns].to_numpy())\n",
    "price_transformer = price_transformer.fit(train[['price']])\n",
    "\n",
    "train.loc[:, f_columns] = f_transformer.transform(train[f_columns].to_numpy())\n",
    "train['price'] = price_transformer.transform(train[['price']])\n",
    "\n",
    "test.loc[:, f_columns] = f_transformer.transform(test[f_columns].to_numpy())\n",
    "test['price'] = price_transformer.transform(test[['price']])"
   ]
  },
  {
   "cell_type": "code",
   "execution_count": 30,
   "metadata": {},
   "outputs": [],
   "source": [
    "def create_dataset(X, y, time_steps=1):\n",
    "    Xs, ys = [], []\n",
    "    for i in range(len(X) - time_steps):\n",
    "        v = X.iloc[i:(i + time_steps)].values\n",
    "        Xs.append(v)        \n",
    "        ys.append(y.iloc[i + time_steps])\n",
    "    return np.array(Xs), np.array(ys)"
   ]
  },
  {
   "cell_type": "code",
   "execution_count": 31,
   "metadata": {},
   "outputs": [
    {
     "name": "stdout",
     "output_type": "stream",
     "text": [
      "(4559, 30, 17) (4559,)\n"
     ]
    }
   ],
   "source": [
    "time_steps = 30\n",
    "\n",
    "X_train, y_train = create_dataset(train, train.price, time_steps)\n",
    "X_test, y_test = create_dataset(test, test.price, time_steps)\n",
    "\n",
    "print(X_train.shape, y_train.shape)"
   ]
  },
  {
   "cell_type": "code",
   "execution_count": 32,
   "metadata": {},
   "outputs": [
    {
     "data": {
      "text/plain": [
       "(480, 30, 17)"
      ]
     },
     "execution_count": 32,
     "metadata": {},
     "output_type": "execute_result"
    }
   ],
   "source": [
    "X_test.shape"
   ]
  },
  {
   "cell_type": "code",
   "execution_count": 33,
   "metadata": {},
   "outputs": [],
   "source": [
    "model = keras.Sequential()\n",
    "model.add(\n",
    "  keras.layers.Bidirectional(\n",
    "    keras.layers.LSTM(\n",
    "      units=128, \n",
    "      input_shape=(X_train.shape[1], X_train.shape[2])\n",
    "    )\n",
    "  )\n",
    ")\n",
    "model.add(keras.layers.Dropout(rate=0.2))\n",
    "model.add(keras.layers.Dense(units=1))\n",
    "model.compile(loss='mean_squared_error', optimizer='adam')"
   ]
  },
  {
   "cell_type": "code",
   "execution_count": 34,
   "metadata": {
    "scrolled": true
   },
   "outputs": [
    {
     "name": "stdout",
     "output_type": "stream",
     "text": [
      "Epoch 1/30\n",
      "129/129 [==============================] - 5s 24ms/step - loss: 0.1755 - val_loss: 2.6598\n",
      "Epoch 2/30\n",
      "129/129 [==============================] - 3s 20ms/step - loss: 0.3988 - val_loss: 1.7323\n",
      "Epoch 3/30\n",
      "129/129 [==============================] - 3s 20ms/step - loss: 0.1253 - val_loss: 1.6841\n",
      "Epoch 4/30\n",
      "129/129 [==============================] - 3s 20ms/step - loss: 0.0603 - val_loss: 1.7390\n",
      "Epoch 5/30\n",
      "129/129 [==============================] - 3s 21ms/step - loss: 0.0431 - val_loss: 1.6703\n",
      "Epoch 6/30\n",
      "129/129 [==============================] - 3s 22ms/step - loss: 0.0294 - val_loss: 1.7969\n",
      "Epoch 7/30\n",
      "129/129 [==============================] - 3s 21ms/step - loss: 0.0259 - val_loss: 1.7575\n",
      "Epoch 8/30\n",
      "129/129 [==============================] - 3s 21ms/step - loss: 0.0266 - val_loss: 1.6543\n",
      "Epoch 9/30\n",
      "129/129 [==============================] - 3s 21ms/step - loss: 0.0304 - val_loss: 1.5350\n",
      "Epoch 10/30\n",
      "129/129 [==============================] - 3s 21ms/step - loss: 0.0384 - val_loss: 1.2202\n",
      "Epoch 11/30\n",
      "129/129 [==============================] - 3s 21ms/step - loss: 0.0413 - val_loss: 1.2442\n",
      "Epoch 12/30\n",
      "129/129 [==============================] - 3s 21ms/step - loss: 0.0315 - val_loss: 0.9388\n",
      "Epoch 13/30\n",
      "129/129 [==============================] - 3s 21ms/step - loss: 0.0305 - val_loss: 0.8968\n",
      "Epoch 14/30\n",
      "129/129 [==============================] - 3s 21ms/step - loss: 0.0279 - val_loss: 0.9822\n",
      "Epoch 15/30\n",
      "129/129 [==============================] - 3s 21ms/step - loss: 0.0271 - val_loss: 0.9231\n",
      "Epoch 16/30\n",
      "129/129 [==============================] - 3s 21ms/step - loss: 0.0165 - val_loss: 0.8047\n",
      "Epoch 17/30\n",
      "129/129 [==============================] - 3s 21ms/step - loss: 0.0151 - val_loss: 0.7182\n",
      "Epoch 18/30\n",
      "129/129 [==============================] - 3s 22ms/step - loss: 0.0127 - val_loss: 0.6668\n",
      "Epoch 19/30\n",
      "129/129 [==============================] - 3s 21ms/step - loss: 0.0142 - val_loss: 0.8907\n",
      "Epoch 20/30\n",
      "129/129 [==============================] - 3s 21ms/step - loss: 0.0141 - val_loss: 0.8248\n",
      "Epoch 21/30\n",
      "129/129 [==============================] - 3s 21ms/step - loss: 0.0103 - val_loss: 0.6595\n",
      "Epoch 22/30\n",
      "129/129 [==============================] - 3s 21ms/step - loss: 0.0108 - val_loss: 0.9374\n",
      "Epoch 23/30\n",
      "129/129 [==============================] - 3s 22ms/step - loss: 0.0087 - val_loss: 0.7662\n",
      "Epoch 24/30\n",
      "129/129 [==============================] - 3s 22ms/step - loss: 0.0143 - val_loss: 0.9445\n",
      "Epoch 25/30\n",
      "129/129 [==============================] - 3s 20ms/step - loss: 0.0055 - val_loss: 0.8339\n",
      "Epoch 26/30\n",
      "129/129 [==============================] - 3s 20ms/step - loss: 0.0048 - val_loss: 0.7976\n",
      "Epoch 27/30\n",
      "129/129 [==============================] - 2s 19ms/step - loss: 0.0052 - val_loss: 0.8412\n",
      "Epoch 28/30\n",
      "129/129 [==============================] - 2s 18ms/step - loss: 0.0049 - val_loss: 0.8100\n",
      "Epoch 29/30\n",
      "129/129 [==============================] - 2s 18ms/step - loss: 0.0051 - val_loss: 0.8459\n",
      "Epoch 30/30\n",
      "129/129 [==============================] - 2s 18ms/step - loss: 0.0052 - val_loss: 0.8640\n"
     ]
    }
   ],
   "source": [
    "history = model.fit(\n",
    "    X_train, y_train, \n",
    "    epochs=30, \n",
    "    batch_size=32, \n",
    "    validation_split=0.1,\n",
    "    shuffle=False\n",
    ")"
   ]
  },
  {
   "cell_type": "code",
   "execution_count": 35,
   "metadata": {},
   "outputs": [
    {
     "data": {
      "image/png": "[encoded data removed]",
      "text/plain": [
       "<Figure size 432x288 with 1 Axes>"
      ]
     },
     "metadata": {
      "needs_background": "light"
     },
     "output_type": "display_data"
    }
   ],
   "source": [
    "plt.plot(history.history['loss'], label='train')\n",
    "plt.plot(history.history['val_loss'], label='test')\n",
    "plt.legend();"
   ]
  },
  {
   "cell_type": "code",
   "execution_count": 36,
   "metadata": {},
   "outputs": [],
   "source": [
    "y_pred = model.predict(X_test)"
   ]
  },
  {
   "cell_type": "code",
   "execution_count": 37,
   "metadata": {},
   "outputs": [],
   "source": [
    "y_train_inv = price_transformer.inverse_transform(y_train.reshape(1, -1))\n",
    "y_test_inv = price_transformer.inverse_transform(y_test.reshape(1, -1))\n",
    "y_pred_inv = price_transformer.inverse_transform(y_pred)"
   ]
  },
  {
   "cell_type": "code",
   "execution_count": 38,
   "metadata": {
    "scrolled": true
   },
   "outputs": [
    {
     "data": {
      "image/png": "[encoded data removed]",
      "text/plain": [
       "<Figure size 432x288 with 1 Axes>"
      ]
     },
     "metadata": {
      "needs_background": "light"
     },
     "output_type": "display_data"
    }
   ],
   "source": [
    "plt.plot(np.arange(0, len(y_train)), y_train_inv.flatten(), 'g', label=\"history\")\n",
    "plt.plot(np.arange(len(y_train), len(y_train) + len(y_test)), y_test_inv.flatten(), marker='.', label=\"true\")\n",
    "plt.plot(np.arange(len(y_train), len(y_train) + len(y_test)), y_pred_inv.flatten(), 'r', label=\"prediction\")\n",
    "plt.ylabel('Bike Count')\n",
    "plt.xlabel('Time Step')\n",
    "plt.legend()\n",
    "plt.show();"
   ]
  },
  {
   "cell_type": "code",
   "execution_count": 39,
   "metadata": {},
   "outputs": [
    {
     "data": {
      "image/png": "[encoded data removed]",
      "text/plain": [
       "<Figure size 432x288 with 1 Axes>"
      ]
     },
     "metadata": {
      "needs_background": "light"
     },
     "output_type": "display_data"
    }
   ],
   "source": [
    "plt.plot(y_test_inv.flatten(), marker='.', label=\"true\")\n",
    "plt.plot(y_pred_inv.flatten(), 'r', label=\"prediction\")\n",
    "plt.ylabel('Price')\n",
    "plt.xlabel('Time Step')\n",
    "plt.legend()\n",
    "plt.show();"
   ]
  },
  {
   "cell_type": "code",
   "execution_count": 40,
   "metadata": {},
   "outputs": [
    {
     "name": "stderr",
     "output_type": "stream",
     "text": [
      "/Users/michi/opt/anaconda3/lib/python3.7/site-packages/ta/trend.py:768: RuntimeWarning: invalid value encountered in double_scalars\n",
      "  dip[i] = 100 * (self._dip[i] / self._trs[i])\n",
      "/Users/michi/opt/anaconda3/lib/python3.7/site-packages/ta/trend.py:772: RuntimeWarning: invalid value encountered in double_scalars\n",
      "  din[i] = 100 * (self._din[i] / self._trs[i])\n"
     ]
    },
    {
     "data": {
      "text/plain": [
       "array([[232.06853]], dtype=float32)"
      ]
     },
     "execution_count": 40,
     "metadata": {},
     "output_type": "execute_result"
    }
   ],
   "source": [
    "end = datetime.today()\n",
    "start = datetime.today() - timedelta(days=56)\n",
    "ETH = pdr.DataReader('MSFT','yahoo',start,end)\n",
    "\n",
    "df = pd.DataFrame(data=ETH)\n",
    "\n",
    "kama_indicator = KAMAIndicator(close = df[\"Close\"], window = 10, pow1 = 2, pow2 = 30, fillna = False)\n",
    "df['kama'] = kama_indicator.kama()\n",
    "ppo_indicator = PercentagePriceOscillator(close = df[\"Close\"], window_slow = 20, window_fast = 10, window_sign = 9, fillna = False)\n",
    "df['ppo'] = ppo_indicator.ppo()\n",
    "pvo_indicator = PercentageVolumeOscillator(volume = df[\"Volume\"], window_slow = 20, window_fast = 10, window_sign = 9, fillna = False)\n",
    "df['pvo'] = pvo_indicator.pvo()\n",
    "roc_indicator = ROCIndicator(close = df[\"Close\"], window = 12, fillna = False)\n",
    "df['roc'] = roc_indicator.roc()\n",
    "macd_indicator = MACD(close = df[\"Close\"], window_slow = 20, window_fast = 12, window_sign = 9, fillna = False)\n",
    "df['macd'] = macd_indicator.macd()\n",
    "rsi_indicator = RSIIndicator(close = df[\"Close\"], window = 14, fillna = False)\n",
    "df['rsi'] = rsi_indicator.rsi()\n",
    "obv_indicator = OnBalanceVolumeIndicator(close = df[\"Close\"], volume = df[\"Volume\"], fillna = False)\n",
    "df['obv'] = obv_indicator.on_balance_volume() \n",
    "adi_indicator = AccDistIndexIndicator(high = df[\"High\"], low = df[\"Low\"], close = df[\"Close\"], volume = df[\"Volume\"], fillna = False)\n",
    "df['adi'] = adi_indicator.acc_dist_index() \n",
    "adx_indicator = ADXIndicator(high = df[\"High\"], low = df[\"Low\"], close = df[\"Close\"], window = 14, fillna = False)\n",
    "df['adx'] = adx_indicator.adx() \n",
    "aroon_indicator = AroonIndicator(close = df[\"Close\"], window = 20, fillna = False)\n",
    "df['aroon'] = aroon_indicator.aroon_indicator()\n",
    "stoo_indicator = StochasticOscillator(high = df[\"High\"], low = df[\"Low\"], close = df[\"Close\"], window = 14, smooth_window = 3, fillna = False)\n",
    "df['stoo'] = stoo_indicator.stoch()\n",
    "boll_indicator = BollingerBands(close = df[\"Close\"], window = 20, window_dev = 2, fillna = False)\n",
    "df['boll_mavg'] = boll_indicator.bollinger_mavg()\n",
    "atr_indicator = AverageTrueRange(high = df[\"High\"], low = df[\"Low\"], close = df[\"Close\"], window = 14, fillna = False)\n",
    "df['atr'] = atr_indicator.average_true_range()\n",
    "df['day_of_month'] = df.index.day\n",
    "df['day_of_week'] = df.index.dayofweek\n",
    "df['month'] = df.index.month\n",
    "\n",
    "df = df[27:60]\n",
    "df =  df.drop(df.columns[[0, 1, 2, 4, 5]], axis=1)\n",
    "df.rename(columns = {\"Close\": \"price\"}, inplace=True)\n",
    "predict =  df.iloc[:len(df)]\n",
    "\n",
    "f_columns = ['kama', 'ppo', 'pvo', 'roc', 'macd', 'rsi', 'obv', 'adi',\n",
    "       'adx', 'aroon', 'stoo', 'boll_mavg', 'atr']\n",
    "\n",
    "f_transformer = RobustScaler()\n",
    "price_transformer = RobustScaler()\n",
    "\n",
    "price_transformer = price_transformer.fit(predict[['price']])\n",
    "\n",
    "f_transformer = f_transformer.fit(predict[f_columns].to_numpy())\n",
    "\n",
    "predict.loc[:, f_columns] = f_transformer.transform(predict[f_columns].to_numpy())\n",
    "predict['price'] = price_transformer.transform(predict[['price']])\n",
    "\n",
    "Xs = []\n",
    "v = predict.values\n",
    "Xs.append(v)\n",
    "\n",
    "X_predict= np.array(Xs)\n",
    "\n",
    "X_predict.shape\n",
    "\n",
    "y_predicted = model.predict(X_predict)\n",
    "\n",
    "y_predicted_inv = price_transformer.inverse_transform(y_predicted)\n",
    "\n",
    "y_predicted_inv"
   ]
  },
  {
   "cell_type": "code",
   "execution_count": null,
   "metadata": {},
   "outputs": [],
   "source": []
  }
 ],
 "metadata": {
  "kernelspec": {
   "display_name": "Python 3",
   "language": "python",
   "name": "python3"
  },
  "language_info": {
   "codemirror_mode": {
    "name": "ipython",
    "version": 3
   },
   "file_extension": ".py",
   "mimetype": "text/x-python",
   "name": "python",
   "nbconvert_exporter": "python",
   "pygments_lexer": "ipython3",
   "version": "3.7.6"
  }
 },
 "nbformat": 4,
 "nbformat_minor": 2
}
