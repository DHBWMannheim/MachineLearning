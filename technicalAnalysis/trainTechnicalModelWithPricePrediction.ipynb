{
 "cells": [
  {
   "cell_type": "code",
   "execution_count": 199,
   "metadata": {},
   "outputs": [],
   "source": [
    "import matplotlib.pyplot as plt\n",
    "import tensorflow as tf\n",
    "from tensorflow import keras\n",
    "import pandas as pd\n",
    "import pandas_datareader.data as pdr\n",
    "import numpy as np\n",
    "import seaborn as sns\n",
    "from pylab import rcParams\n",
    "from matplotlib import rc\n",
    "from sklearn.model_selection import train_test_split\n",
    "from pandas.plotting import register_matplotlib_converters\n",
    "from sklearn.preprocessing import RobustScaler\n",
    "\n",
    "from datetime import datetime, timezone,timedelta\n",
    "from ta.utils import dropna\n",
    "from ta.volatility import BollingerBands, AverageTrueRange\n",
    "from ta.momentum import KAMAIndicator, PercentagePriceOscillator, PercentageVolumeOscillator, ROCIndicator, RSIIndicator, StochasticOscillator\n",
    "from ta.trend import MACD, ADXIndicator, AroonIndicator\n",
    "from ta.volume import OnBalanceVolumeIndicator, AccDistIndexIndicator"
   ]
  },
  {
   "cell_type": "code",
   "execution_count": 200,
   "metadata": {},
   "outputs": [
    {
     "name": "stderr",
     "output_type": "stream",
     "text": [
      "/Users/michi/opt/anaconda3/lib/python3.7/site-packages/ta/trend.py:768: RuntimeWarning: invalid value encountered in double_scalars\n",
      "  dip[i] = 100 * (self._dip[i] / self._trs[i])\n",
      "/Users/michi/opt/anaconda3/lib/python3.7/site-packages/ta/trend.py:772: RuntimeWarning: invalid value encountered in double_scalars\n",
      "  din[i] = 100 * (self._din[i] / self._trs[i])\n"
     ]
    },
    {
     "data": {
      "text/html": [
       "<div>\n",
       "<style scoped>\n",
       "    .dataframe tbody tr th:only-of-type {\n",
       "        vertical-align: middle;\n",
       "    }\n",
       "\n",
       "    .dataframe tbody tr th {\n",
       "        vertical-align: top;\n",
       "    }\n",
       "\n",
       "    .dataframe thead th {\n",
       "        text-align: right;\n",
       "    }\n",
       "</style>\n",
       "<table border=\"1\" class=\"dataframe\">\n",
       "  <thead>\n",
       "    <tr style=\"text-align: right;\">\n",
       "      <th></th>\n",
       "      <th>price</th>\n",
       "      <th>kama</th>\n",
       "      <th>ppo</th>\n",
       "      <th>pvo</th>\n",
       "      <th>roc</th>\n",
       "      <th>macd</th>\n",
       "      <th>rsi</th>\n",
       "      <th>obv</th>\n",
       "      <th>adi</th>\n",
       "      <th>adx</th>\n",
       "      <th>aroon</th>\n",
       "      <th>stoo</th>\n",
       "      <th>boll_mavg</th>\n",
       "      <th>atr</th>\n",
       "      <th>increase</th>\n",
       "    </tr>\n",
       "    <tr>\n",
       "      <th>Date</th>\n",
       "      <th></th>\n",
       "      <th></th>\n",
       "      <th></th>\n",
       "      <th></th>\n",
       "      <th></th>\n",
       "      <th></th>\n",
       "      <th></th>\n",
       "      <th></th>\n",
       "      <th></th>\n",
       "      <th></th>\n",
       "      <th></th>\n",
       "      <th></th>\n",
       "      <th></th>\n",
       "      <th></th>\n",
       "      <th></th>\n",
       "    </tr>\n",
       "  </thead>\n",
       "  <tbody>\n",
       "    <tr>\n",
       "      <th>2015-08-25</th>\n",
       "      <td>1.159980</td>\n",
       "      <td>1.405750</td>\n",
       "      <td>-13.445239</td>\n",
       "      <td>0.772090</td>\n",
       "      <td>-36.539248</td>\n",
       "      <td>-0.166625</td>\n",
       "      <td>35.737493</td>\n",
       "      <td>7.450940e+05</td>\n",
       "      <td>-2.226652e+06</td>\n",
       "      <td>0.000000</td>\n",
       "      <td>-10.0</td>\n",
       "      <td>8.178828</td>\n",
       "      <td>1.340227</td>\n",
       "      <td>0.400591</td>\n",
       "      <td>0</td>\n",
       "    </tr>\n",
       "    <tr>\n",
       "      <th>2015-08-26</th>\n",
       "      <td>1.147700</td>\n",
       "      <td>1.402955</td>\n",
       "      <td>-13.377194</td>\n",
       "      <td>-4.311565</td>\n",
       "      <td>-32.044529</td>\n",
       "      <td>-0.162148</td>\n",
       "      <td>35.483536</td>\n",
       "      <td>5.843200e+04</td>\n",
       "      <td>-2.635933e+06</td>\n",
       "      <td>0.000000</td>\n",
       "      <td>25.0</td>\n",
       "      <td>7.155528</td>\n",
       "      <td>1.259006</td>\n",
       "      <td>0.375659</td>\n",
       "      <td>1</td>\n",
       "    </tr>\n",
       "    <tr>\n",
       "      <th>2015-08-27</th>\n",
       "      <td>1.191380</td>\n",
       "      <td>1.398493</td>\n",
       "      <td>-12.841273</td>\n",
       "      <td>-8.205707</td>\n",
       "      <td>-23.923552</td>\n",
       "      <td>-0.153785</td>\n",
       "      <td>37.193189</td>\n",
       "      <td>7.803040e+05</td>\n",
       "      <td>-2.185476e+06</td>\n",
       "      <td>0.000000</td>\n",
       "      <td>25.0</td>\n",
       "      <td>15.887712</td>\n",
       "      <td>1.280909</td>\n",
       "      <td>0.355061</td>\n",
       "      <td>0</td>\n",
       "    </tr>\n",
       "    <tr>\n",
       "      <th>2015-08-28</th>\n",
       "      <td>1.182550</td>\n",
       "      <td>1.394309</td>\n",
       "      <td>-12.305072</td>\n",
       "      <td>-13.951193</td>\n",
       "      <td>-1.749735</td>\n",
       "      <td>-0.145647</td>\n",
       "      <td>36.979851</td>\n",
       "      <td>4.049270e+05</td>\n",
       "      <td>-2.130847e+06</td>\n",
       "      <td>0.000000</td>\n",
       "      <td>20.0</td>\n",
       "      <td>19.058732</td>\n",
       "      <td>1.304942</td>\n",
       "      <td>0.333823</td>\n",
       "      <td>1</td>\n",
       "    </tr>\n",
       "    <tr>\n",
       "      <th>2015-08-29</th>\n",
       "      <td>1.319270</td>\n",
       "      <td>1.390506</td>\n",
       "      <td>-10.768333</td>\n",
       "      <td>-10.893690</td>\n",
       "      <td>21.362409</td>\n",
       "      <td>-0.129269</td>\n",
       "      <td>42.481178</td>\n",
       "      <td>1.742577e+06</td>\n",
       "      <td>-1.453551e+06</td>\n",
       "      <td>0.000000</td>\n",
       "      <td>15.0</td>\n",
       "      <td>49.568699</td>\n",
       "      <td>1.335483</td>\n",
       "      <td>0.324077</td>\n",
       "      <td>1</td>\n",
       "    </tr>\n",
       "    <tr>\n",
       "      <th>...</th>\n",
       "      <td>...</td>\n",
       "      <td>...</td>\n",
       "      <td>...</td>\n",
       "      <td>...</td>\n",
       "      <td>...</td>\n",
       "      <td>...</td>\n",
       "      <td>...</td>\n",
       "      <td>...</td>\n",
       "      <td>...</td>\n",
       "      <td>...</td>\n",
       "      <td>...</td>\n",
       "      <td>...</td>\n",
       "      <td>...</td>\n",
       "      <td>...</td>\n",
       "      <td>...</td>\n",
       "    </tr>\n",
       "    <tr>\n",
       "      <th>2021-01-22</th>\n",
       "      <td>1236.512207</td>\n",
       "      <td>1206.445263</td>\n",
       "      <td>7.097784</td>\n",
       "      <td>8.786998</td>\n",
       "      <td>-2.038785</td>\n",
       "      <td>67.617759</td>\n",
       "      <td>58.461031</td>\n",
       "      <td>1.055966e+12</td>\n",
       "      <td>1.251418e+12</td>\n",
       "      <td>33.791964</td>\n",
       "      <td>85.0</td>\n",
       "      <td>61.411796</td>\n",
       "      <td>1190.465381</td>\n",
       "      <td>142.420937</td>\n",
       "      <td>0</td>\n",
       "    </tr>\n",
       "    <tr>\n",
       "      <th>2021-01-23</th>\n",
       "      <td>1230.990601</td>\n",
       "      <td>1206.975004</td>\n",
       "      <td>6.412212</td>\n",
       "      <td>5.044515</td>\n",
       "      <td>12.919856</td>\n",
       "      <td>62.259214</td>\n",
       "      <td>58.102078</td>\n",
       "      <td>1.028712e+12</td>\n",
       "      <td>1.247187e+12</td>\n",
       "      <td>31.997002</td>\n",
       "      <td>80.0</td>\n",
       "      <td>60.323532</td>\n",
       "      <td>1203.239526</td>\n",
       "      <td>137.337857</td>\n",
       "      <td>1</td>\n",
       "    </tr>\n",
       "    <tr>\n",
       "      <th>2021-01-24</th>\n",
       "      <td>1391.609375</td>\n",
       "      <td>1213.920119</td>\n",
       "      <td>6.901073</td>\n",
       "      <td>4.218413</td>\n",
       "      <td>33.368149</td>\n",
       "      <td>66.658216</td>\n",
       "      <td>64.860984</td>\n",
       "      <td>1.065130e+12</td>\n",
       "      <td>1.282103e+12</td>\n",
       "      <td>31.302432</td>\n",
       "      <td>60.0</td>\n",
       "      <td>91.980196</td>\n",
       "      <td>1220.808344</td>\n",
       "      <td>139.659244</td>\n",
       "      <td>0</td>\n",
       "    </tr>\n",
       "    <tr>\n",
       "      <th>2021-01-25</th>\n",
       "      <td>1324.414795</td>\n",
       "      <td>1217.332166</td>\n",
       "      <td>6.660223</td>\n",
       "      <td>5.151816</td>\n",
       "      <td>17.128210</td>\n",
       "      <td>65.111129</td>\n",
       "      <td>60.466373</td>\n",
       "      <td>1.021565e+12</td>\n",
       "      <td>1.248942e+12</td>\n",
       "      <td>31.138438</td>\n",
       "      <td>60.0</td>\n",
       "      <td>69.704299</td>\n",
       "      <td>1232.028778</td>\n",
       "      <td>141.312935</td>\n",
       "      <td>1</td>\n",
       "    </tr>\n",
       "    <tr>\n",
       "      <th>2021-01-26</th>\n",
       "      <td>1357.058105</td>\n",
       "      <td>1220.812694</td>\n",
       "      <td>6.576912</td>\n",
       "      <td>5.279458</td>\n",
       "      <td>11.375498</td>\n",
       "      <td>64.885881</td>\n",
       "      <td>61.819755</td>\n",
       "      <td>1.063138e+12</td>\n",
       "      <td>1.277626e+12</td>\n",
       "      <td>30.413335</td>\n",
       "      <td>60.0</td>\n",
       "      <td>76.602193</td>\n",
       "      <td>1239.526074</td>\n",
       "      <td>139.986636</td>\n",
       "      <td>1</td>\n",
       "    </tr>\n",
       "  </tbody>\n",
       "</table>\n",
       "<p>1977 rows × 15 columns</p>\n",
       "</div>"
      ],
      "text/plain": [
       "                  price         kama        ppo        pvo        roc  \\\n",
       "Date                                                                    \n",
       "2015-08-25     1.159980     1.405750 -13.445239   0.772090 -36.539248   \n",
       "2015-08-26     1.147700     1.402955 -13.377194  -4.311565 -32.044529   \n",
       "2015-08-27     1.191380     1.398493 -12.841273  -8.205707 -23.923552   \n",
       "2015-08-28     1.182550     1.394309 -12.305072 -13.951193  -1.749735   \n",
       "2015-08-29     1.319270     1.390506 -10.768333 -10.893690  21.362409   \n",
       "...                 ...          ...        ...        ...        ...   \n",
       "2021-01-22  1236.512207  1206.445263   7.097784   8.786998  -2.038785   \n",
       "2021-01-23  1230.990601  1206.975004   6.412212   5.044515  12.919856   \n",
       "2021-01-24  1391.609375  1213.920119   6.901073   4.218413  33.368149   \n",
       "2021-01-25  1324.414795  1217.332166   6.660223   5.151816  17.128210   \n",
       "2021-01-26  1357.058105  1220.812694   6.576912   5.279458  11.375498   \n",
       "\n",
       "                 macd        rsi           obv           adi        adx  \\\n",
       "Date                                                                      \n",
       "2015-08-25  -0.166625  35.737493  7.450940e+05 -2.226652e+06   0.000000   \n",
       "2015-08-26  -0.162148  35.483536  5.843200e+04 -2.635933e+06   0.000000   \n",
       "2015-08-27  -0.153785  37.193189  7.803040e+05 -2.185476e+06   0.000000   \n",
       "2015-08-28  -0.145647  36.979851  4.049270e+05 -2.130847e+06   0.000000   \n",
       "2015-08-29  -0.129269  42.481178  1.742577e+06 -1.453551e+06   0.000000   \n",
       "...               ...        ...           ...           ...        ...   \n",
       "2021-01-22  67.617759  58.461031  1.055966e+12  1.251418e+12  33.791964   \n",
       "2021-01-23  62.259214  58.102078  1.028712e+12  1.247187e+12  31.997002   \n",
       "2021-01-24  66.658216  64.860984  1.065130e+12  1.282103e+12  31.302432   \n",
       "2021-01-25  65.111129  60.466373  1.021565e+12  1.248942e+12  31.138438   \n",
       "2021-01-26  64.885881  61.819755  1.063138e+12  1.277626e+12  30.413335   \n",
       "\n",
       "            aroon       stoo    boll_mavg         atr  increase  \n",
       "Date                                                             \n",
       "2015-08-25  -10.0   8.178828     1.340227    0.400591         0  \n",
       "2015-08-26   25.0   7.155528     1.259006    0.375659         1  \n",
       "2015-08-27   25.0  15.887712     1.280909    0.355061         0  \n",
       "2015-08-28   20.0  19.058732     1.304942    0.333823         1  \n",
       "2015-08-29   15.0  49.568699     1.335483    0.324077         1  \n",
       "...           ...        ...          ...         ...       ...  \n",
       "2021-01-22   85.0  61.411796  1190.465381  142.420937         0  \n",
       "2021-01-23   80.0  60.323532  1203.239526  137.337857         1  \n",
       "2021-01-24   60.0  91.980196  1220.808344  139.659244         0  \n",
       "2021-01-25   60.0  69.704299  1232.028778  141.312935         1  \n",
       "2021-01-26   60.0  76.602193  1239.526074  139.986636         1  \n",
       "\n",
       "[1977 rows x 15 columns]"
      ]
     },
     "execution_count": 200,
     "metadata": {},
     "output_type": "execute_result"
    }
   ],
   "source": [
    "end = datetime.today() - timedelta(days=46)\n",
    "start = datetime(2000, 9, 1)\n",
    "ETH = pdr.DataReader('ETH-USD','yahoo',start,end)\n",
    "\n",
    "df = pd.DataFrame(data=ETH)\n",
    "\n",
    "kama_indicator = KAMAIndicator(close = df[\"Close\"], window = 10, pow1 = 2, pow2 = 30, fillna = False)\n",
    "df['kama'] = kama_indicator.kama()\n",
    "ppo_indicator = PercentagePriceOscillator(close = df[\"Close\"], window_slow = 20, window_fast = 10, window_sign = 9, fillna = False)\n",
    "df['ppo'] = ppo_indicator.ppo()\n",
    "pvo_indicator = PercentageVolumeOscillator(volume = df[\"Volume\"], window_slow = 20, window_fast = 10, window_sign = 9, fillna = False)\n",
    "df['pvo'] = pvo_indicator.pvo()\n",
    "roc_indicator = ROCIndicator(close = df[\"Close\"], window = 12, fillna = False)\n",
    "df['roc'] = roc_indicator.roc()\n",
    "macd_indicator = MACD(close = df[\"Close\"], window_slow = 20, window_fast = 12, window_sign = 9, fillna = False)\n",
    "df['macd'] = macd_indicator.macd()\n",
    "rsi_indicator = RSIIndicator(close = df[\"Close\"], window = 14, fillna = False)\n",
    "df['rsi'] = rsi_indicator.rsi()\n",
    "obv_indicator = OnBalanceVolumeIndicator(close = df[\"Close\"], volume = df[\"Volume\"], fillna = False)\n",
    "df['obv'] = obv_indicator.on_balance_volume() \n",
    "adi_indicator = AccDistIndexIndicator(high = df[\"High\"], low = df[\"Low\"], close = df[\"Close\"], volume = df[\"Volume\"], fillna = False)\n",
    "df['adi'] = adi_indicator.acc_dist_index() \n",
    "adx_indicator = ADXIndicator(high = df[\"High\"], low = df[\"Low\"], close = df[\"Close\"], window = 14, fillna = False)\n",
    "df['adx'] = adx_indicator.adx() \n",
    "aroon_indicator = AroonIndicator(close = df[\"Close\"], window = 20, fillna = False)\n",
    "df['aroon'] = aroon_indicator.aroon_indicator()\n",
    "stoo_indicator = StochasticOscillator(high = df[\"High\"], low = df[\"Low\"], close = df[\"Close\"], window = 14, smooth_window = 3, fillna = False)\n",
    "df['stoo'] = stoo_indicator.stoch()\n",
    "boll_indicator = BollingerBands(close = df[\"Close\"], window = 20, window_dev = 2, fillna = False)\n",
    "df['boll_mavg'] = boll_indicator.bollinger_mavg()\n",
    "atr_indicator = AverageTrueRange(high = df[\"High\"], low = df[\"Low\"], close = df[\"Close\"], window = 14, fillna = False)\n",
    "df['atr'] = atr_indicator.average_true_range()\n",
    "df.rename(columns = {\"Close\": \"price\"}, inplace=True)\n",
    "prices = df['price'].to_numpy()\n",
    "\n",
    "increase = []\n",
    "for i in range(0, len(prices)):\n",
    "    if(i == len(prices)-1):\n",
    "        increase.append(1)\n",
    "    else:\n",
    "        if(prices[i+1] > prices[i]):\n",
    "            increase.append(1)\n",
    "        else:\n",
    "            increase.append(0)\n",
    "\n",
    "df['increase'] = increase\n",
    "\n",
    "df.dropna(inplace=True)\n",
    "df = df.drop(df.columns[[0, 1, 2, 4, 5]], axis=1)\n",
    "df"
   ]
  },
  {
   "cell_type": "code",
   "execution_count": 201,
   "metadata": {},
   "outputs": [],
   "source": [
    "df['day_of_month'] = df.index.day\n",
    "df['day_of_week'] = df.index.dayofweek\n",
    "df['month'] = df.index.month"
   ]
  },
  {
   "cell_type": "code",
   "execution_count": 202,
   "metadata": {
    "scrolled": false
   },
   "outputs": [
    {
     "data": {
      "image/png": "[encoded data removed]",
      "text/plain": [
       "<Figure size 432x288 with 1 Axes>"
      ]
     },
     "metadata": {
      "needs_background": "light"
     },
     "output_type": "display_data"
    }
   ],
   "source": [
    "sns.lineplot(x=df.index, y=\"price\", data=df);"
   ]
  },
  {
   "cell_type": "code",
   "execution_count": 203,
   "metadata": {
    "scrolled": true
   },
   "outputs": [
    {
     "data": {
      "image/png": "[encoded data removed]",
      "text/plain": [
       "<Figure size 432x288 with 1 Axes>"
      ]
     },
     "metadata": {
      "needs_background": "light"
     },
     "output_type": "display_data"
    }
   ],
   "source": [
    "df_by_month = df.resample('M').sum()\n",
    "\n",
    "sns.lineplot(x=df_by_month.index, y=\"price\", data=df_by_month);"
   ]
  },
  {
   "cell_type": "code",
   "execution_count": 204,
   "metadata": {},
   "outputs": [
    {
     "name": "stdout",
     "output_type": "stream",
     "text": [
      "(1779, 18) (198, 18)\n"
     ]
    }
   ],
   "source": [
    "train_size = int(len(df) * 0.9)\n",
    "test_size = len(df) - train_size\n",
    "train, test = df.iloc[0:train_size], df.iloc[train_size:len(df)]\n",
    "print(train.shape, test.shape)"
   ]
  },
  {
   "cell_type": "code",
   "execution_count": 205,
   "metadata": {},
   "outputs": [
    {
     "name": "stderr",
     "output_type": "stream",
     "text": [
      "/Users/michi/opt/anaconda3/lib/python3.7/site-packages/pandas/core/indexing.py:965: SettingWithCopyWarning: \n",
      "A value is trying to be set on a copy of a slice from a DataFrame.\n",
      "Try using .loc[row_indexer,col_indexer] = value instead\n",
      "\n",
      "See the caveats in the documentation: https://pandas.pydata.org/pandas-docs/stable/user_guide/indexing.html#returning-a-view-versus-a-copy\n",
      "  self.obj[item] = s\n",
      "/Users/michi/opt/anaconda3/lib/python3.7/site-packages/ipykernel_launcher.py:11: SettingWithCopyWarning: \n",
      "A value is trying to be set on a copy of a slice from a DataFrame.\n",
      "Try using .loc[row_indexer,col_indexer] = value instead\n",
      "\n",
      "See the caveats in the documentation: https://pandas.pydata.org/pandas-docs/stable/user_guide/indexing.html#returning-a-view-versus-a-copy\n",
      "  # This is added back by InteractiveShellApp.init_path()\n",
      "/Users/michi/opt/anaconda3/lib/python3.7/site-packages/pandas/core/indexing.py:965: SettingWithCopyWarning: \n",
      "A value is trying to be set on a copy of a slice from a DataFrame.\n",
      "Try using .loc[row_indexer,col_indexer] = value instead\n",
      "\n",
      "See the caveats in the documentation: https://pandas.pydata.org/pandas-docs/stable/user_guide/indexing.html#returning-a-view-versus-a-copy\n",
      "  self.obj[item] = s\n",
      "/Users/michi/opt/anaconda3/lib/python3.7/site-packages/ipykernel_launcher.py:14: SettingWithCopyWarning: \n",
      "A value is trying to be set on a copy of a slice from a DataFrame.\n",
      "Try using .loc[row_indexer,col_indexer] = value instead\n",
      "\n",
      "See the caveats in the documentation: https://pandas.pydata.org/pandas-docs/stable/user_guide/indexing.html#returning-a-view-versus-a-copy\n",
      "  \n"
     ]
    }
   ],
   "source": [
    "label_columns = ['kama', 'ppo', 'pvo', 'roc', 'macd', 'rsi', 'obv', 'adi',\n",
    "       'adx', 'aroon', 'stoo', 'boll_mavg', 'atr', 'increase', 'day_of_month', 'day_of_week', 'month']\n",
    "\n",
    "label_transformer = RobustScaler()\n",
    "price_transformer = RobustScaler()\n",
    "\n",
    "label_transformer = label_transformer.fit(train[label_columns].to_numpy())\n",
    "price_transformer = price_transformer.fit(train[['price']])\n",
    "\n",
    "train.loc[:, label_columns] = label_transformer.transform(train[label_columns].to_numpy())\n",
    "train['price'] = price_transformer.transform(train[['price']])\n",
    "\n",
    "test.loc[:, label_columns] = label_transformer.transform(test[label_columns].to_numpy())\n",
    "test['price'] = price_transformer.transform(test[['price']])"
   ]
  },
  {
   "cell_type": "code",
   "execution_count": 206,
   "metadata": {},
   "outputs": [],
   "source": [
    "def create_dataset(X, y, time_steps=1):\n",
    "    Xs, ys = [], []\n",
    "    for i in range(len(X) - time_steps):\n",
    "        v = X.iloc[i:(i + time_steps)].values\n",
    "        Xs.append(v)        \n",
    "        ys.append(y.iloc[i + time_steps])\n",
    "    return np.array(Xs), np.array(ys)"
   ]
  },
  {
   "cell_type": "code",
   "execution_count": 207,
   "metadata": {},
   "outputs": [
    {
     "name": "stdout",
     "output_type": "stream",
     "text": [
      "(1749, 30, 18) (1749,)\n"
     ]
    }
   ],
   "source": [
    "time_steps = 30\n",
    "\n",
    "X_train, y_train = create_dataset(train, train.price, time_steps)\n",
    "X_test, y_test = create_dataset(test, test.price, time_steps)\n",
    "\n",
    "print(X_train.shape, y_train.shape)"
   ]
  },
  {
   "cell_type": "code",
   "execution_count": 208,
   "metadata": {},
   "outputs": [
    {
     "data": {
      "text/plain": [
       "(168, 30, 18)"
      ]
     },
     "execution_count": 208,
     "metadata": {},
     "output_type": "execute_result"
    }
   ],
   "source": [
    "X_test.shape"
   ]
  },
  {
   "cell_type": "code",
   "execution_count": 209,
   "metadata": {},
   "outputs": [],
   "source": [
    "model = keras.Sequential()\n",
    "model.add(\n",
    "  keras.layers.Bidirectional(\n",
    "    keras.layers.LSTM(\n",
    "      units=128, \n",
    "      input_shape=(X_train.shape[1], X_train.shape[2])\n",
    "    )\n",
    "  )\n",
    ")\n",
    "model.add(keras.layers.Dropout(rate=0.2))\n",
    "model.add(keras.layers.Dense(units=1))\n",
    "model.compile(loss='mean_squared_error', optimizer='adam')"
   ]
  },
  {
   "cell_type": "code",
   "execution_count": 210,
   "metadata": {
    "scrolled": true
   },
   "outputs": [
    {
     "name": "stdout",
     "output_type": "stream",
     "text": [
      "Epoch 1/30\n",
      "50/50 [==============================] - 4s 31ms/step - loss: 0.2651 - val_loss: 0.3375\n",
      "Epoch 2/30\n",
      "50/50 [==============================] - 1s 21ms/step - loss: 0.2796 - val_loss: 0.0329\n",
      "Epoch 3/30\n",
      "50/50 [==============================] - 1s 21ms/step - loss: 0.1354 - val_loss: 0.2213\n",
      "Epoch 4/30\n",
      "50/50 [==============================] - 1s 20ms/step - loss: 0.0797 - val_loss: 0.0853\n",
      "Epoch 5/30\n",
      "50/50 [==============================] - 1s 21ms/step - loss: 0.0403 - val_loss: 0.1533\n",
      "Epoch 6/30\n",
      "50/50 [==============================] - 1s 20ms/step - loss: 0.0406 - val_loss: 0.0596\n",
      "Epoch 7/30\n",
      "50/50 [==============================] - 1s 21ms/step - loss: 0.0331 - val_loss: 0.0252\n",
      "Epoch 8/30\n",
      "50/50 [==============================] - 1s 21ms/step - loss: 0.0228 - val_loss: 0.0188\n",
      "Epoch 9/30\n",
      "50/50 [==============================] - 1s 21ms/step - loss: 0.0193 - val_loss: 0.0297\n",
      "Epoch 10/30\n",
      "50/50 [==============================] - 1s 22ms/step - loss: 0.0198 - val_loss: 0.0192\n",
      "Epoch 11/30\n",
      "50/50 [==============================] - 1s 21ms/step - loss: 0.0321 - val_loss: 0.0371\n",
      "Epoch 12/30\n",
      "50/50 [==============================] - 1s 21ms/step - loss: 0.0438 - val_loss: 0.0202\n",
      "Epoch 13/30\n",
      "50/50 [==============================] - 1s 21ms/step - loss: 0.0540 - val_loss: 0.0436\n",
      "Epoch 14/30\n",
      "50/50 [==============================] - 1s 21ms/step - loss: 0.0683 - val_loss: 0.0182\n",
      "Epoch 15/30\n",
      "50/50 [==============================] - 1s 21ms/step - loss: 0.0511 - val_loss: 0.0636\n",
      "Epoch 16/30\n",
      "50/50 [==============================] - 1s 22ms/step - loss: 0.0501 - val_loss: 0.0210\n",
      "Epoch 17/30\n",
      "50/50 [==============================] - 1s 22ms/step - loss: 0.0292 - val_loss: 0.0447\n",
      "Epoch 18/30\n",
      "50/50 [==============================] - 1s 21ms/step - loss: 0.0266 - val_loss: 0.0145\n",
      "Epoch 19/30\n",
      "50/50 [==============================] - 1s 21ms/step - loss: 0.0196 - val_loss: 0.0294\n",
      "Epoch 20/30\n",
      "50/50 [==============================] - 1s 21ms/step - loss: 0.0173 - val_loss: 0.0131\n",
      "Epoch 21/30\n",
      "50/50 [==============================] - 1s 23ms/step - loss: 0.0134 - val_loss: 0.0211\n",
      "Epoch 22/30\n",
      "50/50 [==============================] - 1s 21ms/step - loss: 0.0136 - val_loss: 0.0128\n",
      "Epoch 23/30\n",
      "50/50 [==============================] - 1s 21ms/step - loss: 0.0122 - val_loss: 0.0225\n",
      "Epoch 24/30\n",
      "50/50 [==============================] - 1s 20ms/step - loss: 0.0125 - val_loss: 0.0121\n",
      "Epoch 25/30\n",
      "50/50 [==============================] - 1s 20ms/step - loss: 0.0145 - val_loss: 0.0205\n",
      "Epoch 26/30\n",
      "50/50 [==============================] - 1s 19ms/step - loss: 0.0180 - val_loss: 0.0132\n",
      "Epoch 27/30\n",
      "50/50 [==============================] - 1s 20ms/step - loss: 0.0205 - val_loss: 0.0281\n",
      "Epoch 28/30\n",
      "50/50 [==============================] - 1s 20ms/step - loss: 0.0247 - val_loss: 0.0143\n",
      "Epoch 29/30\n",
      "50/50 [==============================] - 1s 21ms/step - loss: 0.0230 - val_loss: 0.0328\n",
      "Epoch 30/30\n",
      "50/50 [==============================] - 1s 21ms/step - loss: 0.0255 - val_loss: 0.0139\n"
     ]
    }
   ],
   "source": [
    "history = model.fit(\n",
    "    X_train, y_train, \n",
    "    epochs=30, \n",
    "    batch_size=32, \n",
    "    validation_split=0.1,\n",
    "    shuffle=False\n",
    ")"
   ]
  },
  {
   "cell_type": "code",
   "execution_count": 211,
   "metadata": {},
   "outputs": [
    {
     "data": {
      "image/png": "[encoded data removed]",
      "text/plain": [
       "<Figure size 432x288 with 1 Axes>"
      ]
     },
     "metadata": {
      "needs_background": "light"
     },
     "output_type": "display_data"
    }
   ],
   "source": [
    "plt.plot(history.history['loss'], label='train')\n",
    "plt.plot(history.history['val_loss'], label='test')\n",
    "plt.legend();"
   ]
  },
  {
   "cell_type": "code",
   "execution_count": 212,
   "metadata": {},
   "outputs": [],
   "source": [
    "y_pred = model.predict(X_test)"
   ]
  },
  {
   "cell_type": "code",
   "execution_count": 213,
   "metadata": {},
   "outputs": [],
   "source": [
    "y_train_inv = price_transformer.inverse_transform(y_train.reshape(1, -1))\n",
    "y_test_inv = price_transformer.inverse_transform(y_test.reshape(1, -1))\n",
    "y_pred_inv = price_transformer.inverse_transform(y_pred)"
   ]
  },
  {
   "cell_type": "code",
   "execution_count": 214,
   "metadata": {
    "scrolled": true
   },
   "outputs": [
    {
     "data": {
      "image/png": "[encoded data removed]",
      "text/plain": [
       "<Figure size 432x288 with 1 Axes>"
      ]
     },
     "metadata": {
      "needs_background": "light"
     },
     "output_type": "display_data"
    }
   ],
   "source": [
    "plt.plot(np.arange(0, len(y_train)), y_train_inv.flatten(), 'g', label=\"history\")\n",
    "plt.plot(np.arange(len(y_train), len(y_train) + len(y_test)), y_test_inv.flatten(), marker='.', label=\"true\")\n",
    "plt.plot(np.arange(len(y_train), len(y_train) + len(y_test)), y_pred_inv.flatten(), 'r', label=\"prediction\")\n",
    "plt.ylabel('Price')\n",
    "plt.xlabel('Time Step')\n",
    "plt.legend()\n",
    "plt.show();"
   ]
  },
  {
   "cell_type": "code",
   "execution_count": 215,
   "metadata": {},
   "outputs": [
    {
     "data": {
      "image/png": "[encoded data removed]",
      "text/plain": [
       "<Figure size 432x288 with 1 Axes>"
      ]
     },
     "metadata": {
      "needs_background": "light"
     },
     "output_type": "display_data"
    }
   ],
   "source": [
    "plt.plot(y_test_inv.flatten(), marker='.', label=\"true\")\n",
    "plt.plot(y_pred_inv.flatten(), 'r', label=\"prediction\")\n",
    "plt.ylabel('Price')\n",
    "plt.xlabel('Time Step')\n",
    "plt.legend()\n",
    "plt.show();"
   ]
  },
  {
   "cell_type": "code",
   "execution_count": 216,
   "metadata": {},
   "outputs": [
    {
     "name": "stderr",
     "output_type": "stream",
     "text": [
      "/Users/michi/opt/anaconda3/lib/python3.7/site-packages/ta/trend.py:768: RuntimeWarning: invalid value encountered in double_scalars\n",
      "  dip[i] = 100 * (self._dip[i] / self._trs[i])\n",
      "/Users/michi/opt/anaconda3/lib/python3.7/site-packages/ta/trend.py:772: RuntimeWarning: invalid value encountered in double_scalars\n",
      "  din[i] = 100 * (self._din[i] / self._trs[i])\n"
     ]
    },
    {
     "data": {
      "text/plain": [
       "array([[1636.4706]], dtype=float32)"
      ]
     },
     "execution_count": 216,
     "metadata": {},
     "output_type": "execute_result"
    }
   ],
   "source": [
    "end = datetime.today()\n",
    "start = datetime.today() - timedelta(days=56)\n",
    "ETH = pdr.DataReader('ETH-USD','yahoo',start,end)\n",
    "\n",
    "df = pd.DataFrame(data=ETH)\n",
    "\n",
    "kama_indicator = KAMAIndicator(close = df[\"Close\"], window = 10, pow1 = 2, pow2 = 30, fillna = False)\n",
    "df['kama'] = kama_indicator.kama()\n",
    "ppo_indicator = PercentagePriceOscillator(close = df[\"Close\"], window_slow = 20, window_fast = 10, window_sign = 9, fillna = False)\n",
    "df['ppo'] = ppo_indicator.ppo()\n",
    "pvo_indicator = PercentageVolumeOscillator(volume = df[\"Volume\"], window_slow = 20, window_fast = 10, window_sign = 9, fillna = False)\n",
    "df['pvo'] = pvo_indicator.pvo()\n",
    "roc_indicator = ROCIndicator(close = df[\"Close\"], window = 12, fillna = False)\n",
    "df['roc'] = roc_indicator.roc()\n",
    "macd_indicator = MACD(close = df[\"Close\"], window_slow = 20, window_fast = 12, window_sign = 9, fillna = False)\n",
    "df['macd'] = macd_indicator.macd()\n",
    "rsi_indicator = RSIIndicator(close = df[\"Close\"], window = 14, fillna = False)\n",
    "df['rsi'] = rsi_indicator.rsi()\n",
    "obv_indicator = OnBalanceVolumeIndicator(close = df[\"Close\"], volume = df[\"Volume\"], fillna = False)\n",
    "df['obv'] = obv_indicator.on_balance_volume() \n",
    "adi_indicator = AccDistIndexIndicator(high = df[\"High\"], low = df[\"Low\"], close = df[\"Close\"], volume = df[\"Volume\"], fillna = False)\n",
    "df['adi'] = adi_indicator.acc_dist_index() \n",
    "adx_indicator = ADXIndicator(high = df[\"High\"], low = df[\"Low\"], close = df[\"Close\"], window = 14, fillna = False)\n",
    "df['adx'] = adx_indicator.adx() \n",
    "aroon_indicator = AroonIndicator(close = df[\"Close\"], window = 20, fillna = False)\n",
    "df['aroon'] = aroon_indicator.aroon_indicator()\n",
    "stoo_indicator = StochasticOscillator(high = df[\"High\"], low = df[\"Low\"], close = df[\"Close\"], window = 14, smooth_window = 3, fillna = False)\n",
    "df['stoo'] = stoo_indicator.stoch()\n",
    "boll_indicator = BollingerBands(close = df[\"Close\"], window = 20, window_dev = 2, fillna = False)\n",
    "df['boll_mavg'] = boll_indicator.bollinger_mavg()\n",
    "atr_indicator = AverageTrueRange(high = df[\"High\"], low = df[\"Low\"], close = df[\"Close\"], window = 14, fillna = False)\n",
    "df['atr'] = atr_indicator.average_true_range()\n",
    "df['day_of_month'] = df.index.day\n",
    "df['day_of_week'] = df.index.dayofweek\n",
    "df['month'] = df.index.month\n",
    "df.rename(columns = {\"Close\": \"price\"}, inplace=True)\n",
    "\n",
    "\n",
    "increase = []\n",
    "for i in range(0, len(df)):\n",
    "    if(i == len(prices)-1):\n",
    "        increase.append(1)\n",
    "    else:\n",
    "        if(prices[i+1] > prices[i]):\n",
    "            increase.append(1)\n",
    "        else:\n",
    "            increase.append(0)\n",
    "df['increase'] = increase\n",
    "\n",
    "df.dropna(inplace=True)\n",
    "df =  df.drop(df.columns[[0, 1, 2, 4, 5]], axis=1)\n",
    "predict =  df.iloc[:len(df)]\n",
    "\n",
    "label_columns = ['kama', 'ppo', 'pvo', 'roc', 'macd', 'rsi', 'obv', 'adi',\n",
    "       'adx', 'aroon', 'stoo', 'boll_mavg', 'atr', 'increase', 'day_of_month', 'day_of_week', 'month']\n",
    "\n",
    "label_transformer = RobustScaler()\n",
    "price_transformer = RobustScaler()\n",
    "\n",
    "price_transformer = price_transformer.fit(predict[['price']])\n",
    "\n",
    "label_transformer = label_transformer.fit(predict[label_columns].to_numpy())\n",
    "\n",
    "predict.loc[:, label_columns] = label_transformer.transform(predict[label_columns].to_numpy())\n",
    "predict['price'] = price_transformer.transform(predict[['price']])\n",
    "\n",
    "Xs = []\n",
    "v = predict.values\n",
    "Xs.append(v)\n",
    "\n",
    "X_predict= np.array(Xs)\n",
    "\n",
    "X_predict.shape\n",
    "\n",
    "y_predicted = model.predict(X_predict)\n",
    "\n",
    "y_predicted_inv = price_transformer.inverse_transform(y_predicted)\n",
    "\n",
    "y_predicted_inv"
   ]
  },
  {
   "cell_type": "code",
   "execution_count": null,
   "metadata": {},
   "outputs": [],
   "source": []
  }
 ],
 "metadata": {
  "kernelspec": {
   "display_name": "Python 3",
   "language": "python",
   "name": "python3"
  },
  "language_info": {
   "codemirror_mode": {
    "name": "ipython",
    "version": 3
   },
   "file_extension": ".py",
   "mimetype": "text/x-python",
   "name": "python",
   "nbconvert_exporter": "python",
   "pygments_lexer": "ipython3",
   "version": "3.7.6"
  }
 },
 "nbformat": 4,
 "nbformat_minor": 2
}
