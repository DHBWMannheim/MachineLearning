{
 "cells": [
  {
   "cell_type": "code",
   "execution_count": 3,
   "metadata": {},
   "outputs": [],
   "source": [
    "import matplotlib.pyplot as plt\n",
    "import tensorflow as tf\n",
    "from tensorflow import keras\n",
    "import pandas as pd\n",
    "import pandas_datareader.data as pdr\n",
    "import numpy as np\n",
    "import seaborn as sns\n",
    "from pylab import rcParams\n",
    "from matplotlib import rc\n",
    "from sklearn.model_selection import train_test_split\n",
    "from pandas.plotting import register_matplotlib_converters\n",
    "from sklearn.preprocessing import RobustScaler\n",
    "\n",
    "from datetime import datetime, timezone,timedelta\n",
    "from ta.utils import dropna\n",
    "from ta.volatility import BollingerBands, AverageTrueRange\n",
    "from ta.momentum import KAMAIndicator, PercentagePriceOscillator, PercentageVolumeOscillator, ROCIndicator, RSIIndicator, StochasticOscillator\n",
    "from ta.trend import MACD, ADXIndicator, AroonIndicator\n",
    "from ta.volume import OnBalanceVolumeIndicator, AccDistIndexIndicator"
   ]
  },
  {
   "cell_type": "code",
   "execution_count": 15,
   "metadata": {},
   "outputs": [
    {
     "name": "stderr",
     "output_type": "stream",
     "text": [
      "/Users/michi/opt/anaconda3/lib/python3.7/site-packages/ta/trend.py:768: RuntimeWarning: invalid value encountered in double_scalars\n",
      "  dip[i] = 100 * (self._dip[i] / self._trs[i])\n",
      "/Users/michi/opt/anaconda3/lib/python3.7/site-packages/ta/trend.py:772: RuntimeWarning: invalid value encountered in double_scalars\n",
      "  din[i] = 100 * (self._din[i] / self._trs[i])\n"
     ]
    },
    {
     "data": {
      "text/html": [
       "<div>\n",
       "<style scoped>\n",
       "    .dataframe tbody tr th:only-of-type {\n",
       "        vertical-align: middle;\n",
       "    }\n",
       "\n",
       "    .dataframe tbody tr th {\n",
       "        vertical-align: top;\n",
       "    }\n",
       "\n",
       "    .dataframe thead th {\n",
       "        text-align: right;\n",
       "    }\n",
       "</style>\n",
       "<table border=\"1\" class=\"dataframe\">\n",
       "  <thead>\n",
       "    <tr style=\"text-align: right;\">\n",
       "      <th></th>\n",
       "      <th>price</th>\n",
       "      <th>kama</th>\n",
       "      <th>ppo</th>\n",
       "      <th>pvo</th>\n",
       "      <th>roc</th>\n",
       "      <th>macd</th>\n",
       "      <th>rsi</th>\n",
       "      <th>obv</th>\n",
       "      <th>adi</th>\n",
       "      <th>adx</th>\n",
       "      <th>aroon</th>\n",
       "      <th>stoo</th>\n",
       "      <th>boll_mavg</th>\n",
       "      <th>atr</th>\n",
       "      <th>increase</th>\n",
       "    </tr>\n",
       "    <tr>\n",
       "      <th>Date</th>\n",
       "      <th></th>\n",
       "      <th></th>\n",
       "      <th></th>\n",
       "      <th></th>\n",
       "      <th></th>\n",
       "      <th></th>\n",
       "      <th></th>\n",
       "      <th></th>\n",
       "      <th></th>\n",
       "      <th></th>\n",
       "      <th></th>\n",
       "      <th></th>\n",
       "      <th></th>\n",
       "      <th></th>\n",
       "      <th></th>\n",
       "    </tr>\n",
       "  </thead>\n",
       "  <tbody>\n",
       "    <tr>\n",
       "      <th>2015-09-05</th>\n",
       "      <td>1.295830</td>\n",
       "      <td>1.367693</td>\n",
       "      <td>-4.785612</td>\n",
       "      <td>-22.036810</td>\n",
       "      <td>13.650357</td>\n",
       "      <td>-0.060538</td>\n",
       "      <td>42.934435</td>\n",
       "      <td>1.255011e+06</td>\n",
       "      <td>-1.161445e+06</td>\n",
       "      <td>21.110482</td>\n",
       "      <td>10.0</td>\n",
       "      <td>69.992822</td>\n",
       "      <td>1.274445</td>\n",
       "      <td>0.229501</td>\n",
       "      <td>0</td>\n",
       "    </tr>\n",
       "    <tr>\n",
       "      <th>2015-09-06</th>\n",
       "      <td>1.246650</td>\n",
       "      <td>1.365338</td>\n",
       "      <td>-4.673776</td>\n",
       "      <td>-23.501877</td>\n",
       "      <td>7.471673</td>\n",
       "      <td>-0.057863</td>\n",
       "      <td>41.026635</td>\n",
       "      <td>7.659970e+05</td>\n",
       "      <td>-1.523198e+06</td>\n",
       "      <td>20.987104</td>\n",
       "      <td>-25.0</td>\n",
       "      <td>55.282354</td>\n",
       "      <td>1.282425</td>\n",
       "      <td>0.217939</td>\n",
       "      <td>0</td>\n",
       "    </tr>\n",
       "    <tr>\n",
       "      <th>2015-09-07</th>\n",
       "      <td>1.242430</td>\n",
       "      <td>1.362696</td>\n",
       "      <td>-4.543033</td>\n",
       "      <td>-25.229434</td>\n",
       "      <td>8.253901</td>\n",
       "      <td>-0.055215</td>\n",
       "      <td>40.858862</td>\n",
       "      <td>3.381050e+05</td>\n",
       "      <td>-1.755700e+06</td>\n",
       "      <td>20.899015</td>\n",
       "      <td>-25.0</td>\n",
       "      <td>54.020087</td>\n",
       "      <td>1.281603</td>\n",
       "      <td>0.206069</td>\n",
       "      <td>0</td>\n",
       "    </tr>\n",
       "    <tr>\n",
       "      <th>2015-09-08</th>\n",
       "      <td>1.206510</td>\n",
       "      <td>1.351718</td>\n",
       "      <td>-4.617088</td>\n",
       "      <td>-27.242097</td>\n",
       "      <td>1.269949</td>\n",
       "      <td>-0.054484</td>\n",
       "      <td>39.382582</td>\n",
       "      <td>-2.864300e+04</td>\n",
       "      <td>-2.064035e+06</td>\n",
       "      <td>20.927832</td>\n",
       "      <td>-20.0</td>\n",
       "      <td>31.202602</td>\n",
       "      <td>1.268683</td>\n",
       "      <td>0.195539</td>\n",
       "      <td>0</td>\n",
       "    </tr>\n",
       "    <tr>\n",
       "      <th>2015-09-09</th>\n",
       "      <td>1.165770</td>\n",
       "      <td>1.321194</td>\n",
       "      <td>-4.882203</td>\n",
       "      <td>-24.582975</td>\n",
       "      <td>-1.418959</td>\n",
       "      <td>-0.055514</td>\n",
       "      <td>37.718022</td>\n",
       "      <td>-6.914250e+05</td>\n",
       "      <td>-2.267168e+06</td>\n",
       "      <td>21.209244</td>\n",
       "      <td>-15.0</td>\n",
       "      <td>16.423030</td>\n",
       "      <td>1.257207</td>\n",
       "      <td>0.187673</td>\n",
       "      <td>0</td>\n",
       "    </tr>\n",
       "    <tr>\n",
       "      <th>...</th>\n",
       "      <td>...</td>\n",
       "      <td>...</td>\n",
       "      <td>...</td>\n",
       "      <td>...</td>\n",
       "      <td>...</td>\n",
       "      <td>...</td>\n",
       "      <td>...</td>\n",
       "      <td>...</td>\n",
       "      <td>...</td>\n",
       "      <td>...</td>\n",
       "      <td>...</td>\n",
       "      <td>...</td>\n",
       "      <td>...</td>\n",
       "      <td>...</td>\n",
       "      <td>...</td>\n",
       "    </tr>\n",
       "    <tr>\n",
       "      <th>2021-01-21</th>\n",
       "      <td>1121.570923</td>\n",
       "      <td>1205.095650</td>\n",
       "      <td>7.805180</td>\n",
       "      <td>8.704535</td>\n",
       "      <td>-12.450954</td>\n",
       "      <td>72.900372</td>\n",
       "      <td>52.827792</td>\n",
       "      <td>1.012048e+12</td>\n",
       "      <td>1.221226e+12</td>\n",
       "      <td>35.729308</td>\n",
       "      <td>90.0</td>\n",
       "      <td>38.757796</td>\n",
       "      <td>1167.366519</td>\n",
       "      <td>136.061697</td>\n",
       "      <td>1</td>\n",
       "    </tr>\n",
       "    <tr>\n",
       "      <th>2021-01-22</th>\n",
       "      <td>1236.512207</td>\n",
       "      <td>1206.445263</td>\n",
       "      <td>7.097784</td>\n",
       "      <td>8.786998</td>\n",
       "      <td>-2.038785</td>\n",
       "      <td>67.617759</td>\n",
       "      <td>58.461031</td>\n",
       "      <td>1.055966e+12</td>\n",
       "      <td>1.251418e+12</td>\n",
       "      <td>33.791964</td>\n",
       "      <td>85.0</td>\n",
       "      <td>61.411796</td>\n",
       "      <td>1190.465381</td>\n",
       "      <td>142.420937</td>\n",
       "      <td>0</td>\n",
       "    </tr>\n",
       "    <tr>\n",
       "      <th>2021-01-23</th>\n",
       "      <td>1230.990601</td>\n",
       "      <td>1206.975004</td>\n",
       "      <td>6.412212</td>\n",
       "      <td>5.044515</td>\n",
       "      <td>12.919856</td>\n",
       "      <td>62.259214</td>\n",
       "      <td>58.102078</td>\n",
       "      <td>1.028712e+12</td>\n",
       "      <td>1.247187e+12</td>\n",
       "      <td>31.997002</td>\n",
       "      <td>80.0</td>\n",
       "      <td>60.323532</td>\n",
       "      <td>1203.239526</td>\n",
       "      <td>137.337857</td>\n",
       "      <td>1</td>\n",
       "    </tr>\n",
       "    <tr>\n",
       "      <th>2021-01-24</th>\n",
       "      <td>1391.609375</td>\n",
       "      <td>1213.920119</td>\n",
       "      <td>6.901073</td>\n",
       "      <td>4.218413</td>\n",
       "      <td>33.368149</td>\n",
       "      <td>66.658216</td>\n",
       "      <td>64.860984</td>\n",
       "      <td>1.065130e+12</td>\n",
       "      <td>1.282103e+12</td>\n",
       "      <td>31.302432</td>\n",
       "      <td>60.0</td>\n",
       "      <td>91.980196</td>\n",
       "      <td>1220.808344</td>\n",
       "      <td>139.659244</td>\n",
       "      <td>0</td>\n",
       "    </tr>\n",
       "    <tr>\n",
       "      <th>2021-01-25</th>\n",
       "      <td>1324.414795</td>\n",
       "      <td>1217.332166</td>\n",
       "      <td>6.660223</td>\n",
       "      <td>5.151816</td>\n",
       "      <td>17.128210</td>\n",
       "      <td>65.111129</td>\n",
       "      <td>60.466373</td>\n",
       "      <td>1.021565e+12</td>\n",
       "      <td>1.248942e+12</td>\n",
       "      <td>31.138438</td>\n",
       "      <td>60.0</td>\n",
       "      <td>69.704299</td>\n",
       "      <td>1232.028778</td>\n",
       "      <td>141.312935</td>\n",
       "      <td>1</td>\n",
       "    </tr>\n",
       "  </tbody>\n",
       "</table>\n",
       "<p>1965 rows × 15 columns</p>\n",
       "</div>"
      ],
      "text/plain": [
       "                  price         kama       ppo        pvo        roc  \\\n",
       "Date                                                                   \n",
       "2015-09-05     1.295830     1.367693 -4.785612 -22.036810  13.650357   \n",
       "2015-09-06     1.246650     1.365338 -4.673776 -23.501877   7.471673   \n",
       "2015-09-07     1.242430     1.362696 -4.543033 -25.229434   8.253901   \n",
       "2015-09-08     1.206510     1.351718 -4.617088 -27.242097   1.269949   \n",
       "2015-09-09     1.165770     1.321194 -4.882203 -24.582975  -1.418959   \n",
       "...                 ...          ...       ...        ...        ...   \n",
       "2021-01-21  1121.570923  1205.095650  7.805180   8.704535 -12.450954   \n",
       "2021-01-22  1236.512207  1206.445263  7.097784   8.786998  -2.038785   \n",
       "2021-01-23  1230.990601  1206.975004  6.412212   5.044515  12.919856   \n",
       "2021-01-24  1391.609375  1213.920119  6.901073   4.218413  33.368149   \n",
       "2021-01-25  1324.414795  1217.332166  6.660223   5.151816  17.128210   \n",
       "\n",
       "                 macd        rsi           obv           adi        adx  \\\n",
       "Date                                                                      \n",
       "2015-09-05  -0.060538  42.934435  1.255011e+06 -1.161445e+06  21.110482   \n",
       "2015-09-06  -0.057863  41.026635  7.659970e+05 -1.523198e+06  20.987104   \n",
       "2015-09-07  -0.055215  40.858862  3.381050e+05 -1.755700e+06  20.899015   \n",
       "2015-09-08  -0.054484  39.382582 -2.864300e+04 -2.064035e+06  20.927832   \n",
       "2015-09-09  -0.055514  37.718022 -6.914250e+05 -2.267168e+06  21.209244   \n",
       "...               ...        ...           ...           ...        ...   \n",
       "2021-01-21  72.900372  52.827792  1.012048e+12  1.221226e+12  35.729308   \n",
       "2021-01-22  67.617759  58.461031  1.055966e+12  1.251418e+12  33.791964   \n",
       "2021-01-23  62.259214  58.102078  1.028712e+12  1.247187e+12  31.997002   \n",
       "2021-01-24  66.658216  64.860984  1.065130e+12  1.282103e+12  31.302432   \n",
       "2021-01-25  65.111129  60.466373  1.021565e+12  1.248942e+12  31.138438   \n",
       "\n",
       "            aroon       stoo    boll_mavg         atr  increase  \n",
       "Date                                                             \n",
       "2015-09-05   10.0  69.992822     1.274445    0.229501         0  \n",
       "2015-09-06  -25.0  55.282354     1.282425    0.217939         0  \n",
       "2015-09-07  -25.0  54.020087     1.281603    0.206069         0  \n",
       "2015-09-08  -20.0  31.202602     1.268683    0.195539         0  \n",
       "2015-09-09  -15.0  16.423030     1.257207    0.187673         0  \n",
       "...           ...        ...          ...         ...       ...  \n",
       "2021-01-21   90.0  38.757796  1167.366519  136.061697         1  \n",
       "2021-01-22   85.0  61.411796  1190.465381  142.420937         0  \n",
       "2021-01-23   80.0  60.323532  1203.239526  137.337857         1  \n",
       "2021-01-24   60.0  91.980196  1220.808344  139.659244         0  \n",
       "2021-01-25   60.0  69.704299  1232.028778  141.312935         1  \n",
       "\n",
       "[1965 rows x 15 columns]"
      ]
     },
     "execution_count": 15,
     "metadata": {},
     "output_type": "execute_result"
    }
   ],
   "source": [
    "end = datetime.today() - timedelta(days=46)\n",
    "start = datetime(2000, 9, 1)\n",
    "ETH = pdr.DataReader('ETH-USD','yahoo',start,end)\n",
    "\n",
    "df = pd.DataFrame(data=ETH)\n",
    "\n",
    "kama_indicator = KAMAIndicator(close = df[\"Close\"], window = 10, pow1 = 2, pow2 = 30, fillna = False)\n",
    "df['kama'] = kama_indicator.kama()\n",
    "ppo_indicator = PercentagePriceOscillator(close = df[\"Close\"], window_slow = 20, window_fast = 10, window_sign = 9, fillna = False)\n",
    "df['ppo'] = ppo_indicator.ppo()\n",
    "pvo_indicator = PercentageVolumeOscillator(volume = df[\"Volume\"], window_slow = 20, window_fast = 10, window_sign = 9, fillna = False)\n",
    "df['pvo'] = pvo_indicator.pvo()\n",
    "roc_indicator = ROCIndicator(close = df[\"Close\"], window = 12, fillna = False)\n",
    "df['roc'] = roc_indicator.roc()\n",
    "macd_indicator = MACD(close = df[\"Close\"], window_slow = 20, window_fast = 12, window_sign = 9, fillna = False)\n",
    "df['macd'] = macd_indicator.macd()\n",
    "rsi_indicator = RSIIndicator(close = df[\"Close\"], window = 14, fillna = False)\n",
    "df['rsi'] = rsi_indicator.rsi()\n",
    "obv_indicator = OnBalanceVolumeIndicator(close = df[\"Close\"], volume = df[\"Volume\"], fillna = False)\n",
    "df['obv'] = obv_indicator.on_balance_volume() \n",
    "adi_indicator = AccDistIndexIndicator(high = df[\"High\"], low = df[\"Low\"], close = df[\"Close\"], volume = df[\"Volume\"], fillna = False)\n",
    "df['adi'] = adi_indicator.acc_dist_index() \n",
    "adx_indicator = ADXIndicator(high = df[\"High\"], low = df[\"Low\"], close = df[\"Close\"], window = 14, fillna = False)\n",
    "df['adx'] = adx_indicator.adx() \n",
    "aroon_indicator = AroonIndicator(close = df[\"Close\"], window = 20, fillna = False)\n",
    "df['aroon'] = aroon_indicator.aroon_indicator()\n",
    "stoo_indicator = StochasticOscillator(high = df[\"High\"], low = df[\"Low\"], close = df[\"Close\"], window = 14, smooth_window = 3, fillna = False)\n",
    "df['stoo'] = stoo_indicator.stoch()\n",
    "boll_indicator = BollingerBands(close = df[\"Close\"], window = 20, window_dev = 2, fillna = False)\n",
    "df['boll_mavg'] = boll_indicator.bollinger_mavg()\n",
    "atr_indicator = AverageTrueRange(high = df[\"High\"], low = df[\"Low\"], close = df[\"Close\"], window = 14, fillna = False)\n",
    "df['atr'] = atr_indicator.average_true_range()\n",
    "df.rename(columns = {\"Close\": \"price\"}, inplace=True)\n",
    "\n",
    "prices = df['price'].to_numpy()\n",
    "\n",
    "increase = []\n",
    "for i in range(0, len(prices)):\n",
    "    if(i == len(prices)-1):\n",
    "        increase.append(1)\n",
    "    else:\n",
    "        if(prices[i+1] > prices[i]):\n",
    "            increase.append(1)\n",
    "        else:\n",
    "            increase.append(0)\n",
    "\n",
    "df['increase'] = increase\n",
    "\n",
    "df = df[30:len(df)]\n",
    "df = df.drop(df.columns[[0, 1, 2, 4, 5]], axis=1)\n",
    "\n",
    "\n",
    "df"
   ]
  },
  {
   "cell_type": "code",
   "execution_count": 16,
   "metadata": {},
   "outputs": [],
   "source": [
    "df['day_of_month'] = df.index.day\n",
    "df['day_of_week'] = df.index.dayofweek\n",
    "df['month'] = df.index.month"
   ]
  },
  {
   "cell_type": "code",
   "execution_count": 17,
   "metadata": {
    "scrolled": false
   },
   "outputs": [
    {
     "data": {
      "image/png": "[encoded data removed]",
      "text/plain": [
       "<Figure size 432x288 with 1 Axes>"
      ]
     },
     "metadata": {
      "needs_background": "light"
     },
     "output_type": "display_data"
    }
   ],
   "source": [
    "sns.lineplot(x=df.index, y=\"price\", data=df);"
   ]
  },
  {
   "cell_type": "code",
   "execution_count": 18,
   "metadata": {
    "scrolled": true
   },
   "outputs": [
    {
     "data": {
      "image/png": "[encoded data removed]",
      "text/plain": [
       "<Figure size 432x288 with 1 Axes>"
      ]
     },
     "metadata": {
      "needs_background": "light"
     },
     "output_type": "display_data"
    }
   ],
   "source": [
    "df_by_month = df.resample('M').sum()\n",
    "\n",
    "sns.lineplot(x=df_by_month.index, y=\"price\", data=df_by_month);"
   ]
  },
  {
   "cell_type": "code",
   "execution_count": 19,
   "metadata": {},
   "outputs": [
    {
     "name": "stdout",
     "output_type": "stream",
     "text": [
      "(1768, 18) (197, 18)\n"
     ]
    }
   ],
   "source": [
    "train_size = int(len(df) * 0.9)\n",
    "test_size = len(df) - train_size\n",
    "train, test = df.iloc[0:train_size], df.iloc[train_size:len(df)]\n",
    "print(train.shape, test.shape)"
   ]
  },
  {
   "cell_type": "code",
   "execution_count": 20,
   "metadata": {},
   "outputs": [
    {
     "name": "stderr",
     "output_type": "stream",
     "text": [
      "/Users/michi/opt/anaconda3/lib/python3.7/site-packages/pandas/core/indexing.py:965: SettingWithCopyWarning: \n",
      "A value is trying to be set on a copy of a slice from a DataFrame.\n",
      "Try using .loc[row_indexer,col_indexer] = value instead\n",
      "\n",
      "See the caveats in the documentation: https://pandas.pydata.org/pandas-docs/stable/user_guide/indexing.html#returning-a-view-versus-a-copy\n",
      "  self.obj[item] = s\n",
      "/Users/michi/opt/anaconda3/lib/python3.7/site-packages/ipykernel_launcher.py:11: SettingWithCopyWarning: \n",
      "A value is trying to be set on a copy of a slice from a DataFrame.\n",
      "Try using .loc[row_indexer,col_indexer] = value instead\n",
      "\n",
      "See the caveats in the documentation: https://pandas.pydata.org/pandas-docs/stable/user_guide/indexing.html#returning-a-view-versus-a-copy\n",
      "  # This is added back by InteractiveShellApp.init_path()\n",
      "/Users/michi/opt/anaconda3/lib/python3.7/site-packages/pandas/core/indexing.py:965: SettingWithCopyWarning: \n",
      "A value is trying to be set on a copy of a slice from a DataFrame.\n",
      "Try using .loc[row_indexer,col_indexer] = value instead\n",
      "\n",
      "See the caveats in the documentation: https://pandas.pydata.org/pandas-docs/stable/user_guide/indexing.html#returning-a-view-versus-a-copy\n",
      "  self.obj[item] = s\n",
      "/Users/michi/opt/anaconda3/lib/python3.7/site-packages/ipykernel_launcher.py:14: SettingWithCopyWarning: \n",
      "A value is trying to be set on a copy of a slice from a DataFrame.\n",
      "Try using .loc[row_indexer,col_indexer] = value instead\n",
      "\n",
      "See the caveats in the documentation: https://pandas.pydata.org/pandas-docs/stable/user_guide/indexing.html#returning-a-view-versus-a-copy\n",
      "  \n"
     ]
    }
   ],
   "source": [
    "f_columns = ['price', 'kama', 'ppo', 'pvo', 'roc', 'macd', 'rsi', 'obv', 'adi',\n",
    "       'adx', 'aroon', 'stoo', 'boll_mavg', 'atr']\n",
    "\n",
    "f_transformer = RobustScaler()\n",
    "increase_transformer = RobustScaler()\n",
    "\n",
    "f_transformer = f_transformer.fit(train[f_columns].to_numpy())\n",
    "increase_transformer = increase_transformer.fit(train[['increase']])\n",
    "\n",
    "train.loc[:, f_columns] = f_transformer.transform(train[f_columns].to_numpy())\n",
    "train['increase'] = increase_transformer.transform(train[['increase']])\n",
    "\n",
    "test.loc[:, f_columns] = f_transformer.transform(test[f_columns].to_numpy())\n",
    "test['increase'] = increase_transformer.transform(test[['increase']])"
   ]
  },
  {
   "cell_type": "code",
   "execution_count": 21,
   "metadata": {},
   "outputs": [],
   "source": [
    "def create_dataset(X, y, time_steps=1):\n",
    "    Xs, ys = [], []\n",
    "    for i in range(len(X) - time_steps):\n",
    "        v = X.iloc[i:(i + time_steps)].values\n",
    "        Xs.append(v)        \n",
    "        ys.append(y.iloc[i + time_steps])\n",
    "    return np.array(Xs), np.array(ys)"
   ]
  },
  {
   "cell_type": "code",
   "execution_count": 22,
   "metadata": {},
   "outputs": [
    {
     "name": "stdout",
     "output_type": "stream",
     "text": [
      "(1738, 30, 18) (1738,)\n"
     ]
    }
   ],
   "source": [
    "time_steps = 30\n",
    "\n",
    "X_train, y_train = create_dataset(train, train.increase, time_steps)\n",
    "X_test, y_test = create_dataset(test, test.increase, time_steps)\n",
    "\n",
    "print(X_train.shape, y_train.shape)"
   ]
  },
  {
   "cell_type": "code",
   "execution_count": 23,
   "metadata": {},
   "outputs": [
    {
     "data": {
      "text/plain": [
       "(167, 30, 18)"
      ]
     },
     "execution_count": 23,
     "metadata": {},
     "output_type": "execute_result"
    }
   ],
   "source": [
    "X_test.shape"
   ]
  },
  {
   "cell_type": "code",
   "execution_count": 24,
   "metadata": {},
   "outputs": [],
   "source": [
    "model = keras.Sequential()\n",
    "model.add(\n",
    "  keras.layers.Bidirectional(\n",
    "    keras.layers.LSTM(\n",
    "      units=128, \n",
    "      input_shape=(X_train.shape[1], X_train.shape[2])\n",
    "    )\n",
    "  )\n",
    ")\n",
    "model.add(keras.layers.Dropout(rate=0.2))\n",
    "model.add(keras.layers.Dense(units=1))\n",
    "model.compile(loss='mean_squared_error', optimizer='adam')"
   ]
  },
  {
   "cell_type": "code",
   "execution_count": 25,
   "metadata": {
    "scrolled": true
   },
   "outputs": [
    {
     "name": "stdout",
     "output_type": "stream",
     "text": [
      "Epoch 1/30\n",
      "49/49 [==============================] - 4s 37ms/step - loss: 0.3643 - val_loss: 0.3416\n",
      "Epoch 2/30\n",
      "49/49 [==============================] - 1s 21ms/step - loss: 0.3506 - val_loss: 0.3091\n",
      "Epoch 3/30\n",
      "49/49 [==============================] - 1s 22ms/step - loss: 0.3537 - val_loss: 0.2478\n",
      "Epoch 4/30\n",
      "49/49 [==============================] - 1s 21ms/step - loss: 0.3010 - val_loss: 0.2762\n",
      "Epoch 5/30\n",
      "49/49 [==============================] - 1s 22ms/step - loss: 0.2787 - val_loss: 0.3267\n",
      "Epoch 6/30\n",
      "49/49 [==============================] - 1s 21ms/step - loss: 0.2815 - val_loss: 0.2658\n",
      "Epoch 7/30\n",
      "49/49 [==============================] - 1s 21ms/step - loss: 0.2574 - val_loss: 0.2601\n",
      "Epoch 8/30\n",
      "49/49 [==============================] - 1s 21ms/step - loss: 0.2585 - val_loss: 0.2583\n",
      "Epoch 9/30\n",
      "49/49 [==============================] - 1s 23ms/step - loss: 0.2557 - val_loss: 0.2623\n",
      "Epoch 10/30\n",
      "49/49 [==============================] - 1s 22ms/step - loss: 0.2586 - val_loss: 0.2652\n",
      "Epoch 11/30\n",
      "49/49 [==============================] - 1s 22ms/step - loss: 0.2482 - val_loss: 0.2647\n",
      "Epoch 12/30\n",
      "49/49 [==============================] - 1s 21ms/step - loss: 0.2503 - val_loss: 0.2706\n",
      "Epoch 13/30\n",
      "49/49 [==============================] - 1s 21ms/step - loss: 0.2450 - val_loss: 0.2699\n",
      "Epoch 14/30\n",
      "49/49 [==============================] - 1s 21ms/step - loss: 0.2501 - val_loss: 0.2749\n",
      "Epoch 15/30\n",
      "49/49 [==============================] - 1s 21ms/step - loss: 0.2442 - val_loss: 0.2712\n",
      "Epoch 16/30\n",
      "49/49 [==============================] - 1s 21ms/step - loss: 0.2424 - val_loss: 0.2765\n",
      "Epoch 17/30\n",
      "49/49 [==============================] - 1s 22ms/step - loss: 0.2420 - val_loss: 0.2957\n",
      "Epoch 18/30\n",
      "49/49 [==============================] - 1s 21ms/step - loss: 0.2388 - val_loss: 0.2667\n",
      "Epoch 19/30\n",
      "49/49 [==============================] - 1s 22ms/step - loss: 0.2542 - val_loss: 0.2839\n",
      "Epoch 20/30\n",
      "49/49 [==============================] - 1s 22ms/step - loss: 0.2478 - val_loss: 0.2750\n",
      "Epoch 21/30\n",
      "49/49 [==============================] - 1s 21ms/step - loss: 0.2415 - val_loss: 0.2718\n",
      "Epoch 22/30\n",
      "49/49 [==============================] - 1s 22ms/step - loss: 0.2355 - val_loss: 0.3039\n",
      "Epoch 23/30\n",
      "49/49 [==============================] - 1s 22ms/step - loss: 0.2393 - val_loss: 0.3047\n",
      "Epoch 24/30\n",
      "49/49 [==============================] - 1s 24ms/step - loss: 0.2297 - val_loss: 0.3122\n",
      "Epoch 25/30\n",
      "49/49 [==============================] - 1s 21ms/step - loss: 0.2303 - val_loss: 0.3072\n",
      "Epoch 26/30\n",
      "49/49 [==============================] - 1s 21ms/step - loss: 0.2299 - val_loss: 0.3723\n",
      "Epoch 27/30\n",
      "49/49 [==============================] - 1s 22ms/step - loss: 0.2292 - val_loss: 0.3301\n",
      "Epoch 28/30\n",
      "49/49 [==============================] - 1s 22ms/step - loss: 0.2321 - val_loss: 0.3276\n",
      "Epoch 29/30\n",
      "49/49 [==============================] - 1s 21ms/step - loss: 0.2217 - val_loss: 0.3013\n",
      "Epoch 30/30\n",
      "49/49 [==============================] - 1s 21ms/step - loss: 0.2299 - val_loss: 0.2670\n"
     ]
    }
   ],
   "source": [
    "history = model.fit(\n",
    "    X_train, y_train, \n",
    "    epochs=30, \n",
    "    batch_size=32, \n",
    "    validation_split=0.1,\n",
    "    shuffle=False\n",
    ")"
   ]
  },
  {
   "cell_type": "code",
   "execution_count": 26,
   "metadata": {},
   "outputs": [
    {
     "data": {
      "image/png": "[encoded data removed]",
      "text/plain": [
       "<Figure size 432x288 with 1 Axes>"
      ]
     },
     "metadata": {
      "needs_background": "light"
     },
     "output_type": "display_data"
    }
   ],
   "source": [
    "plt.plot(history.history['loss'], label='train')\n",
    "plt.plot(history.history['val_loss'], label='test')\n",
    "plt.legend();"
   ]
  },
  {
   "cell_type": "code",
   "execution_count": 27,
   "metadata": {},
   "outputs": [],
   "source": [
    "y_pred = model.predict(X_test)"
   ]
  },
  {
   "cell_type": "code",
   "execution_count": 29,
   "metadata": {},
   "outputs": [],
   "source": [
    "y_train_inv = increase_transformer.inverse_transform(y_train.reshape(1, -1))\n",
    "y_test_inv = increase_transformer.inverse_transform(y_test.reshape(1, -1))\n",
    "y_pred_inv = increase_transformer.inverse_transform(y_pred)"
   ]
  },
  {
   "cell_type": "code",
   "execution_count": 30,
   "metadata": {
    "scrolled": true
   },
   "outputs": [
    {
     "data": {
      "image/png": "[encoded data removed]",
      "text/plain": [
       "<Figure size 432x288 with 1 Axes>"
      ]
     },
     "metadata": {
      "needs_background": "light"
     },
     "output_type": "display_data"
    }
   ],
   "source": [
    "plt.plot(np.arange(0, len(y_train)), y_train_inv.flatten(), 'g', label=\"history\")\n",
    "plt.plot(np.arange(len(y_train), len(y_train) + len(y_test)), y_test_inv.flatten(), marker='.', label=\"true\")\n",
    "plt.plot(np.arange(len(y_train), len(y_train) + len(y_test)), y_pred_inv.flatten(), 'r', label=\"prediction\")\n",
    "plt.ylabel('Increase')\n",
    "plt.xlabel('Time Step')\n",
    "plt.legend()\n",
    "plt.show();"
   ]
  },
  {
   "cell_type": "code",
   "execution_count": 31,
   "metadata": {},
   "outputs": [
    {
     "data": {
      "image/png": "[encoded data removed]",
      "text/plain": [
       "<Figure size 432x288 with 1 Axes>"
      ]
     },
     "metadata": {
      "needs_background": "light"
     },
     "output_type": "display_data"
    }
   ],
   "source": [
    "plt.plot(y_test_inv.flatten(), marker='.', label=\"true\")\n",
    "plt.plot(y_pred_inv.flatten(), 'r', label=\"prediction\")\n",
    "plt.ylabel('Increase')\n",
    "plt.xlabel('Time Step')\n",
    "plt.legend()\n",
    "plt.show();"
   ]
  },
  {
   "cell_type": "code",
   "execution_count": 34,
   "metadata": {},
   "outputs": [
    {
     "name": "stderr",
     "output_type": "stream",
     "text": [
      "/Users/michi/opt/anaconda3/lib/python3.7/site-packages/ta/trend.py:768: RuntimeWarning: invalid value encountered in double_scalars\n",
      "  dip[i] = 100 * (self._dip[i] / self._trs[i])\n",
      "/Users/michi/opt/anaconda3/lib/python3.7/site-packages/ta/trend.py:772: RuntimeWarning: invalid value encountered in double_scalars\n",
      "  din[i] = 100 * (self._din[i] / self._trs[i])\n"
     ]
    },
    {
     "data": {
      "text/plain": [
       "array([[-0.10518432]], dtype=float32)"
      ]
     },
     "execution_count": 34,
     "metadata": {},
     "output_type": "execute_result"
    }
   ],
   "source": [
    "end = datetime.today()\n",
    "start = datetime.today() - timedelta(days=56)\n",
    "ETH = pdr.DataReader('ETH-USD','yahoo',start,end)\n",
    "\n",
    "df = pd.DataFrame(data=ETH)\n",
    "\n",
    "kama_indicator = KAMAIndicator(close = df[\"Close\"], window = 10, pow1 = 2, pow2 = 30, fillna = False)\n",
    "df['kama'] = kama_indicator.kama()\n",
    "ppo_indicator = PercentagePriceOscillator(close = df[\"Close\"], window_slow = 20, window_fast = 10, window_sign = 9, fillna = False)\n",
    "df['ppo'] = ppo_indicator.ppo()\n",
    "pvo_indicator = PercentageVolumeOscillator(volume = df[\"Volume\"], window_slow = 20, window_fast = 10, window_sign = 9, fillna = False)\n",
    "df['pvo'] = pvo_indicator.pvo()\n",
    "roc_indicator = ROCIndicator(close = df[\"Close\"], window = 12, fillna = False)\n",
    "df['roc'] = roc_indicator.roc()\n",
    "macd_indicator = MACD(close = df[\"Close\"], window_slow = 20, window_fast = 12, window_sign = 9, fillna = False)\n",
    "df['macd'] = macd_indicator.macd()\n",
    "rsi_indicator = RSIIndicator(close = df[\"Close\"], window = 14, fillna = False)\n",
    "df['rsi'] = rsi_indicator.rsi()\n",
    "obv_indicator = OnBalanceVolumeIndicator(close = df[\"Close\"], volume = df[\"Volume\"], fillna = False)\n",
    "df['obv'] = obv_indicator.on_balance_volume() \n",
    "adi_indicator = AccDistIndexIndicator(high = df[\"High\"], low = df[\"Low\"], close = df[\"Close\"], volume = df[\"Volume\"], fillna = False)\n",
    "df['adi'] = adi_indicator.acc_dist_index() \n",
    "adx_indicator = ADXIndicator(high = df[\"High\"], low = df[\"Low\"], close = df[\"Close\"], window = 14, fillna = False)\n",
    "df['adx'] = adx_indicator.adx() \n",
    "aroon_indicator = AroonIndicator(close = df[\"Close\"], window = 20, fillna = False)\n",
    "df['aroon'] = aroon_indicator.aroon_indicator()\n",
    "stoo_indicator = StochasticOscillator(high = df[\"High\"], low = df[\"Low\"], close = df[\"Close\"], window = 14, smooth_window = 3, fillna = False)\n",
    "df['stoo'] = stoo_indicator.stoch()\n",
    "boll_indicator = BollingerBands(close = df[\"Close\"], window = 20, window_dev = 2, fillna = False)\n",
    "df['boll_mavg'] = boll_indicator.bollinger_mavg()\n",
    "atr_indicator = AverageTrueRange(high = df[\"High\"], low = df[\"Low\"], close = df[\"Close\"], window = 14, fillna = False)\n",
    "df['atr'] = atr_indicator.average_true_range()\n",
    "df['day_of_month'] = df.index.day\n",
    "df['day_of_week'] = df.index.dayofweek\n",
    "df['month'] = df.index.month\n",
    "df.rename(columns = {\"Close\": \"price\"}, inplace=True)\n",
    "prices = df['price'].to_numpy()\n",
    "\n",
    "increase = []\n",
    "for i in range(0, len(prices)):\n",
    "    if(i == len(prices)-1):\n",
    "        increase.append(1)\n",
    "    else:\n",
    "        if(prices[i+1] > prices[i]):\n",
    "            increase.append(1)\n",
    "        else:\n",
    "            increase.append(0)\n",
    "\n",
    "df['increase'] = increase\n",
    "\n",
    "\n",
    "df = df[27:60]\n",
    "df =  df.drop(df.columns[[0, 1, 2, 4, 5]], axis=1)\n",
    "predict =  df.iloc[:len(df)]\n",
    "\n",
    "f_columns = ['price', 'kama', 'ppo', 'pvo', 'roc', 'macd', 'rsi', 'obv', 'adi',\n",
    "       'adx', 'aroon', 'stoo', 'boll_mavg', 'atr']\n",
    "\n",
    "f_transformer = RobustScaler()\n",
    "increase_transformer = RobustScaler()\n",
    "\n",
    "increase_transformer = increase_transformer.fit(predict[['increase']])\n",
    "\n",
    "f_transformer = f_transformer.fit(predict[f_columns].to_numpy())\n",
    "\n",
    "predict.loc[:, f_columns] = f_transformer.transform(predict[f_columns].to_numpy())\n",
    "predict['increase'] = increase_transformer.transform(predict[['increase']])\n",
    "\n",
    "Xs = []\n",
    "v = predict.values\n",
    "Xs.append(v)\n",
    "\n",
    "X_predict= np.array(Xs)\n",
    "\n",
    "y_predicted = model.predict(X_predict)\n",
    "\n",
    "y_predicted_inv = increase_transformer.inverse_transform(y_predicted)\n",
    "\n",
    "y_predicted_inv"
   ]
  },
  {
   "cell_type": "code",
   "execution_count": null,
   "metadata": {},
   "outputs": [],
   "source": []
  }
 ],
 "metadata": {
  "kernelspec": {
   "display_name": "Python 3",
   "language": "python",
   "name": "python3"
  },
  "language_info": {
   "codemirror_mode": {
    "name": "ipython",
    "version": 3
   },
   "file_extension": ".py",
   "mimetype": "text/x-python",
   "name": "python",
   "nbconvert_exporter": "python",
   "pygments_lexer": "ipython3",
   "version": "3.7.6"
  }
 },
 "nbformat": 4,
 "nbformat_minor": 2
}
